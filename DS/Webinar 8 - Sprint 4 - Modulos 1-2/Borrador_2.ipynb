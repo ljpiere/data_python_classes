{
 "cells": [
  {
   "cell_type": "markdown",
   "id": "cf80aa58-7ee0-4b3e-861f-ddeaba31f023",
   "metadata": {},
   "source": [
    "# Titulo 1"
   ]
  },
  {
   "cell_type": "markdown",
   "id": "ef6401ae-a06d-4e82-a054-5d15afb71bf6",
   "metadata": {},
   "source": [
    "Hola mundo"
   ]
  },
  {
   "cell_type": "markdown",
   "id": "32fbc819-ec4f-4c2c-9b2c-15a1beb9cb7e",
   "metadata": {},
   "source": [
    "## Titulo 2"
   ]
  },
  {
   "cell_type": "markdown",
   "id": "35efd2ca-daf1-436c-90f1-b6cb02eb54ec",
   "metadata": {},
   "source": [
    "### Titulo 3"
   ]
  },
  {
   "cell_type": "markdown",
   "id": "ed5c6a7c-cd5d-4fc0-a0b8-5ab26f413755",
   "metadata": {},
   "source": [
    "**Hola**"
   ]
  },
  {
   "cell_type": "markdown",
   "id": "792a1695-1502-48cc-a3ae-2e337e406327",
   "metadata": {},
   "source": [
    "- Item 1\n",
    "- Item 2\n",
    "- Item 3"
   ]
  },
  {
   "cell_type": "code",
   "execution_count": null,
   "id": "6d2691a5-1b7f-4c33-8b20-7b92feddc8d1",
   "metadata": {},
   "outputs": [],
   "source": []
  }
 ],
 "metadata": {
  "kernelspec": {
   "display_name": "Python 3 (ipykernel)",
   "language": "python",
   "name": "python3"
  },
  "language_info": {
   "codemirror_mode": {
    "name": "ipython",
    "version": 3
   },
   "file_extension": ".py",
   "mimetype": "text/x-python",
   "name": "python",
   "nbconvert_exporter": "python",
   "pygments_lexer": "ipython3",
   "version": "3.12.7"
  }
 },
 "nbformat": 4,
 "nbformat_minor": 5
}
