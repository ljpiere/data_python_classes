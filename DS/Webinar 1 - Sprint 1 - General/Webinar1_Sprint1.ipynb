{
 "cells": [
  {
   "cell_type": "markdown",
   "id": "a9aa1724",
   "metadata": {},
   "source": [
    "# Webinar 1 - Sprint 1 (Duración: 40 minutos)"
   ]
  },
  {
   "cell_type": "markdown",
   "id": "de3edb82",
   "metadata": {},
   "source": [
    "**Objetivo de la Clase**: Proveer a los estudiantes de diferentes profesiones una introducción a los conceptos básicos de variables, tipos de datos, operaciones aritméticas, strings y listas, con un enfoque especial en el manejo de errores, slicing, y listas anidadas, utilizando ejemplos simples y ejercicios prácticos en Jupyter Notebook."
   ]
  },
  {
   "cell_type": "markdown",
   "id": "6e01b516",
   "metadata": {
    "jp-MarkdownHeadingCollapsed": true
   },
   "source": [
    "## Capítulo 1: Variables, Tipos de Datos y Operaciones Aritméticas (10 minutos)"
   ]
  },
  {
   "cell_type": "markdown",
   "id": "d8cfbe2e",
   "metadata": {},
   "source": [
    "**Explicación**:\n",
    "- Introducción a las variables: Definir variables como contenedores para almacenar información.\n",
    "- Tipos de datos: Enteros, flotantes, cadenas de texto (strings), booleanos.\n",
    "- Operaciones aritméticas: Suma, resta, multiplicación, división, módulo.\n",
    "- Conversión de tipos de datos: Uso de `int()`, `float()`, `str()`.\n",
    "- Manejo de errores con `try` y `except`: Cómo manejar errores comunes para evitar que el programa se detenga."
   ]
  },
  {
   "cell_type": "markdown",
   "id": "0614fb01-effe-4c42-a1b8-0ecadd57d813",
   "metadata": {},
   "source": [
    "**Check:** ¿Qué es una variable?"
   ]
  },
  {
   "cell_type": "markdown",
   "id": "6ceffc0d",
   "metadata": {},
   "source": [
    "### Ejercicio 1:\n",
    "1. Crear una variable llamada `edad` y asignarle un valor de 25. Mostrar el valor en pantalla utilizando `print()`, pero rodeado de un bloque `try` y `except` para manejar posibles errores."
   ]
  },
  {
   "cell_type": "code",
   "execution_count": null,
   "id": "478ee12d-b08e-4c87-9fd6-a21a23304499",
   "metadata": {},
   "outputs": [],
   "source": [
    "# Abre tu microfono o escribe en el chat"
   ]
  },
  {
   "cell_type": "code",
   "execution_count": 1,
   "id": "24a8a908-a81a-4c0b-8ee2-14663d5d0156",
   "metadata": {},
   "outputs": [],
   "source": [
    "edad = 27"
   ]
  },
  {
   "cell_type": "code",
   "execution_count": 4,
   "id": "3bc19ed9-cbda-4c3e-a0dc-c5804245d2da",
   "metadata": {},
   "outputs": [
    {
     "name": "stdout",
     "output_type": "stream",
     "text": [
      "28\n"
     ]
    }
   ],
   "source": [
    "print(edad)"
   ]
  },
  {
   "cell_type": "code",
   "execution_count": 3,
   "id": "ef34f783-824e-498d-ba8d-dfd0b6975ae6",
   "metadata": {},
   "outputs": [],
   "source": [
    "edad = 28"
   ]
  },
  {
   "cell_type": "code",
   "execution_count": 5,
   "id": "418e1f97-1393-4da4-9722-6a0b03668e51",
   "metadata": {},
   "outputs": [
    {
     "data": {
      "text/plain": [
       "4"
      ]
     },
     "execution_count": 5,
     "metadata": {},
     "output_type": "execute_result"
    }
   ],
   "source": [
    "2+2"
   ]
  },
  {
   "cell_type": "code",
   "execution_count": 12,
   "id": "ca1bcb30-0fb3-4035-a3de-7a6e9bfb0b4d",
   "metadata": {},
   "outputs": [
    {
     "name": "stdout",
     "output_type": "stream",
     "text": [
      "5.0\n"
     ]
    }
   ],
   "source": [
    "numerador = 10\n",
    "denominador = 2\n",
    "\n",
    "try: # Intenta hacer esto\n",
    "    print(numerador/denominador)\n",
    "except:\n",
    "    print(\"Es una divisón por cero\")"
   ]
  },
  {
   "cell_type": "code",
   "execution_count": 13,
   "id": "d95bcedb-9922-47a6-b524-52c38c610a23",
   "metadata": {},
   "outputs": [
    {
     "ename": "ZeroDivisionError",
     "evalue": "division by zero",
     "output_type": "error",
     "traceback": [
      "\u001b[1;31m---------------------------------------------------------------------------\u001b[0m",
      "\u001b[1;31mZeroDivisionError\u001b[0m                         Traceback (most recent call last)",
      "Cell \u001b[1;32mIn[13], line 1\u001b[0m\n\u001b[1;32m----> 1\u001b[0m \u001b[38;5;241m1\u001b[39m\u001b[38;5;241m/\u001b[39m\u001b[38;5;241m0\u001b[39m\n",
      "\u001b[1;31mZeroDivisionError\u001b[0m: division by zero"
     ]
    }
   ],
   "source": [
    "1/0"
   ]
  },
  {
   "cell_type": "code",
   "execution_count": null,
   "id": "eec1bf06-2b70-4986-93e1-c2ba6bb68095",
   "metadata": {},
   "outputs": [],
   "source": []
  },
  {
   "cell_type": "code",
   "execution_count": null,
   "id": "d25a0e67-6b12-4fba-8d93-27b6ec2c3bf8",
   "metadata": {},
   "outputs": [],
   "source": []
  },
  {
   "cell_type": "code",
   "execution_count": null,
   "id": "b3a65692-3058-422e-8e5c-49cbd6f2d29b",
   "metadata": {},
   "outputs": [],
   "source": []
  },
  {
   "cell_type": "code",
   "execution_count": 4,
   "id": "ef0eb362-87e4-405a-bbcc-c2e4339f9319",
   "metadata": {},
   "outputs": [
    {
     "name": "stdout",
     "output_type": "stream",
     "text": [
      "25\n"
     ]
    }
   ],
   "source": [
    "# Abre tu microfono o escribe en el chat\n",
    "\n",
    "try:\n",
    "    edad = '25'\n",
    "    print(edad)\n",
    "except:\n",
    "    print(\"La variable desde de ser un número entero\")"
   ]
  },
  {
   "cell_type": "code",
   "execution_count": 9,
   "id": "647c9024",
   "metadata": {},
   "outputs": [
    {
     "name": "stdout",
     "output_type": "stream",
     "text": [
      "\n"
     ]
    }
   ],
   "source": [
    "# Hagamos de cuenta que esta celda no existe :')\n",
    "\n",
    "try:\n",
    "    edad = '23 años'\n",
    "    edad_convertida = int(edad)\n",
    "    print(edad_convertida)\n",
    "except Exception as e:\n",
    "    print(\"\")"
   ]
  },
  {
   "cell_type": "markdown",
   "id": "8745269e-0c62-4b59-8b4e-f8b761ec3a39",
   "metadata": {},
   "source": [
    "**Check:** ¿Crees que este manejo de excepcion es \"obvio\" o \"innecesario\"?"
   ]
  },
  {
   "cell_type": "markdown",
   "id": "23ca0d1a-cdf2-489e-850a-28c1d6d8e655",
   "metadata": {},
   "source": [
    "**Check:** ¿Deberíamos usar SIEMPRE este manejo de excepciones?"
   ]
  },
  {
   "cell_type": "markdown",
   "id": "b512e7a5",
   "metadata": {},
   "source": [
    "2. Realizar operaciones aritméticas básicas. Por ejemplo, potenciacion de dos números e imprimir el resultado, usando `try` y `except` para capturar posibles errores."
   ]
  },
  {
   "cell_type": "code",
   "execution_count": null,
   "id": "36f89175-3e94-45f2-a843-617795e46641",
   "metadata": {},
   "outputs": [],
   "source": [
    "# Abre tu microfono o escribe en el chat"
   ]
  },
  {
   "cell_type": "code",
   "execution_count": 7,
   "id": "405b7269-28e4-410b-822e-a6024d384abc",
   "metadata": {},
   "outputs": [
    {
     "name": "stdout",
     "output_type": "stream",
     "text": [
      "La variable no es un número\n"
     ]
    }
   ],
   "source": [
    "try:\n",
    "    base = \"3\"\n",
    "    exponente = 5\n",
    "    print(base**exponente)\n",
    "except:\n",
    "    print(\"La variable no es un número\")"
   ]
  },
  {
   "cell_type": "code",
   "execution_count": 8,
   "id": "e36d1786-e935-42ef-acf9-90dd4d1f5cfa",
   "metadata": {},
   "outputs": [
    {
     "name": "stdout",
     "output_type": "stream",
     "text": [
      "-243\n"
     ]
    }
   ],
   "source": [
    "try:\n",
    "    base = -3\n",
    "    exponente = 5\n",
    "    print(base**exponente)\n",
    "except:\n",
    "    print(\"La variable no es un número\")"
   ]
  },
  {
   "cell_type": "code",
   "execution_count": null,
   "id": "0abfa05d",
   "metadata": {},
   "outputs": [],
   "source": [
    "# Hagamos de cuenta que esta celda no existe :')\n",
    "\n",
    "try:\n",
    "    a = 10\n",
    "    b = 15\n",
    "    suma = a + b\n",
    "    print(\"La suma es:\", suma)\n",
    "except Exception as e:\n",
    "    print(\"Error en la operación aritmética:\", e)"
   ]
  },
  {
   "cell_type": "markdown",
   "id": "00dc99ba",
   "metadata": {},
   "source": [
    "3. Convertir una variable de tipo `string` a `int` y realizar una operación, utilizando `try` y `except` para manejar errores si la conversión falla."
   ]
  },
  {
   "cell_type": "code",
   "execution_count": null,
   "id": "4c3525dc-8d70-4dff-8a6c-699eeabcdcbc",
   "metadata": {},
   "outputs": [],
   "source": [
    "# Abre tu microfono o escribe en el chat"
   ]
  },
  {
   "cell_type": "code",
   "execution_count": 14,
   "id": "8f47c10b-e35c-4ba6-bfb7-54a71baebc99",
   "metadata": {},
   "outputs": [],
   "source": [
    "edad = '27'"
   ]
  },
  {
   "cell_type": "code",
   "execution_count": 15,
   "id": "0ae65c0c-c020-4102-8fee-b4258efe6448",
   "metadata": {},
   "outputs": [
    {
     "data": {
      "text/plain": [
       "str"
      ]
     },
     "execution_count": 15,
     "metadata": {},
     "output_type": "execute_result"
    }
   ],
   "source": [
    "type(edad)"
   ]
  },
  {
   "cell_type": "code",
   "execution_count": 17,
   "id": "45c12a9a-6a96-4445-b5a0-1ad52b12d61c",
   "metadata": {},
   "outputs": [],
   "source": [
    "edad_convertida = int(edad)"
   ]
  },
  {
   "cell_type": "code",
   "execution_count": 18,
   "id": "f4175d39-b153-4580-a3ab-d150dbf7389f",
   "metadata": {},
   "outputs": [
    {
     "data": {
      "text/plain": [
       "int"
      ]
     },
     "execution_count": 18,
     "metadata": {},
     "output_type": "execute_result"
    }
   ],
   "source": [
    "type(edad_convertida)"
   ]
  },
  {
   "cell_type": "code",
   "execution_count": 21,
   "id": "1fddc30d-001f-4454-8a37-1a06b311cd4b",
   "metadata": {},
   "outputs": [
    {
     "ename": "ValueError",
     "evalue": "invalid literal for int() with base 10: 'f'",
     "output_type": "error",
     "traceback": [
      "\u001b[1;31m---------------------------------------------------------------------------\u001b[0m",
      "\u001b[1;31mValueError\u001b[0m                                Traceback (most recent call last)",
      "Cell \u001b[1;32mIn[21], line 1\u001b[0m\n\u001b[1;32m----> 1\u001b[0m \u001b[38;5;28mint\u001b[39m(\u001b[38;5;124m\"\u001b[39m\u001b[38;5;124mf\u001b[39m\u001b[38;5;124m\"\u001b[39m) \u001b[38;5;241m+\u001b[39m \u001b[38;5;241m3\u001b[39m\n",
      "\u001b[1;31mValueError\u001b[0m: invalid literal for int() with base 10: 'f'"
     ]
    }
   ],
   "source": [
    "int(\"f\") + 3"
   ]
  },
  {
   "cell_type": "code",
   "execution_count": 23,
   "id": "f8a765c2-3e61-48f2-9db3-a79712307627",
   "metadata": {},
   "outputs": [
    {
     "name": "stdout",
     "output_type": "stream",
     "text": [
      "9\n"
     ]
    }
   ],
   "source": [
    "variable_a_convertir = '9'\n",
    "\n",
    "try:\n",
    "    conversion_variable =  int(variable_a_convertir)\n",
    "    print(conversion_variable)\n",
    "except:\n",
    "    print(\"La variable no es un número\")"
   ]
  },
  {
   "cell_type": "code",
   "execution_count": null,
   "id": "2c5b553a-0e82-410a-ab95-4a15ed81e598",
   "metadata": {},
   "outputs": [],
   "source": []
  },
  {
   "cell_type": "code",
   "execution_count": null,
   "id": "82fbb588-5157-400c-8c6b-91ca8bdffb83",
   "metadata": {},
   "outputs": [],
   "source": []
  },
  {
   "cell_type": "code",
   "execution_count": null,
   "id": "a0a9db6a-3a20-41e0-90d9-ca6c5d12c3c7",
   "metadata": {},
   "outputs": [],
   "source": []
  },
  {
   "cell_type": "code",
   "execution_count": null,
   "id": "b0bfe8bd-755e-4f2d-8ff4-9961601aa1f2",
   "metadata": {},
   "outputs": [],
   "source": [
    "try:\n",
    "    numerador = \"5\"\n",
    "    denominador = \"3\"\n",
    "    print(int(numerador)/int(denominador))\n",
    "except:\n",
    "    print(\"hay un error\")"
   ]
  },
  {
   "cell_type": "code",
   "execution_count": 13,
   "id": "a36d1b28-d4e7-40c6-a4f0-40176a71df6f",
   "metadata": {},
   "outputs": [
    {
     "name": "stdout",
     "output_type": "stream",
     "text": [
      "1.6666666666666667\n"
     ]
    }
   ],
   "source": [
    "try:\n",
    "    numerador = int(\"5\")\n",
    "    denominador = int(\"3\")\n",
    "    print(numerador/denominador)\n",
    "except:\n",
    "    print(\"hay un error\")"
   ]
  },
  {
   "cell_type": "code",
   "execution_count": 15,
   "id": "7266b5bd-7c22-4426-a02d-bcdcdbc67eeb",
   "metadata": {},
   "outputs": [
    {
     "name": "stdout",
     "output_type": "stream",
     "text": [
      "1.6666666666666667\n"
     ]
    }
   ],
   "source": [
    "try:\n",
    "    numerador = \"5\"\n",
    "    denominador = \"3\"\n",
    "    entero_numerador = int(numerador)\n",
    "    entero_denominador = int(denominador)\n",
    "    print(entero_numerador/entero_denominador)\n",
    "except:\n",
    "    print(\"hay un error\")"
   ]
  },
  {
   "cell_type": "code",
   "execution_count": 16,
   "id": "62ed6464-15c4-4fc9-ac03-0905b9050ac0",
   "metadata": {},
   "outputs": [
    {
     "name": "stdout",
     "output_type": "stream",
     "text": [
      "1.6666666666666667\n"
     ]
    }
   ],
   "source": [
    "try:\n",
    "    numerador = \"5\"\n",
    "    denominador = \"3\"\n",
    "    entero_numerador = int(numerador)\n",
    "    entero_denominador = int(denominador)\n",
    "    division = entero_numerador/entero_denominador\n",
    "    print(division)\n",
    "except:\n",
    "    print(\"hay un error\")"
   ]
  },
  {
   "cell_type": "code",
   "execution_count": 15,
   "id": "b7c2d1a6-9fac-465f-8e81-010192713205",
   "metadata": {},
   "outputs": [
    {
     "name": "stdout",
     "output_type": "stream",
     "text": [
      "1\n"
     ]
    }
   ],
   "source": [
    "# Abre tu microfono o escribe en el chat\n",
    "\n",
    "try:\n",
    "    valor_1='10'\n",
    "    valor_1=int(valor_1)\n",
    "    valor_2=3\n",
    "    print(valor_1%valor_2)\n",
    "except:\n",
    "    print(\"Error :)\")"
   ]
  },
  {
   "cell_type": "code",
   "execution_count": 20,
   "id": "7eff98ff-0f67-4750-8923-81460672f84d",
   "metadata": {},
   "outputs": [
    {
     "name": "stdout",
     "output_type": "stream",
     "text": [
      "20\n"
     ]
    }
   ],
   "source": [
    "try:\n",
    "     Valor_1='10'\n",
    "     Valor_2='2'\n",
    "     result=int(Valor_1)*int(Valor_2)\n",
    "     print(result)\n",
    "except:\n",
    "      print('El valor no es número')"
   ]
  },
  {
   "cell_type": "code",
   "execution_count": null,
   "id": "ae857119",
   "metadata": {},
   "outputs": [],
   "source": [
    "# Hagamos de cuenta que esta celda no existe :')\n",
    "\n",
    "try:\n",
    "    numero_str = \"30\"\n",
    "    numero_int = int(numero_str)\n",
    "    print(numero_int + 10)\n",
    "except (ValueError, ZeroDivisionError) as e:\n",
    "    print(\"Error de conversión:\", e)"
   ]
  },
  {
   "cell_type": "markdown",
   "id": "34f2b6f9",
   "metadata": {},
   "source": [
    "4. Mostrar un error común y manejarlo adecuadamente (ej: intentar convertir \"hola\" a `int`)."
   ]
  },
  {
   "cell_type": "code",
   "execution_count": null,
   "id": "9d68d3ed-9447-478d-a08c-39ce493f6622",
   "metadata": {},
   "outputs": [],
   "source": [
    "# Abre tu microfono o escribe en el chat\n",
    "\n"
   ]
  },
  {
   "cell_type": "code",
   "execution_count": null,
   "id": "41bc7ade",
   "metadata": {},
   "outputs": [],
   "source": [
    "# Hagamos de cuenta que esta celda no existe :')\n",
    "\n",
    "valor = \"hola\"\n",
    "try:\n",
    "    numero = int(valor)\n",
    "except ValueError as e:\n",
    "    print(\"Error al convertir el valor a entero:\", e)"
   ]
  },
  {
   "cell_type": "markdown",
   "id": "843807bb",
   "metadata": {},
   "source": [
    "## Capítulo 2: Strings (10 minutos)"
   ]
  },
  {
   "cell_type": "markdown",
   "id": "a3e9d42c",
   "metadata": {},
   "source": [
    "**Explicación**:\n",
    "- Propiedades básicas de los strings: Definición y cómo trabajar con cadenas de texto.\n",
    "- Índices y slices: Acceder a caracteres individuales y a subcadenas.\n",
    "- Strings formateados: Uso de `f-strings` para combinar texto y variables.\n",
    "- Métodos comunes de strings: `upper()`, `lower()`, `split()`, `replace()`."
   ]
  },
  {
   "cell_type": "markdown",
   "id": "d024eca1",
   "metadata": {},
   "source": [
    "**Ejercicio 2**:\n",
    "1. Crear una variable `nombre` con el valor \"Ana\" y mostrar el primer y último carácter utilizando slicing."
   ]
  },
  {
   "cell_type": "code",
   "execution_count": 25,
   "id": "23158a71-1b51-459a-aa3f-708692e65cf8",
   "metadata": {},
   "outputs": [],
   "source": [
    "variable_ejemplo = \"2\""
   ]
  },
  {
   "cell_type": "code",
   "execution_count": 26,
   "id": "35b75e7c-3b93-4bd2-88ba-6df8d1aeb541",
   "metadata": {},
   "outputs": [
    {
     "name": "stdout",
     "output_type": "stream",
     "text": [
      "2\n"
     ]
    }
   ],
   "source": [
    "print(variable_ejemplo)"
   ]
  },
  {
   "cell_type": "code",
   "execution_count": 27,
   "id": "08b86fab-3db8-46f7-b68d-cb326cdb9a8d",
   "metadata": {},
   "outputs": [
    {
     "data": {
      "text/plain": [
       "str"
      ]
     },
     "execution_count": 27,
     "metadata": {},
     "output_type": "execute_result"
    }
   ],
   "source": [
    "type(variable_ejemplo)"
   ]
  },
  {
   "cell_type": "code",
   "execution_count": 28,
   "id": "6d3cc4e0-7139-4dad-be95-bfb14c4f957a",
   "metadata": {},
   "outputs": [
    {
     "data": {
      "text/plain": [
       "2"
      ]
     },
     "execution_count": 28,
     "metadata": {},
     "output_type": "execute_result"
    }
   ],
   "source": [
    "int(variable_ejemplo)"
   ]
  },
  {
   "cell_type": "code",
   "execution_count": 29,
   "id": "4ef7ce8e-251d-4c2c-aca0-d3e30cb4a671",
   "metadata": {},
   "outputs": [],
   "source": [
    "nombre = \"leyton_castro\""
   ]
  },
  {
   "cell_type": "code",
   "execution_count": 30,
   "id": "b1d80cef-de84-4d77-bdd8-7f0764ce72b1",
   "metadata": {},
   "outputs": [
    {
     "data": {
      "text/plain": [
       "str"
      ]
     },
     "execution_count": 30,
     "metadata": {},
     "output_type": "execute_result"
    }
   ],
   "source": [
    "type(nombre)"
   ]
  },
  {
   "cell_type": "code",
   "execution_count": 44,
   "id": "d0db4b0b-a759-4b77-b0a8-214b5417b34a",
   "metadata": {},
   "outputs": [],
   "source": [
    "variable_2 = nombre.upper().lower().replace(\"y\", \"i\").split(\"_\")"
   ]
  },
  {
   "cell_type": "code",
   "execution_count": 45,
   "id": "b5dd3e40-7ea1-4d32-8274-615e12a9f469",
   "metadata": {},
   "outputs": [
    {
     "data": {
      "text/plain": [
       "list"
      ]
     },
     "execution_count": 45,
     "metadata": {},
     "output_type": "execute_result"
    }
   ],
   "source": [
    "type(variable_2)"
   ]
  },
  {
   "cell_type": "code",
   "execution_count": 58,
   "id": "75841ab8-2a08-4bb4-b5a8-422249f08ee4",
   "metadata": {},
   "outputs": [],
   "source": [
    "nombres = 'leyton-jean-piere'\n",
    "apellidos = 'castro'"
   ]
  },
  {
   "cell_type": "code",
   "execution_count": 59,
   "id": "ab8f0865-c7a0-4f80-962c-2e8dec7e1480",
   "metadata": {},
   "outputs": [
    {
     "data": {
      "text/plain": [
       "['leyton', 'ean-piere']"
      ]
     },
     "execution_count": 59,
     "metadata": {},
     "output_type": "execute_result"
    }
   ],
   "source": [
    "nombres.split(\"-j\")"
   ]
  },
  {
   "cell_type": "code",
   "execution_count": 57,
   "id": "9404f0b8-35f6-4365-bbfb-e4ee2ed51114",
   "metadata": {},
   "outputs": [
    {
     "data": {
      "text/plain": [
       "['castro']"
      ]
     },
     "execution_count": 57,
     "metadata": {},
     "output_type": "execute_result"
    }
   ],
   "source": [
    "apellidos.split(\"-\")"
   ]
  },
  {
   "cell_type": "code",
   "execution_count": null,
   "id": "da24a1fb-a266-49ff-b465-14366f5bad89",
   "metadata": {},
   "outputs": [],
   "source": []
  },
  {
   "cell_type": "code",
   "execution_count": 60,
   "id": "134afd38-02be-4547-ac02-af28ab305c9c",
   "metadata": {},
   "outputs": [],
   "source": [
    "nombre = 'leyton castro'"
   ]
  },
  {
   "cell_type": "code",
   "execution_count": 63,
   "id": "53ca6d13-267f-46ed-87fd-34203d82a5c2",
   "metadata": {},
   "outputs": [
    {
     "data": {
      "text/plain": [
       "'a'"
      ]
     },
     "execution_count": 63,
     "metadata": {},
     "output_type": "execute_result"
    }
   ],
   "source": [
    "nombre[8]"
   ]
  },
  {
   "cell_type": "code",
   "execution_count": null,
   "id": "06f0fdae-87e2-4e49-ab7a-355a087ab7de",
   "metadata": {},
   "outputs": [],
   "source": []
  },
  {
   "cell_type": "code",
   "execution_count": null,
   "id": "8239f930-ea2c-428f-aca4-ff64614a4a78",
   "metadata": {},
   "outputs": [],
   "source": []
  },
  {
   "cell_type": "code",
   "execution_count": null,
   "id": "59cf7bb7-7645-4ce2-8736-940e13019704",
   "metadata": {},
   "outputs": [],
   "source": []
  },
  {
   "cell_type": "code",
   "execution_count": null,
   "id": "9aa1fff0-ca38-4e85-840d-8c1690dc2a0f",
   "metadata": {},
   "outputs": [],
   "source": []
  },
  {
   "cell_type": "code",
   "execution_count": null,
   "id": "a6040fd2-cb7e-4245-9e0e-92e03ddce8f7",
   "metadata": {},
   "outputs": [],
   "source": [
    "# Abre tu microfono o escribe en el chat"
   ]
  },
  {
   "cell_type": "code",
   "execution_count": 24,
   "id": "1ac56dc4-18f0-43f3-acd8-66aeb7982567",
   "metadata": {},
   "outputs": [
    {
     "name": "stdout",
     "output_type": "stream",
     "text": [
      "l y\n"
     ]
    }
   ],
   "source": [
    "nombre = \"leyton\"\n",
    "print(nombre[0],nombre[2])"
   ]
  },
  {
   "cell_type": "code",
   "execution_count": 29,
   "id": "852d181e-cf56-419b-a636-d1f8c660b219",
   "metadata": {},
   "outputs": [
    {
     "data": {
      "text/plain": [
       "'le'"
      ]
     },
     "execution_count": 29,
     "metadata": {},
     "output_type": "execute_result"
    }
   ],
   "source": [
    "nombre[0:2]"
   ]
  },
  {
   "cell_type": "code",
   "execution_count": 27,
   "id": "1e3f702e-e678-46a2-b24b-31233d16d52b",
   "metadata": {},
   "outputs": [
    {
     "data": {
      "text/plain": [
       "'leyton'"
      ]
     },
     "execution_count": 27,
     "metadata": {},
     "output_type": "execute_result"
    }
   ],
   "source": [
    "nombre[0:]"
   ]
  },
  {
   "cell_type": "code",
   "execution_count": 28,
   "id": "c11bf34c-9050-4a3a-bd4e-5720de9c576b",
   "metadata": {},
   "outputs": [
    {
     "name": "stdout",
     "output_type": "stream",
     "text": [
      "leyton\n"
     ]
    }
   ],
   "source": [
    "print(nombre[0:500])"
   ]
  },
  {
   "cell_type": "code",
   "execution_count": 25,
   "id": "764b79c5-e4ab-47ae-bef7-4e3898ee749c",
   "metadata": {},
   "outputs": [
    {
     "name": "stdout",
     "output_type": "stream",
     "text": [
      "l n\n"
     ]
    }
   ],
   "source": [
    "print(nombre[0], nombre[-1])"
   ]
  },
  {
   "cell_type": "code",
   "execution_count": 27,
   "id": "7ed938cd-3325-4e13-8bd4-8ae154cba17d",
   "metadata": {},
   "outputs": [
    {
     "name": "stdout",
     "output_type": "stream",
     "text": [
      "a i\n"
     ]
    }
   ],
   "source": [
    "# Abre tu microfono o escribe en el chat\n",
    "\n",
    "nombre='anai'\n",
    "print(nombre[0], nombre[-1])"
   ]
  },
  {
   "cell_type": "code",
   "execution_count": null,
   "id": "3b6fadf4",
   "metadata": {},
   "outputs": [],
   "source": [
    "# Hagamos de cuenta que esta celda no existe :')\n",
    "\n",
    "nombre = \"Ana\"\n",
    "print(\"Primer carácter:\", nombre[1])\n",
    "print(\"Último carácter:\", nombre[-1])"
   ]
  },
  {
   "cell_type": "code",
   "execution_count": 35,
   "id": "36b0168e-41dc-4f69-8693-35e879de08bb",
   "metadata": {},
   "outputs": [
    {
     "name": "stdout",
     "output_type": "stream",
     "text": [
      "Janeiro,_Brasil\n"
     ]
    }
   ],
   "source": [
    "city = 'Rio_de_Janeiro,_Brasil' #Tenemos 22 caracteres\n",
    "\n",
    "print(city[-15:500])"
   ]
  },
  {
   "cell_type": "code",
   "execution_count": 36,
   "id": "023e475c-a9ec-49a9-9f4b-e2911699c984",
   "metadata": {},
   "outputs": [
    {
     "name": "stdout",
     "output_type": "stream",
     "text": [
      "de_Janeiro,_Brasil\n"
     ]
    }
   ],
   "source": [
    "city = 'Rio_de_Janeiro,_Brasil' #Tenemos 22 caracteres\n",
    "\n",
    "print(city[4:1000])"
   ]
  },
  {
   "cell_type": "markdown",
   "id": "ccf3e977",
   "metadata": {},
   "source": [
    "2. Realizar un slice para obtener los primeros 3 caracteres de la cadena \"Data Analytics\" y los últimos 3 caracteres."
   ]
  },
  {
   "cell_type": "code",
   "execution_count": null,
   "id": "8f02b053-5dbe-49b2-8248-99577092c357",
   "metadata": {},
   "outputs": [],
   "source": [
    "# Abre tu microfono o escribe en el chat\n",
    "\n"
   ]
  },
  {
   "cell_type": "code",
   "execution_count": null,
   "id": "c34ee84b",
   "metadata": {},
   "outputs": [],
   "source": [
    "# Hagamos de cuenta que esta celda no existe :')\n",
    "\n",
    "frase = \"Data Analytics\"\n",
    "print(\"Primeros 3 caracteres:\", frase[:3])\n",
    "print(\"Últimos 3 caracteres:\", frase[-3:])"
   ]
  },
  {
   "cell_type": "markdown",
   "id": "6c5768c8",
   "metadata": {},
   "source": [
    "3. Utilizar un string formateado para imprimir un mensaje personalizado."
   ]
  },
  {
   "cell_type": "code",
   "execution_count": null,
   "id": "a5be2d34-60d7-4a42-ba85-51c1aba4afe5",
   "metadata": {},
   "outputs": [],
   "source": [
    "# Abre tu microfono o escribe en el chat"
   ]
  },
  {
   "cell_type": "code",
   "execution_count": 41,
   "id": "c87438a1-5a9c-409a-a315-dd3924a5b4e7",
   "metadata": {},
   "outputs": [
    {
     "name": "stdout",
     "output_type": "stream",
     "text": [
      "feliz cumpleaños leyton\n"
     ]
    }
   ],
   "source": [
    "nombre = \"leyton\"\n",
    "print(\"feliz cumpleaños \"+ nombre)"
   ]
  },
  {
   "cell_type": "code",
   "execution_count": 39,
   "id": "06d8109e-8571-49d3-a89a-c8bfe1dd513b",
   "metadata": {},
   "outputs": [
    {
     "name": "stdout",
     "output_type": "stream",
     "text": [
      "feliz cumpleaños leyton\n"
     ]
    }
   ],
   "source": [
    "nombre = \"leyton\"\n",
    "print(f\"feliz cumpleaños {nombre}\")"
   ]
  },
  {
   "cell_type": "code",
   "execution_count": 40,
   "id": "64d5d2d0-fca9-4393-8d66-8129efe15f86",
   "metadata": {},
   "outputs": [
    {
     "name": "stdout",
     "output_type": "stream",
     "text": [
      "feliz cumpleaños leyton\n"
     ]
    }
   ],
   "source": [
    "nombre = \"leyton\"\n",
    "mensaje = \"feliz cumpleaños {}\".format(nombre)\n",
    "print(mensaje)"
   ]
  },
  {
   "cell_type": "markdown",
   "id": "081677c6",
   "metadata": {},
   "source": [
    "4. Utiliza los métodos `.split()`, `.replace()`, `.upper()`, `.strip()` en una oración."
   ]
  },
  {
   "cell_type": "code",
   "execution_count": null,
   "id": "96e2500e-b0c0-4897-8693-8df853d93711",
   "metadata": {},
   "outputs": [],
   "source": [
    "# Abre tu microfono o escribe en el chat"
   ]
  },
  {
   "cell_type": "code",
   "execution_count": 44,
   "id": "11dfa85e-de58-4c3c-a872-3ffcd3484073",
   "metadata": {},
   "outputs": [
    {
     "name": "stdout",
     "output_type": "stream",
     "text": [
      "  hola_mundo  \n"
     ]
    }
   ],
   "source": [
    "oracion = '  hola_mundo  '\n",
    "print(oracion)"
   ]
  },
  {
   "cell_type": "code",
   "execution_count": 58,
   "id": "7bf28827-e5cd-4417-83a2-812ac65b40fc",
   "metadata": {},
   "outputs": [
    {
     "data": {
      "text/plain": [
       "['HOLA', 'MUNDO']"
      ]
     },
     "execution_count": 58,
     "metadata": {},
     "output_type": "execute_result"
    }
   ],
   "source": [
    "oracion.strip().upper().replace(\"_\", \" \").split()"
   ]
  },
  {
   "cell_type": "code",
   "execution_count": 54,
   "id": "3a6365c6-1a8c-4f31-b348-9075c1e6d6ff",
   "metadata": {},
   "outputs": [
    {
     "name": "stdout",
     "output_type": "stream",
     "text": [
      "  hola_mundo  \n"
     ]
    }
   ],
   "source": [
    "oracion = '  hola_mundo  '\n",
    "print(oracion)"
   ]
  },
  {
   "cell_type": "code",
   "execution_count": 57,
   "id": "073d866b-2702-4d0d-a5c6-4e892acf9360",
   "metadata": {},
   "outputs": [
    {
     "data": {
      "text/plain": [
       "['  H', 'LA_MUND', '  ']"
      ]
     },
     "execution_count": 57,
     "metadata": {},
     "output_type": "execute_result"
    }
   ],
   "source": [
    "oracion.upper().split(\"O\")"
   ]
  },
  {
   "cell_type": "code",
   "execution_count": null,
   "id": "ef81d84a-397b-4690-b999-a9cdfdf20803",
   "metadata": {},
   "outputs": [],
   "source": []
  },
  {
   "cell_type": "code",
   "execution_count": 33,
   "id": "7e6cb737-f973-4e06-ac01-ecdc2b047ac0",
   "metadata": {},
   "outputs": [
    {
     "name": "stdout",
     "output_type": "stream",
     "text": [
      "HOLA A TODOS\n"
     ]
    }
   ],
   "source": [
    "# Abre tu microfono o escribe en el chat\n",
    "\n",
    "saludo = 'hola mundo'\n",
    "print(saludo.upper().replace('MUNDO','A TODOS'))"
   ]
  },
  {
   "cell_type": "code",
   "execution_count": 36,
   "id": "9ebdd945-1852-46e4-ae1d-5ede4ab8bf61",
   "metadata": {},
   "outputs": [
    {
     "name": "stdout",
     "output_type": "stream",
     "text": [
      "HOLA MUNDO\n"
     ]
    }
   ],
   "source": [
    "# Abre tu microfono o escribe en el chat\n",
    "\n",
    "saludo_3 = 'hola mundo'\n",
    "print(saludo_3.replace('MUNDO','a todos').upper())"
   ]
  },
  {
   "cell_type": "code",
   "execution_count": null,
   "id": "9e6ce511",
   "metadata": {},
   "outputs": [],
   "source": [
    "# Hagamos de cuenta que esta celda no existe :')\n",
    "\n",
    "saludo = \"hola mundo\"\n",
    "saludo_modificado = saludo.upper().replace(\"MUNDO\", \"A TODOS\")\n",
    "print(saludo_modificado)"
   ]
  },
  {
   "cell_type": "markdown",
   "id": "5fc437cc",
   "metadata": {},
   "source": [
    "## Capítulo 3: Listas (15 minutos)"
   ]
  },
  {
   "cell_type": "markdown",
   "id": "7f66a072",
   "metadata": {},
   "source": [
    "**Explicación**:\n",
    "- Propiedades básicas de las listas: Definición y cómo almacenar múltiples valores.\n",
    "- Índices y slices en listas: Acceder a elementos específicos y sublistas.\n",
    "- Modificación de listas: Agregar, eliminar, modificar elementos.\n",
    "- Ordenar listas: Uso del método `sort()`.\n",
    "- Listas anidadas y cómo acceder a elementos dentro de listas anidadas."
   ]
  },
  {
   "cell_type": "markdown",
   "id": "4b90219e",
   "metadata": {},
   "source": [
    "**Ejercicio 3**:\n",
    "1. Crear una lista de frutas `frutas = [\"manzana\", \"banana\", \"cereza\"]` e imprimir la segunda fruta utilizando un bloque `try` y `except` para manejar posibles errores de índice."
   ]
  },
  {
   "cell_type": "code",
   "execution_count": null,
   "id": "b62a0f4f-7d44-44fe-9fdf-c9acb23ab7ae",
   "metadata": {},
   "outputs": [],
   "source": [
    "# Abre tu microfono o escribe en el chat"
   ]
  },
  {
   "cell_type": "code",
   "execution_count": 64,
   "id": "82acee27-2625-40dc-87ac-a9b2f104878b",
   "metadata": {},
   "outputs": [],
   "source": [
    "frutas = [\"manzana\", \"banana\", \"cereza\"]"
   ]
  },
  {
   "cell_type": "code",
   "execution_count": 65,
   "id": "839d0eef-8c76-44ae-95c0-f01fda61fdd9",
   "metadata": {},
   "outputs": [
    {
     "data": {
      "text/plain": [
       "'banana'"
      ]
     },
     "execution_count": 65,
     "metadata": {},
     "output_type": "execute_result"
    }
   ],
   "source": [
    "frutas[1]"
   ]
  },
  {
   "cell_type": "code",
   "execution_count": 67,
   "id": "89988b72-a15f-42ed-aec4-c42b4e463ec1",
   "metadata": {},
   "outputs": [],
   "source": [
    "lista = [\n",
    "                [1,2,3],\n",
    "                [\"a\", \"b\", \"c\"],\n",
    "                [\"d\", \"e\", \"f\"]\n",
    "            ]"
   ]
  },
  {
   "cell_type": "code",
   "execution_count": 68,
   "id": "c27c02f6-3ab8-4318-9a04-6300cf68e058",
   "metadata": {},
   "outputs": [
    {
     "data": {
      "text/plain": [
       "'b'"
      ]
     },
     "execution_count": 68,
     "metadata": {},
     "output_type": "execute_result"
    }
   ],
   "source": [
    "lista[1][1]"
   ]
  },
  {
   "cell_type": "code",
   "execution_count": null,
   "id": "8f77dcc9-334d-4431-aa5d-b47794c68ea4",
   "metadata": {},
   "outputs": [],
   "source": []
  },
  {
   "cell_type": "code",
   "execution_count": 63,
   "id": "d8fdb049-6e62-4d83-913a-36c3312bec77",
   "metadata": {},
   "outputs": [
    {
     "name": "stdout",
     "output_type": "stream",
     "text": [
      "watermelon\n"
     ]
    }
   ],
   "source": [
    "# Abre tu microfono o escribe en el chat\n",
    "\n",
    "frutas = [\"manzana\", \"banana\", \"cereza\", \"watermelon\"]\n",
    "print(frutas[3])"
   ]
  },
  {
   "cell_type": "code",
   "execution_count": null,
   "id": "e0f432b1",
   "metadata": {},
   "outputs": [],
   "source": [
    "# Hagamos de cuenta que esta celda no existe :')\n",
    "\n",
    "frutas = [\"manzana\", \"banana\", \"cereza\"]\n",
    "try:\n",
    "    print(frutas[1])\n",
    "except IndexError as e:\n",
    "    print(\"Error de índice:\", e)"
   ]
  },
  {
   "cell_type": "markdown",
   "id": "c18304aa",
   "metadata": {},
   "source": [
    "2. Agregar una nueva fruta a la lista y eliminar otra, utilizando `try` y `except` para manejar errores."
   ]
  },
  {
   "cell_type": "code",
   "execution_count": 1,
   "id": "605e8659-2fa9-47c6-8f81-a7f58703ba28",
   "metadata": {},
   "outputs": [],
   "source": [
    "# Abre tu microfono o escribe en el chat\n",
    "\n",
    "# Vamos a eliminar manzana\n",
    "frutas = [\"manzana\", \"banana\", \"cereza\"]\n",
    "fruta_nueva='mango'\n"
   ]
  },
  {
   "cell_type": "code",
   "execution_count": null,
   "id": "1107caa1-b5fe-4bc9-9d29-b3bc45aad82d",
   "metadata": {},
   "outputs": [],
   "source": []
  },
  {
   "cell_type": "code",
   "execution_count": null,
   "id": "ee1396e2",
   "metadata": {},
   "outputs": [],
   "source": [
    "# Hagamos de cuenta que esta celda no existe :')\n",
    "\n",
    "try:\n",
    "    frutas.append(\"naranja\")\n",
    "    frutas.remove(\"banana\")\n",
    "    print(frutas)\n",
    "except:\n",
    "    print(\"Error al modificar la lista\")"
   ]
  },
  {
   "cell_type": "markdown",
   "id": "ee27bf69",
   "metadata": {},
   "source": [
    "3. Crear una lista anidada que contenga dos listas y acceder al segundo elemento de la primera lista utilizando indexación y un bloque `try` y `except`."
   ]
  },
  {
   "cell_type": "code",
   "execution_count": 72,
   "id": "bab21110-bb71-47d8-a359-0adb9e206fa6",
   "metadata": {},
   "outputs": [
    {
     "name": "stdout",
     "output_type": "stream",
     "text": [
      "hay un error en el indice\n"
     ]
    }
   ],
   "source": [
    "# Abre tu microfono o escribe en el chat\n",
    "try:\n",
    "    lista = [\n",
    "                [1,2,3],\n",
    "                [\"a\", \"b\", \"c\"],\n",
    "                [\"d\", \"e\", \"f\"]\n",
    "            ]\n",
    "    print(lista[42][2])\n",
    "except:\n",
    "    print(\"hay un error en el indice\")    "
   ]
  },
  {
   "cell_type": "markdown",
   "id": "cbd857cc",
   "metadata": {},
   "source": [
    "4. ¿Algún método rápido para conocer los elementos de una lista?."
   ]
  },
  {
   "cell_type": "code",
   "execution_count": null,
   "id": "44e84a22-da44-4b26-994f-8ef6fa478701",
   "metadata": {},
   "outputs": [],
   "source": [
    "Lista = {\n",
    "    {1, \"a\", \"b\", \"c\"},\n",
    "    {2, \"d\", \"e\", \"f\"},\n",
    "    {3, \"g\", \"h\", \"i\"},\n",
    "    {4, \"j\", \"k\", \"l\"},\n",
    "}"
   ]
  },
  {
   "cell_type": "code",
   "execution_count": null,
   "id": "0aff915d-d95e-43be-88a9-254a122f4ddc",
   "metadata": {},
   "outputs": [],
   "source": [
    "# Abre tu microfono o escribe en el chat\n",
    "\n"
   ]
  },
  {
   "cell_type": "code",
   "execution_count": null,
   "id": "764f96b9",
   "metadata": {},
   "outputs": [],
   "source": []
  },
  {
   "cell_type": "markdown",
   "id": "dea289b4-378b-40b5-8c4d-bed9dd7b6fde",
   "metadata": {},
   "source": [
    "5. Exploremos los elementos de la siguiente lista anidada y propongamos una de forma corregir errores de caracteres en los nombres y de convertir la edad a un número entero."
   ]
  },
  {
   "cell_type": "code",
   "execution_count": 83,
   "id": "8572e8fb-09c0-4733-9eec-d289da8950fb",
   "metadata": {},
   "outputs": [],
   "source": [
    "users = [\n",
    "    ['12345', 'alice_smith', 28.0, ['MUSIC', 'ART']],\n",
    "    ['67890', 'bob_johnson', 35.0, ['SPORTS', 'TRAVEL']],\n",
    "]"
   ]
  },
  {
   "cell_type": "code",
   "execution_count": 92,
   "id": "f8d29a35-f400-4ecc-b53c-15632d242971",
   "metadata": {},
   "outputs": [],
   "source": [
    "usuarios_limpios = []"
   ]
  },
  {
   "cell_type": "code",
   "execution_count": 87,
   "id": "6a04ecdf-5485-4fb1-9975-d1653e01a691",
   "metadata": {},
   "outputs": [],
   "source": [
    "nombre_usuario_1 = users[0][1].replace(\"_\", \" \").split()\n",
    "edad_usuario_1 = int(users[0][2])\n",
    "usuarios_limpios.append([users[0][0], nombre_usuario_1, edad_usuario_1, users[0][3]])\n",
    "\n",
    "\n",
    "nombre_usuario_2 = users[1][1].replace(\"_\", \" \").split()\n",
    "edad_usuario_2 = int(users[1][2])\n",
    "usuarios_limpios.append([users[1][0], nombre_usuario_2, edad_usuario_2, users[1][3]])"
   ]
  },
  {
   "cell_type": "code",
   "execution_count": 93,
   "id": "9cb78f6d-e82c-4e74-a68a-eae3b1173ba4",
   "metadata": {},
   "outputs": [
    {
     "data": {
      "text/plain": [
       "[['12345', 'alice_smith', 28.0, ['MUSIC', 'ART']],\n",
       " ['67890', 'bob_johnson', 35.0, ['SPORTS', 'TRAVEL']]]"
      ]
     },
     "execution_count": 93,
     "metadata": {},
     "output_type": "execute_result"
    }
   ],
   "source": [
    "usuarios_limpios"
   ]
  },
  {
   "cell_type": "code",
   "execution_count": null,
   "id": "6ccf4aaa-f47d-41f6-85cb-16dedea796a6",
   "metadata": {},
   "outputs": [],
   "source": []
  },
  {
   "cell_type": "code",
   "execution_count": null,
   "id": "865147a3-a027-4805-b4b7-f98731fc0453",
   "metadata": {},
   "outputs": [],
   "source": []
  },
  {
   "cell_type": "code",
   "execution_count": null,
   "id": "07c90d25-f0fd-4841-9a84-6e0c5241f5fc",
   "metadata": {},
   "outputs": [],
   "source": []
  },
  {
   "cell_type": "code",
   "execution_count": null,
   "id": "9cac3dcb-3fe1-4ddf-a953-9f29b81bed5d",
   "metadata": {},
   "outputs": [],
   "source": []
  },
  {
   "cell_type": "code",
   "execution_count": null,
   "id": "55251cde-3879-4b73-b736-244c15ad20ab",
   "metadata": {},
   "outputs": [],
   "source": []
  },
  {
   "cell_type": "code",
   "execution_count": null,
   "id": "c3330709-5473-477a-8601-869aa7e358ef",
   "metadata": {},
   "outputs": [],
   "source": [
    "\n",
    "\n",
    "users_clean = []\n",
    "\n",
    "for user in users:\n",
    "    user_name = user[1].strip().replace('_', ' ')\n",
    "    user_age = int(user[2])\n",
    "    users_clean.append([user[0], user_name, user_age, user[3]])\n",
    "\n",
    "print(users_clean)\n"
   ]
  },
  {
   "cell_type": "markdown",
   "id": "22c7f07d",
   "metadata": {
    "jp-MarkdownHeadingCollapsed": true
   },
   "source": [
    "## Conclusión y Resumen (5 minutos)\n",
    "- Resumir los conceptos aprendidos: Variables, tipos de datos, operaciones aritméticas, manejo de errores, slicing, strings y listas anidadas.\n",
    "- Aclarar dudas y dar ejemplos adicionales si hay tiempo."
   ]
  },
  {
   "cell_type": "markdown",
   "id": "5c918fbf",
   "metadata": {},
   "source": [
    "## Tarea:\n",
    "- Practicar creando variables, listas y strings en Jupyter Notebook.\n",
    "- Intentar modificar los ejemplos dados para explorar diferentes resultados.\n",
    "- Practicar el manejo de errores utilizando `try` y `except` en diferentes escenarios.\n",
    "- **¿Olvidamos algo?** Cierto, el proyecto. No olvides que puedes agendar sesiones 1:1."
   ]
  },
  {
   "cell_type": "markdown",
   "id": "c0b0d650-5bd6-42c7-87e1-3a52ce5a488e",
   "metadata": {},
   "source": [
    "## Takeaways"
   ]
  },
  {
   "cell_type": "markdown",
   "id": "fa2c8b9e-a8c4-4bb7-acc4-6299b6b57e71",
   "metadata": {},
   "source": [
    "**Check:** ¿Notaste alguna diferencia en trabajar con Notebooks de Jupyter que con archivos de código plano?"
   ]
  },
  {
   "cell_type": "markdown",
   "id": "e5894077-5f56-446a-aaac-fe06db8a6e6e",
   "metadata": {},
   "source": [
    "__[Usando MarkDown en Jupyter](https://www.datacamp.com/tutorial/markdown-in-jupyter-notebook)__"
   ]
  },
  {
   "cell_type": "code",
   "execution_count": null,
   "id": "17704896-08e8-48eb-9463-2e82e91479c0",
   "metadata": {},
   "outputs": [],
   "source": []
  }
 ],
 "metadata": {
  "kernelspec": {
   "display_name": "Python 3 (ipykernel)",
   "language": "python",
   "name": "python3"
  },
  "language_info": {
   "codemirror_mode": {
    "name": "ipython",
    "version": 3
   },
   "file_extension": ".py",
   "mimetype": "text/x-python",
   "name": "python",
   "nbconvert_exporter": "python",
   "pygments_lexer": "ipython3",
   "version": "3.12.7"
  }
 },
 "nbformat": 4,
 "nbformat_minor": 5
}
