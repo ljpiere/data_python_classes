{
 "cells": [
  {
   "cell_type": "markdown",
   "id": "37803673",
   "metadata": {},
   "source": [
    "# Webinar 3 - Sprint 2: Funciones, bucles y condicionales"
   ]
  },
  {
   "cell_type": "markdown",
   "id": "02608763",
   "metadata": {},
   "source": [
    "## Objetivo de la Clase\n",
    "Seguiremos explorando los conceptos básicos de python pero en esta ocasion abordaremos ejercicios complejos que nos permitirán desarrollar nuestra lógica de programación y crear código utilizando todas las funciones y métodos vistos hasta ahora."
   ]
  },
  {
   "cell_type": "markdown",
   "id": "8ce04147",
   "metadata": {
    "jp-MarkdownHeadingCollapsed": true
   },
   "source": [
    "#### Ejercicio 1: Iteracion de lista anidada"
   ]
  },
  {
   "cell_type": "markdown",
   "id": "fe8b26ca-8822-4cd0-9469-ff4532026bf2",
   "metadata": {},
   "source": [
    "Dado un inventario de productos con información como el ID del producto, el nombre, el precio y la categoría, escribe un programa que calcule el precio promedio de todos los productos en la lista. Imprime el precio promedio con un mensaje adecuado..\n",
    "- **Hint**: Utiliza un bucle para iterar sobre la lista de productos y sumar los precios. Luego, divide el precio total por el número de productos para obtener el precio promedio."
   ]
  },
  {
   "cell_type": "code",
   "execution_count": 2,
   "id": "9fa52379-6262-4cb1-941f-abfba585a11e",
   "metadata": {},
   "outputs": [],
   "source": [
    "# Inicimos el código aquí\n",
    "products = [\n",
    "    [1001, \"Laptop\", 1500, \"Electronics\"],\n",
    "    [1002, \"Desk Chair\", 250, \"Furniture\"],\n",
    "    [1003, \"Smartphone\", 800, \"Electronics\"],\n",
    "    [1004, \"Bookshelf\", 120, \"Furniture\"],\n",
    "    [1005, \"Blender\", 60, \"Home Appliances\"],\n",
    "    [1006, \"Headphones\", 200, \"Electronics\"],\n",
    "    [1007, \"Lamp\", 40, \"Home Decor\"],\n",
    "    [1008, \"Vacuum Cleaner\", 300, \"Home Appliances\"]\n",
    "]"
   ]
  },
  {
   "cell_type": "code",
   "execution_count": 8,
   "id": "f34cee5a-9957-450e-862c-18031093650a",
   "metadata": {},
   "outputs": [
    {
     "name": "stdout",
     "output_type": "stream",
     "text": [
      "3270\n"
     ]
    }
   ],
   "source": [
    "sumatoria_precios = 0\n",
    "\n",
    "for product in products:\n",
    "    sumatoria_precios += product[2]\n",
    "\n",
    "print(sumatoria_precios)"
   ]
  },
  {
   "cell_type": "markdown",
   "id": "7763e300",
   "metadata": {},
   "source": [
    "- [ ] **Check:** El codigo dentro del for se ejecutará para cada elemento que se itera."
   ]
  },
  {
   "cell_type": "markdown",
   "id": "3b1d1010",
   "metadata": {
    "jp-MarkdownHeadingCollapsed": true
   },
   "source": [
    "#### Ejercicio 2: Recordando condicionales"
   ]
  },
  {
   "cell_type": "markdown",
   "id": "ad4a32c4-0a65-4fcd-89e9-92698f9c6a0c",
   "metadata": {},
   "source": [
    "Dado el inventario de productos, escribe un programa que imprima un mensaje indicando si el producto pertenece a la categoría \"Electronics\" y su precio es mayor a 500.\n",
    "\n",
    "- [ ] **Check:** Deberás utilizar sentencias condicionales para hacer esto."
   ]
  },
  {
   "cell_type": "code",
   "execution_count": 10,
   "id": "9a41ab27-e6bd-436f-af80-f4ec01dc3f75",
   "metadata": {},
   "outputs": [],
   "source": [
    "# Inicimos el código aquí\n",
    "products = [\n",
    "    [1001, \"Laptop\", 1500, \"Electronics\"],\n",
    "    [1002, \"Desk Chair\", 250, \"Furniture\"],\n",
    "    [1003, \"Smartphone\", 800, \"Electronics\"],\n",
    "    [1004, \"Bookshelf\", 120, \"Furniture\"],\n",
    "    [1005, \"Blender\", 60, \"Home Appliances\"],\n",
    "    [1006, \"Headphones\", 200, \"Electronics\"],\n",
    "    [1007, \"Lamp\", 40, \"Home Decor\"],\n",
    "    [1008, \"Vacuum Cleaner\", 300, \"Home Appliances\"]\n",
    "]"
   ]
  },
  {
   "cell_type": "code",
   "execution_count": 15,
   "id": "93b4152a-2da0-46e8-9ec2-a7a076b70035",
   "metadata": {},
   "outputs": [
    {
     "name": "stdout",
     "output_type": "stream",
     "text": [
      "[[1001, 'Laptop', 1500, 'Electronics'], [1003, 'Smartphone', 800, 'Electronics'], [1006, 'Headphones', 200, 'Electronics']]\n"
     ]
    }
   ],
   "source": [
    "# iterar\n",
    "filter_product = []\n",
    "\n",
    "for product in products:\n",
    "# filtrar\n",
    "    if product[3] == \"Electronics\":\n",
    "# guardar\n",
    "        filter_product.append(product)\n",
    "# mostrar\n",
    "print(filter_product)"
   ]
  },
  {
   "cell_type": "code",
   "execution_count": 16,
   "id": "0d542af3-1133-4bf3-9772-c1e913904810",
   "metadata": {},
   "outputs": [
    {
     "name": "stdout",
     "output_type": "stream",
     "text": [
      "[1001, 'Laptop', 1500, 'Electronics']\n",
      "[1003, 'Smartphone', 800, 'Electronics']\n",
      "[1006, 'Headphones', 200, 'Electronics']\n"
     ]
    }
   ],
   "source": [
    "for i in filter_product:\n",
    "    print(i)"
   ]
  },
  {
   "cell_type": "markdown",
   "id": "6bcbe767",
   "metadata": {},
   "source": [
    "- [ ] **Check:** Cada elemento iterado es una lista, la cual está anidada."
   ]
  },
  {
   "cell_type": "markdown",
   "id": "215b2521",
   "metadata": {},
   "source": [
    "#### Ejercicio 3: Iniciandonos en funciones."
   ]
  },
  {
   "cell_type": "markdown",
   "id": "c1598bff-eea6-4cb3-ae08-c1b2a4c7e878",
   "metadata": {},
   "source": [
    "Dada una lista de números, escribe una función que devuelva la suma de todos los elementos en la lista."
   ]
  },
  {
   "cell_type": "code",
   "execution_count": 17,
   "id": "65e837dc-9538-4bba-b759-fc6f42fef52d",
   "metadata": {},
   "outputs": [],
   "source": [
    "def sumar_numeros_lista(lista_numeros):\n",
    "    sumatoria = sum(lista_numeros)\n",
    "    return sumatoria"
   ]
  },
  {
   "cell_type": "code",
   "execution_count": 18,
   "id": "84b958de-6006-493b-a28b-1f7d750e15c0",
   "metadata": {},
   "outputs": [],
   "source": [
    "def sumar_numeros_lista_2(lista_numeros):\n",
    "    sumatoria = 0\n",
    "    for numero in lista_numeros:\n",
    "        sumatoria += numero\n",
    "    return sumatoria"
   ]
  },
  {
   "cell_type": "code",
   "execution_count": 23,
   "id": "e622108b-1f80-4e99-ac43-0806bcbc5771",
   "metadata": {},
   "outputs": [
    {
     "data": {
      "text/plain": [
       "5"
      ]
     },
     "execution_count": 23,
     "metadata": {},
     "output_type": "execute_result"
    }
   ],
   "source": [
    "lt_num = [4,3,5,6,7,8,10,20]\n",
    "lista_2 = [2,3,]\n",
    "\n",
    "sumar_numeros_lista(lista_2)"
   ]
  },
  {
   "cell_type": "markdown",
   "id": "ba17eb45",
   "metadata": {},
   "source": [
    "#### Ejercicio 4: Listas Anidadas"
   ]
  },
  {
   "cell_type": "markdown",
   "id": "ddced3c6-ee7e-443a-83c0-27f31b3c0187",
   "metadata": {},
   "source": [
    "Crea una lista que contenga otras dos listas, cada una con tres elementos. Luego, accede al segundo elemento de la segunda lista.\n",
    "- **Hint**: Utiliza dobles corchetes para acceder a listas anidadas."
   ]
  },
  {
   "cell_type": "code",
   "execution_count": null,
   "id": "fb98db8d-e108-4b21-9353-ba707adcab1e",
   "metadata": {
    "collapsed": true,
    "jupyter": {
     "outputs_hidden": true
    }
   },
   "outputs": [],
   "source": [
    "# Inicimos el código aquí\n"
   ]
  },
  {
   "cell_type": "code",
   "execution_count": 59,
   "id": "d7c6c3a4-4cdf-4423-adb6-72bbdfdc9410",
   "metadata": {
    "collapsed": true,
    "jupyter": {
     "outputs_hidden": true
    }
   },
   "outputs": [],
   "source": [
    "lista_anidada = [\n",
    "                    [1,2,3],\n",
    "                    [4,5,6]\n",
    "                ]"
   ]
  },
  {
   "cell_type": "code",
   "execution_count": 61,
   "id": "bc81e420-0395-4352-97d4-6bd9249cc40f",
   "metadata": {
    "collapsed": true,
    "jupyter": {
     "outputs_hidden": true
    }
   },
   "outputs": [
    {
     "name": "stdout",
     "output_type": "stream",
     "text": [
      "5\n"
     ]
    }
   ],
   "source": [
    "v2= lista_anidada[1][1]\n",
    "print(v2)"
   ]
  },
  {
   "cell_type": "code",
   "execution_count": 62,
   "id": "f3bbb34c-de44-4a44-92ea-95c47df23089",
   "metadata": {
    "collapsed": true,
    "jupyter": {
     "outputs_hidden": true
    }
   },
   "outputs": [
    {
     "name": "stdout",
     "output_type": "stream",
     "text": [
      "5\n"
     ]
    }
   ],
   "source": [
    "print(lista_anidada[1][1])"
   ]
  },
  {
   "cell_type": "code",
   "execution_count": null,
   "id": "8479c6da-ed8e-4d73-84a7-a1eb7c9730c9",
   "metadata": {
    "collapsed": true,
    "jupyter": {
     "outputs_hidden": true
    }
   },
   "outputs": [],
   "source": []
  },
  {
   "cell_type": "code",
   "execution_count": null,
   "id": "5340c5d8-c493-4a61-a169-617f005a7c67",
   "metadata": {
    "collapsed": true,
    "jupyter": {
     "outputs_hidden": true
    }
   },
   "outputs": [],
   "source": []
  },
  {
   "cell_type": "code",
   "execution_count": null,
   "id": "4d064673-5e42-4c84-99b4-bd83029c22f0",
   "metadata": {
    "collapsed": true,
    "jupyter": {
     "outputs_hidden": true
    }
   },
   "outputs": [],
   "source": []
  },
  {
   "cell_type": "code",
   "execution_count": null,
   "id": "bbcdeb68-5aae-4e3f-bf12-c354f37fbc6d",
   "metadata": {
    "collapsed": true,
    "jupyter": {
     "outputs_hidden": true
    }
   },
   "outputs": [],
   "source": []
  },
  {
   "cell_type": "code",
   "execution_count": null,
   "id": "ca30112d",
   "metadata": {
    "collapsed": true,
    "jupyter": {
     "outputs_hidden": true
    }
   },
   "outputs": [],
   "source": [
    "lista_anidada = [[1, 2, 3], [4, 5, 6]]\n",
    "elemento = lista_anidada[1][1]\n",
    "elemento"
   ]
  },
  {
   "cell_type": "markdown",
   "id": "2a482a0a",
   "metadata": {},
   "source": [
    "- [ ] **Check:** ¿Puedes acceder correctamente al elemento de una lista anidada?"
   ]
  },
  {
   "cell_type": "markdown",
   "id": "95b47190",
   "metadata": {},
   "source": [
    "#### Ejercicio 5: Procesamiento de Strings"
   ]
  },
  {
   "cell_type": "markdown",
   "id": "571ae806-436c-4f0a-9d4a-39579d485978",
   "metadata": {},
   "source": [
    "Crea una lista de palabras y conviértelas todas a mayúsculas.\n",
    "- **Hint**: Recuerdas Upper? Creo que no será tan sencillo usarlo aquí.\n",
    "- **Hint**: Puedes probar editando los elementos uno a uno si quieres.\n",
    "- **Hint**: Podemos usar un bucle o una comprensión de listas para aplicar `.upper()` a cada palabra."
   ]
  },
  {
   "cell_type": "code",
   "execution_count": 28,
   "id": "9402ba3b-e257-4617-a3fd-20b514dfa1fd",
   "metadata": {
    "collapsed": true,
    "jupyter": {
     "outputs_hidden": true
    }
   },
   "outputs": [],
   "source": [
    "# Inicimos el código aquí\n",
    "palabras = [\"data\", \"analytics\", \"python\"]\n",
    "\n",
    "mayusculas = []\n",
    "\n",
    "for palabra in palabras:\n",
    "    mayusculas.append(palabra.upper())"
   ]
  },
  {
   "cell_type": "code",
   "execution_count": 29,
   "id": "b6bdd6b8-7ce0-4b1e-b6ce-daa9ff1011e4",
   "metadata": {
    "collapsed": true,
    "jupyter": {
     "outputs_hidden": true
    }
   },
   "outputs": [
    {
     "name": "stdout",
     "output_type": "stream",
     "text": [
      "['DATA', 'ANALYTICS', 'PYTHON']\n"
     ]
    }
   ],
   "source": [
    "print(mayusculas)"
   ]
  },
  {
   "cell_type": "code",
   "execution_count": 30,
   "id": "279add92-bea8-4835-bf96-7f99ada23c1f",
   "metadata": {
    "collapsed": true,
    "jupyter": {
     "outputs_hidden": true
    }
   },
   "outputs": [],
   "source": [
    "# Inicimos el código aquí\n",
    "palabras = [\"data\", \"analytics\", \"python\"]\n",
    "\n",
    "mayusculas = []\n",
    "\n",
    "for palabra in palabras:\n",
    "    v1 = palabra.upper()\n",
    "    mayusculas.append(v1)"
   ]
  },
  {
   "cell_type": "code",
   "execution_count": 31,
   "id": "46c2bb7e-f8bd-46ed-adf9-a0c09a5859ca",
   "metadata": {
    "collapsed": true,
    "jupyter": {
     "outputs_hidden": true
    }
   },
   "outputs": [
    {
     "name": "stdout",
     "output_type": "stream",
     "text": [
      "['DATA', 'ANALYTICS', 'PYTHON']\n"
     ]
    }
   ],
   "source": [
    "print(mayusculas)"
   ]
  },
  {
   "cell_type": "code",
   "execution_count": 2,
   "id": "a771912a-4e65-4c9d-911d-953ff10814b6",
   "metadata": {
    "collapsed": true,
    "jupyter": {
     "outputs_hidden": true
    }
   },
   "outputs": [
    {
     "data": {
      "text/plain": [
       "['DATA', 'ANALYTICS', 'PYTHON']"
      ]
     },
     "execution_count": 2,
     "metadata": {},
     "output_type": "execute_result"
    }
   ],
   "source": [
    "palabras = [\"data\", \"analytics\", \"python\"]\n",
    "\n",
    "palabras_mayusculas = []\n",
    "\n",
    "for palabra in palabras:\n",
    "    palabras_mayusculas.append(palabra.upper())\n",
    "\n",
    "palabras_mayusculas"
   ]
  },
  {
   "cell_type": "code",
   "execution_count": null,
   "id": "15a5440f",
   "metadata": {
    "collapsed": true,
    "jupyter": {
     "outputs_hidden": true
    }
   },
   "outputs": [],
   "source": [
    "palabras = [\"data\", \"analytics\", \"python\"]\n",
    "palabras_mayusculas = [palabra.upper() for palabra in palabras]\n",
    "palabras_mayusculas"
   ]
  },
  {
   "cell_type": "code",
   "execution_count": 32,
   "id": "10129754-784f-4b4b-81c8-4b8cdc0aa56e",
   "metadata": {
    "collapsed": true,
    "jupyter": {
     "outputs_hidden": true
    }
   },
   "outputs": [],
   "source": [
    "palabras_mayusculas=[palabra.upper() for palabra in palabras]"
   ]
  },
  {
   "cell_type": "code",
   "execution_count": 33,
   "id": "5aeac6e6-c0d0-4c14-be16-f1cfee72d7aa",
   "metadata": {
    "collapsed": true,
    "jupyter": {
     "outputs_hidden": true
    }
   },
   "outputs": [
    {
     "data": {
      "text/plain": [
       "['DATA', 'ANALYTICS', 'PYTHON']"
      ]
     },
     "execution_count": 33,
     "metadata": {},
     "output_type": "execute_result"
    }
   ],
   "source": [
    "palabras_mayusculas"
   ]
  },
  {
   "cell_type": "markdown",
   "id": "c4cdb47b-40da-4647-adb5-e7bddd9a5e2c",
   "metadata": {},
   "source": [
    "#### Ejercicio 6: Contar Ocurrencias en una Lista"
   ]
  },
  {
   "cell_type": "markdown",
   "id": "7d43e1ed-9f5c-4381-8646-85f7598f3434",
   "metadata": {},
   "source": [
    "Dada una lista de cadenas, escribe una función que cuente cuántas veces aparece cada cadena en la lista. La función debe devolver un diccionario donde las claves sean las cadenas y los valores sean el número de veces que aparecen.\n",
    "\n",
    "`Input: ['apple', 'banana', 'apple', 'orange', 'banana', 'banana','Watermelon']`"
   ]
  },
  {
   "cell_type": "markdown",
   "id": "2cd06aaa-2dd3-40ae-874a-1f6ba92d9a40",
   "metadata": {},
   "source": [
    "- **Hint**: Podríamos usar un diccionario para almacenar los elementos que vamos encontrando y accediento a sus llaves `.keys` hacer el condicional para validar si el elemento ya existe en el diccionario y sumarle 1."
   ]
  },
  {
   "cell_type": "code",
   "execution_count": 2,
   "id": "6677ea88-b0cf-48fb-ba29-40fe8db52231",
   "metadata": {
    "collapsed": true,
    "jupyter": {
     "outputs_hidden": true
    }
   },
   "outputs": [],
   "source": [
    "# Inicimos el código aquí\n"
   ]
  },
  {
   "cell_type": "code",
   "execution_count": 34,
   "id": "8f39c8d7-731e-4e1e-ae12-7e90fe1f204f",
   "metadata": {
    "collapsed": true,
    "jupyter": {
     "outputs_hidden": true
    }
   },
   "outputs": [],
   "source": [
    "def contar_ocurrencias(lista_a_contar):\n",
    "    diccionario = {}\n",
    "\n",
    "    for llave in lista_a_contar:\n",
    "        if llave in diccionario.keys():\n",
    "            diccionario[llave] += 1\n",
    "        else:\n",
    "            diccionario[llave] = 1\n",
    "\n",
    "    return diccionario"
   ]
  },
  {
   "cell_type": "code",
   "execution_count": 35,
   "id": "e1df69cc-ca9f-4f1c-a903-98bc59f022c2",
   "metadata": {
    "collapsed": true,
    "jupyter": {
     "outputs_hidden": true
    }
   },
   "outputs": [],
   "source": [
    "lista = ['apple', 'banana', 'apple', 'orange', 'banana', 'banana','Watermelon']"
   ]
  },
  {
   "cell_type": "code",
   "execution_count": 36,
   "id": "adf94375-d408-4897-b24b-4f124c7a22ee",
   "metadata": {
    "collapsed": true,
    "jupyter": {
     "outputs_hidden": true
    }
   },
   "outputs": [
    {
     "data": {
      "text/plain": [
       "{'apple': 2, 'banana': 3, 'orange': 1, 'Watermelon': 1}"
      ]
     },
     "execution_count": 36,
     "metadata": {},
     "output_type": "execute_result"
    }
   ],
   "source": [
    "contar_ocurrencias(lista)"
   ]
  },
  {
   "cell_type": "code",
   "execution_count": null,
   "id": "de3fa027-7da0-4db0-9475-d4a459de7eea",
   "metadata": {
    "collapsed": true,
    "jupyter": {
     "outputs_hidden": true
    }
   },
   "outputs": [],
   "source": []
  },
  {
   "cell_type": "code",
   "execution_count": null,
   "id": "1c15095a-ef38-49b5-946a-dcbedcdebc2e",
   "metadata": {
    "collapsed": true,
    "jupyter": {
     "outputs_hidden": true
    }
   },
   "outputs": [],
   "source": [
    "def contar_ocurrencias(lista):\n",
    "    ocurrencias = {}\n",
    "    for item in lista:\n",
    "        if item in ocurrencias.keys():\n",
    "            ocurrencias[item] += 1\n",
    "        else:\n",
    "            ocurrencias[item] = 1\n",
    "    return ocurrencias\n",
    "\n",
    "# Ejemplo de uso\n",
    "print(contar_ocurrencias(['apple', 'banana', 'apple', 'orange', 'banana', 'banana']))\n",
    "# Salida esperada: {'apple': 2, 'banana': 3, 'orange': 1}\n"
   ]
  },
  {
   "cell_type": "markdown",
   "id": "25aa790e-c1e1-47be-820f-547816b5a9c5",
   "metadata": {
    "jp-MarkdownHeadingCollapsed": true
   },
   "source": [
    "#### Ejercicio 7: Sumar Elementos de una Lista en Pares"
   ]
  },
  {
   "cell_type": "markdown",
   "id": "7085d0cf-0f86-4328-a916-0703fd83b7bf",
   "metadata": {},
   "source": [
    "Descripción: Escribe una función que tome una lista de números enteros y devuelva una lista que contenga la suma de cada par de números consecutivos. "
   ]
  },
  {
   "cell_type": "markdown",
   "id": "4db44cf0-227a-4b30-8660-35152f6125ca",
   "metadata": {},
   "source": [
    "Por ejemplo, dado `[1, 2, 3, 4]`, la salida debe ser `[3, 5, 7]`."
   ]
  },
  {
   "cell_type": "markdown",
   "id": "69d2cda7-ea50-4ac3-a8a6-4e04901d1743",
   "metadata": {},
   "source": [
    "- **Hint**: Podríamos usar una lista auxiliar dentro de la funcion para agregar los nuevos elementos.\n",
    "- **Hint 2**: Si recibimos una lista, debemos de retornar una lista. El nuevo elemento a agregar será la operación con los números a tomar.\n",
    "- **Hint 3**: Debemos de comenzar a jugar con los indices de los números."
   ]
  },
  {
   "cell_type": "code",
   "execution_count": 4,
   "id": "3d831445-f813-4c76-ab80-e45f155fe232",
   "metadata": {
    "collapsed": true,
    "jupyter": {
     "outputs_hidden": true
    }
   },
   "outputs": [],
   "source": [
    "# Inicimos el código aquí\n"
   ]
  },
  {
   "cell_type": "code",
   "execution_count": null,
   "id": "2726548d-5fc9-42c8-a025-77ff1623bf0c",
   "metadata": {
    "collapsed": true,
    "jupyter": {
     "outputs_hidden": true
    }
   },
   "outputs": [],
   "source": []
  },
  {
   "cell_type": "code",
   "execution_count": null,
   "id": "61420b12-60d5-4d27-a6b6-37f424cd87c8",
   "metadata": {
    "collapsed": true,
    "jupyter": {
     "outputs_hidden": true
    }
   },
   "outputs": [],
   "source": []
  },
  {
   "cell_type": "code",
   "execution_count": null,
   "id": "f085b2f8-6fb9-4296-b8ec-eb92ae8a8be9",
   "metadata": {
    "collapsed": true,
    "jupyter": {
     "outputs_hidden": true
    }
   },
   "outputs": [],
   "source": []
  },
  {
   "cell_type": "code",
   "execution_count": null,
   "id": "c3d49dc4-2731-49e3-838a-a77db649dc7b",
   "metadata": {
    "collapsed": true,
    "jupyter": {
     "outputs_hidden": true
    }
   },
   "outputs": [],
   "source": []
  },
  {
   "cell_type": "code",
   "execution_count": null,
   "id": "c20cae8b-b065-43b9-9c54-076206d8b95b",
   "metadata": {
    "collapsed": true,
    "jupyter": {
     "outputs_hidden": true
    }
   },
   "outputs": [],
   "source": [
    "# Bueno, tenemos dos formas de hacer esto\n",
    "\n",
    "def sumar_pares_consecutivos(lista):\n",
    "    return [lista[i] + lista[i + 1] for i in range(len(lista) - 1)]\n",
    "\n",
    "def sumar_pares_consecutivos_2(lista):\n",
    "  lista_2 = []\n",
    "  for indice in range(len(lista)-1):\n",
    "    lista_2.append( lista[indice] + lista[indice + 1]  )\n",
    "\n",
    "  return lista_2\n",
    "\n",
    "# Ejemplo de uso\n",
    "print(sumar_pares_consecutivos_2([1, 2, 3, 4]))\n",
    "# Salida esperada: [3, 5, 7]\n"
   ]
  },
  {
   "cell_type": "markdown",
   "id": "102b947a-ac8d-4d74-a7fc-9e9d961d8575",
   "metadata": {},
   "source": [
    "#### Final: Sistema de Pedidos e Inventario"
   ]
  },
  {
   "cell_type": "markdown",
   "id": "62f920df-dc5c-45d4-a1a8-8a113c8d1829",
   "metadata": {},
   "source": [
    "Supongamos que tienes una tienda que gestiona inventarios y pedidos. Cada pedido incluye un precio unitario, cantidad y un descuento. Tu tarea será procesar los pedidos, calcular ingresos, aplicar descuentos y actualizar el inventario."
   ]
  },
  {
   "cell_type": "markdown",
   "id": "031679d1-9d13-4767-bd93-86224cdc3d4c",
   "metadata": {},
   "source": [
    "**Procesar los pedidos:**\n",
    "- Calcular el ingreso total después de aplicar descuentos.\n",
    "- Actualizar el inventario global reduciendo la cantidad de productos vendidos.\n",
    "- Si el producto no está en el inventario, agregarlo como nuevo con la cantidad correspondiente.\n",
    "\n",
    "**Resultados esperados:**\n",
    "- Lista de ingresos netos por pedido.\n",
    "- Inventario actualizado después de procesar los pedidos.\n",
    "- El valor del pedido más alto.\n",
    "\n",
    "**Pistas:**\n",
    "- **Hint**: Usa desempaquetado de listas para extraer datos de los pedidos.\n",
    "- **Hint 2**: Usa variables locales para realizar cálculos temporales dentro de funciones.\n",
    "- **Hint 3**: Usa variables globales para actualizar el inventario."
   ]
  },
  {
   "cell_type": "code",
   "execution_count": null,
   "id": "b8a8e30c-3f36-4fe5-a515-9941e60cdce4",
   "metadata": {
    "collapsed": true,
    "jupyter": {
     "outputs_hidden": true
    }
   },
   "outputs": [],
   "source": [
    "# Inventario inicial\n",
    "inventory = {\n",
    "    'manzana': 50,\n",
    "    'plátano': 30,\n",
    "    'naranja': 20,\n",
    "    'uva': 40\n",
    "}\n",
    "\n",
    "# Pedidos: [producto, precio unitario, cantidad, descuento]\n",
    "orders = [\n",
    "    ['manzana', 1.5, 10, 0.10],   # 10 manzanas con 10% de descuento\n",
    "    ['plátano', 0.8, 5, 0.00],    # 5 plátanos sin descuento\n",
    "    ['naranja', 1.2, 15, 0.05],   # 15 naranjas con 5% de descuento\n",
    "    ['uva', 2.0, 25, 0.20],       # 25 uvas con 20% de descuento\n",
    "    ['pera', 1.8, 10, 0.15],      # 10 peras (producto nuevo) con 15% de descuento\n",
    "]\n"
   ]
  },
  {
   "cell_type": "markdown",
   "id": "49c2a45c-3cce-42f9-839a-1a1a7415419f",
   "metadata": {
    "jp-MarkdownHeadingCollapsed": true
   },
   "source": [
    "#### Gestión inventario herramientas"
   ]
  },
  {
   "cell_type": "markdown",
   "id": "08f57604-8b0a-4a14-a688-9a5c9c393844",
   "metadata": {},
   "source": [
    "A partir de un inventario (una lista vacia) vamos a crear diferentes funciones que me permitan modificar esta lista vacia. Esto es:\n",
    "- Creemos una funcion llamada `add_tool` que me permita agregar una herramienta a la lista (simplemente un elemento). Por ejemplo: `name`, `category` y `available`.\n",
    "- `check_availability` que a partir del `name` me indique si la herramienta está disponible.\n",
    "- `lend_tool` que me permita alterar el `available` para indicar que la herramienta no está disponible\n",
    "\n",
    "- **Hint**: En cada punto hacemos una operación: Agregar, filtrar y alterar elementos."
   ]
  },
  {
   "cell_type": "code",
   "execution_count": 1,
   "id": "f708a56f-35a7-46d2-85a0-7c4087b33735",
   "metadata": {
    "collapsed": true,
    "jupyter": {
     "outputs_hidden": true
    }
   },
   "outputs": [],
   "source": [
    "inventory = []"
   ]
  },
  {
   "cell_type": "code",
   "execution_count": null,
   "id": "2c6e352f-71d0-42c5-8d1c-ad681cfc7612",
   "metadata": {
    "collapsed": true,
    "jupyter": {
     "outputs_hidden": true
    }
   },
   "outputs": [],
   "source": []
  },
  {
   "cell_type": "code",
   "execution_count": null,
   "id": "a328c0fe-56df-46c7-82c4-45de5578d8ba",
   "metadata": {
    "collapsed": true,
    "jupyter": {
     "outputs_hidden": true
    }
   },
   "outputs": [],
   "source": [
    "# Inicimos el código aquí\n",
    "# Inventario inicial de herramientas\n",
    "inventory = []\n",
    "\n",
    "# Tarea 1: encapsular la adición de una herramienta\n",
    "def add_tool(name, category, available=True):\n",
    "    inventory.append({\"name\": name, \"category\": category, \"available\": available})\n",
    "\n",
    "# Tarea 2: encapsular la comprobación de disponibilidad\n",
    "def check_availability(tool_name):\n",
    "    for tool in inventory:\n",
    "        if tool[\"name\"] == tool_name:\n",
    "            print(f\"La herramienta '{tool_name}' está disponible: {tool['available']}\")\n",
    "            return\n",
    "    print(f\"La herramienta '{tool_name}' no está en el inventario.\")\n",
    "\n",
    "# Tarea 3: encapsular el préstamo de una herramienta\n",
    "def lend_tool(tool_name):\n",
    "    for tool in inventory:\n",
    "        if tool[\"name\"] == tool_name:\n",
    "            if tool[\"available\"]:\n",
    "                tool[\"available\"] = False\n",
    "                print(f\"La herramienta '{tool_name}' ha sido prestada.\")\n",
    "            else:\n",
    "                print(f\"La herramienta '{tool_name}' ya está prestada.\")\n",
    "            return\n",
    "    print(f\"La herramienta '{tool_name}' no está en el inventario.\")\n",
    "\n",
    "# Tarea 4: encapsular el listado de todas las herramientas\n",
    "def list_tools(status=\"all\"):\n",
    "    for tool in inventory:\n",
    "        if status == \"all\":\n",
    "            print(f\"Nombre: {tool['name']}, Categoría: {tool['category']}, Disponible: {tool['available']}\")\n",
    "        elif status == \"available\" and tool[\"available\"]:\n",
    "            print(f\"Nombre: {tool['name']}, Categoría: {tool['category']}, Disponible: {tool['available']}\")\n",
    "        elif status == \"lent\" and not tool[\"available\"]:\n",
    "            print(f\"Nombre: {tool['name']}, Categoría: {tool['category']}, Disponible: {tool['available']}\")\n",
    "\n",
    "# Usar las funciones\n",
    "\n",
    "# Agregar herramientas al inventario\n",
    "add_tool(\"Taladro\", \"Eléctrica\")\n",
    "add_tool(\"Martillo\", \"Manual\", available=True)\n",
    "add_tool(\"Llave inglesa\", \"Manual\")\n",
    "\n",
    "# Comprobar la disponibilidad de una herramienta\n",
    "check_availability(\"Taladro\")\n",
    "check_availability(\"Sierra\")\n",
    "\n",
    "# Prestar una herramienta\n",
    "lend_tool(\"Taladro\")\n",
    "lend_tool(\"Llave inglesa\")\n",
    "\n",
    "# Listar todas las herramientas\n",
    "print(\"\\nTodas las herramientas:\")\n",
    "list_tools(\"all\")\n",
    "\n",
    "print(\"\\nHerramientas disponibles:\")\n",
    "list_tools(\"available\")\n",
    "\n",
    "print(\"\\nHerramientas prestadas:\")\n",
    "list_tools(\"lent\")\n"
   ]
  },
  {
   "cell_type": "markdown",
   "id": "68b0d0c7",
   "metadata": {
    "jp-MarkdownHeadingCollapsed": true
   },
   "source": [
    "### Conclusiones\n",
    "Hoy hemos cubierto los conceptos intermedios de listas, bucles y sentencias condicionales, que son herramientas fundamentales para el análisis de datos. Sabemos que fue algo desafiante la clase de hoy, pero, el objetivo es retar tu logica de programacion."
   ]
  },
  {
   "cell_type": "markdown",
   "id": "f5becf99",
   "metadata": {},
   "source": [
    "### Tarea\n",
    "- Practica con más ejercicios de listas y bucles en [w3schools - Python Lists](https://www.w3schools.com/python/python_lists.asp).\n",
    "- Resuelve algunos ejercicios de bucles en [HackerRank - Python Loops](https://www.hackerrank.com/domains/tutorials/10-days-of-python)."
   ]
  },
  {
   "cell_type": "markdown",
   "id": "7458bda6",
   "metadata": {},
   "source": [
    "### Takeaways\n",
    "- Utilizar `list comprehensions` es una forma eficiente y elegante de procesar listas.\n",
    "- Los bucles `while` requieren condiciones bien definidas para evitar ejecuciones infinitas.\n",
    "- Aprender a combinar sentencias `if` con bucles es clave para realizar operaciones de filtrado y transformación en listas."
   ]
  }
 ],
 "metadata": {
  "kernelspec": {
   "display_name": "Python 3 (ipykernel)",
   "language": "python",
   "name": "python3"
  },
  "language_info": {
   "codemirror_mode": {
    "name": "ipython",
    "version": 3
   },
   "file_extension": ".py",
   "mimetype": "text/x-python",
   "name": "python",
   "nbconvert_exporter": "python",
   "pygments_lexer": "ipython3",
   "version": "3.12.7"
  }
 },
 "nbformat": 4,
 "nbformat_minor": 5
}
