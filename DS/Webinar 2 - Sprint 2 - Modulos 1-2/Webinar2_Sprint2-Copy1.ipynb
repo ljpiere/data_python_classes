{
 "cells": [
  {
   "cell_type": "markdown",
   "id": "37803673",
   "metadata": {
    "id": "37803673"
   },
   "source": [
    "# Data Analytics: Introducción al Sprint 2"
   ]
  },
  {
   "cell_type": "markdown",
   "id": "02608763",
   "metadata": {
    "id": "02608763"
   },
   "source": [
    "## Objetivo de la Clase\n",
    "En esta clase, exploraremos los conceptos fundamentales de Python, comenzando con  el uso de bucles y sentencias condicionales y terminando con la exploración de un nuevo tipo de dato: los diccionarios y un nuevo paradigma de programación: las funciones."
   ]
  },
  {
   "cell_type": "markdown",
   "id": "hatme5xx_tRi",
   "metadata": {
    "id": "hatme5xx_tRi"
   },
   "source": [
    "# Parte 1: bucles y operadores"
   ]
  },
  {
   "cell_type": "markdown",
   "id": "9jlLy4Fs85CJ",
   "metadata": {
    "id": "9jlLy4Fs85CJ",
    "jp-MarkdownHeadingCollapsed": true
   },
   "source": [
    "# Resumen\n",
    "Requerimientos básicos en proyectos de analytics y data science\n",
    "\n",
    "### 1 Almacenamiento:\n",
    "+ **variables**: int, float, strings, logical\n",
    "+ **estructuras de  datos**: listas, diccionarios, tuplas, etc\n",
    "\n",
    "### 2 Procesamiento:\n",
    "+ **Operaciones**: sum, max, min, modify, filtros, funciones, etc"
   ]
  },
  {
   "cell_type": "markdown",
   "id": "EhtsUxfd9BGK",
   "metadata": {
    "id": "EhtsUxfd9BGK"
   },
   "source": [
    "## Objetivo: estructurar información de videos de **TikTok**\n",
    "https://www.tiktok.com/\n",
    "\n",
    "## Estrategia\n",
    "1. Extraer la información del video\n",
    "1. Organizar la información en una lista anidada\n",
    "1. Incluir información en cada video (**bucles**)\n",
    "1. Aplicar filtros (**operadores de comparación y lógicos**)"
   ]
  },
  {
   "cell_type": "code",
   "execution_count": null,
   "id": "g54vxobH9LAj",
   "metadata": {
    "id": "g54vxobH9LAj"
   },
   "outputs": [],
   "source": [
    "# Ejercicio 1\n",
    "# determinar la estructura de las urls\n",
    "\n",
    "\n"
   ]
  },
  {
   "cell_type": "code",
   "execution_count": null,
   "id": "3FWMLYmQ83_H",
   "metadata": {
    "id": "3FWMLYmQ83_H"
   },
   "outputs": [],
   "source": [
    "# Ejercicio 2\n",
    "# extraer\n",
    "# creator_id, video_id, keyword, vizualization_time\n",
    "\n"
   ]
  },
  {
   "cell_type": "markdown",
   "id": "YXGp3ZOQ9bHm",
   "metadata": {
    "id": "YXGp3ZOQ9bHm"
   },
   "source": [
    "# 1 Listas anidadas"
   ]
  },
  {
   "cell_type": "code",
   "execution_count": null,
   "id": "0EIpSljSiy6R",
   "metadata": {
    "cellView": "form",
    "id": "0EIpSljSiy6R"
   },
   "outputs": [],
   "source": [
    "# @title\n",
    "video_1 = 'https://www.tiktok.com/@superpet.ec/video/7377010672049114373?q=perro&t=1734359790576'\n",
    "video_2 = 'https://www.tiktok.com/@russoamericanbully/video/7318049198778207493?q=perro&t=1734359790576'\n",
    "video_3 = 'https://www.tiktok.com/@muyperros/video/7266240226077494534?q=perro&t=1734359790576'\n",
    "\n",
    "video_4 = 'https://www.tiktok.com/@yourcat0222/video/7226469547300146433?q=gato&t=1734359924996'\n",
    "video_5 = 'https://www.tiktok.com/@brodelsandcat/video/7158894344039091461?q=gato&t=1734359924996'\n",
    "video_6 = 'https://www.tiktok.com/@catsparadise.1/video/7246312711640894746?q=gato&t=1734359924996'\n",
    "video_7 = 'https://www.tiktok.com/@catsparadise.1/video/7246312711640894746?q=gato&t=1734359924996'\n",
    "\n",
    "video_8  = 'https://www.tiktok.com/@amiverse7/video/7438380098811743530?q=navidad&t=1734378876427'\n",
    "video_9  = 'https://www.tiktok.com/@adorabledose/video/7448936136032013600?q=navidad&t=1734378876427'\n",
    "video_10 = 'https://www.tiktok.com/@carlostrump97/video/7313915163093126405?q=navidad&t=1734378876427'\n"
   ]
  },
  {
   "cell_type": "code",
   "execution_count": null,
   "id": "YB9G0yBtizAC",
   "metadata": {
    "id": "YB9G0yBtizAC"
   },
   "outputs": [],
   "source": [
    "# guardar los links en una única lista\n"
   ]
  },
  {
   "cell_type": "markdown",
   "id": "aB1xaQud-zbk",
   "metadata": {
    "id": "aB1xaQud-zbk"
   },
   "source": [
    "## 2 Bucles (loops)"
   ]
  },
  {
   "cell_type": "code",
   "execution_count": null,
   "id": "tptO12VI-0lE",
   "metadata": {
    "id": "tptO12VI-0lE"
   },
   "outputs": [],
   "source": [
    "# Ejercicio 2\n",
    "#  imprimir por índice\n",
    "\n"
   ]
  },
  {
   "cell_type": "code",
   "execution_count": null,
   "id": "TylkY6ON-0nx",
   "metadata": {
    "id": "TylkY6ON-0nx"
   },
   "outputs": [],
   "source": [
    "#  imprimir por elemento de lista"
   ]
  },
  {
   "cell_type": "code",
   "execution_count": null,
   "id": "m7LTHY9W-0qZ",
   "metadata": {
    "id": "m7LTHY9W-0qZ"
   },
   "outputs": [],
   "source": [
    "#   agregar contador\n"
   ]
  },
  {
   "cell_type": "code",
   "execution_count": null,
   "id": "EY0Rbqb6-0s9",
   "metadata": {
    "id": "EY0Rbqb6-0s9"
   },
   "outputs": [],
   "source": [
    "#   agregar creator_ulr"
   ]
  },
  {
   "cell_type": "code",
   "execution_count": null,
   "id": "LQbYW6d5-0v1",
   "metadata": {
    "id": "LQbYW6d5-0v1"
   },
   "outputs": [],
   "source": []
  },
  {
   "cell_type": "markdown",
   "id": "PVajzdcw_Qg0",
   "metadata": {
    "id": "PVajzdcw_Qg0"
   },
   "source": [
    "## 3 Operadores\n",
    "permiten hacer comparaciones para establecer condiciones\n",
    "\n",
    "### 3.1 Operadores de Comparación\n",
    "== , != > , < , >= , <=\n",
    "\n",
    "### 3.2 Operadores Lógicos\n",
    "Permiten incluir múltiples condiciones\n",
    "+ and\n",
    "+ or\n",
    "+ not"
   ]
  },
  {
   "cell_type": "code",
   "execution_count": null,
   "id": "34a1vGAO-0ym",
   "metadata": {
    "id": "34a1vGAO-0ym"
   },
   "outputs": [],
   "source": [
    "# ver resultados de comparaciones en keyowrd\n",
    "# True,  False no son strings !"
   ]
  },
  {
   "cell_type": "code",
   "execution_count": null,
   "id": "wxSnPZj5-01h",
   "metadata": {
    "id": "wxSnPZj5-01h"
   },
   "outputs": [],
   "source": [
    "# ver resultados de comparaciones contador"
   ]
  },
  {
   "cell_type": "code",
   "execution_count": null,
   "id": "SkUN6xOx-041",
   "metadata": {
    "id": "SkUN6xOx-041"
   },
   "outputs": [],
   "source": [
    "# evaluar múltiples condiciones"
   ]
  },
  {
   "cell_type": "markdown",
   "id": "ogfta_D__XRH",
   "metadata": {
    "id": "ogfta_D__XRH"
   },
   "source": [
    "## 4 Sentencias\n",
    "Determinan el flujo a serguir de acuerdo a las condiciones\n",
    "\n",
    "+ if else elif"
   ]
  },
  {
   "cell_type": "code",
   "execution_count": null,
   "id": "-CoTH-bT_Z3S",
   "metadata": {
    "id": "-CoTH-bT_Z3S"
   },
   "outputs": [],
   "source": [
    "# imprimir videos de perros y gatos"
   ]
  },
  {
   "cell_type": "code",
   "execution_count": null,
   "id": "0nF-3-GC_Z5m",
   "metadata": {
    "id": "0nF-3-GC_Z5m"
   },
   "outputs": [],
   "source": [
    "# agregar la etuqieta pet"
   ]
  },
  {
   "cell_type": "code",
   "execution_count": null,
   "id": "9wZu5dx4_Z9X",
   "metadata": {
    "id": "9wZu5dx4_Z9X"
   },
   "outputs": [],
   "source": []
  },
  {
   "cell_type": "code",
   "execution_count": null,
   "id": "FMYNk1M1_aAP",
   "metadata": {
    "id": "FMYNk1M1_aAP"
   },
   "outputs": [],
   "source": []
  },
  {
   "cell_type": "markdown",
   "id": "uMTb9Vw3_i2z",
   "metadata": {
    "id": "uMTb9Vw3_i2z"
   },
   "source": [
    "# Parte 2: Diccionarios y Funciones"
   ]
  },
  {
   "cell_type": "markdown",
   "id": "9180f698",
   "metadata": {
    "id": "9180f698"
   },
   "source": [
    "#### Ejercicio 1: Creación de un Diccionario"
   ]
  },
  {
   "cell_type": "markdown",
   "id": "UOJFee1abV63",
   "metadata": {
    "id": "UOJFee1abV63"
   },
   "source": [
    "Un diccionario en Python es una colección de pares clave: valor. Las claves son únicas y permiten acceder rápidamente a los valores asociados.\n",
    "\n",
    "Crea un diccionario llamado info_persona que contenga la siguiente información:\n",
    "\n",
    "nombre: \"Juan\"\n",
    "edad: 25\n",
    "ciudad: \"México\"\n",
    "\n",
    "Luego, imprime el valor de la clave `nombre` y la clave `ciudad`.\n",
    "\n",
    "**Pista (Hint):**\n",
    "Usa la sintaxis `{}` para crear un diccionario, y accede a un valor utilizando diccionario[clave]."
   ]
  },
  {
   "cell_type": "code",
   "execution_count": null,
   "id": "a93cfdf9-fa4b-4ab8-a09f-e7dc72a772f8",
   "metadata": {
    "id": "a93cfdf9-fa4b-4ab8-a09f-e7dc72a772f8"
   },
   "outputs": [],
   "source": [
    "# Escribe tu código aquí\n",
    "info_persona = {\n",
    "    # Llena el diccionario con los valores correctos\n",
    "}\n",
    "\n",
    "# Imprime las claves 'nombre' y 'ciudad'\n"
   ]
  },
  {
   "cell_type": "markdown",
   "id": "ba8d688a",
   "metadata": {
    "id": "ba8d688a"
   },
   "source": [
    "- [ ] **Check:** ¿Qué sucede si intentas acceder a una clave que no existe en el diccionario? ¿Cómo lo evitarías?"
   ]
  },
  {
   "cell_type": "markdown",
   "id": "9433f0d9",
   "metadata": {
    "id": "9433f0d9"
   },
   "source": [
    "#### Ejercicio 2: Modificar un Diccionario"
   ]
  },
  {
   "cell_type": "markdown",
   "id": "88nRpBj0bX_n",
   "metadata": {
    "id": "88nRpBj0bX_n"
   },
   "source": [
    "Puedes agregar, modificar o eliminar elementos en un diccionario usando las claves.\n",
    "\n",
    "A partir del diccionario info_persona del ejercicio anterior:\n",
    "- Agrega una nueva clave llamada profesion con el valor \"Ingeniero\".\n",
    "- Modifica la edad a 26.\n",
    "- Imprime el diccionario actualizado.\n",
    "\n",
    "**Pista (Hint):**\n",
    "Para agregar o modificar un valor, usa `diccionario[clave] = nuevo_valor`."
   ]
  },
  {
   "cell_type": "code",
   "execution_count": null,
   "id": "739344a9-4481-45f0-aba4-e5909bf8b0e7",
   "metadata": {
    "id": "739344a9-4481-45f0-aba4-e5909bf8b0e7"
   },
   "outputs": [],
   "source": [
    "# Usa el diccionario anterior 'info_persona'\n",
    "\n",
    "# Agrega la clave 'profesion'\n",
    "# Modifica la edad\n",
    "\n",
    "# Imprime el diccionario completo\n"
   ]
  },
  {
   "cell_type": "markdown",
   "id": "0b47a4c1",
   "metadata": {
    "id": "0b47a4c1"
   },
   "source": [
    "- [ ] **Check:** ¿Qué método usarías si quisieras eliminar una clave del diccionario?"
   ]
  },
  {
   "cell_type": "markdown",
   "id": "2ebd9c99",
   "metadata": {
    "id": "2ebd9c99"
   },
   "source": [
    "#### Ejercicio 3: Introducción a Funciones"
   ]
  },
  {
   "cell_type": "markdown",
   "id": "ytFvnkRlbdXl",
   "metadata": {
    "id": "ytFvnkRlbdXl"
   },
   "source": [
    "Las funciones permiten reutilizar código. Se definen con def seguido del nombre de la función y paréntesis `()`.\n",
    "\n",
    "Crea una función llamada `crear_diccionario_person`a que reciba tres parámetros: `nombre`, `edad`, y `ciudad`. La función debe devolver un diccionario con esta información.\n",
    "\n",
    "Llama a la función con los valores:\n",
    "- nombre: \"Ana\"\n",
    "- edad: 30\n",
    "- ciudad: \"Bogotá\"\n",
    "Imprime el diccionario resultante.\n",
    "\n",
    "**Pista (Hint):**\n",
    "Define una función con `def nombre_funcion():` y usa `return` para devolver un valor."
   ]
  },
  {
   "cell_type": "code",
   "execution_count": null,
   "id": "d0746c70-61f8-49c9-82f4-63524989cfba",
   "metadata": {
    "id": "d0746c70-61f8-49c9-82f4-63524989cfba"
   },
   "outputs": [],
   "source": [
    "# Define la función 'crear_diccionario_persona'\n",
    "\n",
    "# Llama a la función con los valores dados\n",
    "# Imprime el resultado\n"
   ]
  },
  {
   "cell_type": "markdown",
   "id": "ffc2d343",
   "metadata": {
    "id": "ffc2d343"
   },
   "source": [
    "- [ ] **Check:** ¿Qué ventaja tiene usar funciones al trabajar con diccionarios?"
   ]
  },
  {
   "cell_type": "markdown",
   "id": "0631446e",
   "metadata": {
    "id": "0631446e"
   },
   "source": [
    "#### Ejercicio 4: Filtrar una Lista"
   ]
  },
  {
   "cell_type": "markdown",
   "id": "7d4xP0PgbgHv",
   "metadata": {
    "id": "7d4xP0PgbgHv"
   },
   "source": [
    "Combina funciones y diccionarios con condicionales para realizar operaciones más complejas.\n",
    "\n",
    "Crea una función llamada `verificar_clav`e que:\n",
    "\n",
    "- Reciba un diccionario y una clave como parámetros.\n",
    "- Verifique si la clave existe en el diccionario:\n",
    "- Si existe, devuelve el valor de la clave.\n",
    "- Si no, devuelve `\"Clave no encontrada\"`.\n",
    "Prueba tu función usando el siguiente diccionario y verifica si la clave `\"edad\"` existe.\n",
    "\n",
    "Pista (Hint)\n",
    "Puedes usar un `if` para verificar si una clave existe en el diccionario con `in`."
   ]
  },
  {
   "cell_type": "code",
   "execution_count": null,
   "id": "bjsSn7UohHo7",
   "metadata": {
    "id": "bjsSn7UohHo7"
   },
   "outputs": [],
   "source": [
    "persona = {\"nombre\": \"Luis\", \"ciudad\": \"Madrid\", \"edad\": 27}"
   ]
  },
  {
   "cell_type": "code",
   "execution_count": null,
   "id": "5fc1a7d9-1112-492b-9492-0d2a89901e3e",
   "metadata": {
    "id": "5fc1a7d9-1112-492b-9492-0d2a89901e3e"
   },
   "outputs": [],
   "source": [
    "# Define la función 'verificar_clave'\n",
    "\n",
    "# Llama a la función con el diccionario 'persona' y la clave 'edad'\n",
    "# Imprime el resultado\n"
   ]
  },
  {
   "cell_type": "markdown",
   "id": "ff73981f",
   "metadata": {
    "id": "ff73981f"
   },
   "source": [
    "- [ ] **Check:** ¿Cómo puedes evitar un error al intentar acceder a una clave que no existe?"
   ]
  },
  {
   "cell_type": "markdown",
   "id": "68b0d0c7",
   "metadata": {
    "id": "68b0d0c7"
   },
   "source": [
    "### Conclusiones"
   ]
  },
  {
   "cell_type": "markdown",
   "id": "xZT7OVZabirL",
   "metadata": {
    "id": "xZT7OVZabirL"
   },
   "source": [
    "Hoy hemos cubierto los conceptos básicos de bucles, condicionales, funciones y exploramos un nuevo tipo de dato: los diccionarios. Los bucles nos permitirán realizar operaciones de recorrido en diferentes tipos de datos, los condicionales nos ayudarán a crear sentencias lógicas en el código y las funciones a automatizar tareas."
   ]
  },
  {
   "cell_type": "markdown",
   "id": "f5becf99",
   "metadata": {
    "id": "f5becf99"
   },
   "source": [
    "### Tarea"
   ]
  },
  {
   "cell_type": "markdown",
   "id": "_HI-qelRc0sU",
   "metadata": {
    "id": "_HI-qelRc0sU"
   },
   "source": [
    "- Practica con más ejercicios de bucles en [w3schools - Python For function](https://www.w3schools.com/python/python_for_loops.asp).\n",
    "- Resuelve algunos ejercicios de If.. Else [HackerRank - Python Conditionals](https://www.w3schools.com/python/python_conditions.asp)."
   ]
  },
  {
   "cell_type": "markdown",
   "id": "7458bda6",
   "metadata": {
    "id": "7458bda6"
   },
   "source": [
    "### Takeaways"
   ]
  },
  {
   "cell_type": "markdown",
   "id": "UiS3KZXVc5Sr",
   "metadata": {
    "id": "UiS3KZXVc5Sr"
   },
   "source": [
    "- Los bucles `while` requieren condiciones bien definidas para evitar ejecuciones infinitas.\n",
    "- Aprender a combinar sentencias `if` con bucles es clave para realizar operaciones de filtrado y transformación en listas."
   ]
  }
 ],
 "metadata": {
  "colab": {
   "provenance": []
  },
  "kernelspec": {
   "display_name": "Python 3 (ipykernel)",
   "language": "python",
   "name": "python3"
  },
  "language_info": {
   "codemirror_mode": {
    "name": "ipython",
    "version": 3
   },
   "file_extension": ".py",
   "mimetype": "text/x-python",
   "name": "python",
   "nbconvert_exporter": "python",
   "pygments_lexer": "ipython3",
   "version": "3.12.7"
  }
 },
 "nbformat": 4,
 "nbformat_minor": 5
}
