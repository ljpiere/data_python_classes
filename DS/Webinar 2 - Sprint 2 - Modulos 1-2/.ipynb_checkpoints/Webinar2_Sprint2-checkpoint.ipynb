{
 "cells": [
  {
   "cell_type": "markdown",
   "id": "37803673",
   "metadata": {},
   "source": [
    "# Sprint 2: Introducción a Listas y Bucles"
   ]
  },
  {
   "cell_type": "markdown",
   "id": "02608763",
   "metadata": {},
   "source": [
    "## Objetivo de la Clase\n",
    "En esta clase, exploraremos los conceptos fundamentales de Python, comenzando con listas y avanzando hacia el uso de bucles y sentencias condicionales. Los estudiantes aprenderán a manipular datos, realizar operaciones iterativas y aplicar lógica condicional, habilidades esenciales para la análisis de datos."
   ]
  },
  {
   "cell_type": "markdown",
   "id": "95efa5e1",
   "metadata": {
    "jp-MarkdownHeadingCollapsed": true
   },
   "source": [
    "### Primer Momento - Sprint 1: Listas\n",
    "\n",
    "- Propiedades básicas de listas\n",
    "- Índices y slices\n",
    "- Modificación de listas\n",
    "- Ordenar listas\n",
    "- Listas anidadas\n",
    "- Procesamiento de strings"
   ]
  },
  {
   "cell_type": "markdown",
   "id": "8ce04147",
   "metadata": {},
   "source": [
    "#### Ejercicio 1: Crear y Modificar Listas\n",
    "1. Crea una lista con los números del 1 al 10. Luego modifica el tercer elemento para que sea el número 100.\n",
    "- **Hint**: Recuerda que los índices empiezan desde cero."
   ]
  },
  {
   "cell_type": "code",
   "execution_count": 19,
   "id": "9fa52379-6262-4cb1-941f-abfba585a11e",
   "metadata": {},
   "outputs": [],
   "source": [
    "# Inicimos el código aquí"
   ]
  },
  {
   "cell_type": "code",
   "execution_count": 1,
   "id": "48d65a02-3b1a-4db2-82fb-631432110ce6",
   "metadata": {},
   "outputs": [],
   "source": [
    "lista = [1,2,3,4,5,6,7,8,9,10] # cual es el indice 10?"
   ]
  },
  {
   "cell_type": "code",
   "execution_count": 3,
   "id": "eaf96788-9244-4dba-91d5-89b077918a69",
   "metadata": {},
   "outputs": [
    {
     "data": {
      "text/plain": [
       "1"
      ]
     },
     "execution_count": 3,
     "metadata": {},
     "output_type": "execute_result"
    }
   ],
   "source": [
    "lista[0]"
   ]
  },
  {
   "cell_type": "code",
   "execution_count": 8,
   "id": "fb43ad6a-c880-4968-b6bc-6a69461f2b3b",
   "metadata": {},
   "outputs": [],
   "source": [
    "lista = [\n",
    "    [1,2,[10,11,12]], #este es el cero\n",
    "    [4,5,6], # este sera el 1\n",
    "    [7,8,9] # este será el 2\n",
    "]"
   ]
  },
  {
   "cell_type": "code",
   "execution_count": 11,
   "id": "27dee5e6-e472-4944-be4e-231be08632c4",
   "metadata": {},
   "outputs": [
    {
     "data": {
      "text/plain": [
       "[10, 11, 12]"
      ]
     },
     "execution_count": 11,
     "metadata": {},
     "output_type": "execute_result"
    }
   ],
   "source": [
    "lista[0][2]"
   ]
  },
  {
   "cell_type": "code",
   "execution_count": null,
   "id": "be638231-d48e-431a-afe3-c64580a8db0a",
   "metadata": {},
   "outputs": [],
   "source": []
  },
  {
   "cell_type": "markdown",
   "id": "7763e300",
   "metadata": {},
   "source": [
    "- [ ] **Check:** ¿Puedes ver cómo se modificó el tercer elemento?"
   ]
  },
  {
   "cell_type": "markdown",
   "id": "3b1d1010",
   "metadata": {},
   "source": [
    "#### Ejercicio 2: Uso de Slices\n",
    "2. Extrae los primeros cinco elementos de la lista.\n",
    "- **Hint**: Utiliza la sintaxis `lista[inicio:fin]` para hacer slices."
   ]
  },
  {
   "cell_type": "code",
   "execution_count": null,
   "id": "9a41ab27-e6bd-436f-af80-f4ec01dc3f75",
   "metadata": {},
   "outputs": [],
   "source": [
    "# Inicimos el código aquí\n"
   ]
  },
  {
   "cell_type": "code",
   "execution_count": 12,
   "id": "d1a974f8-3de9-44a6-a81c-8be6efacbec6",
   "metadata": {},
   "outputs": [],
   "source": [
    "lista=[\"a\",\"b\",\"c\",\"d\",\"f\",\"g\",\"h\",\"i\"]"
   ]
  },
  {
   "cell_type": "code",
   "execution_count": 13,
   "id": "e858dc8c-490e-47fb-ba98-0c7cc4a4bdac",
   "metadata": {},
   "outputs": [
    {
     "name": "stdout",
     "output_type": "stream",
     "text": [
      "['a', 'b', 'c', 'd', 'f', 'g', 'h', 'i']\n"
     ]
    }
   ],
   "source": [
    "print(lista)"
   ]
  },
  {
   "cell_type": "code",
   "execution_count": 16,
   "id": "cbcc9dc3-2c90-4a9d-b0e5-2f1b91b0febf",
   "metadata": {},
   "outputs": [
    {
     "name": "stdout",
     "output_type": "stream",
     "text": [
      "['a', 'b', 'c']\n"
     ]
    }
   ],
   "source": [
    "print(lista[0:3])"
   ]
  },
  {
   "cell_type": "code",
   "execution_count": 27,
   "id": "7aec21f7",
   "metadata": {},
   "outputs": [
    {
     "data": {
      "text/plain": [
       "['b', 'c', 'd', 'f']"
      ]
     },
     "execution_count": 27,
     "metadata": {},
     "output_type": "execute_result"
    }
   ],
   "source": [
    "mi_slice = lista[1:5]\n",
    "mi_slice"
   ]
  },
  {
   "cell_type": "markdown",
   "id": "6bcbe767",
   "metadata": {},
   "source": [
    "- [ ] **Check:** ¿Entiendes cómo funcionan los slices en listas?"
   ]
  },
  {
   "cell_type": "markdown",
   "id": "215b2521",
   "metadata": {},
   "source": [
    "#### Ejercicio 3: Ordenar una Lista\n",
    "3. Crea una lista con valores desordenados y ordénalos en orden ascendente.\n",
    "- **Hint**: Puedes usar el método `.sort()` o la función `sorted()`."
   ]
  },
  {
   "cell_type": "code",
   "execution_count": null,
   "id": "137ec3a5-0d80-4588-b9be-357ca8edb2ae",
   "metadata": {},
   "outputs": [],
   "source": [
    "# Inicimos el código aquí"
   ]
  },
  {
   "cell_type": "code",
   "execution_count": 17,
   "id": "89bd6613-a3ed-4fe4-9307-7218b791ca3b",
   "metadata": {},
   "outputs": [
    {
     "name": "stdout",
     "output_type": "stream",
     "text": [
      "[9, 1, 2, 6, 3, 7]\n"
     ]
    }
   ],
   "source": [
    "lista_desordenada = [9,1,2,6,3,7]\n",
    "print(lista_desordenada)"
   ]
  },
  {
   "cell_type": "code",
   "execution_count": 18,
   "id": "455eb6b5-e331-47fb-8152-7e0a478c2c5d",
   "metadata": {},
   "outputs": [
    {
     "name": "stdout",
     "output_type": "stream",
     "text": [
      "[1, 2, 3, 6, 7, 9]\n"
     ]
    }
   ],
   "source": [
    "lista_desordenada.sort()\n",
    "print(lista_desordenada)"
   ]
  },
  {
   "cell_type": "code",
   "execution_count": 46,
   "id": "f9fc5030-2d0a-43eb-b1c4-83330bca3815",
   "metadata": {},
   "outputs": [
    {
     "name": "stdout",
     "output_type": "stream",
     "text": [
      "[1, 2, 3, 6, 7, 9]\n"
     ]
    }
   ],
   "source": [
    "variable1 = sorted(lista_desordenada)\n",
    "print(lista_desordenada)"
   ]
  },
  {
   "cell_type": "code",
   "execution_count": 44,
   "id": "d36ad999-a61e-4c65-90df-63683a2e2bb6",
   "metadata": {},
   "outputs": [
    {
     "name": "stdout",
     "output_type": "stream",
     "text": [
      "[1, 2, 3, 6, 7, 9]\n"
     ]
    }
   ],
   "source": [
    "# lista_desordenada = [9,1,2,6,3,7]\n",
    "print(lista_desordenada)"
   ]
  },
  {
   "cell_type": "code",
   "execution_count": 49,
   "id": "6ab2e6c8-97a1-4086-83ba-5ab8df162e78",
   "metadata": {},
   "outputs": [],
   "source": [
    "lista_desordenada.sort(reverse=True)"
   ]
  },
  {
   "cell_type": "code",
   "execution_count": 51,
   "id": "cac39310-a134-4395-8b3d-a0f5291a7219",
   "metadata": {},
   "outputs": [
    {
     "name": "stdout",
     "output_type": "stream",
     "text": [
      "[9, 7, 6, 3, 2, 1]\n"
     ]
    }
   ],
   "source": [
    "print(lista_desordenada)"
   ]
  },
  {
   "cell_type": "code",
   "execution_count": null,
   "id": "fb710d84",
   "metadata": {},
   "outputs": [],
   "source": [
    "lista_desordenada = [5, 3, 8, 1, 2]\n",
    "lista_ordenada = sorted(lista_desordenada)\n",
    "lista_ordenada"
   ]
  },
  {
   "cell_type": "markdown",
   "id": "8de1ccb2",
   "metadata": {},
   "source": [
    "- [ ] **Check:** ¿Puedes ver cómo la lista ahora está ordenada?"
   ]
  },
  {
   "cell_type": "markdown",
   "id": "ba17eb45",
   "metadata": {},
   "source": [
    "#### Ejercicio 4: Listas Anidadas\n",
    "4. Crea una lista que contenga otras dos listas, cada una con tres elementos. Luego, accede al segundo elemento de la segunda lista.\n",
    "- **Hint**: Utiliza dobles corchetes para acceder a listas anidadas."
   ]
  },
  {
   "cell_type": "code",
   "execution_count": null,
   "id": "fb98db8d-e108-4b21-9353-ba707adcab1e",
   "metadata": {},
   "outputs": [],
   "source": [
    "# Inicimos el código aquí\n"
   ]
  },
  {
   "cell_type": "code",
   "execution_count": 59,
   "id": "d7c6c3a4-4cdf-4423-adb6-72bbdfdc9410",
   "metadata": {},
   "outputs": [],
   "source": [
    "lista_anidada = [\n",
    "                    [1,2,3],\n",
    "                    [4,5,6]\n",
    "                ]"
   ]
  },
  {
   "cell_type": "code",
   "execution_count": 61,
   "id": "bc81e420-0395-4352-97d4-6bd9249cc40f",
   "metadata": {},
   "outputs": [
    {
     "name": "stdout",
     "output_type": "stream",
     "text": [
      "5\n"
     ]
    }
   ],
   "source": [
    "v2= lista_anidada[1][1]\n",
    "print(v2)"
   ]
  },
  {
   "cell_type": "code",
   "execution_count": 62,
   "id": "f3bbb34c-de44-4a44-92ea-95c47df23089",
   "metadata": {},
   "outputs": [
    {
     "name": "stdout",
     "output_type": "stream",
     "text": [
      "5\n"
     ]
    }
   ],
   "source": [
    "print(lista_anidada[1][1])"
   ]
  },
  {
   "cell_type": "code",
   "execution_count": null,
   "id": "8479c6da-ed8e-4d73-84a7-a1eb7c9730c9",
   "metadata": {},
   "outputs": [],
   "source": []
  },
  {
   "cell_type": "code",
   "execution_count": null,
   "id": "5340c5d8-c493-4a61-a169-617f005a7c67",
   "metadata": {},
   "outputs": [],
   "source": []
  },
  {
   "cell_type": "code",
   "execution_count": null,
   "id": "4d064673-5e42-4c84-99b4-bd83029c22f0",
   "metadata": {},
   "outputs": [],
   "source": []
  },
  {
   "cell_type": "code",
   "execution_count": null,
   "id": "bbcdeb68-5aae-4e3f-bf12-c354f37fbc6d",
   "metadata": {},
   "outputs": [],
   "source": []
  },
  {
   "cell_type": "code",
   "execution_count": null,
   "id": "ca30112d",
   "metadata": {},
   "outputs": [],
   "source": [
    "lista_anidada = [[1, 2, 3], [4, 5, 6]]\n",
    "elemento = lista_anidada[1][1]\n",
    "elemento"
   ]
  },
  {
   "cell_type": "markdown",
   "id": "2a482a0a",
   "metadata": {},
   "source": [
    "- [ ] **Check:** ¿Puedes acceder correctamente al elemento de una lista anidada?"
   ]
  },
  {
   "cell_type": "markdown",
   "id": "95b47190",
   "metadata": {},
   "source": [
    "#### Ejercicio 5: Procesamiento de Strings\n",
    "5. Crea una lista de palabras y conviértelas todas a mayúsculas.\n",
    "- **Hint**: Recuerdas Upper? Creo que no serpa tan sencillo usarlo aquí.\n",
    "- **Hint**: Puedes probar editando los elementos uno a uno si quieres.\n",
    "- **Hint**: Podemos usar un bucle o una comprensión de listas para aplicar `.upper()` a cada palabra."
   ]
  },
  {
   "cell_type": "code",
   "execution_count": null,
   "id": "9402ba3b-e257-4617-a3fd-20b514dfa1fd",
   "metadata": {},
   "outputs": [],
   "source": [
    "# Inicimos el código aquí\n"
   ]
  },
  {
   "cell_type": "code",
   "execution_count": 2,
   "id": "a771912a-4e65-4c9d-911d-953ff10814b6",
   "metadata": {},
   "outputs": [
    {
     "data": {
      "text/plain": [
       "['DATA', 'ANALYTICS', 'PYTHON']"
      ]
     },
     "execution_count": 2,
     "metadata": {},
     "output_type": "execute_result"
    }
   ],
   "source": [
    "palabras = [\"data\", \"analytics\", \"python\"]\n",
    "\n",
    "palabras_mayusculas = []\n",
    "\n",
    "for palabra in palabras:\n",
    "    palabras_mayusculas.append(palabra.upper())\n",
    "\n",
    "palabras_mayusculas"
   ]
  },
  {
   "cell_type": "code",
   "execution_count": 8,
   "id": "5ae7471a-1eaf-4eeb-a5da-1c3d99b27a72",
   "metadata": {},
   "outputs": [],
   "source": [
    "palabras = [\"data\", \"analytics\", \"python\"]\n",
    "palabras_mayusculas = []\n",
    "\n",
    "for palabra in palabras:\n",
    "    mayuscula = palabra.upper()\n",
    "    palabras_mayusculas.append(mayuscula)"
   ]
  },
  {
   "cell_type": "code",
   "execution_count": 9,
   "id": "a6d8d0e1-efa1-43cf-9e8b-26360951909c",
   "metadata": {},
   "outputs": [
    {
     "data": {
      "text/plain": [
       "['DATA', 'ANALYTICS', 'PYTHON']"
      ]
     },
     "execution_count": 9,
     "metadata": {},
     "output_type": "execute_result"
    }
   ],
   "source": [
    "palabras_mayusculas"
   ]
  },
  {
   "cell_type": "markdown",
   "id": "d6e6c326",
   "metadata": {},
   "source": [
    "- [ ] **Check:** ¿Pudiste convertir todas las palabras a mayúsculas?"
   ]
  },
  {
   "cell_type": "markdown",
   "id": "70d5db7e",
   "metadata": {},
   "source": [
    "### Segundo Momento - Introducción al Sprint 2: Bucles y Sentencias Condicionales\n",
    "\n",
    "- Bucles for y while\n",
    "- Sentencias condicionales if, else, elif\n",
    "- Modificación y filtrado de listas"
   ]
  },
  {
   "cell_type": "markdown",
   "id": "13931e64-d0a1-40fc-8b67-cacedae6a476",
   "metadata": {},
   "source": [
    "- [ ] **Check:** ¿Entiendes el concepto de if/else?, y, ¿qué hay del for?"
   ]
  },
  {
   "cell_type": "code",
   "execution_count": 19,
   "id": "bce41752-9205-4eb9-9cff-bbf4555b8dd4",
   "metadata": {},
   "outputs": [],
   "source": [
    "letras = ['a','b','c','d']"
   ]
  },
  {
   "cell_type": "code",
   "execution_count": 21,
   "id": "8fdd2bba-1a55-48c2-b1d7-d0f31f980a69",
   "metadata": {},
   "outputs": [
    {
     "name": "stdout",
     "output_type": "stream",
     "text": [
      "a\n",
      "b\n",
      "c\n",
      "d\n"
     ]
    }
   ],
   "source": [
    "for letra in letras:\n",
    "    print(letra)\n"
   ]
  },
  {
   "cell_type": "code",
   "execution_count": 23,
   "id": "c4a6a731-53d1-4436-abf4-9527084f191b",
   "metadata": {},
   "outputs": [],
   "source": [
    "numeros = [1, 2 ,3 ,4 ,5 ,6]"
   ]
  },
  {
   "cell_type": "code",
   "execution_count": 24,
   "id": "5eb3da69-ebb7-431c-9b1b-389359d31522",
   "metadata": {},
   "outputs": [
    {
     "name": "stdout",
     "output_type": "stream",
     "text": [
      "1\n",
      "2\n",
      "3\n",
      "4\n",
      "5\n",
      "6\n"
     ]
    }
   ],
   "source": [
    "for numero in numeros:\n",
    "    print(numero)"
   ]
  },
  {
   "cell_type": "code",
   "execution_count": 76,
   "id": "7e1dab52-a398-4e1e-88d1-39188c33d2ed",
   "metadata": {},
   "outputs": [],
   "source": [
    "a = 1"
   ]
  },
  {
   "cell_type": "markdown",
   "id": "9180f698",
   "metadata": {},
   "source": [
    "#### Ejercicio 1: Bucles For\n",
    "1. Utiliza un bucle `for` para imprimir los elementos de la lista `mi_lista` que sean mayores a 5.\n",
    "- **Hint**: Utiliza una sentencia `if` dentro del bucle para verificar el valor de cada elemento."
   ]
  },
  {
   "cell_type": "code",
   "execution_count": null,
   "id": "a93cfdf9-fa4b-4ab8-a09f-e7dc72a772f8",
   "metadata": {},
   "outputs": [],
   "source": [
    "# Inicimos el código aquí\n"
   ]
  },
  {
   "cell_type": "code",
   "execution_count": 25,
   "id": "e5ce4f7a-5044-40b4-8579-569a8e52a914",
   "metadata": {},
   "outputs": [],
   "source": [
    "mi_lista = [1,6,5,7,9,0,11,8]"
   ]
  },
  {
   "cell_type": "code",
   "execution_count": 26,
   "id": "b62da316-5629-4494-bd78-bd6d3ba6c32f",
   "metadata": {},
   "outputs": [
    {
     "name": "stdout",
     "output_type": "stream",
     "text": [
      "False\n",
      "True\n",
      "False\n",
      "True\n",
      "True\n",
      "False\n",
      "True\n",
      "True\n"
     ]
    }
   ],
   "source": [
    "for x in mi_lista:\n",
    "    print(x>5)"
   ]
  },
  {
   "cell_type": "code",
   "execution_count": 30,
   "id": "5dcf2e39-ec46-45b3-b819-ee87d9acc00e",
   "metadata": {},
   "outputs": [],
   "source": [
    "mi_lista = [1,6,5,7,9,0,11,4]"
   ]
  },
  {
   "cell_type": "code",
   "execution_count": 36,
   "id": "de6908fc-09d1-4b00-8943-762b9e6be748",
   "metadata": {},
   "outputs": [
    {
     "name": "stdout",
     "output_type": "stream",
     "text": [
      "1 No es ni 5 ni 4\n",
      "6 No es ni 5 ni 4\n",
      "5 : es 5\n",
      "7 No es ni 5 ni 4\n",
      "9 No es ni 5 ni 4\n",
      "0 No es ni 5 ni 4\n",
      "11 No es ni 5 ni 4\n",
      "4 : es 4\n"
     ]
    }
   ],
   "source": [
    "for x in mi_lista:\n",
    "    if x == 5:\n",
    "        print(x, \": es 5\")\n",
    "    elif x == 4:\n",
    "        print(x, \": es 4\")\n",
    "    else:\n",
    "        print(x, \"No es ni 5 ni 4\")"
   ]
  },
  {
   "cell_type": "code",
   "execution_count": 85,
   "id": "fe37c5eb-e3f4-4803-9a8a-ce1ddb98f08e",
   "metadata": {},
   "outputs": [
    {
     "name": "stdout",
     "output_type": "stream",
     "text": [
      "[1, 6, 5, 7, 9, 0, 11, 8]\n"
     ]
    }
   ],
   "source": [
    "print(mi_lista)"
   ]
  },
  {
   "cell_type": "code",
   "execution_count": null,
   "id": "044ed82e",
   "metadata": {},
   "outputs": [],
   "source": [
    "for elemento in mi_lista:\n",
    "    if elemento > 5:\n",
    "        print(elemento)"
   ]
  },
  {
   "cell_type": "code",
   "execution_count": 84,
   "id": "84e7db15-c8b6-4987-b656-59793b5ec8eb",
   "metadata": {},
   "outputs": [
    {
     "name": "stdout",
     "output_type": "stream",
     "text": [
      "1\n",
      "6\n",
      "5\n",
      "7\n",
      "9\n",
      "0\n",
      "11\n",
      "8\n"
     ]
    }
   ],
   "source": [
    "for x in mi_lista:\n",
    "    print(x)"
   ]
  },
  {
   "cell_type": "markdown",
   "id": "ba8d688a",
   "metadata": {},
   "source": [
    "- [ ] **Check:** ¿Pudiste imprimir solo los elementos mayores a 5?"
   ]
  },
  {
   "cell_type": "markdown",
   "id": "9433f0d9",
   "metadata": {},
   "source": [
    "#### Ejercicio 2: Bucles While\n",
    "2. Utiliza un bucle `while` para reducir un valor numérico hasta llegar a 0.\n",
    "- [ ] **Check:** ¿Entiendes el concepto de while?\n",
    "- **Hint**: Asegúrate de reducir el valor en cada iteración para evitar un bucle infinito."
   ]
  },
  {
   "cell_type": "code",
   "execution_count": null,
   "id": "739344a9-4481-45f0-aba4-e5909bf8b0e7",
   "metadata": {},
   "outputs": [],
   "source": [
    "# Inicimos el código aquí\n"
   ]
  },
  {
   "cell_type": "code",
   "execution_count": 1,
   "id": "93cd8557-813f-4619-a20c-3ed2860b5e8b",
   "metadata": {},
   "outputs": [
    {
     "name": "stdout",
     "output_type": "stream",
     "text": [
      "10\n",
      "9\n",
      "8\n",
      "7\n",
      "6\n",
      "5\n",
      "4\n",
      "3\n",
      "2\n",
      "1\n"
     ]
    }
   ],
   "source": [
    "paso = 10 \n",
    "\n",
    "while paso > 0: # La condición\n",
    "    print(paso)\n",
    "    paso -= 1"
   ]
  },
  {
   "cell_type": "markdown",
   "id": "0b47a4c1",
   "metadata": {},
   "source": [
    "- [ ] **Check:** ¿Entiendes cómo se controla la ejecución de un bucle `while`?"
   ]
  },
  {
   "cell_type": "markdown",
   "id": "2ebd9c99",
   "metadata": {},
   "source": [
    "#### Ejercicio 3: Sentencias Condicionales\n",
    "3. Crea una lista de edades y utiliza un bucle para imprimir si cada persona es mayor o menor de edad.\n",
    "- **Hint**: Utiliza `if` y `else` para cada elemento de la lista."
   ]
  },
  {
   "cell_type": "code",
   "execution_count": null,
   "id": "d0746c70-61f8-49c9-82f4-63524989cfba",
   "metadata": {},
   "outputs": [],
   "source": [
    "# Inicimos el código aquí\n"
   ]
  },
  {
   "cell_type": "code",
   "execution_count": 3,
   "id": "8a03d99b",
   "metadata": {},
   "outputs": [
    {
     "name": "stdout",
     "output_type": "stream",
     "text": [
      "12: Menor de edad\n",
      "18: Mayor de edad\n",
      "25: Mayor de edad\n",
      "14: Menor de edad\n",
      "30: Mayor de edad\n",
      "xd: No es un dato numérico\n"
     ]
    }
   ],
   "source": [
    "edades = [12, 18, 25, 14, 30, 'xd']\n",
    "\n",
    "for edad in edades:\n",
    "    try:\n",
    "        if edad >= 18:\n",
    "            print(f\"{edad}: Mayor de edad\")\n",
    "        else:\n",
    "            print(f\"{edad}: Menor de edad\")\n",
    "    except:\n",
    "        print(f\"{edad}: No es un dato numérico\")"
   ]
  },
  {
   "cell_type": "markdown",
   "id": "ffc2d343",
   "metadata": {},
   "source": [
    "- [ ] **Check:** ¿Pudiste clasificar correctamente cada edad?"
   ]
  },
  {
   "cell_type": "markdown",
   "id": "0631446e",
   "metadata": {},
   "source": [
    "#### Ejercicio 4: Filtrar una Lista\n",
    "4. Filtra los números pares de una lista utilizando un bucle.\n",
    "- **Hint**: Utiliza el operador de módulo `%` para verificar si un número es par."
   ]
  },
  {
   "cell_type": "code",
   "execution_count": null,
   "id": "5fc1a7d9-1112-492b-9492-0d2a89901e3e",
   "metadata": {},
   "outputs": [],
   "source": [
    "# Inicimos el código aquí\n"
   ]
  },
  {
   "cell_type": "code",
   "execution_count": null,
   "id": "13690f9f-57fc-43cc-8590-32326a8c5806",
   "metadata": {},
   "outputs": [],
   "source": []
  },
  {
   "cell_type": "code",
   "execution_count": null,
   "id": "5502ef1b",
   "metadata": {},
   "outputs": [],
   "source": [
    "numeros = [1, 2, 3, 4, 5, 6, 7, 8]\n",
    "numeros_pares = [num for num in numeros if num % 2 == 0]\n",
    "numeros_pares"
   ]
  },
  {
   "cell_type": "markdown",
   "id": "ff73981f",
   "metadata": {},
   "source": [
    "- [ ] **Check:** ¿Pudiste filtrar solo los números pares?"
   ]
  },
  {
   "cell_type": "code",
   "execution_count": null,
   "id": "0442c76e-8117-4674-9d94-72d5a8e2f2eb",
   "metadata": {},
   "outputs": [],
   "source": []
  },
  {
   "cell_type": "markdown",
   "id": "c1c1faf3-fa73-4de8-9d70-19136fb09537",
   "metadata": {},
   "source": [
    "#### Ejercicio 5: Crear una Función Suma\n",
    "4. Escribe una función llamada suma que reciba dos números como parámetros y devuelva su suma.\n",
    "- **Hint**: Usa la palabra clave def para definir la función."
   ]
  },
  {
   "cell_type": "code",
   "execution_count": null,
   "id": "5d0be635-c4cf-4e2a-a512-ac8ca76819c7",
   "metadata": {},
   "outputs": [],
   "source": [
    "# Inicimos el código aquí\n"
   ]
  },
  {
   "cell_type": "code",
   "execution_count": null,
   "id": "625b45be-7c81-4943-85d9-2e8fd6744bcf",
   "metadata": {},
   "outputs": [],
   "source": []
  },
  {
   "cell_type": "code",
   "execution_count": null,
   "id": "89fa28df-ecbd-4f87-acf8-99ec8a85423b",
   "metadata": {},
   "outputs": [],
   "source": [
    "# Iniciemos el código aquí\n",
    "\n",
    "def suma(a, b):\n",
    "    return a + b\n",
    "\n",
    "# Prueba la función con ejemplos\n",
    "resultado = suma(3, 5)\n",
    "resultado\n"
   ]
  },
  {
   "cell_type": "markdown",
   "id": "70b2476b-790e-44c4-ab2b-88d3e4cda9e4",
   "metadata": {},
   "source": [
    "- [ ] **Check:** ¿La función devuelve la suma correcta?"
   ]
  },
  {
   "cell_type": "markdown",
   "id": "b3190d6e-e40d-462c-b091-faa04c496f52",
   "metadata": {},
   "source": [
    "#### Ejercicio 4: Filtrar una Lista\n",
    "4. Filtra los números pares de una lista utilizando un bucle.\n",
    "- **Hint**: Utiliza el operador de módulo `%` para verificar si un número es par."
   ]
  },
  {
   "cell_type": "code",
   "execution_count": null,
   "id": "8e115968-8b0a-4f78-8c40-10cc7c540d1c",
   "metadata": {},
   "outputs": [],
   "source": [
    "# Inicimos el código aquí\n"
   ]
  },
  {
   "cell_type": "code",
   "execution_count": null,
   "id": "0ce4e650-6fc5-4bb5-a84b-e0779a250388",
   "metadata": {},
   "outputs": [],
   "source": []
  },
  {
   "cell_type": "code",
   "execution_count": 10,
   "id": "cd2e4d6c-ef10-4042-b786-c63addf11807",
   "metadata": {},
   "outputs": [
    {
     "data": {
      "text/plain": [
       "[2, 4, 6, 8]"
      ]
     },
     "execution_count": 10,
     "metadata": {},
     "output_type": "execute_result"
    }
   ],
   "source": [
    "numeros = [1, 2, 3, 4, 5, 6, 7, 8]\n",
    "\n",
    "numeros_pares = []\n",
    "\n",
    "for num in numeros:\n",
    "    if num%2 == 0:\n",
    "        numeros_pares.append(num)\n",
    "\n",
    "numeros_pares"
   ]
  },
  {
   "cell_type": "code",
   "execution_count": null,
   "id": "e42579bc-3b93-45a1-9442-4a359ab2a92f",
   "metadata": {},
   "outputs": [],
   "source": [
    "numeros_pares = [num for num in numeros if num % 2 == 0]\n",
    "numeros_pares"
   ]
  },
  {
   "cell_type": "markdown",
   "id": "e83d1592-84af-4a20-83e9-ac4c393b36d0",
   "metadata": {},
   "source": [
    "- [ ] **Check:** ¿Pudiste filtrar solo los números pares?"
   ]
  },
  {
   "cell_type": "code",
   "execution_count": 12,
   "id": "3ffe9a28-750d-416a-bcec-6023c51c852a",
   "metadata": {},
   "outputs": [
    {
     "name": "stdout",
     "output_type": "stream",
     "text": [
      "Ingresos totales después de descuentos y tasas: 2332.4005\n",
      "Valor de pedido único más alto: 849.966\n"
     ]
    }
   ],
   "source": [
    "# Lista anidada de pedidos: [precio, cantidad, descuento]\n",
    "orders = [\n",
    "    [199.99, 2, 0.10],  # 10% de descuento\n",
    "    [349.99, 1, 0.05],  # 5% de descuento\n",
    "    [129.99, 3, 0.00],  # Sin descuento\n",
    "    [499.99, 1, 0.20],  # 20% de descuento\n",
    "    [249.99, 4, 0.15],  # 15% de descuento\n",
    "]\n",
    "# Inicializa las variables\n",
    "total_revenue = 0\n",
    "highest_order_value = 0\n",
    "totales = []\n",
    "\n",
    "# Recorre los pedidos\n",
    "for order in orders:\n",
    "    precio = order[0]\n",
    "    cantidad = order[1]\n",
    "    descuento = order[2]\n",
    "\n",
    "    total = precio*cantidad*(1-descuento)\n",
    "    totales.append(total)\n",
    "\n",
    "total_revenue = sum(totales)\n",
    "highest_order_value = max(totales)\n",
    "\n",
    "print(\"Ingresos totales después de descuentos y tasas:\", total_revenue) # Salida: Ingresos totales después de descuentos y tasas: 2332.4005\n",
    "print(\"Valor de pedido único más alto:\", highest_order_value)  # Salida: Valor de pedido único más alto: 849.966\n"
   ]
  },
  {
   "cell_type": "code",
   "execution_count": null,
   "id": "c589d98e-b09b-4daf-99fe-3486bb89518f",
   "metadata": {},
   "outputs": [],
   "source": []
  },
  {
   "cell_type": "code",
   "execution_count": null,
   "id": "57db03c4-790c-4c50-a8fb-ce8a1badbcfe",
   "metadata": {},
   "outputs": [],
   "source": []
  },
  {
   "cell_type": "code",
   "execution_count": null,
   "id": "644dc996-1ea2-4b3a-8f00-9204171f0153",
   "metadata": {},
   "outputs": [],
   "source": []
  },
  {
   "cell_type": "code",
   "execution_count": null,
   "id": "f54ca393-557a-49e5-931e-af712fc4ef52",
   "metadata": {},
   "outputs": [],
   "source": []
  },
  {
   "cell_type": "markdown",
   "id": "68b0d0c7",
   "metadata": {},
   "source": [
    "### Conclusiones\n",
    "Hoy hemos cubierto los conceptos básicos de listas, bucles y sentencias condicionales, que son herramientas fundamentales para el análisis de datos. Asegúrate de practicar estos conceptos para afianzarlos."
   ]
  },
  {
   "cell_type": "markdown",
   "id": "f5becf99",
   "metadata": {},
   "source": [
    "### Tarea\n",
    "- Practica con más ejercicios de listas y bucles en [w3schools - Python Lists](https://www.w3schools.com/python/python_lists.asp).\n",
    "- Resuelve algunos ejercicios de bucles en [HackerRank - Python Loops](https://www.hackerrank.com/domains/tutorials/10-days-of-python)."
   ]
  },
  {
   "cell_type": "markdown",
   "id": "7458bda6",
   "metadata": {},
   "source": [
    "### Takeaways\n",
    "- Utilizar `list comprehensions` es una forma eficiente y elegante de procesar listas.\n",
    "- Los bucles `while` requieren condiciones bien definidas para evitar ejecuciones infinitas.\n",
    "- Aprender a combinar sentencias `if` con bucles es clave para realizar operaciones de filtrado y transformación en listas."
   ]
  }
 ],
 "metadata": {
  "kernelspec": {
   "display_name": "Python 3 (ipykernel)",
   "language": "python",
   "name": "python3"
  },
  "language_info": {
   "codemirror_mode": {
    "name": "ipython",
    "version": 3
   },
   "file_extension": ".py",
   "mimetype": "text/x-python",
   "name": "python",
   "nbconvert_exporter": "python",
   "pygments_lexer": "ipython3",
   "version": "3.12.7"
  }
 },
 "nbformat": 4,
 "nbformat_minor": 5
}
