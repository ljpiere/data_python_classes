{
 "cells": [
  {
   "cell_type": "markdown",
   "id": "08833d8d-dccb-4570-a473-c6308cc1329d",
   "metadata": {},
   "source": [
    "# Sprint 2: Preparación para el proyecto"
   ]
  },
  {
   "cell_type": "markdown",
   "id": "c2165158-9c6f-4ae1-8af0-b79ebf3b6b07",
   "metadata": {},
   "source": [
    "## Objetivos"
   ]
  },
  {
   "cell_type": "markdown",
   "id": "033a7db1-82d9-4184-9cd4-efc07853af95",
   "metadata": {},
   "source": [
    "Dar una exploración a ejercicios que nos permitan enfrentarnos al proyecto."
   ]
  },
  {
   "cell_type": "markdown",
   "id": "f66c07d1-12ba-40be-8cb0-2f02a09d59ce",
   "metadata": {},
   "source": [
    "## Sprint 2: Proyecto"
   ]
  },
  {
   "cell_type": "markdown",
   "id": "1b4dcda8-0691-4bfa-b8e0-d7412bc97828",
   "metadata": {},
   "source": [
    "### Ejercicio 1: Limpieza de datos"
   ]
  },
  {
   "cell_type": "markdown",
   "id": "1df74273-2b2f-47cf-832f-703873212647",
   "metadata": {},
   "source": [
    "Dado un registro de usuarios, escribe una función para limpiar los datos:\n",
    "- Convierte los nombres a minúsculas y reemplaza espacios o guiones bajos por espacios.\n",
    "- Convierte las edades a enteros.\n",
    "- Devuelve una lista con la información limpia."
   ]
  },
  {
   "cell_type": "code",
   "execution_count": 10,
   "id": "3aca0815-0bc1-417f-a4d0-c29f800e6584",
   "metadata": {},
   "outputs": [],
   "source": [
    "# Lista de usuarios (ID, Nombre, Edad)\n",
    "usuarios = [\n",
    "    [\"001\", \" Ana_Pérez \", \" 34\"],\n",
    "    [\"002\", \"Luis_Martínez\", \"28\"],\n",
    "    [\"003\", \" Sofía-González \", \"40\"],\n",
    "]"
   ]
  },
  {
   "cell_type": "code",
   "execution_count": 11,
   "id": "514779b1-0047-46b8-947a-82828869c8fb",
   "metadata": {},
   "outputs": [],
   "source": [
    "def limpiar_usuario(usuarios, indice_nombre, indice_edad):\n",
    "    usuarios_limpios = []\n",
    "    for usuario in usuarios:\n",
    "        nombre_limpio = usuario[indice_nombre].lower().strip().replace(\"_\", \" \").replace(\"-\", \" \")\n",
    "        edad_limpia = int(usuario[indice_edad])\n",
    "        usuario.pop(indice_nombre)\n",
    "        usuario.insert(indice_nombre, nombre_limpio)\n",
    "        usuario.pop(indice_edad)\n",
    "        usuario.insert(indice_edad, edad_limpia)\n",
    "        \n",
    "        usuarios_limpios.append(usuario)\n",
    "    \n",
    "    return usuarios_limpios"
   ]
  },
  {
   "cell_type": "code",
   "execution_count": 12,
   "id": "8c36b0c0-4a8c-4de1-af31-f08ee1045318",
   "metadata": {},
   "outputs": [
    {
     "data": {
      "text/plain": [
       "[['001', 'ana pérez', 34],\n",
       " ['002', 'luis martínez', 28],\n",
       " ['003', 'sofía gonzález', 40]]"
      ]
     },
     "execution_count": 12,
     "metadata": {},
     "output_type": "execute_result"
    }
   ],
   "source": [
    "limpiar_usuario(usuarios, 1, 2)"
   ]
  },
  {
   "cell_type": "code",
   "execution_count": 13,
   "id": "46f9ec67-2544-4694-8f8a-5e8e60f765e3",
   "metadata": {},
   "outputs": [
    {
     "data": {
      "text/plain": [
       "[['001', 'ana pérez', 34],\n",
       " ['002', 'luis martínez', 28],\n",
       " ['003', 'sofía gonzález', 40]]"
      ]
     },
     "execution_count": 13,
     "metadata": {},
     "output_type": "execute_result"
    }
   ],
   "source": [
    "# Lista de usuarios (ID, Nombre, Edad)\n",
    "usuarios = [\n",
    "    [\"001\", \" Ana_Pérez \", \" 34\"],\n",
    "    [\"002\", \"Luis_Martínez\", \"28\"],\n",
    "    [\"003\", \" Sofía-González \", \"40\"],\n",
    "]\n",
    "\n",
    "def limpiar_usuario(usuarios, indice_nombre, indice_edad):\n",
    "    usuarios_limpios = []\n",
    "    for usuario in usuarios:\n",
    "        nombre_limpio = usuario[indice_nombre].lower().strip().replace(\"_\", \" \").replace(\"-\", \" \")\n",
    "        edad_limpia = int(usuario[indice_edad])\n",
    "        \n",
    "        usuario[indice_nombre] = nombre_limpio\n",
    "        usuario[indice_edad] = edad_limpia\n",
    "        \n",
    "        usuarios_limpios.append(usuario)\n",
    "    \n",
    "    return usuarios_limpios\n",
    "limpiar_usuario(usuarios, 1, 2)"
   ]
  },
  {
   "cell_type": "markdown",
   "id": "154dc0c3-ad2c-4419-b109-27939b48cadc",
   "metadata": {
    "jp-MarkdownHeadingCollapsed": true
   },
   "source": [
    "### Ejercicio 2: Cálculo de ingresos"
   ]
  },
  {
   "cell_type": "markdown",
   "id": "eb55ea4d-ee12-437c-b6e8-1d559d63268a",
   "metadata": {},
   "source": [
    "Dada una lista de usuarios con sus gastos, calcula el ingreso total de la empresa."
   ]
  },
  {
   "cell_type": "code",
   "execution_count": 1,
   "id": "ea9f27a6-bf3d-40fb-b297-c17d89c9ad83",
   "metadata": {},
   "outputs": [],
   "source": [
    "# que es una lista anidada\n",
    "# sabemos que en una posicion, hay otra lista\n",
    "# y que en esa sub-lista, estan los gastos que tenemos que sumar"
   ]
  },
  {
   "cell_type": "code",
   "execution_count": 23,
   "id": "f42ebfae-6888-40a1-8ff0-2d1fe98b5df3",
   "metadata": {},
   "outputs": [],
   "source": [
    "usuarios_gastos = [\n",
    "    [\"001\", \"Ana Pérez\", [200, 150, 100]],\n",
    "    [\"002\", \"Luis Martínez\", [300, 200]],\n",
    "    [\"003\", \"Sofía González\", [400, 500, 300]]\n",
    "]"
   ]
  },
  {
   "cell_type": "code",
   "execution_count": 43,
   "id": "aeae1985-8faa-425c-8dea-75f6d27ed7af",
   "metadata": {},
   "outputs": [],
   "source": [
    "def sumar_gastos_de_usuarios(lista_principal, indice_gastos):\n",
    "    gasto_individual = 0\n",
    "    gasto_total = 0\n",
    "    for usuario in lista_principal:\n",
    "        gasto_individual = sum(usuario[indice_gastos])\n",
    "        gasto_total += gasto_individual\n",
    "    return gasto_total"
   ]
  },
  {
   "cell_type": "code",
   "execution_count": 52,
   "id": "fef8ea5b-7599-441f-8f6d-b248690f81ff",
   "metadata": {},
   "outputs": [],
   "source": [
    "columna_gastos = 1"
   ]
  },
  {
   "cell_type": "code",
   "execution_count": 48,
   "id": "45313e5a-c58d-44cc-98b5-71c5eb13d246",
   "metadata": {},
   "outputs": [
    {
     "data": {
      "text/plain": [
       "2150"
      ]
     },
     "execution_count": 48,
     "metadata": {},
     "output_type": "execute_result"
    }
   ],
   "source": [
    "sumar_gastos_de_usuarios(usuarios_gastos, columna_gastos)"
   ]
  },
  {
   "cell_type": "code",
   "execution_count": 49,
   "id": "b188b7af-f29d-4aab-aa78-1596b6819664",
   "metadata": {},
   "outputs": [
    {
     "data": {
      "text/plain": [
       "2150"
      ]
     },
     "execution_count": 49,
     "metadata": {},
     "output_type": "execute_result"
    }
   ],
   "source": [
    "sumar_gastos_de_usuarios(usuarios_gastos, columna_gastos)"
   ]
  },
  {
   "cell_type": "code",
   "execution_count": 50,
   "id": "45c1eb21-292d-4178-905b-6726ec789886",
   "metadata": {},
   "outputs": [
    {
     "data": {
      "text/plain": [
       "2150"
      ]
     },
     "execution_count": 50,
     "metadata": {},
     "output_type": "execute_result"
    }
   ],
   "source": [
    "sumar_gastos_de_usuarios(usuarios_gastos, columna_gastos)"
   ]
  },
  {
   "cell_type": "code",
   "execution_count": 51,
   "id": "f82543f7-d896-4a13-ae06-8e91dc8388a6",
   "metadata": {},
   "outputs": [
    {
     "data": {
      "text/plain": [
       "2150"
      ]
     },
     "execution_count": 51,
     "metadata": {},
     "output_type": "execute_result"
    }
   ],
   "source": [
    "sumar_gastos_de_usuarios(usuarios_gastos, columna_gastos)"
   ]
  },
  {
   "cell_type": "markdown",
   "id": "cd9527ae-f461-408f-9180-b9b47d575f34",
   "metadata": {},
   "source": [
    "_¿Recuerdas cómo sumar elementos de una lista?_"
   ]
  },
  {
   "cell_type": "markdown",
   "id": "955b70b0-1678-4697-80eb-cd20d30beaef",
   "metadata": {
    "jp-MarkdownHeadingCollapsed": true
   },
   "source": [
    "### Ejercicio 3: Usuarios frecuentes"
   ]
  },
  {
   "cell_type": "markdown",
   "id": "bb3d89c6-97e9-4155-a4a5-49196fc23b83",
   "metadata": {},
   "source": [
    "Encuentra los usuarios que han gastado más de un monto determinado."
   ]
  },
  {
   "cell_type": "code",
   "execution_count": 26,
   "id": "9285b948-68f4-4827-9d91-f40b0b8286cd",
   "metadata": {},
   "outputs": [],
   "source": [
    "usuarios_gastos = [\n",
    "    [\"001\", \"Ana Pérez\", [200, 150, 100]],\n",
    "    [\"002\", \"Luis Martínez\", [300, 200]],\n",
    "    [\"003\", \"Sofía González\", [400, 500, 300]]\n",
    "]"
   ]
  },
  {
   "cell_type": "code",
   "execution_count": 27,
   "id": "f62e4443-677e-4069-86ba-867c349f0f64",
   "metadata": {},
   "outputs": [],
   "source": [
    "monto_minimo = 500"
   ]
  },
  {
   "cell_type": "markdown",
   "id": "5046d42e-210f-4138-82d8-7a04b2cfc04d",
   "metadata": {},
   "source": [
    "_Deberíamos buscar una forma dinámica de válidar este monto._"
   ]
  },
  {
   "cell_type": "code",
   "execution_count": 36,
   "id": "2490e8c6-bcfe-4b74-80a0-d0e9f68e0b47",
   "metadata": {},
   "outputs": [],
   "source": [
    "def buscar_usuario_monto_minimo(lista_usuarios, monto_minimo):\n",
    "    for usuario in lista_usuarios:\n",
    "        if sum(usuario[2]) >= monto_minimo:\n",
    "            print(usuario[1])\n",
    "            "
   ]
  },
  {
   "cell_type": "code",
   "execution_count": 37,
   "id": "464b1ffb-af46-45e6-ac95-85e3a219cab9",
   "metadata": {},
   "outputs": [
    {
     "name": "stdout",
     "output_type": "stream",
     "text": [
      "Luis Martínez\n",
      "Sofía González\n"
     ]
    }
   ],
   "source": [
    "buscar_usuario_monto_minimo(usuarios_gastos, monto_minimo)"
   ]
  },
  {
   "cell_type": "code",
   "execution_count": null,
   "id": "45db230a-b08b-48e8-aeab-ba898f7405e9",
   "metadata": {},
   "outputs": [],
   "source": []
  },
  {
   "cell_type": "code",
   "execution_count": null,
   "id": "0286d01f-3793-44dd-82aa-4306f4d4e099",
   "metadata": {},
   "outputs": [],
   "source": []
  },
  {
   "cell_type": "code",
   "execution_count": null,
   "id": "8eada9ac-0903-4b4a-9faf-c042c25ebd83",
   "metadata": {},
   "outputs": [],
   "source": [
    "def usuarios_frecuentes(usuarios, monto):\n",
    "    \"\"\"\n",
    "    Devuelve una lista de usuarios que han gastado más del monto especificado.\n",
    "    \"\"\"\n",
    "    frecuentes = []\n",
    "    for usuario in usuarios:\n",
    "        if sum(usuario[2]) > monto:\n",
    "            frecuentes.append(usuario[1])\n",
    "    return frecuentes"
   ]
  },
  {
   "cell_type": "code",
   "execution_count": null,
   "id": "4af23a49-1aab-44bf-a281-e6883035c9c9",
   "metadata": {},
   "outputs": [],
   "source": [
    "print(\"Usuarios frecuentes:\", usuarios_frecuentes(usuarios_gastos, monto_minimo))"
   ]
  },
  {
   "cell_type": "markdown",
   "id": "4ffa4ab3-395e-4346-a2bf-c47f6dffccfe",
   "metadata": {
    "jp-MarkdownHeadingCollapsed": true
   },
   "source": [
    "### Ejercicio 4: Generación de informes"
   ]
  },
  {
   "cell_type": "markdown",
   "id": "8772b0eb-f3a6-4dd1-a231-749bc9a37355",
   "metadata": {},
   "source": [
    "Genera un informe con el nombre del usuario y su gasto total."
   ]
  },
  {
   "cell_type": "code",
   "execution_count": 39,
   "id": "4bf66bc6-360b-41ab-a896-bc9ea2291d8e",
   "metadata": {},
   "outputs": [],
   "source": [
    "usuarios_gastos = [\n",
    "    [\"001\", \"Ana Pérez\", [200, 150, 100]],\n",
    "    [\"002\", \"Luis Martínez\", [300, 200]],\n",
    "    [\"003\", \"Sofía González\", [400, 500, 300]]\n",
    "]"
   ]
  },
  {
   "cell_type": "markdown",
   "id": "44535058-32b1-4332-9e7c-e3ffdd636673",
   "metadata": {},
   "source": [
    "_Podríamos generar una lista temporal para almacenar los gastos._"
   ]
  },
  {
   "cell_type": "code",
   "execution_count": 52,
   "id": "4c71a11d-5d0e-4f34-8c48-38ce451d70b4",
   "metadata": {},
   "outputs": [],
   "source": [
    "def generar_informe(lista_usuarios):\n",
    "    lista_informe = []\n",
    "    for usuario in lista_usuarios:\n",
    "        sumatoria_gastos = sum(usuario[2])\n",
    "        nombre_usuario = usuario[1]\n",
    "        lista_informe.append([nombre_usuario, sumatoria_gastos])\n",
    "    \n",
    "    return lista_informe"
   ]
  },
  {
   "cell_type": "code",
   "execution_count": 53,
   "id": "63040c08-b22a-425e-848f-ffeca38fb5c1",
   "metadata": {},
   "outputs": [
    {
     "data": {
      "text/plain": [
       "[['Ana Pérez', 450], ['Luis Martínez', 500], ['Sofía González', 1200]]"
      ]
     },
     "execution_count": 53,
     "metadata": {},
     "output_type": "execute_result"
    }
   ],
   "source": [
    "generar_informe(usuarios_gastos)"
   ]
  },
  {
   "cell_type": "code",
   "execution_count": null,
   "id": "08fa1070-e672-418a-99e6-69993c72c1f3",
   "metadata": {},
   "outputs": [],
   "source": []
  },
  {
   "cell_type": "markdown",
   "id": "20ac5330-8d2d-4fc7-bd4c-ecc0ef118336",
   "metadata": {
    "jp-MarkdownHeadingCollapsed": true
   },
   "source": [
    "### Ejercicio 5: Filtros de categorías"
   ]
  },
  {
   "cell_type": "markdown",
   "id": "4a7d2a57-bb03-456c-ac64-cee1aec8ad51",
   "metadata": {},
   "source": [
    "Filtra usuarios que compraron en una categoría específica."
   ]
  },
  {
   "cell_type": "code",
   "execution_count": 54,
   "id": "9c9134d3-ad5b-4a88-a998-511dd893c12c",
   "metadata": {},
   "outputs": [],
   "source": [
    "usuarios_categorias = [\n",
    "    [\"001\", \"Ana Pérez\", [\"ropa\", \"comida\"]],\n",
    "    [\"002\", \"Luis Martínez\", [\"tecnología\", \"ropa\"]],\n",
    "    [\"003\", \"Sofía González\", [\"comida\", \"hogar\"]]\n",
    "]"
   ]
  },
  {
   "cell_type": "markdown",
   "id": "c42f71a6-2189-4080-ac6e-ebdc182cc352",
   "metadata": {},
   "source": [
    "_El elemento de las categorias funciona entonces como una segunda lista a recorrer._"
   ]
  },
  {
   "cell_type": "code",
   "execution_count": 57,
   "id": "3db82c2f-3aec-4590-b845-13b395bc7edf",
   "metadata": {},
   "outputs": [],
   "source": [
    "def filtrar_por_categoria(lista_usuarios, categoria_a_filtrar):\n",
    "    usuarios_filtrados = []\n",
    "\n",
    "    for usuario in lista_usuarios:\n",
    "        if categoria_a_filtrar in usuario[2]:\n",
    "            usuarios_filtrados.append(usuario[1])\n",
    "    \n",
    "    return usuarios_filtrados"
   ]
  },
  {
   "cell_type": "code",
   "execution_count": 58,
   "id": "50cadf83-5ff8-4365-9d67-02ad953682c4",
   "metadata": {},
   "outputs": [
    {
     "data": {
      "text/plain": [
       "['Ana Pérez', 'Sofía González']"
      ]
     },
     "execution_count": 58,
     "metadata": {},
     "output_type": "execute_result"
    }
   ],
   "source": [
    "filtrar_por_categoria(usuarios_categorias, \"comida\")"
   ]
  },
  {
   "cell_type": "code",
   "execution_count": null,
   "id": "b5ce3af2-ad38-48a0-b2b7-0837b354921f",
   "metadata": {},
   "outputs": [],
   "source": []
  },
  {
   "cell_type": "code",
   "execution_count": null,
   "id": "4a74468f-3157-47bd-98cd-965b91780dff",
   "metadata": {},
   "outputs": [],
   "source": []
  },
  {
   "cell_type": "code",
   "execution_count": null,
   "id": "b62ae68b-0909-49d2-add2-fd5687e32c35",
   "metadata": {},
   "outputs": [],
   "source": []
  },
  {
   "cell_type": "code",
   "execution_count": null,
   "id": "49423f04-218e-41b4-8dd9-5994552f3cf6",
   "metadata": {},
   "outputs": [],
   "source": [
    "def filtrar_por_categoria(usuarios, categoria):\n",
    "    \"\"\"\n",
    "    Filtra usuarios que han comprado en una categoría específica.\n",
    "    \"\"\"\n",
    "    filtrados = []\n",
    "    for usuario in usuarios:\n",
    "        if categoria in usuario[2]:\n",
    "            filtrados.append(usuario[1])\n",
    "    return filtrados"
   ]
  },
  {
   "cell_type": "code",
   "execution_count": null,
   "id": "6eaf02a3-027b-41c2-b4be-a89f5c459761",
   "metadata": {},
   "outputs": [],
   "source": [
    "categoria_buscar = \"ropa\"\n",
    "print(\"Usuarios que compraron ropa:\", filtrar_por_categoria(usuarios_categorias, categoria_buscar))"
   ]
  },
  {
   "cell_type": "markdown",
   "id": "8dc4730e-6aa0-4665-bdbc-85a17c2b9d2d",
   "metadata": {
    "jp-MarkdownHeadingCollapsed": true
   },
   "source": [
    "### Ejercicio 6:  Usuarios menores de 30 años"
   ]
  },
  {
   "cell_type": "markdown",
   "id": "b881c280-a510-43b9-abdf-6d730dd85d39",
   "metadata": {},
   "source": [
    "Imprime los nombres de los usuarios menores de 30 años."
   ]
  },
  {
   "cell_type": "code",
   "execution_count": null,
   "id": "f40f5d03-9cb0-4e5c-8d8b-108297d1895c",
   "metadata": {},
   "outputs": [],
   "source": [
    "usuarios_edades = [\n",
    "    [\"001\", \"Ana Pérez\", 34],\n",
    "    [\"002\", \"Luis Martínez\", 28],\n",
    "    [\"003\", \"Sofía González\", 40]\n",
    "]"
   ]
  },
  {
   "cell_type": "markdown",
   "id": "104769d3-c03a-4081-abb9-da08d6f533da",
   "metadata": {},
   "source": [
    "_De nuevo, buscariamos una variable temporal para almacenar la información recolectada._"
   ]
  },
  {
   "cell_type": "code",
   "execution_count": null,
   "id": "35a09ff2-fe0c-4327-be1f-872267d4650d",
   "metadata": {},
   "outputs": [],
   "source": []
  },
  {
   "cell_type": "code",
   "execution_count": null,
   "id": "b9d4785a-d082-4012-8414-234d5f96cb4e",
   "metadata": {},
   "outputs": [],
   "source": [
    "def menores_de_30(usuarios):\n",
    "    \"\"\"\n",
    "    Devuelve una lista con los nombres de los usuarios menores de 30 años.\n",
    "    \"\"\"\n",
    "    menores = []\n",
    "    for usuario in usuarios:\n",
    "        if usuario[2] < 30:\n",
    "            menores.append(usuario[1])\n",
    "    return menores"
   ]
  },
  {
   "cell_type": "code",
   "execution_count": null,
   "id": "bac3777d-af6f-4a23-9ec8-80929b90fc73",
   "metadata": {},
   "outputs": [],
   "source": [
    "print(\"Usuarios menores de 30:\", menores_de_30(usuarios_edades))"
   ]
  },
  {
   "cell_type": "markdown",
   "id": "216bd81f-e225-4f54-96e5-cb1054503dd0",
   "metadata": {
    "jp-MarkdownHeadingCollapsed": true
   },
   "source": [
    "### Ejercicio 7: Promedio de gasto"
   ]
  },
  {
   "cell_type": "markdown",
   "id": "af008d71-d392-4bae-b6b6-7b195c498200",
   "metadata": {},
   "source": [
    "Encuentra al cliente con el mayor gasto total."
   ]
  },
  {
   "cell_type": "code",
   "execution_count": null,
   "id": "f7c12af9-2796-453e-bf8d-6bc85b0255ce",
   "metadata": {},
   "outputs": [],
   "source": [
    "usuarios_gastos = [\n",
    "    [\"001\", \"Ana Pérez\", [200, 150, 100]],\n",
    "    [\"002\", \"Luis Martínez\", [300, 200]],\n",
    "    [\"003\", \"Sofía González\", [400, 500, 300]]\n",
    "]"
   ]
  },
  {
   "cell_type": "markdown",
   "id": "7637e958-fbb0-4d33-ae44-5bd065ccd71d",
   "metadata": {},
   "source": [
    "_Podríamos usar una variable temporal que almacenará el valor anterior del ciclo para ser comparado en la siguiente iteración._"
   ]
  },
  {
   "cell_type": "code",
   "execution_count": null,
   "id": "8c95b6ad-9089-44e3-baf0-03c6368f8746",
   "metadata": {},
   "outputs": [],
   "source": []
  },
  {
   "cell_type": "code",
   "execution_count": null,
   "id": "8fc5b14e-4512-4940-a216-59829a65a580",
   "metadata": {},
   "outputs": [],
   "source": [
    "def cliente_mayor_gasto(usuarios):\n",
    "    \"\"\"\n",
    "    Encuentra al cliente con el mayor gasto total.\n",
    "    \"\"\"\n",
    "    mayor = (None, 0)  # (Nombre, Gasto)\n",
    "    for usuario in usuarios:\n",
    "        total_gasto = sum(usuario[2])\n",
    "        if total_gasto > mayor[1]:\n",
    "            mayor = (usuario[1], total_gasto)\n",
    "    return mayor"
   ]
  },
  {
   "cell_type": "code",
   "execution_count": null,
   "id": "5231bd04-3174-48da-a996-5d295f3eae9d",
   "metadata": {},
   "outputs": [],
   "source": [
    "print(\"Cliente con mayor gasto:\", cliente_mayor_gasto(usuarios_gastos))"
   ]
  },
  {
   "cell_type": "markdown",
   "id": "b4e18e29-d6a0-49c4-b32e-56d4dcc0fe0b",
   "metadata": {
    "jp-MarkdownHeadingCollapsed": true
   },
   "source": [
    "### Ejercicio 8: Clasificación de usuarios por gasto"
   ]
  },
  {
   "cell_type": "markdown",
   "id": "82139c55-023e-4432-86f4-f5369d26a65a",
   "metadata": {},
   "source": [
    " Clasifica a los usuarios en \"alto\" mayor a 1000, \"medio\" mayor a 500 y \"bajo\" menor a 500 según su gasto total."
   ]
  },
  {
   "cell_type": "code",
   "execution_count": null,
   "id": "5736864f-e10f-497f-951e-6583db03482d",
   "metadata": {},
   "outputs": [],
   "source": [
    "usuarios_gastos = [\n",
    "    [\"001\", \"Ana Pérez\", [200, 150, 100]],\n",
    "    [\"002\", \"Luis Martínez\", [300, 200]],\n",
    "    [\"003\", \"Sofía González\", [400, 500, 300]]\n",
    "]"
   ]
  },
  {
   "cell_type": "markdown",
   "id": "c63e8fe4-fbf4-446a-9fff-ccd32f5a0720",
   "metadata": {},
   "source": [
    "_Podrías ir hilando sentencias ´if´_"
   ]
  },
  {
   "cell_type": "code",
   "execution_count": null,
   "id": "46631cd0-7686-4644-a6a6-3e5be8b7f412",
   "metadata": {},
   "outputs": [],
   "source": []
  },
  {
   "cell_type": "code",
   "execution_count": null,
   "id": "8da19c5d-3434-493b-b2f1-1f2c2ea3e0f9",
   "metadata": {},
   "outputs": [],
   "source": [
    "def clasificar_usuarios(usuarios):\n",
    "    \"\"\"\n",
    "    Clasifica a los usuarios según su gasto total.\n",
    "    \"\"\"\n",
    "    clasificacion = {\"alto\": [], \"medio\": [], \"bajo\": []}\n",
    "    for usuario in usuarios:\n",
    "        total_gasto = sum(usuario[2])\n",
    "        if total_gasto > 1000:\n",
    "            clasificacion[\"alto\"].append(usuario[1])\n",
    "        elif total_gasto > 500:\n",
    "            clasificacion[\"medio\"].append(usuario[1])\n",
    "        else:\n",
    "            clasificacion[\"bajo\"].append(usuario[1])\n",
    "    return clasificacion"
   ]
  },
  {
   "cell_type": "code",
   "execution_count": null,
   "id": "70df59bc-36eb-4c99-8798-7f073fb8154c",
   "metadata": {},
   "outputs": [],
   "source": [
    "print(\"Clasificación de usuarios:\", clasificar_usuarios(usuarios_gastos))"
   ]
  },
  {
   "cell_type": "markdown",
   "id": "039ae26c-0100-43a9-bef9-aab2fc76214f",
   "metadata": {},
   "source": [
    "## Pandas"
   ]
  },
  {
   "cell_type": "markdown",
   "id": "78f3cdbb-db4b-4a04-9c91-6897ac494940",
   "metadata": {
    "jp-MarkdownHeadingCollapsed": true
   },
   "source": [
    "#### Ejercicio 1: Pandas"
   ]
  },
  {
   "cell_type": "markdown",
   "id": "b8040194-78ee-4142-92a1-524c4bb6c998",
   "metadata": {
    "jp-MarkdownHeadingCollapsed": true
   },
   "source": [
    "Crea un dataframe simple usando elementos del diccionario.\n",
    "\n",
    "- **Hint**: Clave-Valor es igual a Columnas y sus valores."
   ]
  },
  {
   "cell_type": "code",
   "execution_count": 59,
   "id": "0832ac37-ba69-4137-9b34-d81fca43a4eb",
   "metadata": {},
   "outputs": [],
   "source": [
    "import pandas as pd\n",
    "\n",
    "data = {'product_id': [101, 102, 103],\n",
    "        'product_name': ['Laptop', 'Smartphone', 'Tablet'],\n",
    "        'price': [1500, 800, 300],\n",
    "        'category': ['Electronics', 'Electronics', 'Electronics']}\n",
    "\n",
    "df = pd.DataFrame(data)"
   ]
  },
  {
   "cell_type": "code",
   "execution_count": 31,
   "id": "d8cc0d6f-8212-4457-8d03-e9218eb5e33e",
   "metadata": {},
   "outputs": [
    {
     "data": {
      "text/html": [
       "<div>\n",
       "<style scoped>\n",
       "    .dataframe tbody tr th:only-of-type {\n",
       "        vertical-align: middle;\n",
       "    }\n",
       "\n",
       "    .dataframe tbody tr th {\n",
       "        vertical-align: top;\n",
       "    }\n",
       "\n",
       "    .dataframe thead th {\n",
       "        text-align: right;\n",
       "    }\n",
       "</style>\n",
       "<table border=\"1\" class=\"dataframe\">\n",
       "  <thead>\n",
       "    <tr style=\"text-align: right;\">\n",
       "      <th></th>\n",
       "      <th>product_id</th>\n",
       "      <th>product_name</th>\n",
       "      <th>price</th>\n",
       "      <th>category</th>\n",
       "    </tr>\n",
       "  </thead>\n",
       "  <tbody>\n",
       "    <tr>\n",
       "      <th>0</th>\n",
       "      <td>101</td>\n",
       "      <td>Laptop</td>\n",
       "      <td>1500</td>\n",
       "      <td>Electronics</td>\n",
       "    </tr>\n",
       "    <tr>\n",
       "      <th>1</th>\n",
       "      <td>102</td>\n",
       "      <td>Smartphone</td>\n",
       "      <td>800</td>\n",
       "      <td>Electronics</td>\n",
       "    </tr>\n",
       "    <tr>\n",
       "      <th>2</th>\n",
       "      <td>103</td>\n",
       "      <td>Tablet</td>\n",
       "      <td>300</td>\n",
       "      <td>Electronics</td>\n",
       "    </tr>\n",
       "  </tbody>\n",
       "</table>\n",
       "</div>"
      ],
      "text/plain": [
       "   product_id product_name  price     category\n",
       "0         101       Laptop   1500  Electronics\n",
       "1         102   Smartphone    800  Electronics\n",
       "2         103       Tablet    300  Electronics"
      ]
     },
     "execution_count": 31,
     "metadata": {},
     "output_type": "execute_result"
    }
   ],
   "source": [
    "df.head()"
   ]
  },
  {
   "cell_type": "markdown",
   "id": "2ca110e3-4dd1-401d-894f-f27625e9fb64",
   "metadata": {},
   "source": [
    "- [ ] **Check:** ¿Tuvimos que especificar los tipos de datos?"
   ]
  },
  {
   "cell_type": "markdown",
   "id": "e453d91e-d3c5-4dc1-a4d8-ba406c201aed",
   "metadata": {
    "jp-MarkdownHeadingCollapsed": true
   },
   "source": [
    "#### Ejercicio 2: Creando dataframes"
   ]
  },
  {
   "cell_type": "markdown",
   "id": "d0bee996-9b57-4878-8dbe-44ca7855679a",
   "metadata": {
    "jp-MarkdownHeadingCollapsed": true
   },
   "source": [
    "Crea un dataframe simple usando elementos de la lista anidada.\n",
    "\n",
    "- **Hint**: Debemos de especificar los nombres de las columnas."
   ]
  },
  {
   "cell_type": "code",
   "execution_count": 34,
   "id": "69a5310d-3879-4c8a-b2fd-c6e30378c7ab",
   "metadata": {},
   "outputs": [],
   "source": [
    "import pandas as pd\n",
    "\n",
    "sales_data = [\n",
    "    ['Laptop', 'North America', 120, 120000],\n",
    "    ['Smartphone', 'Europe', 340, 170000],\n",
    "    ['Tablet', 'Asia', 210, 63000],\n",
    "    ['Headphones', 'South America', 150, 45000],\n",
    "    ['Smartwatch', 'Africa', 95, 28500],\n",
    "]\n",
    "\n",
    "columns = ['product_name_xd', 'region', 'units_sold', 'revenue']\n",
    "\n",
    "sales_report = pd.DataFrame(data=sales_data, columns=columns)"
   ]
  },
  {
   "cell_type": "code",
   "execution_count": 35,
   "id": "9652dc64-e20d-4e6b-a285-6e269136f6bd",
   "metadata": {},
   "outputs": [
    {
     "data": {
      "text/html": [
       "<div>\n",
       "<style scoped>\n",
       "    .dataframe tbody tr th:only-of-type {\n",
       "        vertical-align: middle;\n",
       "    }\n",
       "\n",
       "    .dataframe tbody tr th {\n",
       "        vertical-align: top;\n",
       "    }\n",
       "\n",
       "    .dataframe thead th {\n",
       "        text-align: right;\n",
       "    }\n",
       "</style>\n",
       "<table border=\"1\" class=\"dataframe\">\n",
       "  <thead>\n",
       "    <tr style=\"text-align: right;\">\n",
       "      <th></th>\n",
       "      <th>product_name_xd</th>\n",
       "      <th>region</th>\n",
       "      <th>units_sold</th>\n",
       "      <th>revenue</th>\n",
       "    </tr>\n",
       "  </thead>\n",
       "  <tbody>\n",
       "    <tr>\n",
       "      <th>0</th>\n",
       "      <td>Laptop</td>\n",
       "      <td>North America</td>\n",
       "      <td>120</td>\n",
       "      <td>120000</td>\n",
       "    </tr>\n",
       "    <tr>\n",
       "      <th>1</th>\n",
       "      <td>Smartphone</td>\n",
       "      <td>Europe</td>\n",
       "      <td>340</td>\n",
       "      <td>170000</td>\n",
       "    </tr>\n",
       "    <tr>\n",
       "      <th>2</th>\n",
       "      <td>Tablet</td>\n",
       "      <td>Asia</td>\n",
       "      <td>210</td>\n",
       "      <td>63000</td>\n",
       "    </tr>\n",
       "    <tr>\n",
       "      <th>3</th>\n",
       "      <td>Headphones</td>\n",
       "      <td>South America</td>\n",
       "      <td>150</td>\n",
       "      <td>45000</td>\n",
       "    </tr>\n",
       "    <tr>\n",
       "      <th>4</th>\n",
       "      <td>Smartwatch</td>\n",
       "      <td>Africa</td>\n",
       "      <td>95</td>\n",
       "      <td>28500</td>\n",
       "    </tr>\n",
       "  </tbody>\n",
       "</table>\n",
       "</div>"
      ],
      "text/plain": [
       "  product_name_xd         region  units_sold  revenue\n",
       "0          Laptop  North America         120   120000\n",
       "1      Smartphone         Europe         340   170000\n",
       "2          Tablet           Asia         210    63000\n",
       "3      Headphones  South America         150    45000\n",
       "4      Smartwatch         Africa          95    28500"
      ]
     },
     "execution_count": 35,
     "metadata": {},
     "output_type": "execute_result"
    }
   ],
   "source": [
    "sales_report.head()"
   ]
  },
  {
   "cell_type": "markdown",
   "id": "1bd630bb-c134-473b-9980-6dfd93783f30",
   "metadata": {},
   "source": [
    "#### Ejercicio 3: Exploremos pandas"
   ]
  }
 ],
 "metadata": {
  "kernelspec": {
   "display_name": "Python 3 (ipykernel)",
   "language": "python",
   "name": "python3"
  },
  "language_info": {
   "codemirror_mode": {
    "name": "ipython",
    "version": 3
   },
   "file_extension": ".py",
   "mimetype": "text/x-python",
   "name": "python",
   "nbconvert_exporter": "python",
   "pygments_lexer": "ipython3",
   "version": "3.12.7"
  }
 },
 "nbformat": 4,
 "nbformat_minor": 5
}
