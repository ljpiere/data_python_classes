{
 "cells": [
  {
   "cell_type": "markdown",
   "metadata": {
    "id": "UCjlyTyyJm9R"
   },
   "source": [
    "\n",
    "\n",
    "Continuing as a member of the analytical team, in the first project we have set the stage for the second phase. Here we are, now you'll apply advanced techniques to extract meaningful insights, addressing the client's growing needs."
   ]
  },
  {
   "cell_type": "markdown",
   "metadata": {
    "id": "4ZzATQthJm9Y"
   },
   "source": [
    "As you know, companies collect and store data in a particular manner. Store 1 wants to store all information about its customers in a table.\n",
    "\n",
    "| user_id | user_name | user_age | purchase_category | spending_per_category |\n",
    "| --- | --- | --- | --- | --- |\n",
    "| '32415' | 'mike', 'reed' | 32 | 'electronics', 'sport', 'books' | 894, 213, 173 |\n",
    "| '31980' | 'kate', 'morgan' | 24 | 'clothes', 'shoes' | 439, 390 |\n",
    "\n",
    "In technical terms, a table is simply a nested list that has a sublist for every user.\n",
    "\n",
    "Store 1 has created such a table for its users. It is stored in the `users` variable. Each sublist contains the user's ID, first and last names, age, favorite categories, and the amount spent in each category."
   ]
  },
  {
   "cell_type": "markdown",
   "metadata": {
    "id": "EMQlsEYlxGET"
   },
   "source": [
    "- **user_id:** Unique identifier for each user.\n",
    "- **user_name:** The name of the user.\n",
    "- **user_age:** Age of the user.\n",
    "- **fav_categories:** Categories of items purchased by the user, such as 'ELECTRONICS', 'SPORT', 'BOOKS', etc.\n",
    "- **total_spendings:** List of integers indicating the total the amount spent in each of their favorite categories."
   ]
  },
  {
   "cell_type": "code",
   "execution_count": null,
   "metadata": {
    "id": "LfBCH4crxLOt"
   },
   "outputs": [],
   "source": [
    "users = [\n",
    "    ['32415', ' mike_reed ', 32.0, ['ELECTRONICS', 'SPORT', 'BOOKS'], [894, 213, 173]],\n",
    "    ['31980', 'kate morgan', 24.0, ['CLOTHES', 'BOOKS'], [439, 390]],\n",
    "    ['32156', ' john doe ', 37.0, ['ELECTRONICS', 'HOME', 'FOOD'], [459, 120, 99]],\n",
    "    ['32761', 'SAMANTHA SMITH', 29.0, ['CLOTHES', 'ELECTRONICS', 'BEAUTY'], [299, 679, 85]],\n",
    "    ['32984', 'David White', 41.0, ['BOOKS', 'HOME', 'SPORT'], [234, 329, 243]],\n",
    "    ['33001', 'emily brown', 26.0, ['BEAUTY', 'HOME', 'FOOD'], [213, 659, 79]],\n",
    "    ['33767', ' Maria Garcia', 33.0, ['CLOTHES', 'FOOD', 'BEAUTY'], [499, 189, 63]],\n",
    "    ['33912', 'JOSE MARTINEZ', 22.0, ['SPORT', 'ELECTRONICS', 'HOME'], [259, 549, 109]],\n",
    "    ['34009', 'lisa wilson ', 35.0, ['HOME', 'BOOKS', 'CLOTHES'], [329, 189, 329]],\n",
    "    ['34278', 'James Lee', 28.0, ['BEAUTY', 'CLOTHES', 'ELECTRONICS'], [189, 299, 579]],\n",
    "]\n"
   ]
  },
  {
   "cell_type": "markdown",
   "metadata": {
    "id": "vgnoxECvlWvr"
   },
   "source": [
    "# Step 1\n",
    "\n",
    "In the last task of the first part of this project you've wrote code to:\n",
    "\n",
    "1. Remove all leading, trailing spaces from the names, as well as any underscore.\n",
    "2. Convert all the ages to integer.\n",
    "3. Separate all the first names and last names into a sub-list.\n",
    "\n",
    "Now let's make that a function, so we can use it to fix any client. Call you function `clean_user`. It should receive a list with all the client information, and two integers. One integer indicates the index of the client's name, and the other is the index of the client's age in the list. It should return the clean list, after applying all the previous modifications. Test it by calling the function, passing to it the list `test_user[]` and then print it."
   ]
  },
  {
   "cell_type": "code",
   "execution_count": null,
   "metadata": {
    "colab": {
     "base_uri": "https://localhost:8080/"
    },
    "id": "RN6LIlHelWvr",
    "outputId": "632ceadd-0f9a-46cf-91c1-b4bea53623d0"
   },
   "outputs": [
    {
     "name": "stdout",
     "output_type": "stream",
     "text": [
      "['32415', ['mike', 'reed'], 32, ['ELECTRONICS', 'SPORT', 'BOOKS'], [894, 213, 173]]\n"
     ]
    }
   ],
   "source": [
    "def clean_user(user_info, name_index, age_index):\n",
    "\n",
    "    # Step 1: Remove leading, trailing spaces, and underscores from the name\n",
    "    user_name_1 = user_info[name_index].strip().replace('_', ' ')\n",
    "\n",
    "    # Step 2: Convert the age to an integer\n",
    "    user_age_1 = int(user_info[age_index])\n",
    "\n",
    "    # Step 3: Separate the first and last names into a sub-list\n",
    "    user_name_1 = user_name_1.split()\n",
    "\n",
    "    # Prepare the cleaned user info list\n",
    "    # Replace the original name and age with cleaned data\n",
    "    user_info[name_index] = user_name_1\n",
    "    user_info[age_index] = user_age_1\n",
    "\n",
    "    return user_info\n",
    "\n",
    "# Test the function\n",
    "test_user = ['32415', ' mike_reed ', 32.0, ['ELECTRONICS', 'SPORT', 'BOOKS'], [894, 213, 173]]\n",
    "name_index = 1\n",
    "age_index = 2\n",
    "\n",
    "print(clean_user(test_user, name_index, age_index))\n"
   ]
  },
  {
   "cell_type": "markdown",
   "metadata": {
    "id": "E8u2OO1YlWvr"
   },
   "source": [
    "********Hint********\n",
    "\n",
    "To implement the `clean_user` function, follow these steps:\n",
    "\n",
    "1. **Trim and Replace:** Use `strip()` to remove leading and trailing spaces from the user's name, and `replace('_', ' ')` to replace underscores with spaces.\n",
    "2. **Convert Age:** Convert the age to an integer using the `int()` function.\n",
    "3. **Split Name:** Use the `split()` method to separate the first and last names, creating a sub-list.\n",
    "\n",
    "Ensure that you modify the `user_info` list in place by updating the name and age with the cleaned data before returning the list. Test your function with a sample user to verify its correctness."
   ]
  },
  {
   "cell_type": "markdown",
   "metadata": {
    "id": "zF6ADQNLJm9W"
   },
   "source": [
    "# Step 2\n",
    "\n",
    "Note that all favorite categories are stored in uppercase. Fill up a new list called `fav_categories_low` with the same categories but in lowercase, by iterating over the values in the `fav_categories` list, modifying them, and then append the new values to the `fav_categories_low` list. As always, print the final result."
   ]
  },
  {
   "cell_type": "code",
   "execution_count": null,
   "metadata": {
    "colab": {
     "base_uri": "https://localhost:8080/"
    },
    "id": "Ltoq2LXjJm9W",
    "outputId": "5a05c845-8d3c-4890-8070-38ccb63dd5b4"
   },
   "outputs": [
    {
     "name": "stdout",
     "output_type": "stream",
     "text": [
      "['electronics', 'sport', 'books']\n"
     ]
    }
   ],
   "source": [
    "fav_categories = ['ELECTRONICS', 'SPORT', 'BOOKS']\n",
    "fav_categories_low = []\n",
    "\n",
    "for category in fav_categories:\n",
    "\tlowered_category = category.lower()\n",
    "\tfav_categories_low.append(lowered_category)\n",
    "\n",
    "print(fav_categories_low)"
   ]
  },
  {
   "cell_type": "markdown",
   "metadata": {
    "id": "w0fevXJTJm9X"
   },
   "source": [
    "********Hint********\n",
    "\n",
    "Create a `for` loop that iterates over the `fav_categories` list. Use the `lower()` method to transform each category to lowercase. Then, use the `append()` method to add the updated values to the `fav_categories_low` list."
   ]
  },
  {
   "cell_type": "markdown",
   "metadata": {
    "id": "xhKqJwaqdrRu"
   },
   "source": [
    "# Step 3\n",
    "\n",
    "Now let's do the same, but for every single user of the company. Fill up a new list called `users_categories_low` with the same users, but their categories in lowercase, by iterating over the values in the `users` list, then iterate over the values in the `user_categories` , modifying them, and then append the new user values to the `users_categories_low` list. As always, print the final result."
   ]
  },
  {
   "cell_type": "code",
   "execution_count": null,
   "metadata": {
    "colab": {
     "base_uri": "https://localhost:8080/"
    },
    "id": "uBfnDzZfdrR1",
    "outputId": "6e0b3a3b-c94e-4402-a9d1-dc88fe07256e"
   },
   "outputs": [
    {
     "name": "stdout",
     "output_type": "stream",
     "text": [
      "[['32415', ' mike_reed ', 32.0, ['electronics', 'sport', 'books'], [894, 213, 173]], ['31980', 'kate morgan', 24.0, ['clothes', 'books'], [439, 390]], ['32156', ' john doe ', 37.0, ['electronics', 'home', 'food'], [459, 120, 99]], ['32761', 'SAMANTHA SMITH', 29.0, ['clothes', 'electronics', 'beauty'], [299, 679, 85]], ['32984', 'David White', 41.0, ['books', 'home', 'sport'], [234, 329, 243]], ['33001', 'emily brown', 26.0, ['beauty', 'home', 'food'], [213, 659, 79]], ['33767', ' Maria Garcia', 33.0, ['clothes', 'food', 'beauty'], [499, 189, 63]], ['33912', 'JOSE MARTINEZ', 22.0, ['sport', 'electronics', 'home'], [259, 549, 109]], ['34009', 'lisa wilson ', 35.0, ['home', 'books', 'clothes'], [329, 189, 329]], ['34278', 'James Lee', 28.0, ['beauty', 'clothes', 'electronics'], [189, 299, 579]]]\n"
     ]
    }
   ],
   "source": [
    "users = [\n",
    "    ['32415', ' mike_reed ', 32.0, ['ELECTRONICS', 'SPORT', 'BOOKS'], [894, 213, 173]],\n",
    "    ['31980', 'kate morgan', 24.0, ['CLOTHES', 'BOOKS'], [439, 390]],\n",
    "    ['32156', ' john doe ', 37.0, ['ELECTRONICS', 'HOME', 'FOOD'], [459, 120, 99]],\n",
    "    ['32761', 'SAMANTHA SMITH', 29.0, ['CLOTHES', 'ELECTRONICS', 'BEAUTY'], [299, 679, 85]],\n",
    "    ['32984', 'David White', 41.0, ['BOOKS', 'HOME', 'SPORT'], [234, 329, 243]],\n",
    "    ['33001', 'emily brown', 26.0, ['BEAUTY', 'HOME', 'FOOD'], [213, 659, 79]],\n",
    "    ['33767', ' Maria Garcia', 33.0, ['CLOTHES', 'FOOD', 'BEAUTY'], [499, 189, 63]],\n",
    "    ['33912', 'JOSE MARTINEZ', 22.0, ['SPORT', 'ELECTRONICS', 'HOME'], [259, 549, 109]],\n",
    "    ['34009', 'lisa wilson ', 35.0, ['HOME', 'BOOKS', 'CLOTHES'], [329, 189, 329]],\n",
    "    ['34278', 'James Lee', 28.0, ['BEAUTY', 'CLOTHES', 'ELECTRONICS'], [189, 299, 579]],\n",
    "]\n",
    "\n",
    "users_categories_low = []\n",
    "for user in users:\n",
    "\tcategories_low = []\n",
    "\tfor category in user[3]:\n",
    "\t\tlowered_category = category.lower()\n",
    "\t\tcategories_low.append(lowered_category)\n",
    "\n",
    "\tuser.pop(3)\n",
    "\tuser.insert(3, categories_low)\n",
    "\tusers_categories_low.append(user)\n",
    "\n",
    "print(users_categories_low)"
   ]
  },
  {
   "cell_type": "markdown",
   "metadata": {
    "id": "lom04QHKdrR1"
   },
   "source": [
    "********Hint********\n",
    "\n",
    "Create a `for` loop that iterates over the `users` list. Then make another `for` loop that iterates over the user categories to access and modify the user. Use the `lower()` method to transform each category to lowercase. Then, modify the user by removing the old categories list with `pop()`, and `insert()` the new one in it's place. Then use the `append()` method to add the updated user to the `users_categories_low` list."
   ]
  },
  {
   "cell_type": "markdown",
   "metadata": {
    "id": "uisdgp0or8rS"
   },
   "source": [
    "# Step 4\n",
    "\n",
    "Now let's complete to the code for cleaning the category to our `clean_user` function:\n",
    "1. Add another parameter with the categories index.\n",
    "2. Make all the names lower case before applying strip and replace.\n",
    "\n",
    "After that, create a loop and apply your function to the entire users list, adding your results to the `users_clean` list. Then print it. You should get a clean list with all the changes needed made to it."
   ]
  },
  {
   "cell_type": "code",
   "execution_count": null,
   "metadata": {
    "colab": {
     "base_uri": "https://localhost:8080/"
    },
    "id": "ioGD_Cs5r8ra",
    "outputId": "fddb59df-a686-4270-9a01-1803d53a0da9"
   },
   "outputs": [
    {
     "name": "stdout",
     "output_type": "stream",
     "text": [
      "['32415', ['mike', 'reed'], 32, ['electronics', 'sport', 'books'], [894, 213, 173]]\n",
      "['31980', ['kate', 'morgan'], 24, ['clothes', 'books'], [439, 390]]\n",
      "['32156', ['john', 'doe'], 37, ['electronics', 'home', 'food'], [459, 120, 99]]\n",
      "['32761', ['samantha', 'smith'], 29, ['clothes', 'electronics', 'beauty'], [299, 679, 85]]\n",
      "['32984', ['david', 'white'], 41, ['books', 'home', 'sport'], [234, 329, 243]]\n",
      "['33001', ['emily', 'brown'], 26, ['beauty', 'home', 'food'], [213, 659, 79]]\n",
      "['33767', ['maria', 'garcia'], 33, ['clothes', 'food', 'beauty'], [499, 189, 63]]\n",
      "['33912', ['jose', 'martinez'], 22, ['sport', 'electronics', 'home'], [259, 549, 109]]\n",
      "['34009', ['lisa', 'wilson'], 35, ['home', 'books', 'clothes'], [329, 189, 329]]\n",
      "['34278', ['james', 'lee'], 28, ['beauty', 'clothes', 'electronics'], [189, 299, 579]]\n",
      "[['32415', ['mike', 'reed'], 32, ['electronics', 'sport', 'books'], [894, 213, 173]], ['31980', ['kate', 'morgan'], 24, ['clothes', 'books'], [439, 390]], ['32156', ['john', 'doe'], 37, ['electronics', 'home', 'food'], [459, 120, 99]], ['32761', ['samantha', 'smith'], 29, ['clothes', 'electronics', 'beauty'], [299, 679, 85]], ['32984', ['david', 'white'], 41, ['books', 'home', 'sport'], [234, 329, 243]], ['33001', ['emily', 'brown'], 26, ['beauty', 'home', 'food'], [213, 659, 79]], ['33767', ['maria', 'garcia'], 33, ['clothes', 'food', 'beauty'], [499, 189, 63]], ['33912', ['jose', 'martinez'], 22, ['sport', 'electronics', 'home'], [259, 549, 109]], ['34009', ['lisa', 'wilson'], 35, ['home', 'books', 'clothes'], [329, 189, 329]], ['34278', ['james', 'lee'], 28, ['beauty', 'clothes', 'electronics'], [189, 299, 579]]]\n"
     ]
    }
   ],
   "source": [
    "def clean_user(user_info, name_index, age_index, cat_index):\n",
    "\n",
    "  # Step 1: Make everything lowercase, remove leading, trailing spaces, and underscores from the name\n",
    "  user_name_1 = user_info[name_index].lower().strip().replace('_', ' ')\n",
    "\n",
    "  # Step 2: Convert the age to an integer\n",
    "  user_age_1 = int(user_info[age_index])\n",
    "\n",
    "  # Step 3: Separate the first and last names into a sub-list\n",
    "  user_name_1 = user_name_1.split()\n",
    "\n",
    "  # Step 4: Make categories lowercase\n",
    "  categories_low = []\n",
    "  for category in user[cat_index]:\n",
    "    lowered_category = category.lower()\n",
    "    categories_low.append(lowered_category)\n",
    "\n",
    "\n",
    "  # Prepare the cleaned user info list\n",
    "  # Replace the original name and age with cleaned data\n",
    "  user_info[name_index] = user_name_1\n",
    "  user_info[age_index] = user_age_1\n",
    "  user_info[cat_index] = categories_low\n",
    "\n",
    "  return user_info\n",
    "\n",
    "\n",
    "users = [\n",
    "    ['32415', ' mike_reed ', 32.0, ['ELECTRONICS', 'SPORT', 'BOOKS'], [894, 213, 173]],\n",
    "    ['31980', 'kate morgan', 24.0, ['CLOTHES', 'BOOKS'], [439, 390]],\n",
    "    ['32156', ' john doe ', 37.0, ['ELECTRONICS', 'HOME', 'FOOD'], [459, 120, 99]],\n",
    "    ['32761', 'SAMANTHA SMITH', 29.0, ['CLOTHES', 'ELECTRONICS', 'BEAUTY'], [299, 679, 85]],\n",
    "    ['32984', 'David White', 41.0, ['BOOKS', 'HOME', 'SPORT'], [234, 329, 243]],\n",
    "    ['33001', 'emily brown', 26.0, ['BEAUTY', 'HOME', 'FOOD'], [213, 659, 79]],\n",
    "    ['33767', ' Maria Garcia', 33.0, ['CLOTHES', 'FOOD', 'BEAUTY'], [499, 189, 63]],\n",
    "    ['33912', 'JOSE MARTINEZ', 22.0, ['SPORT', 'ELECTRONICS', 'HOME'], [259, 549, 109]],\n",
    "    ['34009', 'lisa wilson ', 35.0, ['HOME', 'BOOKS', 'CLOTHES'], [329, 189, 329]],\n",
    "    ['34278', 'James Lee', 28.0, ['BEAUTY', 'CLOTHES', 'ELECTRONICS'], [189, 299, 579]],\n",
    "]\n",
    "\n",
    "name_index = 1\n",
    "age_index = 2\n",
    "cat_index = 3\n",
    "users_cleaned = []\n",
    "\n",
    "for user in users:\n",
    "  user_cleaned = clean_user(user, name_index, age_index, cat_index)\n",
    "  users_cleaned.append(user_cleaned)\n",
    "\n",
    "print(users_cleaned)\n"
   ]
  },
  {
   "cell_type": "markdown",
   "metadata": {
    "id": "h5SOurz6r8ra"
   },
   "source": [
    "********Hint********\n",
    "\n",
    "To implement the new `clean_user` function, follow these steps:\n",
    "\n",
    "1. **Copy and Adapt**: Copy the code from your previous `clean_user` function.\n",
    "\n",
    "2. **Lowercase Name**: Before applying `split()` and `replace()`, apply `lower()` to the client's name.\n",
    "\n",
    "3. **Process Categories**: Add a new section to handle the categories. Convert each category in the list to lowercase and store them in a new list.\n",
    "\n",
    "4. **Execute your code**: Ensure that the `clean_user` function updates the `user_info` list in place with the cleaned name, age, and categories. Loop the `users` list and call the `clean_user` function, passing the user, `name_index`, `age_index`, and `cat_index` to specify the correct indices for name, age, and categories, respectively.\n",
    "\n",
    "5. Save each cleaned user in the new `users_cleaned` list.\n",
    "\n",
    "Print the `users_cleaned` list to make sure that your code performs the expected transformations."
   ]
  },
  {
   "cell_type": "markdown",
   "metadata": {
    "id": "eONfrv9nJm9Y"
   },
   "source": [
    "# Step 5\n",
    "\n",
    "The company wants to know the entire revenue of it and asked you to provide this value.\n",
    "To calculate the revenue for the company, follow these steps:\n",
    "\n",
    "1. Use a `for` loop to iterate over the `users` list.\n",
    "2. Extract the list of spendings for each user and sum up the values.\n",
    "3. Update the revenue value with the total for each user.\n",
    "\n",
    "This will give you the total revenue for the company that you’ll print at the very end."
   ]
  },
  {
   "cell_type": "code",
   "execution_count": null,
   "metadata": {
    "colab": {
     "base_uri": "https://localhost:8080/"
    },
    "id": "ijzboKgoJm9Y",
    "outputId": "9aad5fe8-55ec-475b-9b40-afc590ae05e6"
   },
   "outputs": [
    {
     "name": "stdout",
     "output_type": "stream",
     "text": [
      "9189\n"
     ]
    }
   ],
   "source": [
    "users = [['32415', ['mike', 'reed'], 32, ['electronics', 'sport', 'books'], [894, 213, 173]],\n",
    "         ['31980', ['kate', 'morgan'], 24, ['clothes', 'books'], [439, 390]],\n",
    "         ['32156', ['john', 'doe'], 37, ['electronics', 'home', 'food'], [459, 120, 99]],\n",
    "         ['32761', ['samantha', 'smith'], 29, ['clothes', 'electronics', 'beauty'], [299, 679, 85]],\n",
    "         ['32984', ['david', 'white'], 41, ['books', 'home', 'sport'], [234, 329, 243]],\n",
    "         ['33001', ['emily', 'brown'], 26, ['beauty', 'home', 'food'], [213, 659, 79]],\n",
    "         ['33767', ['maria', 'garcia'], 33, ['clothes', 'food', 'beauty'], [499, 189, 63]],\n",
    "         ['33912', ['jose', 'martinez'], 22, ['sport', 'electronics', 'home'], [259, 549, 109]],\n",
    "         ['34009', ['lisa', 'wilson'], 35, ['home', 'books', 'clothes'], [329, 189, 329]],\n",
    "         ['34278', ['james', 'lee'], 28, ['beauty', 'clothes', 'electronics'], [189, 299, 579]]]\n",
    "\n",
    "revenue = 0\n",
    "\n",
    "for user in users:\n",
    "\tspendings_list = user[-1]\n",
    "\ttotal_spendings = sum(spendings_list)\n",
    "\trevenue += total_spendings\n",
    "\n",
    "print(revenue)"
   ]
  },
  {
   "cell_type": "markdown",
   "metadata": {
    "id": "s_1nxg0nJm9Y"
   },
   "source": [
    "********Hint********\n",
    "\n",
    "To extract the list of spendings made by a user, use indexing and assign it to the `spendings_list` variable. Then, use the built-in function to calculate the sum of the `spending_list`. Finally, update the `revenue` value by adding the `total_spendings` to it using augmented assignment."
   ]
  },
  {
   "cell_type": "markdown",
   "metadata": {
    "id": "R1wNYes8Jm9X"
   },
   "source": [
    "# Step 6\n",
    "\n",
    "The company wants to offer discounts to its loyal customers. Customers who make purchases totaling more than $1500 are considered loyal and will receive a discount.\n",
    "\n",
    "Our goal is to create a `while` loop that checks the total amount spent and stops when it is reached. To simulate new purchases, the `new_purchase` variable generates a number between 30 and 80 on every loop iteration. This represents the amount of money spent on a new purchase, and this is what you need to add to the total.\n",
    "\n",
    "Once the target amount is reached and the `while` loop is terminated, the final amount will be printed."
   ]
  },
  {
   "cell_type": "code",
   "execution_count": null,
   "metadata": {
    "colab": {
     "base_uri": "https://localhost:8080/"
    },
    "id": "eVBfoyx7Jm9X",
    "outputId": "27091cb5-f5f4-4b74-f92a-c2d822354a40"
   },
   "outputs": [
    {
     "name": "stdout",
     "output_type": "stream",
     "text": [
      "1551\n"
     ]
    }
   ],
   "source": [
    "from random import randint\n",
    "\n",
    "total_amount_spent = 1280\n",
    "target_amount = 1500\n",
    "\n",
    "while total_amount_spent <= target_amount: # write your code here\n",
    "\tnew_purchase = randint(30, 80) # we generate a random number from 30 to 80\n",
    "\ttotal_amount_spent += new_purchase # write your code here\n",
    "\n",
    "print(total_amount_spent)"
   ]
  },
  {
   "cell_type": "markdown",
   "metadata": {
    "id": "u7GIkFFnJm9Y"
   },
   "source": [
    "********Hint********\n",
    "\n",
    "In the `while` loop, you need to compare `total_amount_spent` with the `target_amount`. During each iteration of the loop, update the `total_amount_spent` variable by adding the `new_purchase` value to it."
   ]
  },
  {
   "cell_type": "markdown",
   "metadata": {
    "id": "IoyNnalCJm9Z"
   },
   "source": [
    "# Step 7\n",
    "\n",
    "Loop through the users list we’ve given you and print the first names of the clients who are less than 30 years old."
   ]
  },
  {
   "cell_type": "code",
   "execution_count": null,
   "metadata": {
    "colab": {
     "base_uri": "https://localhost:8080/"
    },
    "id": "pn5WkcpJJm9Z",
    "outputId": "e95fe449-868e-4a89-f9e6-6e3c7b62bd80"
   },
   "outputs": [
    {
     "name": "stdout",
     "output_type": "stream",
     "text": [
      "kate\n",
      "samantha\n",
      "emily\n",
      "jose\n",
      "james\n"
     ]
    }
   ],
   "source": [
    "users = [['32415', ['mike', 'reed'], 32, ['electronics', 'sport', 'books'], [894, 213, 173]],\n",
    "         ['31980', ['kate', 'morgan'], 24, ['clothes', 'books'], [439, 390]],\n",
    "         ['32156', ['john', 'doe'], 37, ['electronics', 'home', 'food'], [459, 120, 99]],\n",
    "         ['32761', ['samantha', 'smith'], 29, ['clothes', 'electronics', 'beauty'], [299, 679, 85]],\n",
    "         ['32984', ['david', 'white'], 41, ['books', 'home', 'sport'], [234, 329, 243]],\n",
    "         ['33001', ['emily', 'brown'], 26, ['beauty', 'home', 'food'], [213, 659, 79]],\n",
    "         ['33767', ['maria', 'garcia'], 33, ['clothes', 'food', 'beauty'], [499, 189, 63]],\n",
    "         ['33912', ['jose', 'martinez'], 22, ['sport', 'electronics', 'home'], [259, 549, 109]],\n",
    "         ['34009', ['lisa', 'wilson'], 35, ['home', 'books', 'clothes'], [329, 189, 329]],\n",
    "         ['34278', ['james', 'lee'], 28, ['beauty', 'clothes', 'electronics'], [189, 299, 579]]]\n",
    "\n",
    "\n",
    "for user in users:\n",
    "\tif user[2] < 30:\n",
    "\t    print(user[1][0])"
   ]
  },
  {
   "cell_type": "markdown",
   "metadata": {
    "id": "23wCUaWZJm9Z"
   },
   "source": [
    "**Hint:**\n",
    "\n",
    "Use a for loop to iterate over each row in the table. Use `if` inside a `for` loop to print the name of the user. The field `age` has the index 2."
   ]
  },
  {
   "cell_type": "markdown",
   "metadata": {
    "id": "0ok38JMoJm9Z"
   },
   "source": [
    "# Step 8\n",
    "\n",
    "Let’s print the first names of users who are less than 30 years and have total spending bigger than 1000 dollars."
   ]
  },
  {
   "cell_type": "code",
   "execution_count": null,
   "metadata": {
    "colab": {
     "base_uri": "https://localhost:8080/"
    },
    "id": "4oAW1QDFJm9Z",
    "outputId": "c514027b-62cc-42bd-a8bb-d29975abd663"
   },
   "outputs": [
    {
     "name": "stdout",
     "output_type": "stream",
     "text": [
      "samantha\n",
      "james\n"
     ]
    }
   ],
   "source": [
    "users = [['32415', ['mike', 'reed'], 32, ['electronics', 'sport', 'books'], [894, 213, 173]],\n",
    "         ['31980', ['kate', 'morgan'], 24, ['clothes', 'books'], [439, 390]],\n",
    "         ['32156', ['john', 'doe'], 37, ['electronics', 'home', 'food'], [459, 120, 99]],\n",
    "         ['32761', ['samantha', 'smith'], 29, ['clothes', 'electronics', 'beauty'], [299, 679, 85]],\n",
    "         ['32984', ['david', 'white'], 41, ['books', 'home', 'sport'], [234, 329, 243]],\n",
    "         ['33001', ['emily', 'brown'], 26, ['beauty', 'home', 'food'], [213, 659, 79]],\n",
    "         ['33767', ['maria', 'garcia'], 33, ['clothes', 'food', 'beauty'], [499, 189, 63]],\n",
    "         ['33912', ['jose', 'martinez'], 22, ['sport', 'electronics', 'home'], [259, 549, 109]],\n",
    "         ['34009', ['lisa', 'wilson'], 35, ['home', 'books', 'clothes'], [329, 189, 329]],\n",
    "         ['34278', ['james', 'lee'], 28, ['beauty', 'clothes', 'electronics'], [189, 299, 579]]]\n",
    "\n",
    "for user in users:\n",
    "    spendings_list = user[-1]\n",
    "    total_spendings = sum(spendings_list)\n",
    "\n",
    "    if user[2] < 30 and total_spendings > 1000:\n",
    "        print(user[1][0])"
   ]
  },
  {
   "cell_type": "markdown",
   "metadata": {
    "id": "5atbF9e_Jm9Z"
   },
   "source": [
    "**Hint:**\n",
    "\n",
    "Use a for loop to iterate over each row in the table. Use `if` inside a `for` loop to print the name of the user. The field `age` has the index 2. Use the `sum` function to sum the spending and then check if it is bigger than 1000 dollars."
   ]
  },
  {
   "cell_type": "markdown",
   "metadata": {
    "id": "H2jI5ljVJm9d"
   },
   "source": [
    "# Step 9\n",
    "\n",
    "Now let’s print the first name and age of all the users who have shopped for clothes. Print the first name and age in the same print statement."
   ]
  },
  {
   "cell_type": "code",
   "execution_count": null,
   "metadata": {
    "colab": {
     "base_uri": "https://localhost:8080/"
    },
    "id": "oSLk86udJm9d",
    "outputId": "5c323307-6591-4af9-c2d2-529a329367d6"
   },
   "outputs": [
    {
     "name": "stdout",
     "output_type": "stream",
     "text": [
      "kate 24\n",
      "samantha 29\n",
      "maria 33\n",
      "lisa 35\n",
      "james 28\n"
     ]
    }
   ],
   "source": [
    "users = [['32415', ['mike', 'reed'], 32, ['electronics', 'sport', 'books'], [894, 213, 173]],\n",
    "         ['31980', ['kate', 'morgan'], 24, ['clothes', 'books'], [439, 390]],\n",
    "         ['32156', ['john', 'doe'], 37, ['electronics', 'home', 'food'], [459, 120, 99]],\n",
    "         ['32761', ['samantha', 'smith'], 29, ['clothes', 'electronics', 'beauty'], [299, 679, 85]],\n",
    "         ['32984', ['david', 'white'], 41, ['books', 'home', 'sport'], [234, 329, 243]],\n",
    "         ['33001', ['emily', 'brown'], 26, ['beauty', 'home', 'food'], [213, 659, 79]],\n",
    "         ['33767', ['maria', 'garcia'], 33, ['clothes', 'food', 'beauty'], [499, 189, 63]],\n",
    "         ['33912', ['jose', 'martinez'], 22, ['sport', 'electronics', 'home'], [259, 549, 109]],\n",
    "         ['34009', ['lisa', 'wilson'], 35, ['home', 'books', 'clothes'], [329, 189, 329]],\n",
    "         ['34278', ['james', 'lee'], 28, ['beauty', 'clothes', 'electronics'], [189, 299, 579]]]\n",
    "\n",
    "for user in users:\n",
    "    categories = user[-2]\n",
    "    for category in categories:\n",
    "        if category == 'clothes':\n",
    "            print(user[1][0], user[2])"
   ]
  },
  {
   "cell_type": "markdown",
   "metadata": {
    "id": "EasWyEPqJm9d"
   },
   "source": [
    "**Hint:**\n",
    "\n",
    "Use a for loop to iterate over each row in the table. Then use another loop to check if this user shopped for clothes, and if yes, print the first name and age inside the same print statement, separating by comma: `print(firstname, age)`."
   ]
  },
  {
   "cell_type": "markdown",
   "metadata": {
    "id": "88QES-0NJzCJ"
   },
   "source": [
    "# Step 10\n",
    "\n",
    "Management requires a function that provides information on clients, including their names, ages, and total spending, filtered by specific categories. Based on previous code snippets, we will create a function called `get_client_by_cat` with the following specifications:\n",
    "\n",
    "1. **Parameters**:\n",
    "   - **users**: A list containing user data.\n",
    "   - **id_index**: The index where the client's ID is stored in the user list.\n",
    "   - **name_index**: The index where the client's name is stored in the user list.\n",
    "   - **age_index**: The index where the client's age is stored in the user list.\n",
    "   - **category_index**: The index where the client's purchase categories are listed.\n",
    "   - **amounts_index**: The index where the amounts spent in each category are stored.\n",
    "   - **filter_category**: A string representing the category name to filter clients by.\n",
    "\n",
    "2. **Output**:\n",
    "   - The function returns a list of sublists. Each sublist contains:\n",
    "     - The client's ID number.\n",
    "     - A sublist with the first and last names of the client.\n",
    "     - The client's age.\n",
    "     - An integer representing the total amount spent by the client.\n",
    "\n",
    "For example, if you call the function with the following parameters:\n",
    "\n",
    "```python\n",
    "get_client_by_cat([\n",
    "    ['32415', ['mike', 'reed'], 32, ['electronics', 'sport', 'books'], [894, 213, 173]]\n",
    "], 0, 1, 2, 3, 4, 'books')\n",
    "```\n",
    "\n",
    "The output will be:\n",
    "\n",
    "```python\n",
    "[['32415', ['mike', 'reed'], 32, 1280]]\n",
    "```\n",
    "\n",
    "This output shows that the client with ID '32415', named Mike Reed, aged 32, spent a total of 1280 in the 'books' category and other purchases.\n",
    "\n",
    "After doing your function, call it by passing our users list, the proper indexes, and the category 'home', and print the resulting list.\n"
   ]
  },
  {
   "cell_type": "code",
   "execution_count": null,
   "metadata": {
    "colab": {
     "base_uri": "https://localhost:8080/"
    },
    "id": "-Iqf7AcXJzCP",
    "outputId": "ab62869b-a028-4096-9553-e0a5b5a8c92e"
   },
   "outputs": [
    {
     "name": "stdout",
     "output_type": "stream",
     "text": [
      "[['32156', ['john', 'doe'], 37, 678], ['32984', ['david', 'white'], 41, 806], ['33001', ['emily', 'brown'], 26, 951], ['33912', ['jose', 'martinez'], 22, 917], ['34009', ['lisa', 'wilson'], 35, 847]]\n"
     ]
    }
   ],
   "source": [
    "def get_client_by_cat(users, id_index, name_index, age_index, category_index, amounts_index, filter_category):\n",
    "    filtered_clients = []\n",
    "\n",
    "    for user in users:\n",
    "        categories = user[category_index]\n",
    "        if filter_category in categories:\n",
    "            total_spent = sum(user[amounts_index])\n",
    "            filtered_clients.append([\n",
    "                user[id_index],          # Client's ID number\n",
    "                user[name_index],        # Client's name sublist\n",
    "                user[age_index],         # Client's age\n",
    "                total_spent              # Total amount spent\n",
    "            ])\n",
    "\n",
    "    return filtered_clients\n",
    "\n",
    "# Users list\n",
    "users = [\n",
    "    ['32415', ['mike', 'reed'], 32, ['electronics', 'sport', 'books'], [894, 213, 173]],\n",
    "    ['31980', ['kate', 'morgan'], 24, ['clothes', 'books'], [439, 390]],\n",
    "    ['32156', ['john', 'doe'], 37, ['electronics', 'home', 'food'], [459, 120, 99]],\n",
    "    ['32761', ['samantha', 'smith'], 29, ['clothes', 'electronics', 'beauty'], [299, 679, 85]],\n",
    "    ['32984', ['david', 'white'], 41, ['books', 'home', 'sport'], [234, 329, 243]],\n",
    "    ['33001', ['emily', 'brown'], 26, ['beauty', 'home', 'food'], [213, 659, 79]],\n",
    "    ['33767', ['maria', 'garcia'], 33, ['clothes', 'food', 'beauty'], [499, 189, 63]],\n",
    "    ['33912', ['jose', 'martinez'], 22, ['sport', 'electronics', 'home'], [259, 549, 109]],\n",
    "    ['34009', ['lisa', 'wilson'], 35, ['home', 'books', 'clothes'], [329, 189, 329]],\n",
    "    ['34278', ['james', 'lee'], 28, ['beauty', 'clothes', 'electronics'], [189, 299, 579]]\n",
    "]\n",
    "\n",
    "# Call the function with the 'home' category\n",
    "result = get_client_by_cat(users, 0, 1, 2, 3, 4, 'home')\n",
    "\n",
    "# Print the resulting list\n",
    "print(result)\n"
   ]
  },
  {
   "cell_type": "markdown",
   "metadata": {
    "id": "wkWQL9Z9JzCP"
   },
   "source": [
    "**Hint:**\n",
    "\n",
    "Use a for loop to iterate over each user in the list. For each user, check if the desired category (filter_category) is in their list of purchase categories. If the category is found, calculate the total amount spent by summing the amounts in the corresponding list. Then, create a sublist with the user's ID, name (as a list of first and last names), age, and total amount spent. Append this sublist to the final result list."
   ]
  }
 ],
 "metadata": {
  "colab": {
   "provenance": []
  },
  "kernelspec": {
   "display_name": "Python 3 (ipykernel)",
   "language": "python",
   "name": "python3"
  },
  "language_info": {
   "codemirror_mode": {
    "name": "ipython",
    "version": 3
   },
   "file_extension": ".py",
   "mimetype": "text/x-python",
   "name": "python",
   "nbconvert_exporter": "python",
   "pygments_lexer": "ipython3",
   "version": "3.12.7"
  }
 },
 "nbformat": 4,
 "nbformat_minor": 4
}
