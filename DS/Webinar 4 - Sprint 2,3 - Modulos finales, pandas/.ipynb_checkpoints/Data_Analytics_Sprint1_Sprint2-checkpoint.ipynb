{
 "cells": [
  {
   "cell_type": "markdown",
   "id": "0d7123bd",
   "metadata": {},
   "source": [
    "\n",
    "# Curso de Data Analytics - Sprint 1 & Sprint 2\n",
    "\n",
    "### Objetivo de la Clase\n",
    "El objetivo de esta clase es enseñar a los estudiantes conceptos avanzados sobre el uso de listas en Python, así como introducirlos al uso de bucles y sentencias condicionales. La clase está dividida en dos partes:\n",
    "\n",
    "- **Sprint 1:** Ejercicios avanzados con listas.\n",
    "- **Sprint 2:** Introducción a bucles y sentencias condicionales.\n",
    "\n",
    "Empezaremos con ejercicios prácticos para reforzar conceptos básicos y avanzados sobre listas, para luego pasar a conocer el manejo de bucles y las sentencias condicionales, fundamentales en Data Analytics.\n"
   ]
  },
  {
   "cell_type": "markdown",
   "id": "8b0993d6",
   "metadata": {},
   "source": [
    "\n",
    "## Sprint 1: Ejercicios Avanzados de Listas\n",
    "\n",
    "En esta sección veremos ejercicios avanzados sobre:\n",
    "\n",
    "1. Propiedades Básicas de las listas.\n",
    "2. Modificación de Listas.\n",
    "3. Ordenar Listas y trabajar con Listas Anidadas.\n",
    "4. Procesamiento de Strings.\n"
   ]
  },
  {
   "cell_type": "code",
   "execution_count": null,
   "id": "c11cd245",
   "metadata": {},
   "outputs": [],
   "source": [
    "\n",
    "# Definimos una lista de números\n",
    "numeros = [10, 20, 30, 40, 50, 60]\n",
    "\n",
    "# Accediendo a elementos individuales\n",
    "print(\"Primer elemento:\", numeros[0])\n",
    "print(\"Último elemento:\", numeros[-1])\n",
    "\n",
    "# Usando slicing para obtener un subconjunto de la lista\n",
    "print(\"Elementos del índice 1 al 3:\", numeros[1:4])\n",
    "print(\"Primeros tres elementos:\", numeros[:3])\n",
    "    "
   ]
  },
  {
   "cell_type": "code",
   "execution_count": null,
   "id": "7eea0789",
   "metadata": {},
   "outputs": [],
   "source": [
    "\n",
    "# Cambiando el valor de un elemento en la lista\n",
    "numeros[2] = 100\n",
    "print(\"Lista después de cambiar el tercer elemento:\", numeros)\n",
    "\n",
    "# Agregando y eliminando elementos de la lista\n",
    "numeros.append(70)\n",
    "print(\"Lista después de agregar 70:\", numeros)\n",
    "\n",
    "numeros.remove(40)\n",
    "print(\"Lista después de eliminar 40:\", numeros)\n",
    "    "
   ]
  },
  {
   "cell_type": "code",
   "execution_count": null,
   "id": "97fd0b87",
   "metadata": {},
   "outputs": [],
   "source": [
    "\n",
    "# Ordenar una lista de números\n",
    "otros_numeros = [3, 1, 4, 1, 5, 9]\n",
    "otros_numeros.sort()\n",
    "print(\"Lista ordenada:\", otros_numeros)\n",
    "\n",
    "# Definiendo una lista anidada (matriz)\n",
    "matriz = [[1, 2, 3], [4, 5, 6], [7, 8, 9]]\n",
    "print(\"Elemento [1][2] de la matriz:\", matriz[1][2])\n",
    "    "
   ]
  },
  {
   "cell_type": "code",
   "execution_count": null,
   "id": "3e412010",
   "metadata": {},
   "outputs": [],
   "source": [
    "\n",
    "# Procesamiento de Strings - Dividir y unir strings\n",
    "txt = \"Hola a todos\"\n",
    "partes = txt.split(\" \")\n",
    "print(\"Texto dividido:\", partes)\n",
    "\n",
    "nueva_cadena = \"-\".join(partes)\n",
    "print(\"Texto unido:\", nueva_cadena)\n",
    "    "
   ]
  },
  {
   "cell_type": "markdown",
   "id": "26e7df35",
   "metadata": {},
   "source": [
    "\n",
    "## Sprint 2: Introducción a Bucles y Sentencias Condicionales\n",
    "\n",
    "En esta sección aprenderemos sobre:\n",
    "\n",
    "1. Bucles (`for` y `while`) para iterar sobre listas y listas anidadas.\n",
    "2. Sentencias condicionales (`if`, `elif`, `else`) y cómo usarlas para tomar decisiones.\n"
   ]
  },
  {
   "cell_type": "code",
   "execution_count": null,
   "id": "60562099",
   "metadata": {},
   "outputs": [],
   "source": [
    "\n",
    "# Bucle for para iterar sobre una lista de números\n",
    "numeros = [1, 2, 3, 4, 5]\n",
    "for numero in numeros:\n",
    "    print(\"Número:\", numero)\n",
    "    "
   ]
  },
  {
   "cell_type": "code",
   "execution_count": null,
   "id": "62ce3961",
   "metadata": {},
   "outputs": [],
   "source": [
    "\n",
    "# Bucle sobre listas anidadas (matriz)\n",
    "for fila in matriz:\n",
    "    for elemento in fila:\n",
    "        print(\"Elemento de la matriz:\", elemento)\n",
    "    "
   ]
  },
  {
   "cell_type": "code",
   "execution_count": null,
   "id": "6a9f4ec4",
   "metadata": {},
   "outputs": [],
   "source": [
    "\n",
    "# Usar un bucle while para contar hasta 5\n",
    "contador = 0\n",
    "while contador < 5:\n",
    "    print(\"Contador:\", contador)\n",
    "    contador += 1\n",
    "    "
   ]
  },
  {
   "cell_type": "code",
   "execution_count": null,
   "id": "b6421e67",
   "metadata": {},
   "outputs": [],
   "source": [
    "\n",
    "# Uso de sentencias condicionales - if, elif, else\n",
    "edad = 25\n",
    "if edad < 18:\n",
    "    print(\"Eres menor de edad\")\n",
    "elif edad < 65:\n",
    "    print(\"Eres adulto\")\n",
    "else:\n",
    "    print(\"Eres mayor\")\n",
    "    "
   ]
  },
  {
   "cell_type": "code",
   "execution_count": null,
   "id": "819713b0",
   "metadata": {},
   "outputs": [],
   "source": [
    "\n",
    "# Filtrar elementos mayores a 20 en una lista\n",
    "numeros = [10, 25, 30, 15, 40]\n",
    "filtrados = [n for n in numeros if n > 20]\n",
    "print(\"Números mayores a 20:\", filtrados)\n",
    "\n",
    "# Verificar si un número está en un rango usando operadores lógicos\n",
    "a = 5\n",
    "if a > 0 and a < 10:\n",
    "    print(\"El número está en el rango de 1 a 9\")\n",
    "    "
   ]
  }
 ],
 "metadata": {
  "kernelspec": {
   "display_name": "Python 3",
   "language": "python",
   "name": "python3"
  },
  "language_info": {
   "name": "python",
   "version": "3.8.8"
  }
 },
 "nbformat": 4,
 "nbformat_minor": 5
}
