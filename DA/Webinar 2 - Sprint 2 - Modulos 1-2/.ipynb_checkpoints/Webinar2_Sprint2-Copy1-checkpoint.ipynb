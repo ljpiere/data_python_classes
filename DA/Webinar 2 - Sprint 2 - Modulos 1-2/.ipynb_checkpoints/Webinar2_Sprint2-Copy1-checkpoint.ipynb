{
 "cells": [
  {
   "cell_type": "markdown",
   "id": "37803673",
   "metadata": {},
   "source": [
    "# Data Analytics: Introducción a Listas y Bucles"
   ]
  },
  {
   "cell_type": "markdown",
   "id": "02608763",
   "metadata": {},
   "source": [
    "## Objetivo de la Clase\n",
    "En esta clase, exploraremos los conceptos fundamentales de Python, comenzando con listas y avanzando hacia el uso de bucles y sentencias condicionales. Los estudiantes aprenderán a manipular datos, realizar operaciones iterativas y aplicar lógica condicional, habilidades esenciales para la análisis de datos."
   ]
  },
  {
   "cell_type": "code",
   "execution_count": null,
   "id": "434706f4-35b0-47b9-8d1c-0286008f4488",
   "metadata": {},
   "outputs": [],
   "source": []
  },
  {
   "cell_type": "code",
   "execution_count": null,
   "id": "5619d831-1910-4b2c-a334-64a0748e9ca6",
   "metadata": {},
   "outputs": [],
   "source": []
  },
  {
   "cell_type": "code",
   "execution_count": null,
   "id": "47b75fe3-cc5a-4502-8be3-12216e6952f4",
   "metadata": {},
   "outputs": [],
   "source": []
  },
  {
   "cell_type": "code",
   "execution_count": null,
   "id": "87b525df-3e7f-4f81-a75e-7a8badb1a4e3",
   "metadata": {},
   "outputs": [],
   "source": []
  },
  {
   "cell_type": "code",
   "execution_count": null,
   "id": "ed386498-0a8b-4ad0-aab1-fe09dfdec770",
   "metadata": {},
   "outputs": [],
   "source": []
  },
  {
   "cell_type": "code",
   "execution_count": null,
   "id": "4c1d78f1-8c98-4bf3-bc52-57cc6e877e00",
   "metadata": {},
   "outputs": [],
   "source": []
  },
  {
   "cell_type": "markdown",
   "id": "13931e64-d0a1-40fc-8b67-cacedae6a476",
   "metadata": {},
   "source": [
    "- [ ] **Check:** ¿Entiendes el concepto de if/else?, y, ¿qué hay del for?"
   ]
  },
  {
   "cell_type": "code",
   "execution_count": 66,
   "id": "bce41752-9205-4eb9-9cff-bbf4555b8dd4",
   "metadata": {},
   "outputs": [],
   "source": [
    "letras = ['a','b','c',2]"
   ]
  },
  {
   "cell_type": "code",
   "execution_count": 68,
   "id": "8fdd2bba-1a55-48c2-b1d7-d0f31f980a69",
   "metadata": {},
   "outputs": [
    {
     "name": "stdout",
     "output_type": "stream",
     "text": [
      "a\n",
      "b\n",
      "c\n",
      "2\n"
     ]
    }
   ],
   "source": [
    "for i in letras:\n",
    "    print(i)\n"
   ]
  },
  {
   "cell_type": "code",
   "execution_count": 76,
   "id": "7e1dab52-a398-4e1e-88d1-39188c33d2ed",
   "metadata": {},
   "outputs": [],
   "source": [
    "a = 1"
   ]
  },
  {
   "cell_type": "code",
   "execution_count": 78,
   "id": "4691caf2-1124-4127-8f4e-ab71f8fdc3c4",
   "metadata": {},
   "outputs": [
    {
     "name": "stdout",
     "output_type": "stream",
     "text": [
      "es uno\n"
     ]
    }
   ],
   "source": [
    "if a == 1:\n",
    "    print(\"es uno\")\n",
    "if a == 2:\n",
    "    print(\"es dos\")\n",
    "if a == 3:\n",
    "    print(\"no sé qué número es a\")\n",
    "else:"
   ]
  },
  {
   "cell_type": "markdown",
   "id": "9180f698",
   "metadata": {},
   "source": [
    "#### Ejercicio 1: Bucles For\n",
    "1. Utiliza un bucle `for` para imprimir los elementos de la lista `mi_lista` que sean mayores a 5.\n",
    "- **Hint**: Utiliza una sentencia `if` dentro del bucle para verificar el valor de cada elemento."
   ]
  },
  {
   "cell_type": "code",
   "execution_count": null,
   "id": "a93cfdf9-fa4b-4ab8-a09f-e7dc72a772f8",
   "metadata": {},
   "outputs": [],
   "source": [
    "# Inicimos el código aquí\n"
   ]
  },
  {
   "cell_type": "code",
   "execution_count": 79,
   "id": "e5ce4f7a-5044-40b4-8579-569a8e52a914",
   "metadata": {},
   "outputs": [],
   "source": [
    "mi_lista = [1,6,5,7,9,0,11,8]"
   ]
  },
  {
   "cell_type": "code",
   "execution_count": 80,
   "id": "b62da316-5629-4494-bd78-bd6d3ba6c32f",
   "metadata": {},
   "outputs": [
    {
     "name": "stdout",
     "output_type": "stream",
     "text": [
      "False\n",
      "True\n",
      "False\n",
      "True\n",
      "True\n",
      "False\n",
      "True\n",
      "True\n"
     ]
    }
   ],
   "source": [
    "for x in mi_lista:\n",
    "    print(x>5)"
   ]
  },
  {
   "cell_type": "code",
   "execution_count": 82,
   "id": "de6908fc-09d1-4b00-8943-762b9e6be748",
   "metadata": {},
   "outputs": [
    {
     "name": "stdout",
     "output_type": "stream",
     "text": [
      "No es mayor a 5\n",
      "6\n",
      "No es mayor a 5\n",
      "7\n",
      "9\n",
      "No es mayor a 5\n",
      "11\n",
      "8\n"
     ]
    }
   ],
   "source": [
    "for x in mi_lista:\n",
    "    if x > 5:\n",
    "        print(x)\n",
    "    else:\n",
    "        print(\"No es mayor a 5\")"
   ]
  },
  {
   "cell_type": "code",
   "execution_count": 85,
   "id": "fe37c5eb-e3f4-4803-9a8a-ce1ddb98f08e",
   "metadata": {},
   "outputs": [
    {
     "name": "stdout",
     "output_type": "stream",
     "text": [
      "[1, 6, 5, 7, 9, 0, 11, 8]\n"
     ]
    }
   ],
   "source": [
    "print(mi_lista)"
   ]
  },
  {
   "cell_type": "code",
   "execution_count": null,
   "id": "044ed82e",
   "metadata": {},
   "outputs": [],
   "source": [
    "for elemento in mi_lista:\n",
    "    if elemento > 5:\n",
    "        print(elemento)"
   ]
  },
  {
   "cell_type": "code",
   "execution_count": 84,
   "id": "84e7db15-c8b6-4987-b656-59793b5ec8eb",
   "metadata": {},
   "outputs": [
    {
     "name": "stdout",
     "output_type": "stream",
     "text": [
      "1\n",
      "6\n",
      "5\n",
      "7\n",
      "9\n",
      "0\n",
      "11\n",
      "8\n"
     ]
    }
   ],
   "source": [
    "for x in mi_lista:\n",
    "    print(x)"
   ]
  },
  {
   "cell_type": "markdown",
   "id": "ba8d688a",
   "metadata": {},
   "source": [
    "- [ ] **Check:** ¿Pudiste imprimir solo los elementos mayores a 5?"
   ]
  },
  {
   "cell_type": "markdown",
   "id": "9433f0d9",
   "metadata": {},
   "source": [
    "#### Ejercicio 2: Bucles While\n",
    "2. Utiliza un bucle `while` para reducir un valor numérico hasta llegar a 0.\n",
    "- [ ] **Check:** ¿Entiendes el concepto de while?\n",
    "- **Hint**: Asegúrate de reducir el valor en cada iteración para evitar un bucle infinito."
   ]
  },
  {
   "cell_type": "code",
   "execution_count": null,
   "id": "739344a9-4481-45f0-aba4-e5909bf8b0e7",
   "metadata": {},
   "outputs": [],
   "source": [
    "# Inicimos el código aquí\n"
   ]
  },
  {
   "cell_type": "code",
   "execution_count": null,
   "id": "15a29840-54df-40f2-82c9-57d054cf7060",
   "metadata": {},
   "outputs": [],
   "source": []
  },
  {
   "cell_type": "code",
   "execution_count": null,
   "id": "3dfb886b-3672-4f18-ad82-0ef562dd5524",
   "metadata": {},
   "outputs": [],
   "source": []
  },
  {
   "cell_type": "code",
   "execution_count": null,
   "id": "de0b9734",
   "metadata": {},
   "outputs": [],
   "source": [
    "valor = 10\n",
    "while valor > 0:\n",
    "    print(valor)\n",
    "    valor -= 1"
   ]
  },
  {
   "cell_type": "markdown",
   "id": "0b47a4c1",
   "metadata": {},
   "source": [
    "- [ ] **Check:** ¿Entiendes cómo se controla la ejecución de un bucle `while`?"
   ]
  },
  {
   "cell_type": "markdown",
   "id": "2ebd9c99",
   "metadata": {},
   "source": [
    "#### Ejercicio 3: Sentencias Condicionales\n",
    "3. Crea una lista de edades y utiliza un bucle para imprimir si cada persona es mayor o menor de edad.\n",
    "- **Hint**: Utiliza `if` y `else` para cada elemento de la lista."
   ]
  },
  {
   "cell_type": "code",
   "execution_count": null,
   "id": "d0746c70-61f8-49c9-82f4-63524989cfba",
   "metadata": {},
   "outputs": [],
   "source": [
    "# Inicimos el código aquí\n"
   ]
  },
  {
   "cell_type": "code",
   "execution_count": null,
   "id": "e6165805-9ee3-4b03-aa3d-6950a71b297a",
   "metadata": {},
   "outputs": [],
   "source": []
  },
  {
   "cell_type": "code",
   "execution_count": null,
   "id": "4eb64bb3-a412-4c15-8093-b76b14e54ad4",
   "metadata": {},
   "outputs": [],
   "source": []
  },
  {
   "cell_type": "code",
   "execution_count": null,
   "id": "8a03d99b",
   "metadata": {},
   "outputs": [],
   "source": [
    "edades = [12, 18, 25, 14, 30]\n",
    "for edad in edades:\n",
    "    if edad >= 18:\n",
    "        print(f\"{edad}: Mayor de edad\")\n",
    "    else:\n",
    "        print(f\"{edad}: Menor de edad\")"
   ]
  },
  {
   "cell_type": "markdown",
   "id": "ffc2d343",
   "metadata": {},
   "source": [
    "- [ ] **Check:** ¿Pudiste clasificar correctamente cada edad?"
   ]
  },
  {
   "cell_type": "markdown",
   "id": "0631446e",
   "metadata": {},
   "source": [
    "#### Ejercicio 4: Filtrar una Lista\n",
    "4. Filtra los números pares de una lista utilizando un bucle.\n",
    "- **Hint**: Utiliza el operador de módulo `%` para verificar si un número es par."
   ]
  },
  {
   "cell_type": "code",
   "execution_count": null,
   "id": "5fc1a7d9-1112-492b-9492-0d2a89901e3e",
   "metadata": {},
   "outputs": [],
   "source": [
    "# Inicimos el código aquí\n"
   ]
  },
  {
   "cell_type": "code",
   "execution_count": null,
   "id": "7887ae02-3838-4ec0-8812-d1e4baf7fb16",
   "metadata": {},
   "outputs": [],
   "source": []
  },
  {
   "cell_type": "code",
   "execution_count": null,
   "id": "13690f9f-57fc-43cc-8590-32326a8c5806",
   "metadata": {},
   "outputs": [],
   "source": []
  },
  {
   "cell_type": "code",
   "execution_count": null,
   "id": "5502ef1b",
   "metadata": {},
   "outputs": [],
   "source": [
    "numeros = [1, 2, 3, 4, 5, 6, 7, 8]\n",
    "numeros_pares = [num for num in numeros if num % 2 == 0]\n",
    "numeros_pares"
   ]
  },
  {
   "cell_type": "markdown",
   "id": "ff73981f",
   "metadata": {},
   "source": [
    "- [ ] **Check:** ¿Pudiste filtrar solo los números pares?"
   ]
  },
  {
   "cell_type": "markdown",
   "id": "68b0d0c7",
   "metadata": {},
   "source": [
    "### Conclusiones\n",
    "Hoy hemos cubierto los conceptos básicos de listas, bucles y sentencias condicionales, que son herramientas fundamentales para el análisis de datos. Asegúrate de practicar estos conceptos para afianzarlos."
   ]
  },
  {
   "cell_type": "markdown",
   "id": "f5becf99",
   "metadata": {},
   "source": [
    "### Tarea\n",
    "- Practica con más ejercicios de listas y bucles en [w3schools - Python Lists](https://www.w3schools.com/python/python_lists.asp).\n",
    "- Resuelve algunos ejercicios de bucles en [HackerRank - Python Loops](https://www.hackerrank.com/domains/tutorials/10-days-of-python)."
   ]
  },
  {
   "cell_type": "markdown",
   "id": "7458bda6",
   "metadata": {},
   "source": [
    "### Takeaways\n",
    "- Utilizar `list comprehensions` es una forma eficiente y elegante de procesar listas.\n",
    "- Los bucles `while` requieren condiciones bien definidas para evitar ejecuciones infinitas.\n",
    "- Aprender a combinar sentencias `if` con bucles es clave para realizar operaciones de filtrado y transformación en listas."
   ]
  }
 ],
 "metadata": {
  "kernelspec": {
   "display_name": "Python 3 (ipykernel)",
   "language": "python",
   "name": "python3"
  },
  "language_info": {
   "codemirror_mode": {
    "name": "ipython",
    "version": 3
   },
   "file_extension": ".py",
   "mimetype": "text/x-python",
   "name": "python",
   "nbconvert_exporter": "python",
   "pygments_lexer": "ipython3",
   "version": "3.12.7"
  }
 },
 "nbformat": 4,
 "nbformat_minor": 5
}
