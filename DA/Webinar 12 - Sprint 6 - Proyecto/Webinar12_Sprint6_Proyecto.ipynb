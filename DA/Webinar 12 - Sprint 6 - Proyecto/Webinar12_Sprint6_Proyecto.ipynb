{
 "cells": [
  {
   "cell_type": "markdown",
   "id": "b7c34683-e0f3-4c87-bcf0-a171aec3fe25",
   "metadata": {},
   "source": [
    "# Bienvenido a tu primer proyecto como data analyst"
   ]
  },
  {
   "cell_type": "markdown",
   "id": "b5bb9214-3238-4fce-9f3e-4b16c5086bd6",
   "metadata": {},
   "source": [
    "Antes de iniciar aquí hay unos pasos que podrías seguir:"
   ]
  },
  {
   "cell_type": "markdown",
   "id": "4e3f5ccc-aee0-42cc-a343-ddccf3f12eb6",
   "metadata": {},
   "source": [
    "Dataset: https://www.kaggle.com/datasets/oktayrdeki/traffic-accidents"
   ]
  },
  {
   "cell_type": "markdown",
   "id": "34956749-4de8-4dd0-9e4b-55bcf7164a43",
   "metadata": {},
   "source": [
    "## 0. Librerías"
   ]
  },
  {
   "cell_type": "code",
   "execution_count": 3,
   "id": "91472f2a-7af0-4018-8be9-6a52301997fa",
   "metadata": {},
   "outputs": [],
   "source": [
    "import pandas as pd\n",
    "import matplotlib.pyplot as plt\n",
    "import seaborn as sns\n",
    "from scipy.stats import ttest_ind, levene, pearsonr, ttest_1samp"
   ]
  },
  {
   "cell_type": "markdown",
   "id": "a791267b-f034-4560-b9da-c35da9ff5866",
   "metadata": {},
   "source": [
    "## 1. Carga del dataset"
   ]
  },
  {
   "cell_type": "code",
   "execution_count": 4,
   "id": "74c7714f-0a94-4dc2-84d6-45ea9558b24c",
   "metadata": {},
   "outputs": [],
   "source": [
    "# Cargar el archivo de datos\n",
    "file_path = \"traffic_accidents.csv\"\n",
    "df = pd.read_csv(file_path)"
   ]
  },
  {
   "cell_type": "markdown",
   "id": "985d9709-c0c5-4515-abd6-a38003b61772",
   "metadata": {},
   "source": [
    "## Paso 1: Exploración inicial"
   ]
  },
  {
   "cell_type": "code",
   "execution_count": 5,
   "id": "1c4acae1-9659-4764-847d-b25674528a27",
   "metadata": {},
   "outputs": [
    {
     "name": "stdout",
     "output_type": "stream",
     "text": [
      "Información del dataset:\n",
      "<class 'pandas.core.frame.DataFrame'>\n",
      "RangeIndex: 209306 entries, 0 to 209305\n",
      "Data columns (total 24 columns):\n",
      " #   Column                         Non-Null Count   Dtype  \n",
      "---  ------                         --------------   -----  \n",
      " 0   crash_date                     209306 non-null  object \n",
      " 1   traffic_control_device         209306 non-null  object \n",
      " 2   weather_condition              209306 non-null  object \n",
      " 3   lighting_condition             209306 non-null  object \n",
      " 4   first_crash_type               209306 non-null  object \n",
      " 5   trafficway_type                209306 non-null  object \n",
      " 6   alignment                      209306 non-null  object \n",
      " 7   roadway_surface_cond           209306 non-null  object \n",
      " 8   road_defect                    209306 non-null  object \n",
      " 9   crash_type                     209306 non-null  object \n",
      " 10  intersection_related_i         209306 non-null  object \n",
      " 11  damage                         209306 non-null  object \n",
      " 12  prim_contributory_cause        209306 non-null  object \n",
      " 13  num_units                      209306 non-null  int64  \n",
      " 14  most_severe_injury             209306 non-null  object \n",
      " 15  injuries_total                 209306 non-null  float64\n",
      " 16  injuries_fatal                 209306 non-null  float64\n",
      " 17  injuries_incapacitating        209306 non-null  float64\n",
      " 18  injuries_non_incapacitating    209306 non-null  float64\n",
      " 19  injuries_reported_not_evident  209306 non-null  float64\n",
      " 20  injuries_no_indication         209306 non-null  float64\n",
      " 21  crash_hour                     209306 non-null  int64  \n",
      " 22  crash_day_of_week              209306 non-null  int64  \n",
      " 23  crash_month                    209306 non-null  int64  \n",
      "dtypes: float64(6), int64(4), object(14)\n",
      "memory usage: 38.3+ MB\n"
     ]
    }
   ],
   "source": [
    "# Mostrar información general del dataset\n",
    "print(\"Información del dataset:\")\n",
    "df.info()"
   ]
  },
  {
   "cell_type": "code",
   "execution_count": 6,
   "id": "52bb21d9-4ddf-4305-9293-7612846cd90a",
   "metadata": {},
   "outputs": [
    {
     "name": "stdout",
     "output_type": "stream",
     "text": [
      "\n",
      "Nombres de las columnas:\n",
      "Index(['crash_date', 'traffic_control_device', 'weather_condition',\n",
      "       'lighting_condition', 'first_crash_type', 'trafficway_type',\n",
      "       'alignment', 'roadway_surface_cond', 'road_defect', 'crash_type',\n",
      "       'intersection_related_i', 'damage', 'prim_contributory_cause',\n",
      "       'num_units', 'most_severe_injury', 'injuries_total', 'injuries_fatal',\n",
      "       'injuries_incapacitating', 'injuries_non_incapacitating',\n",
      "       'injuries_reported_not_evident', 'injuries_no_indication', 'crash_hour',\n",
      "       'crash_day_of_week', 'crash_month'],\n",
      "      dtype='object')\n"
     ]
    }
   ],
   "source": [
    "# Mostrar nombres de columnas para verificar estructura\n",
    "df_columns = df.columns\n",
    "print(\"\\nNombres de las columnas:\")\n",
    "print(df_columns)"
   ]
  },
  {
   "cell_type": "code",
   "execution_count": 23,
   "id": "97c249e3-f871-4d7c-84d4-cee10e088a9f",
   "metadata": {},
   "outputs": [
    {
     "name": "stdout",
     "output_type": "stream",
     "text": [
      "\n",
      "Primeras filas del dataset:\n"
     ]
    },
    {
     "data": {
      "text/html": [
       "<div>\n",
       "<style scoped>\n",
       "    .dataframe tbody tr th:only-of-type {\n",
       "        vertical-align: middle;\n",
       "    }\n",
       "\n",
       "    .dataframe tbody tr th {\n",
       "        vertical-align: top;\n",
       "    }\n",
       "\n",
       "    .dataframe thead th {\n",
       "        text-align: right;\n",
       "    }\n",
       "</style>\n",
       "<table border=\"1\" class=\"dataframe\">\n",
       "  <thead>\n",
       "    <tr style=\"text-align: right;\">\n",
       "      <th></th>\n",
       "      <th>crash_date</th>\n",
       "      <th>traffic_control_device</th>\n",
       "      <th>weather_condition</th>\n",
       "      <th>lighting_condition</th>\n",
       "      <th>first_crash_type</th>\n",
       "      <th>trafficway_type</th>\n",
       "      <th>alignment</th>\n",
       "      <th>roadway_surface_cond</th>\n",
       "      <th>road_defect</th>\n",
       "      <th>crash_type</th>\n",
       "      <th>...</th>\n",
       "      <th>injuries_incapacitating</th>\n",
       "      <th>injuries_non_incapacitating</th>\n",
       "      <th>injuries_reported_not_evident</th>\n",
       "      <th>injuries_no_indication</th>\n",
       "      <th>crash_hour</th>\n",
       "      <th>crash_day_of_week</th>\n",
       "      <th>crash_month</th>\n",
       "      <th>crash_year</th>\n",
       "      <th>day_of_week</th>\n",
       "      <th>total_injuries</th>\n",
       "    </tr>\n",
       "  </thead>\n",
       "  <tbody>\n",
       "    <tr>\n",
       "      <th>0</th>\n",
       "      <td>2023-07-29 13:00:00</td>\n",
       "      <td>TRAFFIC SIGNAL</td>\n",
       "      <td>CLEAR</td>\n",
       "      <td>DAYLIGHT</td>\n",
       "      <td>TURNING</td>\n",
       "      <td>NOT DIVIDED</td>\n",
       "      <td>STRAIGHT AND LEVEL</td>\n",
       "      <td>UNKNOWN</td>\n",
       "      <td>UNKNOWN</td>\n",
       "      <td>NO INJURY / DRIVE AWAY</td>\n",
       "      <td>...</td>\n",
       "      <td>0.0</td>\n",
       "      <td>0.0</td>\n",
       "      <td>0.0</td>\n",
       "      <td>3.0</td>\n",
       "      <td>13</td>\n",
       "      <td>7</td>\n",
       "      <td>7</td>\n",
       "      <td>2023</td>\n",
       "      <td>Saturday</td>\n",
       "      <td>80091.0</td>\n",
       "    </tr>\n",
       "    <tr>\n",
       "      <th>1</th>\n",
       "      <td>2023-08-13 00:11:00</td>\n",
       "      <td>TRAFFIC SIGNAL</td>\n",
       "      <td>CLEAR</td>\n",
       "      <td>DARKNESS, LIGHTED ROAD</td>\n",
       "      <td>TURNING</td>\n",
       "      <td>FOUR WAY</td>\n",
       "      <td>STRAIGHT AND LEVEL</td>\n",
       "      <td>DRY</td>\n",
       "      <td>NO DEFECTS</td>\n",
       "      <td>NO INJURY / DRIVE AWAY</td>\n",
       "      <td>...</td>\n",
       "      <td>0.0</td>\n",
       "      <td>0.0</td>\n",
       "      <td>0.0</td>\n",
       "      <td>2.0</td>\n",
       "      <td>0</td>\n",
       "      <td>1</td>\n",
       "      <td>8</td>\n",
       "      <td>2023</td>\n",
       "      <td>Sunday</td>\n",
       "      <td>80091.0</td>\n",
       "    </tr>\n",
       "    <tr>\n",
       "      <th>2</th>\n",
       "      <td>2021-12-09 10:30:00</td>\n",
       "      <td>TRAFFIC SIGNAL</td>\n",
       "      <td>CLEAR</td>\n",
       "      <td>DAYLIGHT</td>\n",
       "      <td>REAR END</td>\n",
       "      <td>T-INTERSECTION</td>\n",
       "      <td>STRAIGHT AND LEVEL</td>\n",
       "      <td>DRY</td>\n",
       "      <td>NO DEFECTS</td>\n",
       "      <td>NO INJURY / DRIVE AWAY</td>\n",
       "      <td>...</td>\n",
       "      <td>0.0</td>\n",
       "      <td>0.0</td>\n",
       "      <td>0.0</td>\n",
       "      <td>3.0</td>\n",
       "      <td>10</td>\n",
       "      <td>5</td>\n",
       "      <td>12</td>\n",
       "      <td>2021</td>\n",
       "      <td>Thursday</td>\n",
       "      <td>80091.0</td>\n",
       "    </tr>\n",
       "    <tr>\n",
       "      <th>3</th>\n",
       "      <td>2023-08-09 19:55:00</td>\n",
       "      <td>TRAFFIC SIGNAL</td>\n",
       "      <td>CLEAR</td>\n",
       "      <td>DAYLIGHT</td>\n",
       "      <td>ANGLE</td>\n",
       "      <td>FOUR WAY</td>\n",
       "      <td>STRAIGHT AND LEVEL</td>\n",
       "      <td>DRY</td>\n",
       "      <td>NO DEFECTS</td>\n",
       "      <td>INJURY AND / OR TOW DUE TO CRASH</td>\n",
       "      <td>...</td>\n",
       "      <td>0.0</td>\n",
       "      <td>5.0</td>\n",
       "      <td>0.0</td>\n",
       "      <td>0.0</td>\n",
       "      <td>19</td>\n",
       "      <td>4</td>\n",
       "      <td>8</td>\n",
       "      <td>2023</td>\n",
       "      <td>Wednesday</td>\n",
       "      <td>80091.0</td>\n",
       "    </tr>\n",
       "    <tr>\n",
       "      <th>4</th>\n",
       "      <td>2023-08-19 14:55:00</td>\n",
       "      <td>TRAFFIC SIGNAL</td>\n",
       "      <td>CLEAR</td>\n",
       "      <td>DAYLIGHT</td>\n",
       "      <td>REAR END</td>\n",
       "      <td>T-INTERSECTION</td>\n",
       "      <td>STRAIGHT AND LEVEL</td>\n",
       "      <td>UNKNOWN</td>\n",
       "      <td>UNKNOWN</td>\n",
       "      <td>NO INJURY / DRIVE AWAY</td>\n",
       "      <td>...</td>\n",
       "      <td>0.0</td>\n",
       "      <td>0.0</td>\n",
       "      <td>0.0</td>\n",
       "      <td>3.0</td>\n",
       "      <td>14</td>\n",
       "      <td>7</td>\n",
       "      <td>8</td>\n",
       "      <td>2023</td>\n",
       "      <td>Saturday</td>\n",
       "      <td>80091.0</td>\n",
       "    </tr>\n",
       "  </tbody>\n",
       "</table>\n",
       "<p>5 rows × 27 columns</p>\n",
       "</div>"
      ],
      "text/plain": [
       "           crash_date traffic_control_device weather_condition  \\\n",
       "0 2023-07-29 13:00:00         TRAFFIC SIGNAL             CLEAR   \n",
       "1 2023-08-13 00:11:00         TRAFFIC SIGNAL             CLEAR   \n",
       "2 2021-12-09 10:30:00         TRAFFIC SIGNAL             CLEAR   \n",
       "3 2023-08-09 19:55:00         TRAFFIC SIGNAL             CLEAR   \n",
       "4 2023-08-19 14:55:00         TRAFFIC SIGNAL             CLEAR   \n",
       "\n",
       "       lighting_condition first_crash_type trafficway_type  \\\n",
       "0                DAYLIGHT          TURNING     NOT DIVIDED   \n",
       "1  DARKNESS, LIGHTED ROAD          TURNING        FOUR WAY   \n",
       "2                DAYLIGHT         REAR END  T-INTERSECTION   \n",
       "3                DAYLIGHT            ANGLE        FOUR WAY   \n",
       "4                DAYLIGHT         REAR END  T-INTERSECTION   \n",
       "\n",
       "            alignment roadway_surface_cond road_defect  \\\n",
       "0  STRAIGHT AND LEVEL              UNKNOWN     UNKNOWN   \n",
       "1  STRAIGHT AND LEVEL                  DRY  NO DEFECTS   \n",
       "2  STRAIGHT AND LEVEL                  DRY  NO DEFECTS   \n",
       "3  STRAIGHT AND LEVEL                  DRY  NO DEFECTS   \n",
       "4  STRAIGHT AND LEVEL              UNKNOWN     UNKNOWN   \n",
       "\n",
       "                         crash_type  ... injuries_incapacitating  \\\n",
       "0            NO INJURY / DRIVE AWAY  ...                     0.0   \n",
       "1            NO INJURY / DRIVE AWAY  ...                     0.0   \n",
       "2            NO INJURY / DRIVE AWAY  ...                     0.0   \n",
       "3  INJURY AND / OR TOW DUE TO CRASH  ...                     0.0   \n",
       "4            NO INJURY / DRIVE AWAY  ...                     0.0   \n",
       "\n",
       "  injuries_non_incapacitating injuries_reported_not_evident  \\\n",
       "0                         0.0                           0.0   \n",
       "1                         0.0                           0.0   \n",
       "2                         0.0                           0.0   \n",
       "3                         5.0                           0.0   \n",
       "4                         0.0                           0.0   \n",
       "\n",
       "   injuries_no_indication crash_hour  crash_day_of_week  crash_month  \\\n",
       "0                     3.0         13                  7            7   \n",
       "1                     2.0          0                  1            8   \n",
       "2                     3.0         10                  5           12   \n",
       "3                     0.0         19                  4            8   \n",
       "4                     3.0         14                  7            8   \n",
       "\n",
       "   crash_year  day_of_week  total_injuries  \n",
       "0        2023     Saturday         80091.0  \n",
       "1        2023       Sunday         80091.0  \n",
       "2        2021     Thursday         80091.0  \n",
       "3        2023    Wednesday         80091.0  \n",
       "4        2023     Saturday         80091.0  \n",
       "\n",
       "[5 rows x 27 columns]"
      ]
     },
     "execution_count": 23,
     "metadata": {},
     "output_type": "execute_result"
    }
   ],
   "source": [
    "# Mostrar las primeras filas para entender los datos\n",
    "print(\"\\nPrimeras filas del dataset:\")\n",
    "df.head()"
   ]
  },
  {
   "cell_type": "code",
   "execution_count": 24,
   "id": "400d97da-473c-413a-a470-3fd8e1379bf7",
   "metadata": {},
   "outputs": [
    {
     "name": "stdout",
     "output_type": "stream",
     "text": [
      "\n",
      "Últimas filas del dataset:\n"
     ]
    },
    {
     "data": {
      "text/html": [
       "<div>\n",
       "<style scoped>\n",
       "    .dataframe tbody tr th:only-of-type {\n",
       "        vertical-align: middle;\n",
       "    }\n",
       "\n",
       "    .dataframe tbody tr th {\n",
       "        vertical-align: top;\n",
       "    }\n",
       "\n",
       "    .dataframe thead th {\n",
       "        text-align: right;\n",
       "    }\n",
       "</style>\n",
       "<table border=\"1\" class=\"dataframe\">\n",
       "  <thead>\n",
       "    <tr style=\"text-align: right;\">\n",
       "      <th></th>\n",
       "      <th>crash_date</th>\n",
       "      <th>traffic_control_device</th>\n",
       "      <th>weather_condition</th>\n",
       "      <th>lighting_condition</th>\n",
       "      <th>first_crash_type</th>\n",
       "      <th>trafficway_type</th>\n",
       "      <th>alignment</th>\n",
       "      <th>roadway_surface_cond</th>\n",
       "      <th>road_defect</th>\n",
       "      <th>crash_type</th>\n",
       "      <th>...</th>\n",
       "      <th>injuries_incapacitating</th>\n",
       "      <th>injuries_non_incapacitating</th>\n",
       "      <th>injuries_reported_not_evident</th>\n",
       "      <th>injuries_no_indication</th>\n",
       "      <th>crash_hour</th>\n",
       "      <th>crash_day_of_week</th>\n",
       "      <th>crash_month</th>\n",
       "      <th>crash_year</th>\n",
       "      <th>day_of_week</th>\n",
       "      <th>total_injuries</th>\n",
       "    </tr>\n",
       "  </thead>\n",
       "  <tbody>\n",
       "    <tr>\n",
       "      <th>209301</th>\n",
       "      <td>2023-09-13 13:08:00</td>\n",
       "      <td>UNKNOWN</td>\n",
       "      <td>UNKNOWN</td>\n",
       "      <td>UNKNOWN</td>\n",
       "      <td>TURNING</td>\n",
       "      <td>FOUR WAY</td>\n",
       "      <td>STRAIGHT AND LEVEL</td>\n",
       "      <td>UNKNOWN</td>\n",
       "      <td>UNKNOWN</td>\n",
       "      <td>NO INJURY / DRIVE AWAY</td>\n",
       "      <td>...</td>\n",
       "      <td>0.0</td>\n",
       "      <td>0.0</td>\n",
       "      <td>0.0</td>\n",
       "      <td>2.0</td>\n",
       "      <td>13</td>\n",
       "      <td>4</td>\n",
       "      <td>9</td>\n",
       "      <td>2023</td>\n",
       "      <td>Wednesday</td>\n",
       "      <td>80091.0</td>\n",
       "    </tr>\n",
       "    <tr>\n",
       "      <th>209302</th>\n",
       "      <td>2023-07-18 14:10:00</td>\n",
       "      <td>UNKNOWN</td>\n",
       "      <td>CLEAR</td>\n",
       "      <td>DAYLIGHT</td>\n",
       "      <td>SIDESWIPE SAME DIRECTION</td>\n",
       "      <td>NOT DIVIDED</td>\n",
       "      <td>STRAIGHT AND LEVEL</td>\n",
       "      <td>DRY</td>\n",
       "      <td>NO DEFECTS</td>\n",
       "      <td>NO INJURY / DRIVE AWAY</td>\n",
       "      <td>...</td>\n",
       "      <td>0.0</td>\n",
       "      <td>0.0</td>\n",
       "      <td>0.0</td>\n",
       "      <td>2.0</td>\n",
       "      <td>14</td>\n",
       "      <td>3</td>\n",
       "      <td>7</td>\n",
       "      <td>2023</td>\n",
       "      <td>Tuesday</td>\n",
       "      <td>80091.0</td>\n",
       "    </tr>\n",
       "    <tr>\n",
       "      <th>209303</th>\n",
       "      <td>2019-10-23 13:32:00</td>\n",
       "      <td>TRAFFIC SIGNAL</td>\n",
       "      <td>CLEAR</td>\n",
       "      <td>DAYLIGHT</td>\n",
       "      <td>PEDESTRIAN</td>\n",
       "      <td>DIVIDED - W/MEDIAN (NOT RAISED)</td>\n",
       "      <td>STRAIGHT ON GRADE</td>\n",
       "      <td>DRY</td>\n",
       "      <td>NO DEFECTS</td>\n",
       "      <td>INJURY AND / OR TOW DUE TO CRASH</td>\n",
       "      <td>...</td>\n",
       "      <td>2.0</td>\n",
       "      <td>0.0</td>\n",
       "      <td>0.0</td>\n",
       "      <td>0.0</td>\n",
       "      <td>13</td>\n",
       "      <td>4</td>\n",
       "      <td>10</td>\n",
       "      <td>2019</td>\n",
       "      <td>Wednesday</td>\n",
       "      <td>80091.0</td>\n",
       "    </tr>\n",
       "    <tr>\n",
       "      <th>209304</th>\n",
       "      <td>2020-06-01 15:23:00</td>\n",
       "      <td>NO CONTROLS</td>\n",
       "      <td>CLEAR</td>\n",
       "      <td>DAYLIGHT</td>\n",
       "      <td>PEDESTRIAN</td>\n",
       "      <td>T-INTERSECTION</td>\n",
       "      <td>STRAIGHT AND LEVEL</td>\n",
       "      <td>DRY</td>\n",
       "      <td>NO DEFECTS</td>\n",
       "      <td>INJURY AND / OR TOW DUE TO CRASH</td>\n",
       "      <td>...</td>\n",
       "      <td>0.0</td>\n",
       "      <td>1.0</td>\n",
       "      <td>0.0</td>\n",
       "      <td>1.0</td>\n",
       "      <td>15</td>\n",
       "      <td>2</td>\n",
       "      <td>6</td>\n",
       "      <td>2020</td>\n",
       "      <td>Monday</td>\n",
       "      <td>80091.0</td>\n",
       "    </tr>\n",
       "    <tr>\n",
       "      <th>209305</th>\n",
       "      <td>2022-12-16 12:10:00</td>\n",
       "      <td>TRAFFIC SIGNAL</td>\n",
       "      <td>CLEAR</td>\n",
       "      <td>DAYLIGHT</td>\n",
       "      <td>TURNING</td>\n",
       "      <td>FOUR WAY</td>\n",
       "      <td>STRAIGHT AND LEVEL</td>\n",
       "      <td>WET</td>\n",
       "      <td>NO DEFECTS</td>\n",
       "      <td>NO INJURY / DRIVE AWAY</td>\n",
       "      <td>...</td>\n",
       "      <td>0.0</td>\n",
       "      <td>0.0</td>\n",
       "      <td>0.0</td>\n",
       "      <td>2.0</td>\n",
       "      <td>12</td>\n",
       "      <td>6</td>\n",
       "      <td>12</td>\n",
       "      <td>2022</td>\n",
       "      <td>Friday</td>\n",
       "      <td>80091.0</td>\n",
       "    </tr>\n",
       "  </tbody>\n",
       "</table>\n",
       "<p>5 rows × 27 columns</p>\n",
       "</div>"
      ],
      "text/plain": [
       "                crash_date traffic_control_device weather_condition  \\\n",
       "209301 2023-09-13 13:08:00                UNKNOWN           UNKNOWN   \n",
       "209302 2023-07-18 14:10:00                UNKNOWN             CLEAR   \n",
       "209303 2019-10-23 13:32:00         TRAFFIC SIGNAL             CLEAR   \n",
       "209304 2020-06-01 15:23:00            NO CONTROLS             CLEAR   \n",
       "209305 2022-12-16 12:10:00         TRAFFIC SIGNAL             CLEAR   \n",
       "\n",
       "       lighting_condition          first_crash_type  \\\n",
       "209301            UNKNOWN                   TURNING   \n",
       "209302           DAYLIGHT  SIDESWIPE SAME DIRECTION   \n",
       "209303           DAYLIGHT                PEDESTRIAN   \n",
       "209304           DAYLIGHT                PEDESTRIAN   \n",
       "209305           DAYLIGHT                   TURNING   \n",
       "\n",
       "                        trafficway_type           alignment  \\\n",
       "209301                         FOUR WAY  STRAIGHT AND LEVEL   \n",
       "209302                      NOT DIVIDED  STRAIGHT AND LEVEL   \n",
       "209303  DIVIDED - W/MEDIAN (NOT RAISED)   STRAIGHT ON GRADE   \n",
       "209304                   T-INTERSECTION  STRAIGHT AND LEVEL   \n",
       "209305                         FOUR WAY  STRAIGHT AND LEVEL   \n",
       "\n",
       "       roadway_surface_cond road_defect                        crash_type  \\\n",
       "209301              UNKNOWN     UNKNOWN            NO INJURY / DRIVE AWAY   \n",
       "209302                  DRY  NO DEFECTS            NO INJURY / DRIVE AWAY   \n",
       "209303                  DRY  NO DEFECTS  INJURY AND / OR TOW DUE TO CRASH   \n",
       "209304                  DRY  NO DEFECTS  INJURY AND / OR TOW DUE TO CRASH   \n",
       "209305                  WET  NO DEFECTS            NO INJURY / DRIVE AWAY   \n",
       "\n",
       "        ... injuries_incapacitating injuries_non_incapacitating  \\\n",
       "209301  ...                     0.0                         0.0   \n",
       "209302  ...                     0.0                         0.0   \n",
       "209303  ...                     2.0                         0.0   \n",
       "209304  ...                     0.0                         1.0   \n",
       "209305  ...                     0.0                         0.0   \n",
       "\n",
       "       injuries_reported_not_evident  injuries_no_indication crash_hour  \\\n",
       "209301                           0.0                     2.0         13   \n",
       "209302                           0.0                     2.0         14   \n",
       "209303                           0.0                     0.0         13   \n",
       "209304                           0.0                     1.0         15   \n",
       "209305                           0.0                     2.0         12   \n",
       "\n",
       "        crash_day_of_week  crash_month  crash_year  day_of_week  \\\n",
       "209301                  4            9        2023    Wednesday   \n",
       "209302                  3            7        2023      Tuesday   \n",
       "209303                  4           10        2019    Wednesday   \n",
       "209304                  2            6        2020       Monday   \n",
       "209305                  6           12        2022       Friday   \n",
       "\n",
       "        total_injuries  \n",
       "209301         80091.0  \n",
       "209302         80091.0  \n",
       "209303         80091.0  \n",
       "209304         80091.0  \n",
       "209305         80091.0  \n",
       "\n",
       "[5 rows x 27 columns]"
      ]
     },
     "execution_count": 24,
     "metadata": {},
     "output_type": "execute_result"
    }
   ],
   "source": [
    "# Mostrar las últimas filas\n",
    "print(\"\\nÚltimas filas del dataset:\")\n",
    "df.tail()"
   ]
  },
  {
   "cell_type": "code",
   "execution_count": 9,
   "id": "3f7c1245-ebd4-4a50-8f73-79c05332b984",
   "metadata": {},
   "outputs": [
    {
     "name": "stdout",
     "output_type": "stream",
     "text": [
      "\n",
      "Resumen estadístico del dataset:\n",
      "           num_units  injuries_total  injuries_fatal  injuries_incapacitating  \\\n",
      "count  209306.000000   209306.000000   209306.000000            209306.000000   \n",
      "mean        2.063300        0.382717        0.001859                 0.038102   \n",
      "std         0.396012        0.799720        0.047502                 0.233964   \n",
      "min         1.000000        0.000000        0.000000                 0.000000   \n",
      "25%         2.000000        0.000000        0.000000                 0.000000   \n",
      "50%         2.000000        0.000000        0.000000                 0.000000   \n",
      "75%         2.000000        1.000000        0.000000                 0.000000   \n",
      "max        11.000000       21.000000        3.000000                 7.000000   \n",
      "\n",
      "       injuries_non_incapacitating  injuries_reported_not_evident  \\\n",
      "count                209306.000000                  209306.000000   \n",
      "mean                      0.221241                       0.121516   \n",
      "std                       0.614960                       0.450865   \n",
      "min                       0.000000                       0.000000   \n",
      "25%                       0.000000                       0.000000   \n",
      "50%                       0.000000                       0.000000   \n",
      "75%                       0.000000                       0.000000   \n",
      "max                      21.000000                      15.000000   \n",
      "\n",
      "       injuries_no_indication     crash_hour  crash_day_of_week    crash_month  \n",
      "count           209306.000000  209306.000000      209306.000000  209306.000000  \n",
      "mean                 2.244002      13.373047           4.144024       6.771822  \n",
      "std                  1.241175       5.603830           1.966864       3.427593  \n",
      "min                  0.000000       0.000000           1.000000       1.000000  \n",
      "25%                  2.000000       9.000000           2.000000       4.000000  \n",
      "50%                  2.000000      14.000000           4.000000       7.000000  \n",
      "75%                  3.000000      17.000000           6.000000      10.000000  \n",
      "max                 49.000000      23.000000           7.000000      12.000000  \n"
     ]
    }
   ],
   "source": [
    "# Estadísticas descriptivas del dataset\n",
    "print(\"\\nResumen estadístico del dataset:\")\n",
    "print(df.describe())"
   ]
  },
  {
   "cell_type": "markdown",
   "id": "b3a161a9-de90-4f71-bcb0-f694fafd18b2",
   "metadata": {},
   "source": [
    "## Paso 2: Limpieza y preparación de datos"
   ]
  },
  {
   "cell_type": "code",
   "execution_count": 10,
   "id": "b5f8d8f3-6214-4e22-992a-e8c99706007e",
   "metadata": {},
   "outputs": [],
   "source": [
    "# Convertir nombres de columnas a minúsculas para estandarización\n",
    "df.columns = df.columns.str.lower()"
   ]
  },
  {
   "cell_type": "code",
   "execution_count": 11,
   "id": "ca89cd67-83fd-49d4-a543-820ab70c6718",
   "metadata": {},
   "outputs": [
    {
     "name": "stdout",
     "output_type": "stream",
     "text": [
      "\n",
      "Valores nulos en cada columna:\n",
      "Series([], dtype: int64)\n"
     ]
    }
   ],
   "source": [
    "# Verificación de valores nulos\n",
    "df_missing = df.isnull().sum()\n",
    "print(\"\\nValores nulos en cada columna:\")\n",
    "print(df_missing[df_missing > 0])"
   ]
  },
  {
   "cell_type": "code",
   "execution_count": 12,
   "id": "63715126-fccd-4de8-957e-c2bcc11cfa4a",
   "metadata": {},
   "outputs": [],
   "source": [
    "# Eliminación de duplicados para evitar datos redundantes\n",
    "df = df.drop_duplicates()"
   ]
  },
  {
   "cell_type": "markdown",
   "id": "22fdca29-b4d4-4184-8d57-018516aac71c",
   "metadata": {},
   "source": [
    "### Conversión de tipos de datos"
   ]
  },
  {
   "cell_type": "code",
   "execution_count": 13,
   "id": "0baf755c-2fd6-4f3a-bb63-7238947c721f",
   "metadata": {},
   "outputs": [
    {
     "name": "stderr",
     "output_type": "stream",
     "text": [
      "C:\\Users\\ljpca\\AppData\\Local\\Temp\\ipykernel_128\\1095774712.py:2: UserWarning: Could not infer format, so each element will be parsed individually, falling back to `dateutil`. To ensure parsing is consistent and as-expected, please specify a format.\n",
      "  df['crash_date'] = pd.to_datetime(df['crash_date'], errors='coerce')\n"
     ]
    }
   ],
   "source": [
    "# Convertir la fecha de accidente a formato datetime\n",
    "df['crash_date'] = pd.to_datetime(df['crash_date'], errors='coerce')"
   ]
  },
  {
   "cell_type": "code",
   "execution_count": 14,
   "id": "1a2c0487-fd72-46b1-aa8f-afdaf8ad17bc",
   "metadata": {},
   "outputs": [],
   "source": [
    "# Manejo de valores ausentes, se asignan valores predeterminados cuando es necesario\n",
    "df = df.fillna({'road_defect': 'UNKNOWN', 'roadway_surface_cond': 'UNKNOWN'})"
   ]
  },
  {
   "cell_type": "code",
   "execution_count": 15,
   "id": "38980600-bc4a-4f36-a6eb-20dc6b00c1e4",
   "metadata": {},
   "outputs": [],
   "source": [
    "# Crear nuevas columnas basadas en la fecha del accidente\n",
    "df['crash_year'] = df['crash_date'].dt.year\n",
    "df['crash_month'] = df['crash_date'].dt.month\n",
    "df['day_of_week'] = df['crash_date'].dt.day_name()\n"
   ]
  },
  {
   "cell_type": "code",
   "execution_count": 16,
   "id": "19b41fff-f0a7-400b-9346-d158ba05705a",
   "metadata": {},
   "outputs": [],
   "source": [
    "# Agregar columna de lesiones totales\n",
    "if 'injuries_total' in df.columns:\n",
    "    df['total_injuries'] = df['injuries_total'].sum()"
   ]
  },
  {
   "cell_type": "markdown",
   "id": "ccec90ed-296a-4123-b68e-4fc533232ba6",
   "metadata": {},
   "source": [
    "## Paso 3: Análisis de datos"
   ]
  },
  {
   "cell_type": "code",
   "execution_count": 17,
   "id": "7448fd7c-39ee-4d99-8f62-bb8481841af9",
   "metadata": {},
   "outputs": [
    {
     "data": {
      "image/png": "[encoded data removed]",
      "text/plain": [
       "<Figure size 1000x500 with 1 Axes>"
      ]
     },
     "metadata": {},
     "output_type": "display_data"
    }
   ],
   "source": [
    "# Número de accidentes por año\n",
    "accidents_per_year = df['crash_year'].value_counts().sort_index()\n",
    "plt.figure(figsize=(10,5))\n",
    "accidents_per_year.plot(kind='bar', color='b')\n",
    "plt.xlabel('Año')\n",
    "plt.ylabel('Número de accidentes')\n",
    "plt.title('Número de accidentes por año')\n",
    "plt.show()"
   ]
  },
  {
   "cell_type": "code",
   "execution_count": 18,
   "id": "fc45c949-9950-487a-a0de-a8cb5303b14b",
   "metadata": {},
   "outputs": [
    {
     "data": {
      "image/png": "[encoded data removed]",
      "text/plain": [
       "<Figure size 1000x500 with 1 Axes>"
      ]
     },
     "metadata": {},
     "output_type": "display_data"
    }
   ],
   "source": [
    "# Análisis de colisión por tipo de carretera\n",
    "plt.figure(figsize=(10,5))\n",
    "sns.countplot(y=df['trafficway_type'], order=df['trafficway_type'].value_counts().index)\n",
    "plt.xlabel('Cantidad de accidentes')\n",
    "plt.ylabel('Tipo de vía')\n",
    "plt.title('Distribución de accidentes según el tipo de vía')\n",
    "plt.show()"
   ]
  },
  {
   "cell_type": "code",
   "execution_count": 19,
   "id": "18367d41-399b-4c8f-81de-a5a2a6cc97d2",
   "metadata": {},
   "outputs": [
    {
     "data": {
      "image/png": "[encoded data removed]",
      "text/plain": [
       "<Figure size 1000x500 with 1 Axes>"
      ]
     },
     "metadata": {},
     "output_type": "display_data"
    }
   ],
   "source": [
    "# Análisis de lesiones totales con diagramas de caja\n",
    "plt.figure(figsize=(10,5))\n",
    "sns.boxplot(x=df['injuries_total'])\n",
    "plt.title('Distribución de lesiones por accidente')\n",
    "plt.show()"
   ]
  },
  {
   "cell_type": "markdown",
   "id": "df5e9919-0037-44af-a902-fbd4af2e1669",
   "metadata": {},
   "source": [
    "## Paso 5: Prueba de hipótesis"
   ]
  },
  {
   "cell_type": "markdown",
   "id": "6d7bec4b-6dc8-41c8-9b7b-15f034eb07fb",
   "metadata": {},
   "source": [
    "**Hipótesis 1:** ¿Difieren las lesiones en función de las condiciones climáticas?\n",
    "- **_H0_**: No hay diferencia en el número de lesiones entre condiciones climáticas.\n",
    "- **_H1_**: Sí hay una diferencia en el número de lesiones según el clima."
   ]
  },
  {
   "cell_type": "code",
   "execution_count": 20,
   "id": "c4feca3f-0a2a-434b-8af4-1880cdf7df00",
   "metadata": {},
   "outputs": [
    {
     "name": "stdout",
     "output_type": "stream",
     "text": [
      "Prueba de hipótesis entre condiciones climáticas: p-valor = 0.00000\n"
     ]
    }
   ],
   "source": [
    "clear_weather = df[df['weather_condition'] == 'CLEAR']['injuries_total'].dropna()\n",
    "other_weather = df[df['weather_condition'] != 'CLEAR']['injuries_total'].dropna()\n",
    "stat, p_value = ttest_ind(clear_weather, other_weather, equal_var=False)\n",
    "print(f\"Prueba de hipótesis entre condiciones climáticas: p-valor = {p_value:.5f}\")"
   ]
  },
  {
   "cell_type": "markdown",
   "id": "b785c2fd-c387-415c-a8f6-aa165da31a87",
   "metadata": {},
   "source": [
    "**Hipótesis 2:** ¿El número promedio de lesiones es significativamente mayor que 1?\n",
    "- **_H0_**: El número promedio de lesiones es igual o menor a 1.\n",
    "- **_H1_**: El número promedio de lesiones es mayor a 1."
   ]
  },
  {
   "cell_type": "code",
   "execution_count": 21,
   "id": "ad6e3d56-8ba9-40ec-90b7-9448a665fca5",
   "metadata": {},
   "outputs": [
    {
     "name": "stdout",
     "output_type": "stream",
     "text": [
      "Prueba de hipótesis sobre el promedio de lesiones: p-valor = 0.00000\n"
     ]
    }
   ],
   "source": [
    "stat, p_value = ttest_1samp(df['injuries_total'].dropna(), 1)\n",
    "print(f\"Prueba de hipótesis sobre el promedio de lesiones: p-valor = {p_value:.5f}\")"
   ]
  },
  {
   "cell_type": "markdown",
   "id": "ce1cf228-811c-4a0f-bd8d-615eb4f918d7",
   "metadata": {},
   "source": [
    "**Hipótesis 3:** Correlación entre la hora del accidente y número de lesiones\n",
    "- **_H0_**: No hay correlación entre la hora del accidente y el número de lesiones.\n",
    "- **_H1_**: Existe correlación entre la hora del accidente y el número de lesiones."
   ]
  },
  {
   "cell_type": "code",
   "execution_count": 22,
   "id": "2eab9fe0-608f-4ffe-90ee-6b0a22ffccf0",
   "metadata": {},
   "outputs": [
    {
     "name": "stdout",
     "output_type": "stream",
     "text": [
      "Correlación entre hora del accidente y lesiones: coeficiente = -0.015, p-valor = 0.00000\n"
     ]
    }
   ],
   "source": [
    "if 'injuries_total' in df.columns and 'crash_hour' in df.columns:\n",
    "    corr_coeff, p_corr = pearsonr(df['crash_hour'].dropna(), df['injuries_total'].dropna())\n",
    "    print(f\"Correlación entre hora del accidente y lesiones: coeficiente = {corr_coeff:.3f}, p-valor = {p_corr:.5f}\")"
   ]
  },
  {
   "cell_type": "markdown",
   "id": "92daa722-13bd-4dc0-9eff-563d9d791f08",
   "metadata": {},
   "source": [
    "## Paso 6: Conclusión general"
   ]
  },
  {
   "cell_type": "markdown",
   "id": "fbc95d4c-09a4-4633-b0eb-0b057fd13f40",
   "metadata": {},
   "source": [
    "**Conclusión:** Se realizó una exploración exhaustiva de los datos, incluyendo validaciones, limpieza, visualización y pruebas de hipótesis para obtener información útil sobre los accidentes de tráfico."
   ]
  },
  {
   "cell_type": "code",
   "execution_count": null,
   "id": "91bb88ff-4e63-4cc0-b5d4-897f297b8160",
   "metadata": {},
   "outputs": [],
   "source": []
  }
 ],
 "metadata": {
  "kernelspec": {
   "display_name": "Python 3 (ipykernel)",
   "language": "python",
   "name": "python3"
  },
  "language_info": {
   "codemirror_mode": {
    "name": "ipython",
    "version": 3
   },
   "file_extension": ".py",
   "mimetype": "text/x-python",
   "name": "python",
   "nbconvert_exporter": "python",
   "pygments_lexer": "ipython3",
   "version": "3.12.7"
  }
 },
 "nbformat": 4,
 "nbformat_minor": 5
}
