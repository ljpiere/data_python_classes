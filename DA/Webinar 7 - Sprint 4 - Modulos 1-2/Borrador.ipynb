{
 "cells": [
  {
   "cell_type": "markdown",
   "id": "7892ddb4-ff4a-4752-9f0a-dcb359982f04",
   "metadata": {},
   "source": [
    "# Titulo 1"
   ]
  },
  {
   "cell_type": "markdown",
   "id": "08755c62-ab84-4511-a935-89ed4f83491d",
   "metadata": {},
   "source": [
    "## Titulo 2"
   ]
  },
  {
   "cell_type": "markdown",
   "id": "16e5594b-259c-44c9-8cfe-4e368777aea6",
   "metadata": {},
   "source": [
    "### Titulo 3"
   ]
  },
  {
   "cell_type": "markdown",
   "id": "39a477e6-f1b0-4d91-8a54-aa0393a95253",
   "metadata": {},
   "source": [
    "#### Titulo 4"
   ]
  },
  {
   "cell_type": "markdown",
   "id": "50cb05ee-3747-4072-8b2d-5ff7d73ceb1f",
   "metadata": {},
   "source": [
    "##### Titulo 5"
   ]
  },
  {
   "cell_type": "markdown",
   "id": "52d520e3-8f7a-425e-94a9-7d20a21a2e96",
   "metadata": {},
   "source": [
    "Hola sin negrita"
   ]
  },
  {
   "cell_type": "markdown",
   "id": "44947246-85b8-4ae9-ad14-5fd4493dfb23",
   "metadata": {},
   "source": [
    "**Hola con negrita**"
   ]
  },
  {
   "cell_type": "markdown",
   "id": "6d0a5508-4926-4f90-bdd2-122a16d28516",
   "metadata": {},
   "source": [
    "_Hola con cursiva_"
   ]
  },
  {
   "cell_type": "markdown",
   "id": "f0a4ee3e-1eb3-405c-82e8-17d37bf37597",
   "metadata": {},
   "source": [
    "~subrayado~"
   ]
  },
  {
   "cell_type": "markdown",
   "id": "41af0d9b-ed4e-43bd-85b3-b5c321b3128f",
   "metadata": {},
   "source": [
    "- Item 1\n",
    "- Item 2"
   ]
  },
  {
   "cell_type": "code",
   "execution_count": null,
   "id": "3c304db6-d0d2-4fbe-a01b-312a918fd713",
   "metadata": {},
   "outputs": [],
   "source": []
  }
 ],
 "metadata": {
  "kernelspec": {
   "display_name": "Python 3 (ipykernel)",
   "language": "python",
   "name": "python3"
  },
  "language_info": {
   "codemirror_mode": {
    "name": "ipython",
    "version": 3
   },
   "file_extension": ".py",
   "mimetype": "text/x-python",
   "name": "python",
   "nbconvert_exporter": "python",
   "pygments_lexer": "ipython3",
   "version": "3.12.7"
  }
 },
 "nbformat": 4,
 "nbformat_minor": 5
}
