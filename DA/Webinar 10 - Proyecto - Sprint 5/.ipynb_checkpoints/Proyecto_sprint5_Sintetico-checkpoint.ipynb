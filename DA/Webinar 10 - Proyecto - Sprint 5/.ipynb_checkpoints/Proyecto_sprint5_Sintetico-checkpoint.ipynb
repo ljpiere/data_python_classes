{
 "cells": [
  {
   "cell_type": "markdown",
   "id": "acd1c09e-37b7-4241-8e7d-ac0c1c127cdd",
   "metadata": {},
   "source": [
    "# Análisis de Tarifas de Megaline"
   ]
  },
  {
   "cell_type": "markdown",
   "id": "a869ff5e-c5ec-49c3-8fc0-282d347697d6",
   "metadata": {},
   "source": [
    "## Objetivo\n",
    "El objetivo de este proyecto es analizar el comportamiento de los clientes de Megaline para determinar cuál de sus dos tarifas de prepago (Surf y Ultimate) genera más ingresos. Para ello, realizaremos un análisis estadístico sobre los datos de uso de llamadas, mensajes y datos de internet de los clientes."
   ]
  },
  {
   "cell_type": "markdown",
   "id": "a77b5ab4-5769-4731-99c0-f2b832cfc159",
   "metadata": {},
   "source": [
    "## Carga y Preprocesamiento de Datos\n",
    "Cargamos los datos proporcionados en formato CSV y realizamos la conversión de fechas a un formato adecuado para su manipulación.\n"
   ]
  },
  {
   "cell_type": "code",
   "execution_count": 1,
   "id": "19553803-6d55-4d60-8e3b-7380da00e246",
   "metadata": {},
   "outputs": [],
   "source": [
    "import pandas as pd\n",
    "import numpy as np\n",
    "import matplotlib.pyplot as plt\n",
    "from scipy import stats as st"
   ]
  },
  {
   "cell_type": "code",
   "execution_count": 2,
   "id": "0fbbec9f-0f20-4ab2-9cec-8ba4862bf6a8",
   "metadata": {},
   "outputs": [],
   "source": [
    "# Cargar los datasets ficticios\n",
    "df_users = pd.read_csv(\"megaline_users.csv\")\n",
    "df_calls = pd.read_csv(\"megaline_calls.csv\")\n",
    "df_messages = pd.read_csv(\"megaline_messages.csv\")\n",
    "df_internet = pd.read_csv(\"megaline_internet.csv\")\n",
    "df_plans = pd.read_csv(\"megaline_plans.csv\")"
   ]
  },
  {
   "cell_type": "markdown",
   "id": "cc52768c-5bec-46a1-b788-d978248658e7",
   "metadata": {},
   "source": [
    "## 0. Exploración\n",
    "Lo habitual..."
   ]
  },
  {
   "cell_type": "code",
   "execution_count": 3,
   "id": "f790a65b-52dc-49c7-bfe9-31f1ab9daf37",
   "metadata": {},
   "outputs": [
    {
     "data": {
      "text/html": [
       "<div>\n",
       "<style scoped>\n",
       "    .dataframe tbody tr th:only-of-type {\n",
       "        vertical-align: middle;\n",
       "    }\n",
       "\n",
       "    .dataframe tbody tr th {\n",
       "        vertical-align: top;\n",
       "    }\n",
       "\n",
       "    .dataframe thead th {\n",
       "        text-align: right;\n",
       "    }\n",
       "</style>\n",
       "<table border=\"1\" class=\"dataframe\">\n",
       "  <thead>\n",
       "    <tr style=\"text-align: right;\">\n",
       "      <th></th>\n",
       "      <th>user_id</th>\n",
       "      <th>plan</th>\n",
       "      <th>city</th>\n",
       "      <th>reg_date</th>\n",
       "      <th>churn_date</th>\n",
       "    </tr>\n",
       "  </thead>\n",
       "  <tbody>\n",
       "    <tr>\n",
       "      <th>0</th>\n",
       "      <td>1</td>\n",
       "      <td>Surf</td>\n",
       "      <td>New York</td>\n",
       "      <td>2018-01-01 00:00:00.000000000</td>\n",
       "      <td>NaN</td>\n",
       "    </tr>\n",
       "    <tr>\n",
       "      <th>1</th>\n",
       "      <td>2</td>\n",
       "      <td>Ultimate</td>\n",
       "      <td>New York</td>\n",
       "      <td>2018-01-01 08:39:26.332665330</td>\n",
       "      <td>NaN</td>\n",
       "    </tr>\n",
       "    <tr>\n",
       "      <th>2</th>\n",
       "      <td>3</td>\n",
       "      <td>Ultimate</td>\n",
       "      <td>New York</td>\n",
       "      <td>2018-01-01 17:18:52.665330661</td>\n",
       "      <td>NaN</td>\n",
       "    </tr>\n",
       "    <tr>\n",
       "      <th>3</th>\n",
       "      <td>4</td>\n",
       "      <td>Surf</td>\n",
       "      <td>Phoenix</td>\n",
       "      <td>2018-01-02 01:58:18.997995991</td>\n",
       "      <td>NaN</td>\n",
       "    </tr>\n",
       "    <tr>\n",
       "      <th>4</th>\n",
       "      <td>5</td>\n",
       "      <td>Surf</td>\n",
       "      <td>Houston</td>\n",
       "      <td>2018-01-02 10:37:45.330661322</td>\n",
       "      <td>NaN</td>\n",
       "    </tr>\n",
       "  </tbody>\n",
       "</table>\n",
       "</div>"
      ],
      "text/plain": [
       "   user_id      plan      city                       reg_date  churn_date\n",
       "0        1      Surf  New York  2018-01-01 00:00:00.000000000         NaN\n",
       "1        2  Ultimate  New York  2018-01-01 08:39:26.332665330         NaN\n",
       "2        3  Ultimate  New York  2018-01-01 17:18:52.665330661         NaN\n",
       "3        4      Surf   Phoenix  2018-01-02 01:58:18.997995991         NaN\n",
       "4        5      Surf   Houston  2018-01-02 10:37:45.330661322         NaN"
      ]
     },
     "execution_count": 3,
     "metadata": {},
     "output_type": "execute_result"
    }
   ],
   "source": [
    "df_users.head()"
   ]
  },
  {
   "cell_type": "code",
   "execution_count": 4,
   "id": "6cbd6aba-cef4-4ee1-afbd-3146621f1f71",
   "metadata": {},
   "outputs": [
    {
     "data": {
      "text/html": [
       "<div>\n",
       "<style scoped>\n",
       "    .dataframe tbody tr th:only-of-type {\n",
       "        vertical-align: middle;\n",
       "    }\n",
       "\n",
       "    .dataframe tbody tr th {\n",
       "        vertical-align: top;\n",
       "    }\n",
       "\n",
       "    .dataframe thead th {\n",
       "        text-align: right;\n",
       "    }\n",
       "</style>\n",
       "<table border=\"1\" class=\"dataframe\">\n",
       "  <thead>\n",
       "    <tr style=\"text-align: right;\">\n",
       "      <th></th>\n",
       "      <th>id</th>\n",
       "      <th>call_date</th>\n",
       "      <th>duration</th>\n",
       "      <th>user_id</th>\n",
       "    </tr>\n",
       "  </thead>\n",
       "  <tbody>\n",
       "    <tr>\n",
       "      <th>0</th>\n",
       "      <td>1</td>\n",
       "      <td>2018-01-01 00:00:00.000000000</td>\n",
       "      <td>15</td>\n",
       "      <td>35</td>\n",
       "    </tr>\n",
       "    <tr>\n",
       "      <th>1</th>\n",
       "      <td>2</td>\n",
       "      <td>2018-01-01 01:44:51.178235647</td>\n",
       "      <td>15</td>\n",
       "      <td>24</td>\n",
       "    </tr>\n",
       "    <tr>\n",
       "      <th>2</th>\n",
       "      <td>3</td>\n",
       "      <td>2018-01-01 03:29:42.356471294</td>\n",
       "      <td>6</td>\n",
       "      <td>28</td>\n",
       "    </tr>\n",
       "    <tr>\n",
       "      <th>3</th>\n",
       "      <td>4</td>\n",
       "      <td>2018-01-01 05:14:33.534706941</td>\n",
       "      <td>12</td>\n",
       "      <td>484</td>\n",
       "    </tr>\n",
       "    <tr>\n",
       "      <th>4</th>\n",
       "      <td>5</td>\n",
       "      <td>2018-01-01 06:59:24.712942588</td>\n",
       "      <td>18</td>\n",
       "      <td>464</td>\n",
       "    </tr>\n",
       "  </tbody>\n",
       "</table>\n",
       "</div>"
      ],
      "text/plain": [
       "   id                      call_date  duration  user_id\n",
       "0   1  2018-01-01 00:00:00.000000000        15       35\n",
       "1   2  2018-01-01 01:44:51.178235647        15       24\n",
       "2   3  2018-01-01 03:29:42.356471294         6       28\n",
       "3   4  2018-01-01 05:14:33.534706941        12      484\n",
       "4   5  2018-01-01 06:59:24.712942588        18      464"
      ]
     },
     "execution_count": 4,
     "metadata": {},
     "output_type": "execute_result"
    }
   ],
   "source": [
    "df_calls.head()"
   ]
  },
  {
   "cell_type": "code",
   "execution_count": 5,
   "id": "19c47a3f-910f-4249-9583-fd362ff38651",
   "metadata": {},
   "outputs": [
    {
     "data": {
      "text/html": [
       "<div>\n",
       "<style scoped>\n",
       "    .dataframe tbody tr th:only-of-type {\n",
       "        vertical-align: middle;\n",
       "    }\n",
       "\n",
       "    .dataframe tbody tr th {\n",
       "        vertical-align: top;\n",
       "    }\n",
       "\n",
       "    .dataframe thead th {\n",
       "        text-align: right;\n",
       "    }\n",
       "</style>\n",
       "<table border=\"1\" class=\"dataframe\">\n",
       "  <thead>\n",
       "    <tr style=\"text-align: right;\">\n",
       "      <th></th>\n",
       "      <th>id</th>\n",
       "      <th>message_date</th>\n",
       "      <th>user_id</th>\n",
       "    </tr>\n",
       "  </thead>\n",
       "  <tbody>\n",
       "    <tr>\n",
       "      <th>0</th>\n",
       "      <td>1</td>\n",
       "      <td>2018-01-01 00:00:00.000000000</td>\n",
       "      <td>322</td>\n",
       "    </tr>\n",
       "    <tr>\n",
       "      <th>1</th>\n",
       "      <td>2</td>\n",
       "      <td>2018-01-01 04:22:12.666333166</td>\n",
       "      <td>397</td>\n",
       "    </tr>\n",
       "    <tr>\n",
       "      <th>2</th>\n",
       "      <td>3</td>\n",
       "      <td>2018-01-01 08:44:25.332666333</td>\n",
       "      <td>318</td>\n",
       "    </tr>\n",
       "    <tr>\n",
       "      <th>3</th>\n",
       "      <td>4</td>\n",
       "      <td>2018-01-01 13:06:37.998999499</td>\n",
       "      <td>54</td>\n",
       "    </tr>\n",
       "    <tr>\n",
       "      <th>4</th>\n",
       "      <td>5</td>\n",
       "      <td>2018-01-01 17:28:50.665332666</td>\n",
       "      <td>399</td>\n",
       "    </tr>\n",
       "  </tbody>\n",
       "</table>\n",
       "</div>"
      ],
      "text/plain": [
       "   id                   message_date  user_id\n",
       "0   1  2018-01-01 00:00:00.000000000      322\n",
       "1   2  2018-01-01 04:22:12.666333166      397\n",
       "2   3  2018-01-01 08:44:25.332666333      318\n",
       "3   4  2018-01-01 13:06:37.998999499       54\n",
       "4   5  2018-01-01 17:28:50.665332666      399"
      ]
     },
     "execution_count": 5,
     "metadata": {},
     "output_type": "execute_result"
    }
   ],
   "source": [
    "df_messages.head()"
   ]
  },
  {
   "cell_type": "code",
   "execution_count": 6,
   "id": "0793f3ab-012e-41df-b239-6785e26de40d",
   "metadata": {},
   "outputs": [
    {
     "data": {
      "text/html": [
       "<div>\n",
       "<style scoped>\n",
       "    .dataframe tbody tr th:only-of-type {\n",
       "        vertical-align: middle;\n",
       "    }\n",
       "\n",
       "    .dataframe tbody tr th {\n",
       "        vertical-align: top;\n",
       "    }\n",
       "\n",
       "    .dataframe thead th {\n",
       "        text-align: right;\n",
       "    }\n",
       "</style>\n",
       "<table border=\"1\" class=\"dataframe\">\n",
       "  <thead>\n",
       "    <tr style=\"text-align: right;\">\n",
       "      <th></th>\n",
       "      <th>id</th>\n",
       "      <th>session_date</th>\n",
       "      <th>mb_used</th>\n",
       "      <th>user_id</th>\n",
       "    </tr>\n",
       "  </thead>\n",
       "  <tbody>\n",
       "    <tr>\n",
       "      <th>0</th>\n",
       "      <td>1</td>\n",
       "      <td>2018-01-01 00:00:00.000000000</td>\n",
       "      <td>1338</td>\n",
       "      <td>142</td>\n",
       "    </tr>\n",
       "    <tr>\n",
       "      <th>1</th>\n",
       "      <td>2</td>\n",
       "      <td>2018-01-01 02:54:46.695565188</td>\n",
       "      <td>1856</td>\n",
       "      <td>46</td>\n",
       "    </tr>\n",
       "    <tr>\n",
       "      <th>2</th>\n",
       "      <td>3</td>\n",
       "      <td>2018-01-01 05:49:33.391130376</td>\n",
       "      <td>1054</td>\n",
       "      <td>163</td>\n",
       "    </tr>\n",
       "    <tr>\n",
       "      <th>3</th>\n",
       "      <td>4</td>\n",
       "      <td>2018-01-01 08:44:20.086695565</td>\n",
       "      <td>2406</td>\n",
       "      <td>285</td>\n",
       "    </tr>\n",
       "    <tr>\n",
       "      <th>4</th>\n",
       "      <td>5</td>\n",
       "      <td>2018-01-01 11:39:06.782260753</td>\n",
       "      <td>2925</td>\n",
       "      <td>268</td>\n",
       "    </tr>\n",
       "  </tbody>\n",
       "</table>\n",
       "</div>"
      ],
      "text/plain": [
       "   id                   session_date  mb_used  user_id\n",
       "0   1  2018-01-01 00:00:00.000000000     1338      142\n",
       "1   2  2018-01-01 02:54:46.695565188     1856       46\n",
       "2   3  2018-01-01 05:49:33.391130376     1054      163\n",
       "3   4  2018-01-01 08:44:20.086695565     2406      285\n",
       "4   5  2018-01-01 11:39:06.782260753     2925      268"
      ]
     },
     "execution_count": 6,
     "metadata": {},
     "output_type": "execute_result"
    }
   ],
   "source": [
    "df_internet.head()"
   ]
  },
  {
   "cell_type": "code",
   "execution_count": 7,
   "id": "dc7e019a-dec9-4121-88af-1f0c43114084",
   "metadata": {},
   "outputs": [
    {
     "data": {
      "text/html": [
       "<div>\n",
       "<style scoped>\n",
       "    .dataframe tbody tr th:only-of-type {\n",
       "        vertical-align: middle;\n",
       "    }\n",
       "\n",
       "    .dataframe tbody tr th {\n",
       "        vertical-align: top;\n",
       "    }\n",
       "\n",
       "    .dataframe thead th {\n",
       "        text-align: right;\n",
       "    }\n",
       "</style>\n",
       "<table border=\"1\" class=\"dataframe\">\n",
       "  <thead>\n",
       "    <tr style=\"text-align: right;\">\n",
       "      <th></th>\n",
       "      <th>plan_name</th>\n",
       "      <th>usd_monthly_fee</th>\n",
       "      <th>minutes_included</th>\n",
       "      <th>messages_included</th>\n",
       "      <th>mb_per_month_included</th>\n",
       "      <th>usd_per_minute</th>\n",
       "      <th>usd_per_message</th>\n",
       "      <th>usd_per_gb</th>\n",
       "    </tr>\n",
       "  </thead>\n",
       "  <tbody>\n",
       "    <tr>\n",
       "      <th>0</th>\n",
       "      <td>Surf</td>\n",
       "      <td>20</td>\n",
       "      <td>500</td>\n",
       "      <td>50</td>\n",
       "      <td>15360</td>\n",
       "      <td>0.03</td>\n",
       "      <td>0.03</td>\n",
       "      <td>10</td>\n",
       "    </tr>\n",
       "    <tr>\n",
       "      <th>1</th>\n",
       "      <td>Ultimate</td>\n",
       "      <td>70</td>\n",
       "      <td>3000</td>\n",
       "      <td>1000</td>\n",
       "      <td>30720</td>\n",
       "      <td>0.01</td>\n",
       "      <td>0.01</td>\n",
       "      <td>7</td>\n",
       "    </tr>\n",
       "  </tbody>\n",
       "</table>\n",
       "</div>"
      ],
      "text/plain": [
       "  plan_name  usd_monthly_fee  minutes_included  messages_included  \\\n",
       "0      Surf               20               500                 50   \n",
       "1  Ultimate               70              3000               1000   \n",
       "\n",
       "   mb_per_month_included  usd_per_minute  usd_per_message  usd_per_gb  \n",
       "0                  15360            0.03             0.03          10  \n",
       "1                  30720            0.01             0.01           7  "
      ]
     },
     "execution_count": 7,
     "metadata": {},
     "output_type": "execute_result"
    }
   ],
   "source": [
    "df_plans.head()"
   ]
  },
  {
   "cell_type": "code",
   "execution_count": 8,
   "id": "3a1718ae-7146-47ac-b182-66b937568eb7",
   "metadata": {},
   "outputs": [
    {
     "name": "stdout",
     "output_type": "stream",
     "text": [
      "<class 'pandas.core.frame.DataFrame'>\n",
      "RangeIndex: 5000 entries, 0 to 4999\n",
      "Data columns (total 4 columns):\n",
      " #   Column     Non-Null Count  Dtype \n",
      "---  ------     --------------  ----- \n",
      " 0   id         5000 non-null   int64 \n",
      " 1   call_date  5000 non-null   object\n",
      " 2   duration   5000 non-null   int64 \n",
      " 3   user_id    5000 non-null   int64 \n",
      "dtypes: int64(3), object(1)\n",
      "memory usage: 156.4+ KB\n"
     ]
    }
   ],
   "source": [
    "df_calls.info()"
   ]
  },
  {
   "cell_type": "code",
   "execution_count": 9,
   "id": "e6140c97-2181-4f63-9c22-c26309d95678",
   "metadata": {},
   "outputs": [
    {
     "data": {
      "text/html": [
       "<div>\n",
       "<style scoped>\n",
       "    .dataframe tbody tr th:only-of-type {\n",
       "        vertical-align: middle;\n",
       "    }\n",
       "\n",
       "    .dataframe tbody tr th {\n",
       "        vertical-align: top;\n",
       "    }\n",
       "\n",
       "    .dataframe thead th {\n",
       "        text-align: right;\n",
       "    }\n",
       "</style>\n",
       "<table border=\"1\" class=\"dataframe\">\n",
       "  <thead>\n",
       "    <tr style=\"text-align: right;\">\n",
       "      <th></th>\n",
       "      <th>id</th>\n",
       "      <th>call_date</th>\n",
       "      <th>duration</th>\n",
       "      <th>user_id</th>\n",
       "    </tr>\n",
       "  </thead>\n",
       "  <tbody>\n",
       "    <tr>\n",
       "      <th>0</th>\n",
       "      <td>1</td>\n",
       "      <td>2018-01-01 00:00:00.000000000</td>\n",
       "      <td>15</td>\n",
       "      <td>35</td>\n",
       "    </tr>\n",
       "    <tr>\n",
       "      <th>1</th>\n",
       "      <td>2</td>\n",
       "      <td>2018-01-01 01:44:51.178235647</td>\n",
       "      <td>15</td>\n",
       "      <td>24</td>\n",
       "    </tr>\n",
       "    <tr>\n",
       "      <th>2</th>\n",
       "      <td>3</td>\n",
       "      <td>2018-01-01 03:29:42.356471294</td>\n",
       "      <td>6</td>\n",
       "      <td>28</td>\n",
       "    </tr>\n",
       "    <tr>\n",
       "      <th>3</th>\n",
       "      <td>4</td>\n",
       "      <td>2018-01-01 05:14:33.534706941</td>\n",
       "      <td>12</td>\n",
       "      <td>484</td>\n",
       "    </tr>\n",
       "    <tr>\n",
       "      <th>4</th>\n",
       "      <td>5</td>\n",
       "      <td>2018-01-01 06:59:24.712942588</td>\n",
       "      <td>18</td>\n",
       "      <td>464</td>\n",
       "    </tr>\n",
       "  </tbody>\n",
       "</table>\n",
       "</div>"
      ],
      "text/plain": [
       "   id                      call_date  duration  user_id\n",
       "0   1  2018-01-01 00:00:00.000000000        15       35\n",
       "1   2  2018-01-01 01:44:51.178235647        15       24\n",
       "2   3  2018-01-01 03:29:42.356471294         6       28\n",
       "3   4  2018-01-01 05:14:33.534706941        12      484\n",
       "4   5  2018-01-01 06:59:24.712942588        18      464"
      ]
     },
     "execution_count": 9,
     "metadata": {},
     "output_type": "execute_result"
    }
   ],
   "source": [
    "df_calls.head()"
   ]
  },
  {
   "cell_type": "code",
   "execution_count": 10,
   "id": "d3297fb4-01e6-4aca-ac62-e48ad704baba",
   "metadata": {},
   "outputs": [
    {
     "data": {
      "text/plain": [
       "array(['2018-01-01 00:00:00.000000000', '2018-01-01 01:44:51.178235647',\n",
       "       '2018-01-01 03:29:42.356471294', ...,\n",
       "       '2018-12-30 20:30:17.643528708', '2018-12-30 22:15:08.821764356',\n",
       "       '2018-12-31 00:00:00.000000000'], dtype=object)"
      ]
     },
     "execution_count": 10,
     "metadata": {},
     "output_type": "execute_result"
    }
   ],
   "source": [
    "df_calls['call_date'].unique()"
   ]
  },
  {
   "cell_type": "markdown",
   "id": "8f47a91c-e617-46bc-beb7-e0e5eafeaa60",
   "metadata": {},
   "source": [
    "## 1. Convertir fechas a formato datetime\n",
    "Nos será de utilidad más adelante"
   ]
  },
  {
   "cell_type": "code",
   "execution_count": 11,
   "id": "fb8e2f6c-0001-4e9a-9376-53bd2529f0f2",
   "metadata": {},
   "outputs": [],
   "source": [
    "df_calls['call_date'] = pd.to_datetime(df_calls['call_date'])"
   ]
  },
  {
   "cell_type": "code",
   "execution_count": 12,
   "id": "8310be23-253f-4cc4-9f14-4c2e871b007f",
   "metadata": {},
   "outputs": [
    {
     "name": "stdout",
     "output_type": "stream",
     "text": [
      "<class 'pandas.core.frame.DataFrame'>\n",
      "RangeIndex: 5000 entries, 0 to 4999\n",
      "Data columns (total 4 columns):\n",
      " #   Column     Non-Null Count  Dtype         \n",
      "---  ------     --------------  -----         \n",
      " 0   id         5000 non-null   int64         \n",
      " 1   call_date  5000 non-null   datetime64[ns]\n",
      " 2   duration   5000 non-null   int64         \n",
      " 3   user_id    5000 non-null   int64         \n",
      "dtypes: datetime64[ns](1), int64(3)\n",
      "memory usage: 156.4 KB\n"
     ]
    }
   ],
   "source": [
    "df_calls.info()"
   ]
  },
  {
   "cell_type": "code",
   "execution_count": 13,
   "id": "786d9b3d-88bd-405e-96cb-d441a974ae44",
   "metadata": {},
   "outputs": [
    {
     "data": {
      "text/html": [
       "<div>\n",
       "<style scoped>\n",
       "    .dataframe tbody tr th:only-of-type {\n",
       "        vertical-align: middle;\n",
       "    }\n",
       "\n",
       "    .dataframe tbody tr th {\n",
       "        vertical-align: top;\n",
       "    }\n",
       "\n",
       "    .dataframe thead th {\n",
       "        text-align: right;\n",
       "    }\n",
       "</style>\n",
       "<table border=\"1\" class=\"dataframe\">\n",
       "  <thead>\n",
       "    <tr style=\"text-align: right;\">\n",
       "      <th></th>\n",
       "      <th>id</th>\n",
       "      <th>call_date</th>\n",
       "      <th>duration</th>\n",
       "      <th>user_id</th>\n",
       "    </tr>\n",
       "  </thead>\n",
       "  <tbody>\n",
       "    <tr>\n",
       "      <th>0</th>\n",
       "      <td>1</td>\n",
       "      <td>2018-01-01 00:00:00.000000000</td>\n",
       "      <td>15</td>\n",
       "      <td>35</td>\n",
       "    </tr>\n",
       "    <tr>\n",
       "      <th>1</th>\n",
       "      <td>2</td>\n",
       "      <td>2018-01-01 01:44:51.178235647</td>\n",
       "      <td>15</td>\n",
       "      <td>24</td>\n",
       "    </tr>\n",
       "    <tr>\n",
       "      <th>2</th>\n",
       "      <td>3</td>\n",
       "      <td>2018-01-01 03:29:42.356471294</td>\n",
       "      <td>6</td>\n",
       "      <td>28</td>\n",
       "    </tr>\n",
       "    <tr>\n",
       "      <th>3</th>\n",
       "      <td>4</td>\n",
       "      <td>2018-01-01 05:14:33.534706941</td>\n",
       "      <td>12</td>\n",
       "      <td>484</td>\n",
       "    </tr>\n",
       "    <tr>\n",
       "      <th>4</th>\n",
       "      <td>5</td>\n",
       "      <td>2018-01-01 06:59:24.712942588</td>\n",
       "      <td>18</td>\n",
       "      <td>464</td>\n",
       "    </tr>\n",
       "  </tbody>\n",
       "</table>\n",
       "</div>"
      ],
      "text/plain": [
       "   id                     call_date  duration  user_id\n",
       "0   1 2018-01-01 00:00:00.000000000        15       35\n",
       "1   2 2018-01-01 01:44:51.178235647        15       24\n",
       "2   3 2018-01-01 03:29:42.356471294         6       28\n",
       "3   4 2018-01-01 05:14:33.534706941        12      484\n",
       "4   5 2018-01-01 06:59:24.712942588        18      464"
      ]
     },
     "execution_count": 13,
     "metadata": {},
     "output_type": "execute_result"
    }
   ],
   "source": [
    "df_calls.head()"
   ]
  },
  {
   "cell_type": "code",
   "execution_count": 14,
   "id": "e27fe0d4-7deb-41c2-9aee-c5d6e9e2d1f1",
   "metadata": {},
   "outputs": [],
   "source": [
    "df_users['reg_date'] = pd.to_datetime(df_users['reg_date'])\n",
    "df_messages['message_date'] = pd.to_datetime(df_messages['message_date'])\n",
    "df_internet['session_date'] = pd.to_datetime(df_internet['session_date'])"
   ]
  },
  {
   "cell_type": "markdown",
   "id": "245907ce-1e6d-4b1d-af3c-82976fab663a",
   "metadata": {},
   "source": [
    "## 2. Análisis del Comportamiento de Clientes\n",
    "Queremos entender cómo los clientes utilizan los servicios de Megaline en términos de:\n",
    "- Minutos de llamadas realizadas\n",
    "- SMS enviados\n",
    "- Datos consumidos"
   ]
  },
  {
   "cell_type": "code",
   "execution_count": 15,
   "id": "1f52e0ba-f08a-46ce-888a-95269a446c39",
   "metadata": {},
   "outputs": [],
   "source": [
    "df_calls['month'] = df_calls['call_date'].dt.month"
   ]
  },
  {
   "cell_type": "code",
   "execution_count": 16,
   "id": "231f798b-0c8b-4737-ac23-ae7b2329ac57",
   "metadata": {},
   "outputs": [
    {
     "name": "stdout",
     "output_type": "stream",
     "text": [
      "<class 'pandas.core.frame.DataFrame'>\n",
      "RangeIndex: 5000 entries, 0 to 4999\n",
      "Data columns (total 5 columns):\n",
      " #   Column     Non-Null Count  Dtype         \n",
      "---  ------     --------------  -----         \n",
      " 0   id         5000 non-null   int64         \n",
      " 1   call_date  5000 non-null   datetime64[ns]\n",
      " 2   duration   5000 non-null   int64         \n",
      " 3   user_id    5000 non-null   int64         \n",
      " 4   month      5000 non-null   int32         \n",
      "dtypes: datetime64[ns](1), int32(1), int64(3)\n",
      "memory usage: 175.9 KB\n"
     ]
    }
   ],
   "source": [
    "df_calls.info()"
   ]
  },
  {
   "cell_type": "code",
   "execution_count": 17,
   "id": "c2da3546-611f-4afc-a743-b84c2b9b7ec9",
   "metadata": {},
   "outputs": [
    {
     "data": {
      "text/html": [
       "<div>\n",
       "<style scoped>\n",
       "    .dataframe tbody tr th:only-of-type {\n",
       "        vertical-align: middle;\n",
       "    }\n",
       "\n",
       "    .dataframe tbody tr th {\n",
       "        vertical-align: top;\n",
       "    }\n",
       "\n",
       "    .dataframe thead th {\n",
       "        text-align: right;\n",
       "    }\n",
       "</style>\n",
       "<table border=\"1\" class=\"dataframe\">\n",
       "  <thead>\n",
       "    <tr style=\"text-align: right;\">\n",
       "      <th></th>\n",
       "      <th>id</th>\n",
       "      <th>call_date</th>\n",
       "      <th>duration</th>\n",
       "      <th>user_id</th>\n",
       "      <th>month</th>\n",
       "    </tr>\n",
       "  </thead>\n",
       "  <tbody>\n",
       "    <tr>\n",
       "      <th>0</th>\n",
       "      <td>1</td>\n",
       "      <td>2018-01-01 00:00:00.000000000</td>\n",
       "      <td>15</td>\n",
       "      <td>35</td>\n",
       "      <td>1</td>\n",
       "    </tr>\n",
       "    <tr>\n",
       "      <th>1</th>\n",
       "      <td>2</td>\n",
       "      <td>2018-01-01 01:44:51.178235647</td>\n",
       "      <td>15</td>\n",
       "      <td>24</td>\n",
       "      <td>1</td>\n",
       "    </tr>\n",
       "    <tr>\n",
       "      <th>2</th>\n",
       "      <td>3</td>\n",
       "      <td>2018-01-01 03:29:42.356471294</td>\n",
       "      <td>6</td>\n",
       "      <td>28</td>\n",
       "      <td>1</td>\n",
       "    </tr>\n",
       "    <tr>\n",
       "      <th>3</th>\n",
       "      <td>4</td>\n",
       "      <td>2018-01-01 05:14:33.534706941</td>\n",
       "      <td>12</td>\n",
       "      <td>484</td>\n",
       "      <td>1</td>\n",
       "    </tr>\n",
       "    <tr>\n",
       "      <th>4</th>\n",
       "      <td>5</td>\n",
       "      <td>2018-01-01 06:59:24.712942588</td>\n",
       "      <td>18</td>\n",
       "      <td>464</td>\n",
       "      <td>1</td>\n",
       "    </tr>\n",
       "  </tbody>\n",
       "</table>\n",
       "</div>"
      ],
      "text/plain": [
       "   id                     call_date  duration  user_id  month\n",
       "0   1 2018-01-01 00:00:00.000000000        15       35      1\n",
       "1   2 2018-01-01 01:44:51.178235647        15       24      1\n",
       "2   3 2018-01-01 03:29:42.356471294         6       28      1\n",
       "3   4 2018-01-01 05:14:33.534706941        12      484      1\n",
       "4   5 2018-01-01 06:59:24.712942588        18      464      1"
      ]
     },
     "execution_count": 17,
     "metadata": {},
     "output_type": "execute_result"
    }
   ],
   "source": [
    "df_calls.head()"
   ]
  },
  {
   "cell_type": "code",
   "execution_count": 18,
   "id": "5d66f413-4064-4cfb-9dad-2f3640163471",
   "metadata": {},
   "outputs": [],
   "source": [
    "# Extraer el mes de cada transacción\n",
    "df_messages['month'] = df_messages['message_date'].dt.month\n",
    "df_internet['month'] = df_internet['session_date'].dt.month"
   ]
  },
  {
   "cell_type": "markdown",
   "id": "6bef028b-37de-45c1-982e-e1fb73abb67b",
   "metadata": {},
   "source": [
    "## 3. Agrupando información relevante"
   ]
  },
  {
   "cell_type": "code",
   "execution_count": 19,
   "id": "f1426e56-544e-4e8e-97c1-4f607a88c09c",
   "metadata": {},
   "outputs": [
    {
     "data": {
      "text/html": [
       "<div>\n",
       "<style scoped>\n",
       "    .dataframe tbody tr th:only-of-type {\n",
       "        vertical-align: middle;\n",
       "    }\n",
       "\n",
       "    .dataframe tbody tr th {\n",
       "        vertical-align: top;\n",
       "    }\n",
       "\n",
       "    .dataframe thead th {\n",
       "        text-align: right;\n",
       "    }\n",
       "</style>\n",
       "<table border=\"1\" class=\"dataframe\">\n",
       "  <thead>\n",
       "    <tr style=\"text-align: right;\">\n",
       "      <th></th>\n",
       "      <th>id</th>\n",
       "      <th>call_date</th>\n",
       "      <th>duration</th>\n",
       "      <th>user_id</th>\n",
       "      <th>month</th>\n",
       "    </tr>\n",
       "  </thead>\n",
       "  <tbody>\n",
       "    <tr>\n",
       "      <th>0</th>\n",
       "      <td>1</td>\n",
       "      <td>2018-01-01 00:00:00.000000000</td>\n",
       "      <td>15</td>\n",
       "      <td>35</td>\n",
       "      <td>1</td>\n",
       "    </tr>\n",
       "    <tr>\n",
       "      <th>1</th>\n",
       "      <td>2</td>\n",
       "      <td>2018-01-01 01:44:51.178235647</td>\n",
       "      <td>15</td>\n",
       "      <td>24</td>\n",
       "      <td>1</td>\n",
       "    </tr>\n",
       "    <tr>\n",
       "      <th>2</th>\n",
       "      <td>3</td>\n",
       "      <td>2018-01-01 03:29:42.356471294</td>\n",
       "      <td>6</td>\n",
       "      <td>28</td>\n",
       "      <td>1</td>\n",
       "    </tr>\n",
       "    <tr>\n",
       "      <th>3</th>\n",
       "      <td>4</td>\n",
       "      <td>2018-01-01 05:14:33.534706941</td>\n",
       "      <td>12</td>\n",
       "      <td>484</td>\n",
       "      <td>1</td>\n",
       "    </tr>\n",
       "    <tr>\n",
       "      <th>4</th>\n",
       "      <td>5</td>\n",
       "      <td>2018-01-01 06:59:24.712942588</td>\n",
       "      <td>18</td>\n",
       "      <td>464</td>\n",
       "      <td>1</td>\n",
       "    </tr>\n",
       "    <tr>\n",
       "      <th>5</th>\n",
       "      <td>6</td>\n",
       "      <td>2018-01-01 08:44:15.891178235</td>\n",
       "      <td>14</td>\n",
       "      <td>488</td>\n",
       "      <td>1</td>\n",
       "    </tr>\n",
       "    <tr>\n",
       "      <th>6</th>\n",
       "      <td>7</td>\n",
       "      <td>2018-01-01 10:29:07.069413882</td>\n",
       "      <td>2</td>\n",
       "      <td>16</td>\n",
       "      <td>1</td>\n",
       "    </tr>\n",
       "  </tbody>\n",
       "</table>\n",
       "</div>"
      ],
      "text/plain": [
       "   id                     call_date  duration  user_id  month\n",
       "0   1 2018-01-01 00:00:00.000000000        15       35      1\n",
       "1   2 2018-01-01 01:44:51.178235647        15       24      1\n",
       "2   3 2018-01-01 03:29:42.356471294         6       28      1\n",
       "3   4 2018-01-01 05:14:33.534706941        12      484      1\n",
       "4   5 2018-01-01 06:59:24.712942588        18      464      1\n",
       "5   6 2018-01-01 08:44:15.891178235        14      488      1\n",
       "6   7 2018-01-01 10:29:07.069413882         2       16      1"
      ]
     },
     "execution_count": 19,
     "metadata": {},
     "output_type": "execute_result"
    }
   ],
   "source": [
    "df_calls.head(7)"
   ]
  },
  {
   "cell_type": "code",
   "execution_count": 20,
   "id": "56bb117b-ec7b-41d1-aa59-0a1b59a8d7c3",
   "metadata": {},
   "outputs": [
    {
     "data": {
      "text/html": [
       "<div>\n",
       "<style scoped>\n",
       "    .dataframe tbody tr th:only-of-type {\n",
       "        vertical-align: middle;\n",
       "    }\n",
       "\n",
       "    .dataframe tbody tr th {\n",
       "        vertical-align: top;\n",
       "    }\n",
       "\n",
       "    .dataframe thead th {\n",
       "        text-align: right;\n",
       "    }\n",
       "</style>\n",
       "<table border=\"1\" class=\"dataframe\">\n",
       "  <thead>\n",
       "    <tr style=\"text-align: right;\">\n",
       "      <th></th>\n",
       "      <th>user_id</th>\n",
       "      <th>month</th>\n",
       "      <th>duration</th>\n",
       "    </tr>\n",
       "  </thead>\n",
       "  <tbody>\n",
       "    <tr>\n",
       "      <th>0</th>\n",
       "      <td>1</td>\n",
       "      <td>1</td>\n",
       "      <td>16</td>\n",
       "    </tr>\n",
       "    <tr>\n",
       "      <th>1</th>\n",
       "      <td>1</td>\n",
       "      <td>2</td>\n",
       "      <td>13</td>\n",
       "    </tr>\n",
       "    <tr>\n",
       "      <th>2</th>\n",
       "      <td>1</td>\n",
       "      <td>6</td>\n",
       "      <td>23</td>\n",
       "    </tr>\n",
       "    <tr>\n",
       "      <th>3</th>\n",
       "      <td>1</td>\n",
       "      <td>9</td>\n",
       "      <td>19</td>\n",
       "    </tr>\n",
       "    <tr>\n",
       "      <th>4</th>\n",
       "      <td>1</td>\n",
       "      <td>11</td>\n",
       "      <td>8</td>\n",
       "    </tr>\n",
       "  </tbody>\n",
       "</table>\n",
       "</div>"
      ],
      "text/plain": [
       "   user_id  month  duration\n",
       "0        1      1        16\n",
       "1        1      2        13\n",
       "2        1      6        23\n",
       "3        1      9        19\n",
       "4        1     11         8"
      ]
     },
     "execution_count": 20,
     "metadata": {},
     "output_type": "execute_result"
    }
   ],
   "source": [
    "calls_per_user = df_calls.groupby(['user_id', 'month'])['duration'].sum().reset_index()\n",
    "calls_per_user.head()"
   ]
  },
  {
   "cell_type": "code",
   "execution_count": 21,
   "id": "79155e5d-1e6f-4973-bc3c-b793b8995387",
   "metadata": {},
   "outputs": [
    {
     "data": {
      "text/html": [
       "<div>\n",
       "<style scoped>\n",
       "    .dataframe tbody tr th:only-of-type {\n",
       "        vertical-align: middle;\n",
       "    }\n",
       "\n",
       "    .dataframe tbody tr th {\n",
       "        vertical-align: top;\n",
       "    }\n",
       "\n",
       "    .dataframe thead th {\n",
       "        text-align: right;\n",
       "    }\n",
       "</style>\n",
       "<table border=\"1\" class=\"dataframe\">\n",
       "  <thead>\n",
       "    <tr style=\"text-align: right;\">\n",
       "      <th></th>\n",
       "      <th>user_id</th>\n",
       "      <th>month</th>\n",
       "      <th>id</th>\n",
       "    </tr>\n",
       "  </thead>\n",
       "  <tbody>\n",
       "    <tr>\n",
       "      <th>0</th>\n",
       "      <td>1</td>\n",
       "      <td>5</td>\n",
       "      <td>1</td>\n",
       "    </tr>\n",
       "    <tr>\n",
       "      <th>1</th>\n",
       "      <td>1</td>\n",
       "      <td>7</td>\n",
       "      <td>1</td>\n",
       "    </tr>\n",
       "    <tr>\n",
       "      <th>2</th>\n",
       "      <td>2</td>\n",
       "      <td>4</td>\n",
       "      <td>1</td>\n",
       "    </tr>\n",
       "    <tr>\n",
       "      <th>3</th>\n",
       "      <td>2</td>\n",
       "      <td>7</td>\n",
       "      <td>1</td>\n",
       "    </tr>\n",
       "    <tr>\n",
       "      <th>4</th>\n",
       "      <td>2</td>\n",
       "      <td>11</td>\n",
       "      <td>1</td>\n",
       "    </tr>\n",
       "  </tbody>\n",
       "</table>\n",
       "</div>"
      ],
      "text/plain": [
       "   user_id  month  id\n",
       "0        1      5   1\n",
       "1        1      7   1\n",
       "2        2      4   1\n",
       "3        2      7   1\n",
       "4        2     11   1"
      ]
     },
     "execution_count": 21,
     "metadata": {},
     "output_type": "execute_result"
    }
   ],
   "source": [
    "# Agregar el total mensual por usuario\n",
    "messages_per_user = df_messages.groupby(['user_id', 'month'])['id'].count().reset_index()\n",
    "messages_per_user.head()"
   ]
  },
  {
   "cell_type": "code",
   "execution_count": 22,
   "id": "e2100c50-8487-468f-8282-a005827f7bad",
   "metadata": {},
   "outputs": [
    {
     "data": {
      "text/html": [
       "<div>\n",
       "<style scoped>\n",
       "    .dataframe tbody tr th:only-of-type {\n",
       "        vertical-align: middle;\n",
       "    }\n",
       "\n",
       "    .dataframe tbody tr th {\n",
       "        vertical-align: top;\n",
       "    }\n",
       "\n",
       "    .dataframe thead th {\n",
       "        text-align: right;\n",
       "    }\n",
       "</style>\n",
       "<table border=\"1\" class=\"dataframe\">\n",
       "  <thead>\n",
       "    <tr style=\"text-align: right;\">\n",
       "      <th></th>\n",
       "      <th>user_id</th>\n",
       "      <th>month</th>\n",
       "      <th>mb_used</th>\n",
       "    </tr>\n",
       "  </thead>\n",
       "  <tbody>\n",
       "    <tr>\n",
       "      <th>0</th>\n",
       "      <td>1</td>\n",
       "      <td>1</td>\n",
       "      <td>2216</td>\n",
       "    </tr>\n",
       "    <tr>\n",
       "      <th>1</th>\n",
       "      <td>1</td>\n",
       "      <td>3</td>\n",
       "      <td>2698</td>\n",
       "    </tr>\n",
       "    <tr>\n",
       "      <th>2</th>\n",
       "      <td>1</td>\n",
       "      <td>5</td>\n",
       "      <td>1085</td>\n",
       "    </tr>\n",
       "    <tr>\n",
       "      <th>3</th>\n",
       "      <td>1</td>\n",
       "      <td>6</td>\n",
       "      <td>689</td>\n",
       "    </tr>\n",
       "    <tr>\n",
       "      <th>4</th>\n",
       "      <td>1</td>\n",
       "      <td>7</td>\n",
       "      <td>599</td>\n",
       "    </tr>\n",
       "  </tbody>\n",
       "</table>\n",
       "</div>"
      ],
      "text/plain": [
       "   user_id  month  mb_used\n",
       "0        1      1     2216\n",
       "1        1      3     2698\n",
       "2        1      5     1085\n",
       "3        1      6      689\n",
       "4        1      7      599"
      ]
     },
     "execution_count": 22,
     "metadata": {},
     "output_type": "execute_result"
    }
   ],
   "source": [
    "internet_per_user = df_internet.groupby(['user_id', 'month'])['mb_used'].sum().reset_index()\n",
    "internet_per_user.head()"
   ]
  },
  {
   "cell_type": "markdown",
   "id": "9a97588f-009a-45da-ac49-f1adb6a8d9e1",
   "metadata": {},
   "source": [
    "## 4. Unión de dataframes"
   ]
  },
  {
   "cell_type": "code",
   "execution_count": 23,
   "id": "4338ace1-519c-4425-9c5d-d2787d84d212",
   "metadata": {},
   "outputs": [
    {
     "data": {
      "text/html": [
       "<div>\n",
       "<style scoped>\n",
       "    .dataframe tbody tr th:only-of-type {\n",
       "        vertical-align: middle;\n",
       "    }\n",
       "\n",
       "    .dataframe tbody tr th {\n",
       "        vertical-align: top;\n",
       "    }\n",
       "\n",
       "    .dataframe thead th {\n",
       "        text-align: right;\n",
       "    }\n",
       "</style>\n",
       "<table border=\"1\" class=\"dataframe\">\n",
       "  <thead>\n",
       "    <tr style=\"text-align: right;\">\n",
       "      <th></th>\n",
       "      <th>user_id</th>\n",
       "      <th>plan</th>\n",
       "      <th>city</th>\n",
       "      <th>reg_date</th>\n",
       "      <th>churn_date</th>\n",
       "    </tr>\n",
       "  </thead>\n",
       "  <tbody>\n",
       "    <tr>\n",
       "      <th>0</th>\n",
       "      <td>1</td>\n",
       "      <td>Surf</td>\n",
       "      <td>New York</td>\n",
       "      <td>2018-01-01 00:00:00.000000000</td>\n",
       "      <td>NaN</td>\n",
       "    </tr>\n",
       "    <tr>\n",
       "      <th>1</th>\n",
       "      <td>2</td>\n",
       "      <td>Ultimate</td>\n",
       "      <td>New York</td>\n",
       "      <td>2018-01-01 08:39:26.332665330</td>\n",
       "      <td>NaN</td>\n",
       "    </tr>\n",
       "    <tr>\n",
       "      <th>2</th>\n",
       "      <td>3</td>\n",
       "      <td>Ultimate</td>\n",
       "      <td>New York</td>\n",
       "      <td>2018-01-01 17:18:52.665330661</td>\n",
       "      <td>NaN</td>\n",
       "    </tr>\n",
       "    <tr>\n",
       "      <th>3</th>\n",
       "      <td>4</td>\n",
       "      <td>Surf</td>\n",
       "      <td>Phoenix</td>\n",
       "      <td>2018-01-02 01:58:18.997995991</td>\n",
       "      <td>NaN</td>\n",
       "    </tr>\n",
       "    <tr>\n",
       "      <th>4</th>\n",
       "      <td>5</td>\n",
       "      <td>Surf</td>\n",
       "      <td>Houston</td>\n",
       "      <td>2018-01-02 10:37:45.330661322</td>\n",
       "      <td>NaN</td>\n",
       "    </tr>\n",
       "  </tbody>\n",
       "</table>\n",
       "</div>"
      ],
      "text/plain": [
       "   user_id      plan      city                      reg_date  churn_date\n",
       "0        1      Surf  New York 2018-01-01 00:00:00.000000000         NaN\n",
       "1        2  Ultimate  New York 2018-01-01 08:39:26.332665330         NaN\n",
       "2        3  Ultimate  New York 2018-01-01 17:18:52.665330661         NaN\n",
       "3        4      Surf   Phoenix 2018-01-02 01:58:18.997995991         NaN\n",
       "4        5      Surf   Houston 2018-01-02 10:37:45.330661322         NaN"
      ]
     },
     "execution_count": 23,
     "metadata": {},
     "output_type": "execute_result"
    }
   ],
   "source": [
    "df_users.head()"
   ]
  },
  {
   "cell_type": "code",
   "execution_count": 24,
   "id": "aa58a23a-4202-4569-9a51-237424a599dc",
   "metadata": {},
   "outputs": [
    {
     "data": {
      "text/html": [
       "<div>\n",
       "<style scoped>\n",
       "    .dataframe tbody tr th:only-of-type {\n",
       "        vertical-align: middle;\n",
       "    }\n",
       "\n",
       "    .dataframe tbody tr th {\n",
       "        vertical-align: top;\n",
       "    }\n",
       "\n",
       "    .dataframe thead th {\n",
       "        text-align: right;\n",
       "    }\n",
       "</style>\n",
       "<table border=\"1\" class=\"dataframe\">\n",
       "  <thead>\n",
       "    <tr style=\"text-align: right;\">\n",
       "      <th></th>\n",
       "      <th>user_id</th>\n",
       "      <th>plan</th>\n",
       "    </tr>\n",
       "  </thead>\n",
       "  <tbody>\n",
       "    <tr>\n",
       "      <th>0</th>\n",
       "      <td>1</td>\n",
       "      <td>Surf</td>\n",
       "    </tr>\n",
       "    <tr>\n",
       "      <th>1</th>\n",
       "      <td>2</td>\n",
       "      <td>Ultimate</td>\n",
       "    </tr>\n",
       "    <tr>\n",
       "      <th>2</th>\n",
       "      <td>3</td>\n",
       "      <td>Ultimate</td>\n",
       "    </tr>\n",
       "    <tr>\n",
       "      <th>3</th>\n",
       "      <td>4</td>\n",
       "      <td>Surf</td>\n",
       "    </tr>\n",
       "    <tr>\n",
       "      <th>4</th>\n",
       "      <td>5</td>\n",
       "      <td>Surf</td>\n",
       "    </tr>\n",
       "  </tbody>\n",
       "</table>\n",
       "</div>"
      ],
      "text/plain": [
       "   user_id      plan\n",
       "0        1      Surf\n",
       "1        2  Ultimate\n",
       "2        3  Ultimate\n",
       "3        4      Surf\n",
       "4        5      Surf"
      ]
     },
     "execution_count": 24,
     "metadata": {},
     "output_type": "execute_result"
    }
   ],
   "source": [
    "df_users_plans = df_users[['user_id', 'plan']]\n",
    "df_users_plans.head()"
   ]
  },
  {
   "cell_type": "code",
   "execution_count": 25,
   "id": "cd58652e-44e4-4716-b46a-a4a1015cfd19",
   "metadata": {},
   "outputs": [
    {
     "data": {
      "text/html": [
       "<div>\n",
       "<style scoped>\n",
       "    .dataframe tbody tr th:only-of-type {\n",
       "        vertical-align: middle;\n",
       "    }\n",
       "\n",
       "    .dataframe tbody tr th {\n",
       "        vertical-align: top;\n",
       "    }\n",
       "\n",
       "    .dataframe thead th {\n",
       "        text-align: right;\n",
       "    }\n",
       "</style>\n",
       "<table border=\"1\" class=\"dataframe\">\n",
       "  <thead>\n",
       "    <tr style=\"text-align: right;\">\n",
       "      <th></th>\n",
       "      <th>user_id</th>\n",
       "      <th>month</th>\n",
       "      <th>duration</th>\n",
       "      <th>plan</th>\n",
       "    </tr>\n",
       "  </thead>\n",
       "  <tbody>\n",
       "    <tr>\n",
       "      <th>0</th>\n",
       "      <td>1</td>\n",
       "      <td>1</td>\n",
       "      <td>16</td>\n",
       "      <td>Surf</td>\n",
       "    </tr>\n",
       "    <tr>\n",
       "      <th>1</th>\n",
       "      <td>1</td>\n",
       "      <td>2</td>\n",
       "      <td>13</td>\n",
       "      <td>Surf</td>\n",
       "    </tr>\n",
       "    <tr>\n",
       "      <th>2</th>\n",
       "      <td>1</td>\n",
       "      <td>6</td>\n",
       "      <td>23</td>\n",
       "      <td>Surf</td>\n",
       "    </tr>\n",
       "    <tr>\n",
       "      <th>3</th>\n",
       "      <td>1</td>\n",
       "      <td>9</td>\n",
       "      <td>19</td>\n",
       "      <td>Surf</td>\n",
       "    </tr>\n",
       "    <tr>\n",
       "      <th>4</th>\n",
       "      <td>1</td>\n",
       "      <td>11</td>\n",
       "      <td>8</td>\n",
       "      <td>Surf</td>\n",
       "    </tr>\n",
       "  </tbody>\n",
       "</table>\n",
       "</div>"
      ],
      "text/plain": [
       "   user_id  month  duration  plan\n",
       "0        1      1        16  Surf\n",
       "1        1      2        13  Surf\n",
       "2        1      6        23  Surf\n",
       "3        1      9        19  Surf\n",
       "4        1     11         8  Surf"
      ]
     },
     "execution_count": 25,
     "metadata": {},
     "output_type": "execute_result"
    }
   ],
   "source": [
    "calls_per_user = calls_per_user.merge(df_users_plans, on='user_id', how='left')\n",
    "calls_per_user.head()"
   ]
  },
  {
   "cell_type": "code",
   "execution_count": 26,
   "id": "2a7927de-24f7-4769-bac7-04b02350d5b3",
   "metadata": {},
   "outputs": [
    {
     "data": {
      "text/html": [
       "<div>\n",
       "<style scoped>\n",
       "    .dataframe tbody tr th:only-of-type {\n",
       "        vertical-align: middle;\n",
       "    }\n",
       "\n",
       "    .dataframe tbody tr th {\n",
       "        vertical-align: top;\n",
       "    }\n",
       "\n",
       "    .dataframe thead th {\n",
       "        text-align: right;\n",
       "    }\n",
       "</style>\n",
       "<table border=\"1\" class=\"dataframe\">\n",
       "  <thead>\n",
       "    <tr style=\"text-align: right;\">\n",
       "      <th></th>\n",
       "      <th>user_id</th>\n",
       "      <th>month</th>\n",
       "      <th>id</th>\n",
       "      <th>plan</th>\n",
       "    </tr>\n",
       "  </thead>\n",
       "  <tbody>\n",
       "    <tr>\n",
       "      <th>0</th>\n",
       "      <td>1</td>\n",
       "      <td>5</td>\n",
       "      <td>1</td>\n",
       "      <td>Surf</td>\n",
       "    </tr>\n",
       "    <tr>\n",
       "      <th>1</th>\n",
       "      <td>1</td>\n",
       "      <td>7</td>\n",
       "      <td>1</td>\n",
       "      <td>Surf</td>\n",
       "    </tr>\n",
       "    <tr>\n",
       "      <th>2</th>\n",
       "      <td>2</td>\n",
       "      <td>4</td>\n",
       "      <td>1</td>\n",
       "      <td>Ultimate</td>\n",
       "    </tr>\n",
       "    <tr>\n",
       "      <th>3</th>\n",
       "      <td>2</td>\n",
       "      <td>7</td>\n",
       "      <td>1</td>\n",
       "      <td>Ultimate</td>\n",
       "    </tr>\n",
       "    <tr>\n",
       "      <th>4</th>\n",
       "      <td>2</td>\n",
       "      <td>11</td>\n",
       "      <td>1</td>\n",
       "      <td>Ultimate</td>\n",
       "    </tr>\n",
       "  </tbody>\n",
       "</table>\n",
       "</div>"
      ],
      "text/plain": [
       "   user_id  month  id      plan\n",
       "0        1      5   1      Surf\n",
       "1        1      7   1      Surf\n",
       "2        2      4   1  Ultimate\n",
       "3        2      7   1  Ultimate\n",
       "4        2     11   1  Ultimate"
      ]
     },
     "execution_count": 26,
     "metadata": {},
     "output_type": "execute_result"
    }
   ],
   "source": [
    "messages_per_user = messages_per_user.merge(df_users_plans, on='user_id', how='left')\n",
    "messages_per_user.head()"
   ]
  },
  {
   "cell_type": "code",
   "execution_count": 27,
   "id": "281b4a22-c824-4b3a-a2bd-e0bd0cfc2230",
   "metadata": {},
   "outputs": [
    {
     "data": {
      "text/html": [
       "<div>\n",
       "<style scoped>\n",
       "    .dataframe tbody tr th:only-of-type {\n",
       "        vertical-align: middle;\n",
       "    }\n",
       "\n",
       "    .dataframe tbody tr th {\n",
       "        vertical-align: top;\n",
       "    }\n",
       "\n",
       "    .dataframe thead th {\n",
       "        text-align: right;\n",
       "    }\n",
       "</style>\n",
       "<table border=\"1\" class=\"dataframe\">\n",
       "  <thead>\n",
       "    <tr style=\"text-align: right;\">\n",
       "      <th></th>\n",
       "      <th>user_id</th>\n",
       "      <th>month</th>\n",
       "      <th>mb_used</th>\n",
       "      <th>plan</th>\n",
       "    </tr>\n",
       "  </thead>\n",
       "  <tbody>\n",
       "    <tr>\n",
       "      <th>0</th>\n",
       "      <td>1</td>\n",
       "      <td>1</td>\n",
       "      <td>2216</td>\n",
       "      <td>Surf</td>\n",
       "    </tr>\n",
       "    <tr>\n",
       "      <th>1</th>\n",
       "      <td>1</td>\n",
       "      <td>3</td>\n",
       "      <td>2698</td>\n",
       "      <td>Surf</td>\n",
       "    </tr>\n",
       "    <tr>\n",
       "      <th>2</th>\n",
       "      <td>1</td>\n",
       "      <td>5</td>\n",
       "      <td>1085</td>\n",
       "      <td>Surf</td>\n",
       "    </tr>\n",
       "    <tr>\n",
       "      <th>3</th>\n",
       "      <td>1</td>\n",
       "      <td>6</td>\n",
       "      <td>689</td>\n",
       "      <td>Surf</td>\n",
       "    </tr>\n",
       "    <tr>\n",
       "      <th>4</th>\n",
       "      <td>1</td>\n",
       "      <td>7</td>\n",
       "      <td>599</td>\n",
       "      <td>Surf</td>\n",
       "    </tr>\n",
       "  </tbody>\n",
       "</table>\n",
       "</div>"
      ],
      "text/plain": [
       "   user_id  month  mb_used  plan\n",
       "0        1      1     2216  Surf\n",
       "1        1      3     2698  Surf\n",
       "2        1      5     1085  Surf\n",
       "3        1      6      689  Surf\n",
       "4        1      7      599  Surf"
      ]
     },
     "execution_count": 27,
     "metadata": {},
     "output_type": "execute_result"
    }
   ],
   "source": [
    "internet_per_user = internet_per_user.merge(df_users_plans, on='user_id', how='left')\n",
    "internet_per_user.head()"
   ]
  },
  {
   "cell_type": "markdown",
   "id": "91e71786-1d9d-4473-94a9-12ddc652583e",
   "metadata": {},
   "source": [
    "## 5. Cálculo de Ingresos Mensuales\n",
    "Cada usuario genera ingresos mensuales según su tarifa y su consumo adicional sobre los límites del plan. "
   ]
  },
  {
   "cell_type": "code",
   "execution_count": 52,
   "id": "3d9c1247-7d8f-405e-b525-f18e2a497acd",
   "metadata": {},
   "outputs": [],
   "source": [
    "def calcular_ingresos(row):\n",
    "    plan = df_plans[df_plans['plan_name'] == row['plan']].iloc[0]\n",
    "    extra_minutes = max(row['duration'] - plan['minutes_included'], 0)\n",
    "    extra_messages = max(row['id'] - plan['messages_included'], 0)\n",
    "    extra_data = max(row['mb_used'] - plan['mb_per_month_included'], 0) / 1024\n",
    "    \n",
    "    ingresos = (plan['usd_monthly_fee'] +\n",
    "                extra_minutes * plan['usd_per_minute'] +\n",
    "                extra_messages * plan['usd_per_message'] +\n",
    "                np.ceil(extra_data) * plan['usd_per_gb'])\n",
    "    return ingresos"
   ]
  },
  {
   "cell_type": "markdown",
   "id": "80ead14d-1e22-4b87-a4d7-7277d9216e38",
   "metadata": {},
   "source": [
    "_Revisando la forma cómo se tienen organizados los dataframes actualmente. ¿No crees que nos falta un paso adicional?_"
   ]
  },
  {
   "cell_type": "markdown",
   "id": "c4cd65cf-8929-48cf-b343-b7cb7039aca7",
   "metadata": {},
   "source": [
    "## 6. Combinando las agrupaciones"
   ]
  },
  {
   "cell_type": "code",
   "execution_count": 29,
   "id": "d63bf6d4-0a24-442c-920d-64b2aa2f15e1",
   "metadata": {},
   "outputs": [],
   "source": [
    "df_usuarios_mensuales = calls_per_user.merge(messages_per_user, on=['user_id', 'month', 'plan'], how='outer')\n",
    "df_usuarios_mensuales = df_usuarios_mensuales.merge(internet_per_user, on=['user_id', 'month', 'plan'], how='outer')"
   ]
  },
  {
   "cell_type": "code",
   "execution_count": 30,
   "id": "0b697d68-acdc-4cf6-8299-933679769d3f",
   "metadata": {},
   "outputs": [
    {
     "data": {
      "text/html": [
       "<div>\n",
       "<style scoped>\n",
       "    .dataframe tbody tr th:only-of-type {\n",
       "        vertical-align: middle;\n",
       "    }\n",
       "\n",
       "    .dataframe tbody tr th {\n",
       "        vertical-align: top;\n",
       "    }\n",
       "\n",
       "    .dataframe thead th {\n",
       "        text-align: right;\n",
       "    }\n",
       "</style>\n",
       "<table border=\"1\" class=\"dataframe\">\n",
       "  <thead>\n",
       "    <tr style=\"text-align: right;\">\n",
       "      <th></th>\n",
       "      <th>user_id</th>\n",
       "      <th>month</th>\n",
       "      <th>duration</th>\n",
       "      <th>plan</th>\n",
       "      <th>id</th>\n",
       "      <th>mb_used</th>\n",
       "    </tr>\n",
       "  </thead>\n",
       "  <tbody>\n",
       "    <tr>\n",
       "      <th>0</th>\n",
       "      <td>1</td>\n",
       "      <td>1</td>\n",
       "      <td>16.0</td>\n",
       "      <td>Surf</td>\n",
       "      <td>NaN</td>\n",
       "      <td>2216.0</td>\n",
       "    </tr>\n",
       "    <tr>\n",
       "      <th>1</th>\n",
       "      <td>1</td>\n",
       "      <td>2</td>\n",
       "      <td>13.0</td>\n",
       "      <td>Surf</td>\n",
       "      <td>NaN</td>\n",
       "      <td>NaN</td>\n",
       "    </tr>\n",
       "    <tr>\n",
       "      <th>2</th>\n",
       "      <td>1</td>\n",
       "      <td>3</td>\n",
       "      <td>NaN</td>\n",
       "      <td>Surf</td>\n",
       "      <td>NaN</td>\n",
       "      <td>2698.0</td>\n",
       "    </tr>\n",
       "    <tr>\n",
       "      <th>3</th>\n",
       "      <td>1</td>\n",
       "      <td>5</td>\n",
       "      <td>NaN</td>\n",
       "      <td>Surf</td>\n",
       "      <td>1.0</td>\n",
       "      <td>1085.0</td>\n",
       "    </tr>\n",
       "    <tr>\n",
       "      <th>4</th>\n",
       "      <td>1</td>\n",
       "      <td>6</td>\n",
       "      <td>23.0</td>\n",
       "      <td>Surf</td>\n",
       "      <td>NaN</td>\n",
       "      <td>689.0</td>\n",
       "    </tr>\n",
       "  </tbody>\n",
       "</table>\n",
       "</div>"
      ],
      "text/plain": [
       "   user_id  month  duration  plan   id  mb_used\n",
       "0        1      1      16.0  Surf  NaN   2216.0\n",
       "1        1      2      13.0  Surf  NaN      NaN\n",
       "2        1      3       NaN  Surf  NaN   2698.0\n",
       "3        1      5       NaN  Surf  1.0   1085.0\n",
       "4        1      6      23.0  Surf  NaN    689.0"
      ]
     },
     "execution_count": 30,
     "metadata": {},
     "output_type": "execute_result"
    }
   ],
   "source": [
    "df_usuarios_mensuales.head()"
   ]
  },
  {
   "cell_type": "code",
   "execution_count": 32,
   "id": "6d911041-1558-49f8-90c7-4a65e9dfd49a",
   "metadata": {},
   "outputs": [],
   "source": [
    "df_usuarios_mensuales = df_usuarios_mensuales.fillna(0)"
   ]
  },
  {
   "cell_type": "code",
   "execution_count": 33,
   "id": "c41e60e4-db05-47d5-a9cf-01fcdb72c846",
   "metadata": {},
   "outputs": [
    {
     "data": {
      "text/html": [
       "<div>\n",
       "<style scoped>\n",
       "    .dataframe tbody tr th:only-of-type {\n",
       "        vertical-align: middle;\n",
       "    }\n",
       "\n",
       "    .dataframe tbody tr th {\n",
       "        vertical-align: top;\n",
       "    }\n",
       "\n",
       "    .dataframe thead th {\n",
       "        text-align: right;\n",
       "    }\n",
       "</style>\n",
       "<table border=\"1\" class=\"dataframe\">\n",
       "  <thead>\n",
       "    <tr style=\"text-align: right;\">\n",
       "      <th></th>\n",
       "      <th>user_id</th>\n",
       "      <th>month</th>\n",
       "      <th>duration</th>\n",
       "      <th>plan</th>\n",
       "      <th>id</th>\n",
       "      <th>mb_used</th>\n",
       "    </tr>\n",
       "  </thead>\n",
       "  <tbody>\n",
       "    <tr>\n",
       "      <th>0</th>\n",
       "      <td>1</td>\n",
       "      <td>1</td>\n",
       "      <td>16.0</td>\n",
       "      <td>Surf</td>\n",
       "      <td>0.0</td>\n",
       "      <td>2216.0</td>\n",
       "    </tr>\n",
       "    <tr>\n",
       "      <th>1</th>\n",
       "      <td>1</td>\n",
       "      <td>2</td>\n",
       "      <td>13.0</td>\n",
       "      <td>Surf</td>\n",
       "      <td>0.0</td>\n",
       "      <td>0.0</td>\n",
       "    </tr>\n",
       "    <tr>\n",
       "      <th>2</th>\n",
       "      <td>1</td>\n",
       "      <td>3</td>\n",
       "      <td>0.0</td>\n",
       "      <td>Surf</td>\n",
       "      <td>0.0</td>\n",
       "      <td>2698.0</td>\n",
       "    </tr>\n",
       "    <tr>\n",
       "      <th>3</th>\n",
       "      <td>1</td>\n",
       "      <td>5</td>\n",
       "      <td>0.0</td>\n",
       "      <td>Surf</td>\n",
       "      <td>1.0</td>\n",
       "      <td>1085.0</td>\n",
       "    </tr>\n",
       "    <tr>\n",
       "      <th>4</th>\n",
       "      <td>1</td>\n",
       "      <td>6</td>\n",
       "      <td>23.0</td>\n",
       "      <td>Surf</td>\n",
       "      <td>0.0</td>\n",
       "      <td>689.0</td>\n",
       "    </tr>\n",
       "  </tbody>\n",
       "</table>\n",
       "</div>"
      ],
      "text/plain": [
       "   user_id  month  duration  plan   id  mb_used\n",
       "0        1      1      16.0  Surf  0.0   2216.0\n",
       "1        1      2      13.0  Surf  0.0      0.0\n",
       "2        1      3       0.0  Surf  0.0   2698.0\n",
       "3        1      5       0.0  Surf  1.0   1085.0\n",
       "4        1      6      23.0  Surf  0.0    689.0"
      ]
     },
     "execution_count": 33,
     "metadata": {},
     "output_type": "execute_result"
    }
   ],
   "source": [
    "df_usuarios_mensuales.head()"
   ]
  },
  {
   "cell_type": "markdown",
   "id": "25368f15-3bdb-4223-9c25-96f28bcaa9fb",
   "metadata": {},
   "source": [
    "## 7. Calculando ingreso mensual en un unico df"
   ]
  },
  {
   "cell_type": "code",
   "execution_count": 53,
   "id": "81eb0ddb-3838-4539-9c5a-e03d1d896ff8",
   "metadata": {},
   "outputs": [],
   "source": [
    "df_usuarios_mensuales['revenue'] = df_usuarios_mensuales.apply(calcular_ingresos, axis=1)"
   ]
  },
  {
   "cell_type": "code",
   "execution_count": 38,
   "id": "529c8efb-2779-442f-ba60-e7138006f775",
   "metadata": {},
   "outputs": [],
   "source": [
    "df_plans['plan'] = df_plans['plan_name']"
   ]
  },
  {
   "cell_type": "code",
   "execution_count": 39,
   "id": "eae76f91-b0b8-46fa-9085-5395ef9f6e20",
   "metadata": {},
   "outputs": [],
   "source": [
    "df_usuarios_mensuales = df_usuarios_mensuales.merge(df_plans, on=['plan'], how='outer')"
   ]
  },
  {
   "cell_type": "code",
   "execution_count": 54,
   "id": "0939df0d-917f-4d24-8d98-0070be22aad2",
   "metadata": {},
   "outputs": [
    {
     "data": {
      "text/html": [
       "<div>\n",
       "<style scoped>\n",
       "    .dataframe tbody tr th:only-of-type {\n",
       "        vertical-align: middle;\n",
       "    }\n",
       "\n",
       "    .dataframe tbody tr th {\n",
       "        vertical-align: top;\n",
       "    }\n",
       "\n",
       "    .dataframe thead th {\n",
       "        text-align: right;\n",
       "    }\n",
       "</style>\n",
       "<table border=\"1\" class=\"dataframe\">\n",
       "  <thead>\n",
       "    <tr style=\"text-align: right;\">\n",
       "      <th></th>\n",
       "      <th>user_id</th>\n",
       "      <th>month</th>\n",
       "      <th>duration</th>\n",
       "      <th>plan</th>\n",
       "      <th>id</th>\n",
       "      <th>mb_used</th>\n",
       "      <th>plan_name</th>\n",
       "      <th>usd_monthly_fee</th>\n",
       "      <th>minutes_included</th>\n",
       "      <th>messages_included</th>\n",
       "      <th>mb_per_month_included</th>\n",
       "      <th>usd_per_minute</th>\n",
       "      <th>usd_per_message</th>\n",
       "      <th>usd_per_gb</th>\n",
       "      <th>cobro_minutos_2</th>\n",
       "      <th>cobro_minutos_3</th>\n",
       "      <th>revenue</th>\n",
       "    </tr>\n",
       "  </thead>\n",
       "  <tbody>\n",
       "    <tr>\n",
       "      <th>0</th>\n",
       "      <td>1</td>\n",
       "      <td>1</td>\n",
       "      <td>16.0</td>\n",
       "      <td>Surf</td>\n",
       "      <td>0.0</td>\n",
       "      <td>2216.0</td>\n",
       "      <td>Surf</td>\n",
       "      <td>20</td>\n",
       "      <td>500</td>\n",
       "      <td>50</td>\n",
       "      <td>15360</td>\n",
       "      <td>0.03</td>\n",
       "      <td>0.03</td>\n",
       "      <td>10</td>\n",
       "      <td>-484.0</td>\n",
       "      <td>0</td>\n",
       "      <td>20.0</td>\n",
       "    </tr>\n",
       "    <tr>\n",
       "      <th>1</th>\n",
       "      <td>1</td>\n",
       "      <td>2</td>\n",
       "      <td>13.0</td>\n",
       "      <td>Surf</td>\n",
       "      <td>0.0</td>\n",
       "      <td>0.0</td>\n",
       "      <td>Surf</td>\n",
       "      <td>20</td>\n",
       "      <td>500</td>\n",
       "      <td>50</td>\n",
       "      <td>15360</td>\n",
       "      <td>0.03</td>\n",
       "      <td>0.03</td>\n",
       "      <td>10</td>\n",
       "      <td>-487.0</td>\n",
       "      <td>0</td>\n",
       "      <td>20.0</td>\n",
       "    </tr>\n",
       "    <tr>\n",
       "      <th>2</th>\n",
       "      <td>1</td>\n",
       "      <td>3</td>\n",
       "      <td>0.0</td>\n",
       "      <td>Surf</td>\n",
       "      <td>0.0</td>\n",
       "      <td>2698.0</td>\n",
       "      <td>Surf</td>\n",
       "      <td>20</td>\n",
       "      <td>500</td>\n",
       "      <td>50</td>\n",
       "      <td>15360</td>\n",
       "      <td>0.03</td>\n",
       "      <td>0.03</td>\n",
       "      <td>10</td>\n",
       "      <td>-500.0</td>\n",
       "      <td>0</td>\n",
       "      <td>20.0</td>\n",
       "    </tr>\n",
       "    <tr>\n",
       "      <th>3</th>\n",
       "      <td>1</td>\n",
       "      <td>5</td>\n",
       "      <td>0.0</td>\n",
       "      <td>Surf</td>\n",
       "      <td>1.0</td>\n",
       "      <td>1085.0</td>\n",
       "      <td>Surf</td>\n",
       "      <td>20</td>\n",
       "      <td>500</td>\n",
       "      <td>50</td>\n",
       "      <td>15360</td>\n",
       "      <td>0.03</td>\n",
       "      <td>0.03</td>\n",
       "      <td>10</td>\n",
       "      <td>-500.0</td>\n",
       "      <td>0</td>\n",
       "      <td>20.0</td>\n",
       "    </tr>\n",
       "    <tr>\n",
       "      <th>4</th>\n",
       "      <td>1</td>\n",
       "      <td>6</td>\n",
       "      <td>23.0</td>\n",
       "      <td>Surf</td>\n",
       "      <td>0.0</td>\n",
       "      <td>689.0</td>\n",
       "      <td>Surf</td>\n",
       "      <td>20</td>\n",
       "      <td>500</td>\n",
       "      <td>50</td>\n",
       "      <td>15360</td>\n",
       "      <td>0.03</td>\n",
       "      <td>0.03</td>\n",
       "      <td>10</td>\n",
       "      <td>-477.0</td>\n",
       "      <td>0</td>\n",
       "      <td>20.0</td>\n",
       "    </tr>\n",
       "  </tbody>\n",
       "</table>\n",
       "</div>"
      ],
      "text/plain": [
       "   user_id  month  duration  plan   id  mb_used plan_name  usd_monthly_fee  \\\n",
       "0        1      1      16.0  Surf  0.0   2216.0      Surf               20   \n",
       "1        1      2      13.0  Surf  0.0      0.0      Surf               20   \n",
       "2        1      3       0.0  Surf  0.0   2698.0      Surf               20   \n",
       "3        1      5       0.0  Surf  1.0   1085.0      Surf               20   \n",
       "4        1      6      23.0  Surf  0.0    689.0      Surf               20   \n",
       "\n",
       "   minutes_included  messages_included  mb_per_month_included  usd_per_minute  \\\n",
       "0               500                 50                  15360            0.03   \n",
       "1               500                 50                  15360            0.03   \n",
       "2               500                 50                  15360            0.03   \n",
       "3               500                 50                  15360            0.03   \n",
       "4               500                 50                  15360            0.03   \n",
       "\n",
       "   usd_per_message  usd_per_gb  cobro_minutos_2  cobro_minutos_3  revenue  \n",
       "0             0.03          10           -484.0                0     20.0  \n",
       "1             0.03          10           -487.0                0     20.0  \n",
       "2             0.03          10           -500.0                0     20.0  \n",
       "3             0.03          10           -500.0                0     20.0  \n",
       "4             0.03          10           -477.0                0     20.0  "
      ]
     },
     "execution_count": 54,
     "metadata": {},
     "output_type": "execute_result"
    }
   ],
   "source": [
    "df_usuarios_mensuales.head()"
   ]
  },
  {
   "cell_type": "code",
   "execution_count": 48,
   "id": "aeb83e1d-8486-42ec-8dda-3648719a3875",
   "metadata": {},
   "outputs": [],
   "source": [
    "def limpiar_calculo(calculo):\n",
    "    if calculo > 0:\n",
    "        calculo = calculo\n",
    "    else:\n",
    "        calculo = 0\n",
    "    return calculo"
   ]
  },
  {
   "cell_type": "code",
   "execution_count": 49,
   "id": "1b7b1fef-b921-472e-a2ea-af0f50eb049f",
   "metadata": {},
   "outputs": [],
   "source": [
    "df_usuarios_mensuales['cobro_minutos_3'] = df_usuarios_mensuales['cobro_minutos_2'].apply(limpiar_calculo)"
   ]
  },
  {
   "cell_type": "code",
   "execution_count": 51,
   "id": "53fc9dbe-5f14-42c6-a116-0ed24e8770dc",
   "metadata": {},
   "outputs": [
    {
     "data": {
      "text/plain": [
       "array([0], dtype=int64)"
      ]
     },
     "execution_count": 51,
     "metadata": {},
     "output_type": "execute_result"
    }
   ],
   "source": [
    "df_usuarios_mensuales['cobro_minutos_3'].unique()"
   ]
  },
  {
   "cell_type": "markdown",
   "id": "40c35bbc-ef30-482d-a234-a42b79cfa93b",
   "metadata": {},
   "source": [
    "## 8. Visualización de la Distribución de Ingresos\n",
    "Analizamos la distribución de ingresos para evaluar la diferencia entre los planes."
   ]
  },
  {
   "cell_type": "code",
   "execution_count": 14,
   "id": "ef9ebafb-20f2-45a7-89cb-cad526eb8f65",
   "metadata": {},
   "outputs": [
    {
     "data": {
      "image/png": "[encoded data removed]",
      "text/plain": [
       "<Figure size 640x480 with 1 Axes>"
      ]
     },
     "metadata": {},
     "output_type": "display_data"
    }
   ],
   "source": [
    "df_usuarios_mensuales['revenue'].hist(bins=20, alpha=0.7)\n",
    "plt.title(\"Distribución de Ingresos Mensuales\")\n",
    "plt.xlabel(\"Ingresos en USD\")\n",
    "plt.ylabel(\"Frecuencia\")\n",
    "plt.show()"
   ]
  },
  {
   "cell_type": "markdown",
   "id": "6be1c283-6963-48d0-ab24-96e356bb312c",
   "metadata": {},
   "source": [
    "**Explicación:** El histograma nos muestra la cantidad de clientes agrupados según sus ingresos mensuales. Podemos observar si hay diferencias significativas entre los clientes de cada plan."
   ]
  },
  {
   "cell_type": "markdown",
   "id": "de4d7d5d-71d3-4fd5-a235-24728d25f17b",
   "metadata": {},
   "source": [
    "## 9. Pruebas de Hipótesis\n",
    "Queremos verificar si existe una diferencia significativa en los ingresos generados por los planes *Surf* y *Ultimate*."
   ]
  },
  {
   "cell_type": "code",
   "execution_count": 15,
   "id": "7d7e89c4-4c11-4fd2-9967-fb16bc20aa9c",
   "metadata": {},
   "outputs": [
    {
     "name": "stdout",
     "output_type": "stream",
     "text": [
      "Valor p de la prueba t para comparar ingresos entre planes: 0.0\n"
     ]
    },
    {
     "name": "stderr",
     "output_type": "stream",
     "text": [
      "C:\\Users\\ljpca\\anaconda3\\Lib\\site-packages\\scipy\\stats\\_axis_nan_policy.py:531: RuntimeWarning: Precision loss occurred in moment calculation due to catastrophic cancellation. This occurs when the data are nearly identical. Results may be unreliable.\n",
      "  res = hypotest_fun_out(*samples, **kwds)\n"
     ]
    }
   ],
   "source": [
    "test_results = st.ttest_ind(df_usuarios_mensuales[df_usuarios_mensuales['plan'] == 'Surf']['revenue'],\n",
    "                            df_usuarios_mensuales[df_usuarios_mensuales['plan'] == 'Ultimate']['revenue'])\n",
    "print(\"Valor p de la prueba t para comparar ingresos entre planes:\", test_results.pvalue)"
   ]
  },
  {
   "cell_type": "markdown",
   "id": "52b41655-0ad2-426b-a970-aac653323725",
   "metadata": {},
   "source": [
    "**Interpretación del resultado:**\n",
    "- Si el valor p es menor a 0.05, podemos concluir que los ingresos promedio entre los dos planes son significativamente diferentes.\n",
    "- Si el valor p es mayor a 0.05, no hay suficiente evidencia para decir que un plan genera más ingresos que el otro."
   ]
  },
  {
   "cell_type": "markdown",
   "id": "7f161a16-9e79-44c8-9e9f-b43687a2ecbb",
   "metadata": {},
   "source": [
    "## **Conclusión**\n",
    "Este análisis nos permite entender el comportamiento de los clientes de Megaline y evaluar cuál de los planes genera mayores ingresos. Con base en los resultados, la empresa podrá ajustar su presupuesto de publicidad y estrategias de marketing para maximizar sus ganancias.\n"
   ]
  },
  {
   "cell_type": "code",
   "execution_count": null,
   "id": "71a2dafc-20df-4916-867a-7eafecec5a03",
   "metadata": {},
   "outputs": [],
   "source": []
  }
 ],
 "metadata": {
  "kernelspec": {
   "display_name": "Python 3 (ipykernel)",
   "language": "python",
   "name": "python3"
  },
  "language_info": {
   "codemirror_mode": {
    "name": "ipython",
    "version": 3
   },
   "file_extension": ".py",
   "mimetype": "text/x-python",
   "name": "python",
   "nbconvert_exporter": "python",
   "pygments_lexer": "ipython3",
   "version": "3.12.7"
  }
 },
 "nbformat": 4,
 "nbformat_minor": 5
}
