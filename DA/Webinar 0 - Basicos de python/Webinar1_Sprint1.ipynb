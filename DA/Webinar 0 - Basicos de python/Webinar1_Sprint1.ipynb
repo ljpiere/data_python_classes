{
 "cells": [
  {
   "cell_type": "markdown",
   "id": "a9aa1724",
   "metadata": {},
   "source": [
    "# Clase de Data Analytics en Jupyter Notebook (Duración: 40 minutos)"
   ]
  },
  {
   "cell_type": "markdown",
   "id": "de3edb82",
   "metadata": {},
   "source": [
    "**Objetivo de la Clase**: Proveer a los estudiantes de diferentes profesiones una introducción a los conceptos básicos de variables, tipos de datos, operaciones aritméticas, strings y listas, con un enfoque especial en el manejo de errores, slicing, y listas anidadas, utilizando ejemplos simples y ejercicios prácticos en Jupyter Notebook."
   ]
  },
  {
   "cell_type": "markdown",
   "id": "6e01b516",
   "metadata": {},
   "source": [
    "## Capítulo 1: Variables, Tipos de Datos y Operaciones Aritméticas (10 minutos)"
   ]
  },
  {
   "cell_type": "markdown",
   "id": "d8cfbe2e",
   "metadata": {},
   "source": [
    "**Explicación**:\n",
    "- Introducción a las variables: Definir variables como contenedores para almacenar información.\n",
    "- Tipos de datos: Enteros, flotantes, cadenas de texto (strings), booleanos.\n",
    "- Operaciones aritméticas: Suma, resta, multiplicación, división, módulo.\n",
    "- Conversión de tipos de datos: Uso de `int()`, `float()`, `str()`.\n",
    "- Manejo de errores con `try` y `except`: Cómo manejar errores comunes para evitar que el programa se detenga."
   ]
  },
  {
   "cell_type": "markdown",
   "id": "0614fb01-effe-4c42-a1b8-0ecadd57d813",
   "metadata": {},
   "source": [
    "**Check:** ¿Qué es una variable?"
   ]
  },
  {
   "cell_type": "markdown",
   "id": "6ceffc0d",
   "metadata": {},
   "source": [
    "### Ejercicio 1:\n",
    "1. Crear una variable llamada `edad` y asignarle un valor de 25. Mostrar el valor en pantalla utilizando `print()`, pero rodeado de un bloque `try` y `except` para manejar posibles errores."
   ]
  },
  {
   "cell_type": "code",
   "execution_count": 22,
   "id": "ef0eb362-87e4-405a-bbcc-c2e4339f9319",
   "metadata": {},
   "outputs": [
    {
     "name": "stdout",
     "output_type": "stream",
     "text": [
      "Hay un error en la definición de la suma\n"
     ]
    }
   ],
   "source": [
    "# Abre tu microfono o escribe en el chat\n",
    "\n",
    "try:\n",
    "    print(2 + \"5\")\n",
    "except:\n",
    "    print(\"Hay un error en la definición de la suma\")"
   ]
  },
  {
   "cell_type": "markdown",
   "id": "8745269e-0c62-4b59-8b4e-f8b761ec3a39",
   "metadata": {},
   "source": [
    "**Check:** ¿Crees que este manejo de excepcion es \"obvio\" o \"innecesario\"?"
   ]
  },
  {
   "cell_type": "markdown",
   "id": "23ca0d1a-cdf2-489e-850a-28c1d6d8e655",
   "metadata": {},
   "source": [
    "**Check:** ¿Deberíamos usar SIEMPRE este manejo de excepciones?"
   ]
  },
  {
   "cell_type": "markdown",
   "id": "b512e7a5",
   "metadata": {},
   "source": [
    "2. Realizar operaciones aritméticas básicas. Por ejemplo, potenciacion de dos números e imprimir el resultado, usando `try` y `except` para capturar posibles errores."
   ]
  },
  {
   "cell_type": "code",
   "execution_count": 36,
   "id": "e6c3912a-e7fd-4a97-ad5b-616164486372",
   "metadata": {},
   "outputs": [],
   "source": [
    "numero_1 = 3\n",
    "numero_2 = \"4\""
   ]
  },
  {
   "cell_type": "code",
   "execution_count": 37,
   "id": "989e8243-85b3-46ff-978a-30a48300ccb5",
   "metadata": {},
   "outputs": [
    {
     "name": "stdout",
     "output_type": "stream",
     "text": [
      "7\n"
     ]
    }
   ],
   "source": [
    "print(numero_1 + int(numero_2))"
   ]
  },
  {
   "cell_type": "code",
   "execution_count": 53,
   "id": "9e1a2a85-f607-416b-b4d7-1b551b78358a",
   "metadata": {},
   "outputs": [
    {
     "ename": "ValueError",
     "evalue": "invalid literal for int() with base 10: 'cinco'",
     "output_type": "error",
     "traceback": [
      "\u001b[1;31m---------------------------------------------------------------------------\u001b[0m",
      "\u001b[1;31mValueError\u001b[0m                                Traceback (most recent call last)",
      "Cell \u001b[1;32mIn[53], line 1\u001b[0m\n\u001b[1;32m----> 1\u001b[0m \u001b[38;5;28mint\u001b[39m(\u001b[38;5;124m\"\u001b[39m\u001b[38;5;124mcinco\u001b[39m\u001b[38;5;124m\"\u001b[39m)\n",
      "\u001b[1;31mValueError\u001b[0m: invalid literal for int() with base 10: 'cinco'"
     ]
    }
   ],
   "source": [
    "int(\"cinco\")"
   ]
  },
  {
   "cell_type": "code",
   "execution_count": 50,
   "id": "8ab7bc12-e99b-469e-923c-32e74f57ec9d",
   "metadata": {},
   "outputs": [
    {
     "data": {
      "text/plain": [
       "8"
      ]
     },
     "execution_count": 50,
     "metadata": {},
     "output_type": "execute_result"
    }
   ],
   "source": [
    "int(numero_1)"
   ]
  },
  {
   "cell_type": "code",
   "execution_count": 48,
   "id": "0ed90d3d-317e-4ece-9d00-7e65f306fa3c",
   "metadata": {},
   "outputs": [
    {
     "name": "stdout",
     "output_type": "stream",
     "text": [
      "3.8\n"
     ]
    }
   ],
   "source": [
    "print(numero_1)"
   ]
  },
  {
   "cell_type": "code",
   "execution_count": null,
   "id": "f211dc44-cc2a-4a89-b1ab-5ae3841370bd",
   "metadata": {},
   "outputs": [],
   "source": []
  },
  {
   "cell_type": "code",
   "execution_count": 11,
   "id": "34773320-e33f-4055-9050-0b9e0f6f14de",
   "metadata": {},
   "outputs": [
    {
     "name": "stdout",
     "output_type": "stream",
     "text": [
      "Error en una variable\n"
     ]
    }
   ],
   "source": [
    "# Abre tu microfono o escribe en el chat\n",
    "\n",
    "try:\n",
    "    numero_1 = 5\n",
    "    numero_2 = '3'\n",
    "    print(numero_1**numero_2)\n",
    "except:\n",
    "    print(\"Error en una variable\")"
   ]
  },
  {
   "cell_type": "code",
   "execution_count": 9,
   "id": "08c26af5-c28f-451b-aaef-239e4be3257e",
   "metadata": {},
   "outputs": [
    {
     "ename": "TypeError",
     "evalue": "unsupported operand type(s) for ** or pow(): 'int' and 'str'",
     "output_type": "error",
     "traceback": [
      "\u001b[1;31m---------------------------------------------------------------------------\u001b[0m",
      "\u001b[1;31mTypeError\u001b[0m                                 Traceback (most recent call last)",
      "Cell \u001b[1;32mIn[9], line 3\u001b[0m\n\u001b[0;32m      1\u001b[0m numero_1 \u001b[38;5;241m=\u001b[39m \u001b[38;5;241m5\u001b[39m\n\u001b[0;32m      2\u001b[0m numero_2 \u001b[38;5;241m=\u001b[39m \u001b[38;5;124m'\u001b[39m\u001b[38;5;124m3\u001b[39m\u001b[38;5;124m'\u001b[39m\n\u001b[1;32m----> 3\u001b[0m \u001b[38;5;28mprint\u001b[39m(numero_1\u001b[38;5;241m*\u001b[39m\u001b[38;5;241m*\u001b[39mnumero_2)\n",
      "\u001b[1;31mTypeError\u001b[0m: unsupported operand type(s) for ** or pow(): 'int' and 'str'"
     ]
    }
   ],
   "source": [
    "numero_1 = 5\n",
    "numero_2 = '3'\n",
    "print(numero_1**numero_2)"
   ]
  },
  {
   "cell_type": "code",
   "execution_count": 7,
   "id": "46d39dfd-ee76-4c36-ae57-c352023a699c",
   "metadata": {},
   "outputs": [
    {
     "name": "stdout",
     "output_type": "stream",
     "text": [
      "125\n"
     ]
    }
   ],
   "source": [
    "# Abre tu microfono o escribe en el chat\n",
    "\n",
    "try:\n",
    "    numero_1 = 5\n",
    "    numero_2 = 3\n",
    "    pot=numero_1**numero_2\n",
    "    print(pot)\n",
    "except:\n",
    "    print(\"Error\")"
   ]
  },
  {
   "cell_type": "code",
   "execution_count": null,
   "id": "0abfa05d",
   "metadata": {},
   "outputs": [],
   "source": [
    "# Hagamos de cuenta que esta celda no existe :')\n",
    "\n",
    "try:\n",
    "    a = 10\n",
    "    b = 15\n",
    "    suma = a + b\n",
    "    print(\"La suma es:\", suma)\n",
    "except Exception as e:\n",
    "    print(\"Error en la operación aritmética:\", e)"
   ]
  },
  {
   "cell_type": "markdown",
   "id": "00dc99ba",
   "metadata": {},
   "source": [
    "3. Convertir una variable de tipo `string` a `int` y realizar una operación, utilizando `try` y `except` para manejar errores si la conversión falla."
   ]
  },
  {
   "cell_type": "code",
   "execution_count": 15,
   "id": "b7c2d1a6-9fac-465f-8e81-010192713205",
   "metadata": {},
   "outputs": [
    {
     "name": "stdout",
     "output_type": "stream",
     "text": [
      "1\n"
     ]
    }
   ],
   "source": [
    "# Abre tu microfono o escribe en el chat\n",
    "\n",
    "try:\n",
    "    valor_1='10'\n",
    "    valor_1=int(valor_1)\n",
    "    valor_2=3\n",
    "    print(valor_1%valor_2)\n",
    "except:\n",
    "    print(\"Error :)\")"
   ]
  },
  {
   "cell_type": "code",
   "execution_count": 20,
   "id": "7eff98ff-0f67-4750-8923-81460672f84d",
   "metadata": {},
   "outputs": [
    {
     "name": "stdout",
     "output_type": "stream",
     "text": [
      "20\n"
     ]
    }
   ],
   "source": [
    "try:\n",
    "     Valor_1='10'\n",
    "     Valor_2='2'\n",
    "     result=int(Valor_1)*int(Valor_2)\n",
    "     print(result)\n",
    "except:\n",
    "      print('El valor no es número')"
   ]
  },
  {
   "cell_type": "code",
   "execution_count": null,
   "id": "5d2f6232-dc1d-48f0-a8f3-1a7a423bad1b",
   "metadata": {},
   "outputs": [],
   "source": []
  },
  {
   "cell_type": "code",
   "execution_count": null,
   "id": "5be72810-70e8-4df9-9c63-94546d00e10b",
   "metadata": {},
   "outputs": [],
   "source": []
  },
  {
   "cell_type": "code",
   "execution_count": null,
   "id": "ae857119",
   "metadata": {},
   "outputs": [],
   "source": [
    "# Hagamos de cuenta que esta celda no existe :')\n",
    "\n",
    "try:\n",
    "    numero_str = \"30\"\n",
    "    numero_int = int(numero_str)\n",
    "    print(numero_int + 10)\n",
    "except (ValueError, ZeroDivisionError) as e:\n",
    "    print(\"Error de conversión:\", e)"
   ]
  },
  {
   "cell_type": "markdown",
   "id": "34f2b6f9",
   "metadata": {},
   "source": [
    "4. Mostrar un error común y manejarlo adecuadamente (ej: intentar convertir \"hola\" a `int`)."
   ]
  },
  {
   "cell_type": "code",
   "execution_count": null,
   "id": "9d68d3ed-9447-478d-a08c-39ce493f6622",
   "metadata": {},
   "outputs": [],
   "source": [
    "# Abre tu microfono o escribe en el chat\n",
    "\n"
   ]
  },
  {
   "cell_type": "code",
   "execution_count": null,
   "id": "41bc7ade",
   "metadata": {},
   "outputs": [],
   "source": [
    "# Hagamos de cuenta que esta celda no existe :')\n",
    "\n",
    "valor = \"hola\"\n",
    "try:\n",
    "    numero = int(valor)\n",
    "except ValueError as e:\n",
    "    print(\"Error al convertir el valor a entero:\", e)"
   ]
  },
  {
   "cell_type": "markdown",
   "id": "843807bb",
   "metadata": {},
   "source": [
    "## Capítulo 2: Strings (10 minutos)"
   ]
  },
  {
   "cell_type": "markdown",
   "id": "a3e9d42c",
   "metadata": {},
   "source": [
    "**Explicación**:\n",
    "- Propiedades básicas de los strings: Definición y cómo trabajar con cadenas de texto.\n",
    "- Índices y slices: Acceder a caracteres individuales y a subcadenas.\n",
    "- Strings formateados: Uso de `f-strings` para combinar texto y variables.\n",
    "- Métodos comunes de strings: `upper()`, `lower()`, `split()`, `replace()`."
   ]
  },
  {
   "cell_type": "markdown",
   "id": "d024eca1",
   "metadata": {},
   "source": [
    "**Ejercicio 2**:\n",
    "1. Crear una variable `nombre` con el valor \"Ana\" y mostrar el primer y último carácter utilizando slicing."
   ]
  },
  {
   "cell_type": "code",
   "execution_count": 54,
   "id": "e0b90883-31ab-4899-ba94-7b8dd8355ac9",
   "metadata": {},
   "outputs": [],
   "source": [
    "nombre = 'Leyton Jean Piere Castro'"
   ]
  },
  {
   "cell_type": "code",
   "execution_count": 70,
   "id": "c06a5358-ed2c-456d-93af-147c8ed85853",
   "metadata": {},
   "outputs": [
    {
     "data": {
      "text/plain": [
       "'leyton jean piere castro'"
      ]
     },
     "execution_count": 70,
     "metadata": {},
     "output_type": "execute_result"
    }
   ],
   "source": [
    "nombre.lower()"
   ]
  },
  {
   "cell_type": "code",
   "execution_count": null,
   "id": "7f9734d1-ff6e-4510-8bec-8bcc0d86599e",
   "metadata": {},
   "outputs": [],
   "source": []
  },
  {
   "cell_type": "code",
   "execution_count": 27,
   "id": "7ed938cd-3325-4e13-8bd4-8ae154cba17d",
   "metadata": {},
   "outputs": [
    {
     "name": "stdout",
     "output_type": "stream",
     "text": [
      "a i\n"
     ]
    }
   ],
   "source": [
    "# Abre tu microfono o escribe en el chat\n",
    "\n",
    "nombre='anai'\n",
    "print(nombre[0], nombre[-1])"
   ]
  },
  {
   "cell_type": "code",
   "execution_count": 24,
   "id": "2f504061-514e-4eec-a4ce-c8f7d8cea557",
   "metadata": {},
   "outputs": [
    {
     "name": "stdout",
     "output_type": "stream",
     "text": [
      "an\n"
     ]
    }
   ],
   "source": [
    "print(nombre[0:2])"
   ]
  },
  {
   "cell_type": "code",
   "execution_count": null,
   "id": "75694109-a8e2-4e5c-b67a-c0a0ee0ae185",
   "metadata": {},
   "outputs": [],
   "source": []
  },
  {
   "cell_type": "code",
   "execution_count": null,
   "id": "721eaa91-f899-4bee-ba7a-d3f84cc552a5",
   "metadata": {},
   "outputs": [],
   "source": []
  },
  {
   "cell_type": "code",
   "execution_count": null,
   "id": "3b6fadf4",
   "metadata": {},
   "outputs": [],
   "source": [
    "# Hagamos de cuenta que esta celda no existe :')\n",
    "\n",
    "nombre = \"Ana\"\n",
    "print(\"Primer carácter:\", nombre[1])\n",
    "print(\"Último carácter:\", nombre[-1])"
   ]
  },
  {
   "cell_type": "markdown",
   "id": "ccf3e977",
   "metadata": {},
   "source": [
    "2. Realizar un slice para obtener los primeros 3 caracteres de la cadena \"Data Analytics\" y los últimos 3 caracteres."
   ]
  },
  {
   "cell_type": "code",
   "execution_count": null,
   "id": "8f02b053-5dbe-49b2-8248-99577092c357",
   "metadata": {},
   "outputs": [],
   "source": [
    "# Abre tu microfono o escribe en el chat\n",
    "\n"
   ]
  },
  {
   "cell_type": "code",
   "execution_count": null,
   "id": "c34ee84b",
   "metadata": {},
   "outputs": [],
   "source": [
    "# Hagamos de cuenta que esta celda no existe :')\n",
    "\n",
    "frase = \"Data Analytics\"\n",
    "print(\"Primeros 3 caracteres:\", frase[:3])\n",
    "print(\"Últimos 3 caracteres:\", frase[-3:])"
   ]
  },
  {
   "cell_type": "markdown",
   "id": "6c5768c8",
   "metadata": {},
   "source": [
    "3. Utilizar un string formateado para imprimir un mensaje personalizado."
   ]
  },
  {
   "cell_type": "code",
   "execution_count": 29,
   "id": "a3b34dba-0761-4924-98dd-40798ea8ce83",
   "metadata": {},
   "outputs": [
    {
     "name": "stdout",
     "output_type": "stream",
     "text": [
      "Feliz cumpleaños Leyton, felicidades por tus 26 años\n"
     ]
    }
   ],
   "source": [
    "# Abre tu microfono o escribe en el chat\n",
    "nombre='Leyton'\n",
    "edad='26'\n",
    "print(f\"Feliz cumpleaños Leyton, felicidades por tus {edad} años\")"
   ]
  },
  {
   "cell_type": "code",
   "execution_count": null,
   "id": "e26131ee-20b5-4f1f-b95c-7f19d79aeb3c",
   "metadata": {},
   "outputs": [],
   "source": []
  },
  {
   "cell_type": "code",
   "execution_count": null,
   "id": "69ec4483-bb17-4ca3-b276-688c962fbafa",
   "metadata": {},
   "outputs": [],
   "source": []
  },
  {
   "cell_type": "code",
   "execution_count": null,
   "id": "17d78049",
   "metadata": {},
   "outputs": [],
   "source": [
    "# Hagamos de cuenta que esta celda no existe :')\n",
    "\n",
    "edad = 30\n",
    "print(f\"Hola, tengo {edad} años\")"
   ]
  },
  {
   "cell_type": "markdown",
   "id": "081677c6",
   "metadata": {},
   "source": [
    "4. Convertir el texto \"hola mundo\" a mayúsculas y reemplazar \"mundo\" por \"a todos\"."
   ]
  },
  {
   "cell_type": "code",
   "execution_count": 33,
   "id": "7e6cb737-f973-4e06-ac01-ecdc2b047ac0",
   "metadata": {},
   "outputs": [
    {
     "name": "stdout",
     "output_type": "stream",
     "text": [
      "HOLA A TODOS\n"
     ]
    }
   ],
   "source": [
    "# Abre tu microfono o escribe en el chat\n",
    "\n",
    "saludo = 'hola mundo'\n",
    "print(saludo.upper().replace('MUNDO','A TODOS'))"
   ]
  },
  {
   "cell_type": "code",
   "execution_count": 36,
   "id": "9ebdd945-1852-46e4-ae1d-5ede4ab8bf61",
   "metadata": {},
   "outputs": [
    {
     "name": "stdout",
     "output_type": "stream",
     "text": [
      "HOLA MUNDO\n"
     ]
    }
   ],
   "source": [
    "# Abre tu microfono o escribe en el chat\n",
    "\n",
    "saludo_3 = 'hola mundo'\n",
    "print(saludo_3.replace('MUNDO','a todos').upper())"
   ]
  },
  {
   "cell_type": "code",
   "execution_count": null,
   "id": "5f1d0699-4ee3-40a1-9eb6-177e54145585",
   "metadata": {},
   "outputs": [],
   "source": []
  },
  {
   "cell_type": "code",
   "execution_count": null,
   "id": "9e6ce511",
   "metadata": {},
   "outputs": [],
   "source": [
    "# Hagamos de cuenta que esta celda no existe :')\n",
    "\n",
    "saludo = \"hola mundo\"\n",
    "saludo_modificado = saludo.upper().replace(\"MUNDO\", \"A TODOS\")\n",
    "print(saludo_modificado)"
   ]
  },
  {
   "cell_type": "markdown",
   "id": "5fc437cc",
   "metadata": {},
   "source": [
    "## Capítulo 3: Listas (15 minutos)"
   ]
  },
  {
   "cell_type": "markdown",
   "id": "7f66a072",
   "metadata": {},
   "source": [
    "**Explicación**:\n",
    "- Propiedades básicas de las listas: Definición y cómo almacenar múltiples valores.\n",
    "- Índices y slices en listas: Acceder a elementos específicos y sublistas.\n",
    "- Modificación de listas: Agregar, eliminar, modificar elementos.\n",
    "- Ordenar listas: Uso del método `sort()`.\n",
    "- Listas anidadas y cómo acceder a elementos dentro de listas anidadas."
   ]
  },
  {
   "cell_type": "markdown",
   "id": "4b90219e",
   "metadata": {},
   "source": [
    "**Ejercicio 3**:\n",
    "1. Crear una lista de frutas `frutas = [\"manzana\", \"banana\", \"cereza\"]` e imprimir la segunda fruta utilizando un bloque `try` y `except` para manejar posibles errores de índice."
   ]
  },
  {
   "cell_type": "code",
   "execution_count": 37,
   "id": "d8fdb049-6e62-4d83-913a-36c3312bec77",
   "metadata": {},
   "outputs": [
    {
     "name": "stdout",
     "output_type": "stream",
     "text": [
      "banana\n"
     ]
    }
   ],
   "source": [
    "# Abre tu microfono o escribe en el chat\n",
    "\n",
    "frutas = [\"manzana\", \"banana\", \"cereza\"]\n",
    "print(frutas[1])"
   ]
  },
  {
   "cell_type": "code",
   "execution_count": null,
   "id": "ce5ee1f0-65e5-4816-b7f8-4764ad3f46e1",
   "metadata": {},
   "outputs": [],
   "source": []
  },
  {
   "cell_type": "code",
   "execution_count": null,
   "id": "4b46a69c-a4ae-4200-99f5-cceae1946bf0",
   "metadata": {},
   "outputs": [],
   "source": []
  },
  {
   "cell_type": "code",
   "execution_count": null,
   "id": "e0f432b1",
   "metadata": {},
   "outputs": [],
   "source": [
    "# Hagamos de cuenta que esta celda no existe :')\n",
    "\n",
    "frutas = [\"manzana\", \"banana\", \"cereza\"]\n",
    "try:\n",
    "    print(frutas[1])\n",
    "except IndexError as e:\n",
    "    print(\"Error de índice:\", e)"
   ]
  },
  {
   "cell_type": "markdown",
   "id": "c18304aa",
   "metadata": {},
   "source": [
    "2. Agregar una nueva fruta a la lista y eliminar otra, utilizando `try` y `except` para manejar errores."
   ]
  },
  {
   "cell_type": "code",
   "execution_count": 43,
   "id": "605e8659-2fa9-47c6-8f81-a7f58703ba28",
   "metadata": {},
   "outputs": [
    {
     "data": {
      "text/plain": [
       "'manzana'"
      ]
     },
     "execution_count": 43,
     "metadata": {},
     "output_type": "execute_result"
    }
   ],
   "source": [
    "# Abre tu microfono o escribe en el chat\n",
    "\n",
    "# Vamos a eliminar manzana\n",
    "frutas = [\"manzana\", \"banana\", \"cereza\"]\n",
    "fruta_nueva='mango'\n",
    "\n",
    "frutas.append(fruta_nueva)\n",
    "frutas.pop(0)"
   ]
  },
  {
   "cell_type": "code",
   "execution_count": 44,
   "id": "1942e29d-bee4-4a81-b2f1-162c9f16c53f",
   "metadata": {},
   "outputs": [
    {
     "data": {
      "text/plain": [
       "['banana', 'cereza', 'mango']"
      ]
     },
     "execution_count": 44,
     "metadata": {},
     "output_type": "execute_result"
    }
   ],
   "source": [
    "frutas"
   ]
  },
  {
   "cell_type": "code",
   "execution_count": null,
   "id": "ee1396e2",
   "metadata": {},
   "outputs": [],
   "source": [
    "# Hagamos de cuenta que esta celda no existe :')\n",
    "\n",
    "try:\n",
    "    frutas.append(\"naranja\")\n",
    "    frutas.remove(\"banana\")\n",
    "    print(frutas)\n",
    "except ValueError as e:\n",
    "    print(\"Error al modificar la lista:\", e)"
   ]
  },
  {
   "cell_type": "markdown",
   "id": "ee27bf69",
   "metadata": {},
   "source": [
    "3. Crear una lista anidada que contenga dos listas y acceder al segundo elemento de la primera lista utilizando slicing y un bloque `try` y `except`."
   ]
  },
  {
   "cell_type": "code",
   "execution_count": null,
   "id": "bab21110-bb71-47d8-a359-0adb9e206fa6",
   "metadata": {},
   "outputs": [],
   "source": [
    "# Abre tu microfono o escribe en el chat\n",
    "\n"
   ]
  },
  {
   "cell_type": "code",
   "execution_count": null,
   "id": "dd77eae1",
   "metadata": {},
   "outputs": [],
   "source": [
    "# Hagamos de cuenta que esta celda no existe :')\n",
    "\n",
    "lista_anidada = [[1, 2, 3], [\"a\", \"b\", \"c\"]]\n",
    "try:\n",
    "    print(lista_anidada[0][1])  # Acceder al segundo elemento de la primera lista\n",
    "except IndexError as e:\n",
    "    print(\"Error de índice en lista anidada:\", e)"
   ]
  },
  {
   "cell_type": "markdown",
   "id": "cbd857cc",
   "metadata": {},
   "source": [
    "4. Practicar slicing en una lista anidada para obtener una sublista de la primera lista."
   ]
  },
  {
   "cell_type": "code",
   "execution_count": null,
   "id": "0aff915d-d95e-43be-88a9-254a122f4ddc",
   "metadata": {},
   "outputs": [],
   "source": [
    "# Abre tu microfono o escribe en el chat\n",
    "\n"
   ]
  },
  {
   "cell_type": "code",
   "execution_count": null,
   "id": "764f96b9",
   "metadata": {},
   "outputs": [],
   "source": [
    "# Hagamos de cuenta que esta celda no existe :')\n",
    "\n",
    "try:\n",
    "    sublista = lista_anidada[0][:2]  # Obtener los primeros dos elementos de la primera lista\n",
    "    print(\"Sublista:\", sublista)\n",
    "except IndexError as e:\n",
    "    print(\"Error de índice en slicing de lista anidada:\", e)"
   ]
  },
  {
   "cell_type": "markdown",
   "id": "22c7f07d",
   "metadata": {
    "jp-MarkdownHeadingCollapsed": true
   },
   "source": [
    "## Conclusión y Resumen (5 minutos)\n",
    "- Resumir los conceptos aprendidos: Variables, tipos de datos, operaciones aritméticas, manejo de errores, slicing, strings y listas anidadas.\n",
    "- Aclarar dudas y dar ejemplos adicionales si hay tiempo."
   ]
  },
  {
   "cell_type": "markdown",
   "id": "5c918fbf",
   "metadata": {},
   "source": [
    "## Tarea:\n",
    "- Practicar creando variables, listas y strings en Jupyter Notebook.\n",
    "- Intentar modificar los ejemplos dados para explorar diferentes resultados.\n",
    "- Practicar el manejo de errores utilizando `try` y `except` en diferentes escenarios.\n",
    "- **¿Olvidamos algo?** Cierto, el proyecto. No olvides que puedes agendar sesiones 1:1."
   ]
  },
  {
   "cell_type": "markdown",
   "id": "c0b0d650-5bd6-42c7-87e1-3a52ce5a488e",
   "metadata": {},
   "source": [
    "## Takeaways"
   ]
  },
  {
   "cell_type": "markdown",
   "id": "fa2c8b9e-a8c4-4bb7-acc4-6299b6b57e71",
   "metadata": {},
   "source": [
    "**Check:** ¿Notaste alguna diferencia en trabajar con Notebooks de Jupyter que con archivos de código plano?"
   ]
  },
  {
   "cell_type": "markdown",
   "id": "e5894077-5f56-446a-aaac-fe06db8a6e6e",
   "metadata": {},
   "source": [
    "__[Usando MarkDown en Jupyter](https://www.datacamp.com/tutorial/markdown-in-jupyter-notebook)__"
   ]
  },
  {
   "cell_type": "code",
   "execution_count": null,
   "id": "17704896-08e8-48eb-9463-2e82e91479c0",
   "metadata": {},
   "outputs": [],
   "source": []
  }
 ],
 "metadata": {
  "kernelspec": {
   "display_name": "Python 3 (ipykernel)",
   "language": "python",
   "name": "python3"
  },
  "language_info": {
   "codemirror_mode": {
    "name": "ipython",
    "version": 3
   },
   "file_extension": ".py",
   "mimetype": "text/x-python",
   "name": "python",
   "nbconvert_exporter": "python",
   "pygments_lexer": "ipython3",
   "version": "3.12.7"
  }
 },
 "nbformat": 4,
 "nbformat_minor": 5
}
