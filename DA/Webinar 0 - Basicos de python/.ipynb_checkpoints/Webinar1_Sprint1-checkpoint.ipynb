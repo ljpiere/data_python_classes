{
 "cells": [
  {
   "cell_type": "markdown",
   "id": "a9aa1724",
   "metadata": {},
   "source": [
    "# Clase de Data Analytics en Jupyter Notebook (Duración: 40 minutos)"
   ]
  },
  {
   "cell_type": "markdown",
   "id": "de3edb82",
   "metadata": {},
   "source": [
    "**Objetivo de la Clase**: Proveer a los estudiantes de diferentes profesiones una introducción a los conceptos básicos de variables, tipos de datos, operaciones aritméticas, strings y listas, con un enfoque especial en el manejo de errores, slicing, y listas anidadas, utilizando ejemplos simples y ejercicios prácticos en Jupyter Notebook."
   ]
  },
  {
   "cell_type": "markdown",
   "id": "6e01b516",
   "metadata": {},
   "source": [
    "## Capítulo 1: Variables, Tipos de Datos y Operaciones Aritméticas (10 minutos)"
   ]
  },
  {
   "cell_type": "markdown",
   "id": "d8cfbe2e",
   "metadata": {},
   "source": [
    "**Explicación**:\n",
    "- Introducción a las variables: Definir variables como contenedores para almacenar información.\n",
    "- Tipos de datos: Enteros, flotantes, cadenas de texto (strings), booleanos.\n",
    "- Operaciones aritméticas: Suma, resta, multiplicación, división, módulo.\n",
    "- Conversión de tipos de datos: Uso de `int()`, `float()`, `str()`.\n",
    "- Manejo de errores con `try` y `except`: Cómo manejar errores comunes para evitar que el programa se detenga."
   ]
  },
  {
   "cell_type": "markdown",
   "id": "0614fb01-effe-4c42-a1b8-0ecadd57d813",
   "metadata": {},
   "source": [
    "**Check:** ¿Qué es una variable?"
   ]
  },
  {
   "cell_type": "markdown",
   "id": "6ceffc0d",
   "metadata": {},
   "source": [
    "### Ejercicio 1:\n",
    "1. Crear una variable llamada `edad` y asignarle un valor de 25. Mostrar el valor en pantalla utilizando `print()`, pero rodeado de un bloque `try` y `except` para manejar posibles errores."
   ]
  },
  {
   "cell_type": "code",
   "execution_count": null,
   "id": "ef0eb362-87e4-405a-bbcc-c2e4339f9319",
   "metadata": {},
   "outputs": [],
   "source": [
    "# Abre tu microfono o escribe en el chat\n",
    "\n"
   ]
  },
  {
   "cell_type": "code",
   "execution_count": null,
   "id": "647c9024",
   "metadata": {},
   "outputs": [],
   "source": [
    "# Hagamos de cuenta que esta celda no existe :')\n",
    "\n",
    "try:\n",
    "    edad = 25\n",
    "    print(edad)\n",
    "except Exception as e:\n",
    "    print(\"Error:\", e)"
   ]
  },
  {
   "cell_type": "markdown",
   "id": "8745269e-0c62-4b59-8b4e-f8b761ec3a39",
   "metadata": {},
   "source": [
    "**Check:** ¿Crees que este manejo de excepcion es \"obvio\" o \"innecesario\"?"
   ]
  },
  {
   "cell_type": "markdown",
   "id": "23ca0d1a-cdf2-489e-850a-28c1d6d8e655",
   "metadata": {},
   "source": [
    "**Check:** ¿Deberíamos usar SIEMPRE este manejo de excepciones?"
   ]
  },
  {
   "cell_type": "markdown",
   "id": "b512e7a5",
   "metadata": {},
   "source": [
    "2. Realizar operaciones aritméticas básicas. Por ejemplo, sumar dos números e imprimir el resultado, usando `try` y `except` para capturar posibles errores."
   ]
  },
  {
   "cell_type": "code",
   "execution_count": null,
   "id": "34773320-e33f-4055-9050-0b9e0f6f14de",
   "metadata": {},
   "outputs": [],
   "source": [
    "# Abre tu microfono o escribe en el chat\n",
    "\n"
   ]
  },
  {
   "cell_type": "code",
   "execution_count": null,
   "id": "0abfa05d",
   "metadata": {},
   "outputs": [],
   "source": [
    "# Hagamos de cuenta que esta celda no existe :')\n",
    "\n",
    "try:\n",
    "    a = 10\n",
    "    b = 15\n",
    "    suma = a + b\n",
    "    print(\"La suma es:\", suma)\n",
    "except Exception as e:\n",
    "    print(\"Error en la operación aritmética:\", e)"
   ]
  },
  {
   "cell_type": "markdown",
   "id": "00dc99ba",
   "metadata": {},
   "source": [
    "3. Convertir una variable de tipo `string` a `int` y realizar una operación, utilizando `try` y `except` para manejar errores si la conversión falla."
   ]
  },
  {
   "cell_type": "code",
   "execution_count": null,
   "id": "b7c2d1a6-9fac-465f-8e81-010192713205",
   "metadata": {},
   "outputs": [],
   "source": [
    "# Abre tu microfono o escribe en el chat\n",
    "\n"
   ]
  },
  {
   "cell_type": "code",
   "execution_count": null,
   "id": "ae857119",
   "metadata": {},
   "outputs": [],
   "source": [
    "# Hagamos de cuenta que esta celda no existe :')\n",
    "\n",
    "try:\n",
    "    numero_str = \"30\"\n",
    "    numero_int = int(numero_str)\n",
    "    print(numero_int + 10)\n",
    "except ValueError as e:\n",
    "    print(\"Error de conversión:\", e)"
   ]
  },
  {
   "cell_type": "markdown",
   "id": "34f2b6f9",
   "metadata": {},
   "source": [
    "4. Mostrar un error común y manejarlo adecuadamente (ej: intentar convertir \"hola\" a `int`)."
   ]
  },
  {
   "cell_type": "code",
   "execution_count": null,
   "id": "9d68d3ed-9447-478d-a08c-39ce493f6622",
   "metadata": {},
   "outputs": [],
   "source": [
    "# Abre tu microfono o escribe en el chat\n",
    "\n"
   ]
  },
  {
   "cell_type": "code",
   "execution_count": null,
   "id": "41bc7ade",
   "metadata": {},
   "outputs": [],
   "source": [
    "# Hagamos de cuenta que esta celda no existe :')\n",
    "\n",
    "valor = \"hola\"\n",
    "try:\n",
    "    numero = int(valor)\n",
    "except ValueError as e:\n",
    "    print(\"Error al convertir el valor a entero:\", e)"
   ]
  },
  {
   "cell_type": "markdown",
   "id": "843807bb",
   "metadata": {},
   "source": [
    "## Capítulo 2: Strings (10 minutos)"
   ]
  },
  {
   "cell_type": "markdown",
   "id": "a3e9d42c",
   "metadata": {},
   "source": [
    "**Explicación**:\n",
    "- Propiedades básicas de los strings: Definición y cómo trabajar con cadenas de texto.\n",
    "- Índices y slices: Acceder a caracteres individuales y a subcadenas.\n",
    "- Strings formateados: Uso de `f-strings` para combinar texto y variables.\n",
    "- Métodos comunes de strings: `upper()`, `lower()`, `split()`, `replace()`."
   ]
  },
  {
   "cell_type": "markdown",
   "id": "d024eca1",
   "metadata": {},
   "source": [
    "**Ejercicio 2**:\n",
    "1. Crear una variable `nombre` con el valor \"Ana\" y mostrar el primer y último carácter utilizando slicing."
   ]
  },
  {
   "cell_type": "code",
   "execution_count": null,
   "id": "7ed938cd-3325-4e13-8bd4-8ae154cba17d",
   "metadata": {},
   "outputs": [],
   "source": [
    "# Abre tu microfono o escribe en el chat\n",
    "\n"
   ]
  },
  {
   "cell_type": "code",
   "execution_count": null,
   "id": "3b6fadf4",
   "metadata": {},
   "outputs": [],
   "source": [
    "# Hagamos de cuenta que esta celda no existe :')\n",
    "\n",
    "nombre = \"Ana\"\n",
    "print(\"Primer carácter:\", nombre[:1])\n",
    "print(\"Último carácter:\", nombre[-1:])"
   ]
  },
  {
   "cell_type": "markdown",
   "id": "ccf3e977",
   "metadata": {},
   "source": [
    "2. Realizar un slice para obtener los primeros 3 caracteres de la cadena \"Data Analytics\" y los últimos 3 caracteres."
   ]
  },
  {
   "cell_type": "code",
   "execution_count": null,
   "id": "8f02b053-5dbe-49b2-8248-99577092c357",
   "metadata": {},
   "outputs": [],
   "source": [
    "# Abre tu microfono o escribe en el chat\n",
    "\n"
   ]
  },
  {
   "cell_type": "code",
   "execution_count": null,
   "id": "c34ee84b",
   "metadata": {},
   "outputs": [],
   "source": [
    "# Hagamos de cuenta que esta celda no existe :')\n",
    "\n",
    "frase = \"Data Analytics\"\n",
    "print(\"Primeros 3 caracteres:\", frase[:3])\n",
    "print(\"Últimos 3 caracteres:\", frase[-3:])"
   ]
  },
  {
   "cell_type": "markdown",
   "id": "6c5768c8",
   "metadata": {},
   "source": [
    "3. Utilizar un string formateado para imprimir un mensaje personalizado."
   ]
  },
  {
   "cell_type": "code",
   "execution_count": null,
   "id": "a3b34dba-0761-4924-98dd-40798ea8ce83",
   "metadata": {},
   "outputs": [],
   "source": [
    "# Abre tu microfono o escribe en el chat\n",
    "\n"
   ]
  },
  {
   "cell_type": "code",
   "execution_count": null,
   "id": "17d78049",
   "metadata": {},
   "outputs": [],
   "source": [
    "# Hagamos de cuenta que esta celda no existe :')\n",
    "\n",
    "edad = 30\n",
    "print(f\"Hola, tengo {edad} años\")"
   ]
  },
  {
   "cell_type": "markdown",
   "id": "081677c6",
   "metadata": {},
   "source": [
    "4. Convertir el texto \"hola mundo\" a mayúsculas y reemplazar \"mundo\" por \"a todos\"."
   ]
  },
  {
   "cell_type": "code",
   "execution_count": null,
   "id": "7e6cb737-f973-4e06-ac01-ecdc2b047ac0",
   "metadata": {},
   "outputs": [],
   "source": [
    "# Abre tu microfono o escribe en el chat\n",
    "\n"
   ]
  },
  {
   "cell_type": "code",
   "execution_count": null,
   "id": "9e6ce511",
   "metadata": {},
   "outputs": [],
   "source": [
    "# Hagamos de cuenta que esta celda no existe :')\n",
    "\n",
    "saludo = \"hola mundo\"\n",
    "saludo_modificado = saludo.upper().replace(\"MUNDO\", \"A TODOS\")\n",
    "print(saludo_modificado)"
   ]
  },
  {
   "cell_type": "markdown",
   "id": "5fc437cc",
   "metadata": {},
   "source": [
    "## Capítulo 3: Listas (15 minutos)"
   ]
  },
  {
   "cell_type": "markdown",
   "id": "7f66a072",
   "metadata": {},
   "source": [
    "**Explicación**:\n",
    "- Propiedades básicas de las listas: Definición y cómo almacenar múltiples valores.\n",
    "- Índices y slices en listas: Acceder a elementos específicos y sublistas.\n",
    "- Modificación de listas: Agregar, eliminar, modificar elementos.\n",
    "- Ordenar listas: Uso del método `sort()`.\n",
    "- Listas anidadas y cómo acceder a elementos dentro de listas anidadas."
   ]
  },
  {
   "cell_type": "markdown",
   "id": "4b90219e",
   "metadata": {},
   "source": [
    "**Ejercicio 3**:\n",
    "1. Crear una lista de frutas `frutas = [\"manzana\", \"banana\", \"cereza\"]` e imprimir la segunda fruta utilizando un bloque `try` y `except` para manejar posibles errores de índice."
   ]
  },
  {
   "cell_type": "code",
   "execution_count": null,
   "id": "d8fdb049-6e62-4d83-913a-36c3312bec77",
   "metadata": {},
   "outputs": [],
   "source": [
    "# Abre tu microfono o escribe en el chat\n",
    "\n"
   ]
  },
  {
   "cell_type": "code",
   "execution_count": null,
   "id": "e0f432b1",
   "metadata": {},
   "outputs": [],
   "source": [
    "# Hagamos de cuenta que esta celda no existe :')\n",
    "\n",
    "frutas = [\"manzana\", \"banana\", \"cereza\"]\n",
    "try:\n",
    "    print(frutas[1])\n",
    "except IndexError as e:\n",
    "    print(\"Error de índice:\", e)"
   ]
  },
  {
   "cell_type": "markdown",
   "id": "c18304aa",
   "metadata": {},
   "source": [
    "2. Agregar una nueva fruta a la lista y eliminar otra, utilizando `try` y `except` para manejar errores."
   ]
  },
  {
   "cell_type": "code",
   "execution_count": null,
   "id": "605e8659-2fa9-47c6-8f81-a7f58703ba28",
   "metadata": {},
   "outputs": [],
   "source": [
    "# Abre tu microfono o escribe en el chat\n",
    "\n"
   ]
  },
  {
   "cell_type": "code",
   "execution_count": null,
   "id": "ee1396e2",
   "metadata": {},
   "outputs": [],
   "source": [
    "# Hagamos de cuenta que esta celda no existe :')\n",
    "\n",
    "try:\n",
    "    frutas.append(\"naranja\")\n",
    "    frutas.remove(\"banana\")\n",
    "    print(frutas)\n",
    "except ValueError as e:\n",
    "    print(\"Error al modificar la lista:\", e)"
   ]
  },
  {
   "cell_type": "markdown",
   "id": "ee27bf69",
   "metadata": {},
   "source": [
    "3. Crear una lista anidada que contenga dos listas y acceder al segundo elemento de la primera lista utilizando slicing y un bloque `try` y `except`."
   ]
  },
  {
   "cell_type": "code",
   "execution_count": null,
   "id": "bab21110-bb71-47d8-a359-0adb9e206fa6",
   "metadata": {},
   "outputs": [],
   "source": [
    "# Abre tu microfono o escribe en el chat\n",
    "\n"
   ]
  },
  {
   "cell_type": "code",
   "execution_count": null,
   "id": "dd77eae1",
   "metadata": {},
   "outputs": [],
   "source": [
    "# Hagamos de cuenta que esta celda no existe :')\n",
    "\n",
    "lista_anidada = [[1, 2, 3], [\"a\", \"b\", \"c\"]]\n",
    "try:\n",
    "    print(lista_anidada[0][1])  # Acceder al segundo elemento de la primera lista\n",
    "except IndexError as e:\n",
    "    print(\"Error de índice en lista anidada:\", e)"
   ]
  },
  {
   "cell_type": "markdown",
   "id": "cbd857cc",
   "metadata": {},
   "source": [
    "4. Practicar slicing en una lista anidada para obtener una sublista de la primera lista."
   ]
  },
  {
   "cell_type": "code",
   "execution_count": null,
   "id": "0aff915d-d95e-43be-88a9-254a122f4ddc",
   "metadata": {},
   "outputs": [],
   "source": [
    "# Abre tu microfono o escribe en el chat\n",
    "\n"
   ]
  },
  {
   "cell_type": "code",
   "execution_count": null,
   "id": "764f96b9",
   "metadata": {},
   "outputs": [],
   "source": [
    "# Hagamos de cuenta que esta celda no existe :')\n",
    "\n",
    "try:\n",
    "    sublista = lista_anidada[0][:2]  # Obtener los primeros dos elementos de la primera lista\n",
    "    print(\"Sublista:\", sublista)\n",
    "except IndexError as e:\n",
    "    print(\"Error de índice en slicing de lista anidada:\", e)"
   ]
  },
  {
   "cell_type": "markdown",
   "id": "22c7f07d",
   "metadata": {},
   "source": [
    "## Conclusión y Resumen (5 minutos)\n",
    "- Resumir los conceptos aprendidos: Variables, tipos de datos, operaciones aritméticas, manejo de errores, slicing, strings y listas anidadas.\n",
    "- Aclarar dudas y dar ejemplos adicionales si hay tiempo."
   ]
  },
  {
   "cell_type": "markdown",
   "id": "5c918fbf",
   "metadata": {},
   "source": [
    "## Tarea:\n",
    "- Practicar creando variables, listas y strings en Jupyter Notebook.\n",
    "- Intentar modificar los ejemplos dados para explorar diferentes resultados.\n",
    "- Practicar el manejo de errores utilizando `try` y `except` en diferentes escenarios.\n",
    "- **¿Olvidamos algo?** Cierto, el proyecto. No olvides que puedes agendar sesiones 1:1."
   ]
  },
  {
   "cell_type": "markdown",
   "id": "c0b0d650-5bd6-42c7-87e1-3a52ce5a488e",
   "metadata": {},
   "source": [
    "## Takeaways"
   ]
  },
  {
   "cell_type": "markdown",
   "id": "fa2c8b9e-a8c4-4bb7-acc4-6299b6b57e71",
   "metadata": {},
   "source": [
    "**Check:** ¿Notaste alguna diferencia en trabajar con Notebooks de Jupyter que con archivos de código plano?"
   ]
  },
  {
   "cell_type": "markdown",
   "id": "e5894077-5f56-446a-aaac-fe06db8a6e6e",
   "metadata": {},
   "source": [
    "__[Usando MarkDown en Jupyter](https://www.datacamp.com/tutorial/markdown-in-jupyter-notebook)__"
   ]
  },
  {
   "cell_type": "code",
   "execution_count": null,
   "id": "17704896-08e8-48eb-9463-2e82e91479c0",
   "metadata": {},
   "outputs": [],
   "source": []
  }
 ],
 "metadata": {
  "kernelspec": {
   "display_name": "Python 3 (ipykernel)",
   "language": "python",
   "name": "python3"
  },
  "language_info": {
   "codemirror_mode": {
    "name": "ipython",
    "version": 3
   },
   "file_extension": ".py",
   "mimetype": "text/x-python",
   "name": "python",
   "nbconvert_exporter": "python",
   "pygments_lexer": "ipython3",
   "version": "3.12.7"
  }
 },
 "nbformat": 4,
 "nbformat_minor": 5
}
