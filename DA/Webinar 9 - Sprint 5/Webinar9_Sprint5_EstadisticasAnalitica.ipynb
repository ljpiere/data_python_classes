{
 "cells": [
  {
   "cell_type": "markdown",
   "id": "f2fba03c-45df-4292-bb5e-ccf8208a8059",
   "metadata": {},
   "source": [
    "# Sprint 5 - Análisis Estadístico de Datos"
   ]
  },
  {
   "cell_type": "markdown",
   "id": "6acb440a-0788-4e0a-9f4c-4be78fde071e",
   "metadata": {},
   "source": [
    "## Objetivos"
   ]
  },
  {
   "cell_type": "markdown",
   "id": "789d160c-465b-42a3-863f-ab2f4c804657",
   "metadata": {},
   "source": [
    "1. Comprender los conceptos básicos de estadística descriptiva y aplicarlos en conjuntos de datos.\n",
    "2. Explorar la teoría de la probabilidad mediante ejemplos prácticos.\n",
    "3. Realizar pruebas de hipótesis usando Python."
   ]
  },
  {
   "cell_type": "markdown",
   "id": "d4b3c73f-32d8-455c-b4c6-274f6ee3d876",
   "metadata": {},
   "source": [
    "---"
   ]
  },
  {
   "cell_type": "markdown",
   "id": "e3c51d09-6da2-4673-abaf-21a8eb7d6891",
   "metadata": {
    "jp-MarkdownHeadingCollapsed": true
   },
   "source": [
    "## Esa vieja sensación familiar..."
   ]
  },
  {
   "cell_type": "code",
   "execution_count": 1,
   "id": "c329f359-eaf9-41f4-b137-c36a6e7078a8",
   "metadata": {},
   "outputs": [],
   "source": [
    "import pandas as pd\n",
    "import numpy as np\n",
    "import matplotlib.pyplot as plt\n",
    "from math import factorial\n",
    "from scipy import stats\n",
    "from scipy import stats as st"
   ]
  },
  {
   "cell_type": "markdown",
   "id": "acd9e5e9-8dc2-4df8-ac11-e11db0691387",
   "metadata": {
    "jp-MarkdownHeadingCollapsed": true
   },
   "source": [
    "## 0. ¿Y si hablamos sobre el aguacate?"
   ]
  },
  {
   "cell_type": "markdown",
   "id": "0cdd863b-947e-409f-9fba-b13fd87a9e04",
   "metadata": {},
   "source": [
    "<div style=\"text-align: center;\">\n",
    "    <img src=\"cate.jpg\" alt=\"Taylor Swift\" style=\"width:50%;\"/>\n",
    "</div>"
   ]
  },
  {
   "cell_type": "code",
   "execution_count": 2,
   "id": "5b007b90-778b-46f5-97dc-f254f06f7ea1",
   "metadata": {},
   "outputs": [],
   "source": [
    "data =pd.read_csv('avocado.csv')"
   ]
  },
  {
   "cell_type": "code",
   "execution_count": 4,
   "id": "d2313932-e38f-47a5-a2b7-fdcc81bdebce",
   "metadata": {},
   "outputs": [
    {
     "data": {
      "text/html": [
       "<div>\n",
       "<style scoped>\n",
       "    .dataframe tbody tr th:only-of-type {\n",
       "        vertical-align: middle;\n",
       "    }\n",
       "\n",
       "    .dataframe tbody tr th {\n",
       "        vertical-align: top;\n",
       "    }\n",
       "\n",
       "    .dataframe thead th {\n",
       "        text-align: right;\n",
       "    }\n",
       "</style>\n",
       "<table border=\"1\" class=\"dataframe\">\n",
       "  <thead>\n",
       "    <tr style=\"text-align: right;\">\n",
       "      <th></th>\n",
       "      <th>Unnamed: 0</th>\n",
       "      <th>Date</th>\n",
       "      <th>AveragePrice</th>\n",
       "      <th>Total Volume</th>\n",
       "      <th>4046</th>\n",
       "      <th>4225</th>\n",
       "      <th>4770</th>\n",
       "      <th>Total Bags</th>\n",
       "      <th>Small Bags</th>\n",
       "      <th>Large Bags</th>\n",
       "      <th>XLarge Bags</th>\n",
       "      <th>type</th>\n",
       "      <th>year</th>\n",
       "      <th>region</th>\n",
       "    </tr>\n",
       "  </thead>\n",
       "  <tbody>\n",
       "    <tr>\n",
       "      <th>16653</th>\n",
       "      <td>4</td>\n",
       "      <td>2017-12-03</td>\n",
       "      <td>1.52</td>\n",
       "      <td>29860.53</td>\n",
       "      <td>2244.93</td>\n",
       "      <td>5328.78</td>\n",
       "      <td>0.00</td>\n",
       "      <td>22286.82</td>\n",
       "      <td>989.99</td>\n",
       "      <td>21274.46</td>\n",
       "      <td>22.37</td>\n",
       "      <td>organic</td>\n",
       "      <td>2017</td>\n",
       "      <td>Portland</td>\n",
       "    </tr>\n",
       "    <tr>\n",
       "      <th>4236</th>\n",
       "      <td>24</td>\n",
       "      <td>2016-07-10</td>\n",
       "      <td>1.06</td>\n",
       "      <td>291978.06</td>\n",
       "      <td>149481.91</td>\n",
       "      <td>41307.31</td>\n",
       "      <td>335.00</td>\n",
       "      <td>100853.84</td>\n",
       "      <td>79378.63</td>\n",
       "      <td>10060.49</td>\n",
       "      <td>11414.72</td>\n",
       "      <td>conventional</td>\n",
       "      <td>2016</td>\n",
       "      <td>NewOrleansMobile</td>\n",
       "    </tr>\n",
       "    <tr>\n",
       "      <th>4403</th>\n",
       "      <td>35</td>\n",
       "      <td>2016-04-24</td>\n",
       "      <td>1.07</td>\n",
       "      <td>431615.62</td>\n",
       "      <td>2993.41</td>\n",
       "      <td>326907.16</td>\n",
       "      <td>39188.20</td>\n",
       "      <td>62526.85</td>\n",
       "      <td>62471.31</td>\n",
       "      <td>55.54</td>\n",
       "      <td>0.00</td>\n",
       "      <td>conventional</td>\n",
       "      <td>2016</td>\n",
       "      <td>NorthernNewEngland</td>\n",
       "    </tr>\n",
       "    <tr>\n",
       "      <th>13833</th>\n",
       "      <td>28</td>\n",
       "      <td>2016-06-12</td>\n",
       "      <td>1.67</td>\n",
       "      <td>25140.30</td>\n",
       "      <td>6921.86</td>\n",
       "      <td>15536.84</td>\n",
       "      <td>15.11</td>\n",
       "      <td>2666.49</td>\n",
       "      <td>273.21</td>\n",
       "      <td>2393.28</td>\n",
       "      <td>0.00</td>\n",
       "      <td>organic</td>\n",
       "      <td>2016</td>\n",
       "      <td>Portland</td>\n",
       "    </tr>\n",
       "    <tr>\n",
       "      <th>8035</th>\n",
       "      <td>34</td>\n",
       "      <td>2017-05-07</td>\n",
       "      <td>0.85</td>\n",
       "      <td>7922898.43</td>\n",
       "      <td>4093101.60</td>\n",
       "      <td>1453770.19</td>\n",
       "      <td>18738.51</td>\n",
       "      <td>2357288.13</td>\n",
       "      <td>1526967.70</td>\n",
       "      <td>810444.58</td>\n",
       "      <td>19875.85</td>\n",
       "      <td>conventional</td>\n",
       "      <td>2017</td>\n",
       "      <td>SouthCentral</td>\n",
       "    </tr>\n",
       "    <tr>\n",
       "      <th>6918</th>\n",
       "      <td>30</td>\n",
       "      <td>2017-06-04</td>\n",
       "      <td>1.49</td>\n",
       "      <td>687913.86</td>\n",
       "      <td>449727.40</td>\n",
       "      <td>85907.47</td>\n",
       "      <td>238.92</td>\n",
       "      <td>152040.07</td>\n",
       "      <td>84992.72</td>\n",
       "      <td>64412.35</td>\n",
       "      <td>2635.00</td>\n",
       "      <td>conventional</td>\n",
       "      <td>2017</td>\n",
       "      <td>MiamiFtLauderdale</td>\n",
       "    </tr>\n",
       "    <tr>\n",
       "      <th>16805</th>\n",
       "      <td>50</td>\n",
       "      <td>2017-01-15</td>\n",
       "      <td>1.56</td>\n",
       "      <td>6047.00</td>\n",
       "      <td>434.68</td>\n",
       "      <td>2923.44</td>\n",
       "      <td>197.24</td>\n",
       "      <td>2491.64</td>\n",
       "      <td>2491.64</td>\n",
       "      <td>0.00</td>\n",
       "      <td>0.00</td>\n",
       "      <td>organic</td>\n",
       "      <td>2017</td>\n",
       "      <td>RichmondNorfolk</td>\n",
       "    </tr>\n",
       "    <tr>\n",
       "      <th>16324</th>\n",
       "      <td>46</td>\n",
       "      <td>2017-02-12</td>\n",
       "      <td>1.91</td>\n",
       "      <td>153268.97</td>\n",
       "      <td>11370.64</td>\n",
       "      <td>34465.58</td>\n",
       "      <td>496.01</td>\n",
       "      <td>106936.74</td>\n",
       "      <td>102275.82</td>\n",
       "      <td>4660.92</td>\n",
       "      <td>0.00</td>\n",
       "      <td>organic</td>\n",
       "      <td>2017</td>\n",
       "      <td>Northeast</td>\n",
       "    </tr>\n",
       "    <tr>\n",
       "      <th>18030</th>\n",
       "      <td>9</td>\n",
       "      <td>2018-01-21</td>\n",
       "      <td>1.69</td>\n",
       "      <td>65835.39</td>\n",
       "      <td>3266.67</td>\n",
       "      <td>17088.92</td>\n",
       "      <td>9.85</td>\n",
       "      <td>45469.95</td>\n",
       "      <td>32422.77</td>\n",
       "      <td>13047.18</td>\n",
       "      <td>0.00</td>\n",
       "      <td>organic</td>\n",
       "      <td>2018</td>\n",
       "      <td>Plains</td>\n",
       "    </tr>\n",
       "    <tr>\n",
       "      <th>17386</th>\n",
       "      <td>48</td>\n",
       "      <td>2017-01-29</td>\n",
       "      <td>1.67</td>\n",
       "      <td>1749.51</td>\n",
       "      <td>0.00</td>\n",
       "      <td>106.80</td>\n",
       "      <td>0.00</td>\n",
       "      <td>1642.71</td>\n",
       "      <td>1473.19</td>\n",
       "      <td>169.52</td>\n",
       "      <td>0.00</td>\n",
       "      <td>organic</td>\n",
       "      <td>2017</td>\n",
       "      <td>Syracuse</td>\n",
       "    </tr>\n",
       "  </tbody>\n",
       "</table>\n",
       "</div>"
      ],
      "text/plain": [
       "       Unnamed: 0        Date  AveragePrice  Total Volume        4046  \\\n",
       "16653           4  2017-12-03          1.52      29860.53     2244.93   \n",
       "4236           24  2016-07-10          1.06     291978.06   149481.91   \n",
       "4403           35  2016-04-24          1.07     431615.62     2993.41   \n",
       "13833          28  2016-06-12          1.67      25140.30     6921.86   \n",
       "8035           34  2017-05-07          0.85    7922898.43  4093101.60   \n",
       "6918           30  2017-06-04          1.49     687913.86   449727.40   \n",
       "16805          50  2017-01-15          1.56       6047.00      434.68   \n",
       "16324          46  2017-02-12          1.91     153268.97    11370.64   \n",
       "18030           9  2018-01-21          1.69      65835.39     3266.67   \n",
       "17386          48  2017-01-29          1.67       1749.51        0.00   \n",
       "\n",
       "             4225      4770  Total Bags  Small Bags  Large Bags  XLarge Bags  \\\n",
       "16653     5328.78      0.00    22286.82      989.99    21274.46        22.37   \n",
       "4236     41307.31    335.00   100853.84    79378.63    10060.49     11414.72   \n",
       "4403    326907.16  39188.20    62526.85    62471.31       55.54         0.00   \n",
       "13833    15536.84     15.11     2666.49      273.21     2393.28         0.00   \n",
       "8035   1453770.19  18738.51  2357288.13  1526967.70   810444.58     19875.85   \n",
       "6918     85907.47    238.92   152040.07    84992.72    64412.35      2635.00   \n",
       "16805     2923.44    197.24     2491.64     2491.64        0.00         0.00   \n",
       "16324    34465.58    496.01   106936.74   102275.82     4660.92         0.00   \n",
       "18030    17088.92      9.85    45469.95    32422.77    13047.18         0.00   \n",
       "17386      106.80      0.00     1642.71     1473.19      169.52         0.00   \n",
       "\n",
       "               type  year              region  \n",
       "16653       organic  2017            Portland  \n",
       "4236   conventional  2016    NewOrleansMobile  \n",
       "4403   conventional  2016  NorthernNewEngland  \n",
       "13833       organic  2016            Portland  \n",
       "8035   conventional  2017        SouthCentral  \n",
       "6918   conventional  2017   MiamiFtLauderdale  \n",
       "16805       organic  2017     RichmondNorfolk  \n",
       "16324       organic  2017           Northeast  \n",
       "18030       organic  2018              Plains  \n",
       "17386       organic  2017            Syracuse  "
      ]
     },
     "execution_count": 4,
     "metadata": {},
     "output_type": "execute_result"
    }
   ],
   "source": [
    "data.sample(10)"
   ]
  },
  {
   "cell_type": "markdown",
   "id": "d7e05b6f-0133-4fa0-b71b-4a81e1e978c1",
   "metadata": {},
   "source": [
    "## 1. Estadística Descriptiva"
   ]
  },
  {
   "cell_type": "markdown",
   "id": "6dc010ca-fe6a-463c-9102-f8a57256e30d",
   "metadata": {
    "jp-MarkdownHeadingCollapsed": true
   },
   "source": [
    "### 1.1 Tipos de Variables"
   ]
  },
  {
   "cell_type": "markdown",
   "id": "41a8f243-a5e6-422f-8bcb-28907665f6a7",
   "metadata": {},
   "source": [
    "**Teoría:**\n",
    "- **Cuantitativas:** Representan cantidades y se pueden medir numéricamente. Ejemplo: Precio promedio.\n",
    "- **Cualitativas:** Representan categorías o atributos. Ejemplo: Tipo de aguacate (\"conventional\" o \"organic\").\n",
    "- **Discretas:** Variables cuantitativas que solo toman valores enteros. Ejemplo: Año.\n",
    "- **Continuas:** Variables cuantitativas que pueden tomar cualquier valor dentro de un rango. Ejemplo: Precio promedio."
   ]
  },
  {
   "cell_type": "markdown",
   "id": "d3f7603c-5838-4d27-9d9e-73ae0c767bae",
   "metadata": {},
   "source": [
    "**Práctica:**"
   ]
  },
  {
   "cell_type": "code",
   "execution_count": 7,
   "id": "80d56cc7-bef6-49a6-a2d1-939c30cbd9ec",
   "metadata": {},
   "outputs": [
    {
     "name": "stdout",
     "output_type": "stream",
     "text": [
      "Tipos de datos:\n",
      "<class 'pandas.core.frame.DataFrame'>\n",
      "RangeIndex: 18249 entries, 0 to 18248\n",
      "Data columns (total 14 columns):\n",
      " #   Column        Non-Null Count  Dtype  \n",
      "---  ------        --------------  -----  \n",
      " 0   Unnamed: 0    18249 non-null  int64  \n",
      " 1   Date          18249 non-null  object \n",
      " 2   AveragePrice  18249 non-null  float64\n",
      " 3   Total Volume  18249 non-null  float64\n",
      " 4   4046          18249 non-null  float64\n",
      " 5   4225          18249 non-null  float64\n",
      " 6   4770          18249 non-null  float64\n",
      " 7   Total Bags    18249 non-null  float64\n",
      " 8   Small Bags    18249 non-null  float64\n",
      " 9   Large Bags    18249 non-null  float64\n",
      " 10  XLarge Bags   18249 non-null  float64\n",
      " 11  type          18249 non-null  object \n",
      " 12  year          18249 non-null  int64  \n",
      " 13  region        18249 non-null  object \n",
      "dtypes: float64(9), int64(2), object(3)\n",
      "memory usage: 1.9+ MB\n",
      "None\n"
     ]
    }
   ],
   "source": [
    "# Ejemplo con datos del archivo cargado\n",
    "print(\"Tipos de datos:\")\n",
    "print(data.info())"
   ]
  },
  {
   "cell_type": "code",
   "execution_count": 8,
   "id": "8b95f947-2feb-44ed-a142-a72014ad69e2",
   "metadata": {},
   "outputs": [
    {
     "name": "stdout",
     "output_type": "stream",
     "text": [
      "Tipos de aguacate:\n",
      "type\n",
      "conventional    9126\n",
      "organic         9123\n",
      "Name: count, dtype: int64\n"
     ]
    }
   ],
   "source": [
    "# Ejemplo de conteo de valores para variables cualitativas\n",
    "print(\"Tipos de aguacate:\")\n",
    "print(data['type'].value_counts())"
   ]
  },
  {
   "cell_type": "markdown",
   "id": "7ca9e207-6d2d-4f31-8c72-dee21ec0813c",
   "metadata": {
    "jp-MarkdownHeadingCollapsed": true
   },
   "source": [
    "### 1.2 Histogramas de Frecuencia"
   ]
  },
  {
   "cell_type": "markdown",
   "id": "2315482e-6abb-4fa9-89fe-64c21f43f839",
   "metadata": {},
   "source": [
    "**Teoría:**\n",
    "Los histogramas muestran la distribución de una variable cuantitativa dividiendo los datos en intervalos (\"bins\")."
   ]
  },
  {
   "cell_type": "code",
   "execution_count": 12,
   "id": "7220aae1-c682-4953-bc5b-aa8701922721",
   "metadata": {},
   "outputs": [],
   "source": [
    "# Crear histogramas con diferentes configuraciones de bins"
   ]
  },
  {
   "cell_type": "code",
   "execution_count": 18,
   "id": "46e6a3bb-9f20-4479-bb45-300282e64aef",
   "metadata": {},
   "outputs": [],
   "source": [
    "# sorted(data[\"AveragePrice\"].unique())"
   ]
  },
  {
   "cell_type": "code",
   "execution_count": 13,
   "id": "f8ba8d5a-488b-4efa-b5b4-f26d77322705",
   "metadata": {},
   "outputs": [
    {
     "data": {
      "image/png": "[encoded data removed]",
      "text/plain": [
       "<Figure size 640x480 with 1 Axes>"
      ]
     },
     "metadata": {},
     "output_type": "display_data"
    }
   ],
   "source": [
    "# Primera configuración\n",
    "plt.subplot(1, 3, 1)\n",
    "plt.hist(data['AveragePrice'], bins=[0.2, 0.4, 0.6, 0.8, 1, 1.2, 1.4, 1.6, 1.8, 2, 2.2, 2.4, 2.6, 2.8, 3], alpha=0.7)\n",
    "plt.title('Histograma 1')\n",
    "\n",
    "plt.show()"
   ]
  },
  {
   "cell_type": "code",
   "execution_count": 14,
   "id": "d1fdcec6-c7df-4a99-a4dd-7fc2fedd56e6",
   "metadata": {},
   "outputs": [
    {
     "data": {
      "image/png": "[encoded data removed]",
      "text/plain": [
       "<Figure size 640x480 with 1 Axes>"
      ]
     },
     "metadata": {},
     "output_type": "display_data"
    }
   ],
   "source": [
    "# Segunda configuración\n",
    "plt.subplot(1, 3, 2)\n",
    "plt.hist(data['AveragePrice'], bins=[0.5, 1.25, 2.0, 2.75, 3.5], alpha=0.7)\n",
    "plt.title('Histograma 2')\n",
    "\n",
    "plt.show()"
   ]
  },
  {
   "cell_type": "code",
   "execution_count": 15,
   "id": "ab950806-e065-4545-98c0-d96d70dfe835",
   "metadata": {},
   "outputs": [
    {
     "data": {
      "image/png": "[encoded data removed]",
      "text/plain": [
       "<Figure size 640x480 with 1 Axes>"
      ]
     },
     "metadata": {},
     "output_type": "display_data"
    }
   ],
   "source": [
    "# Tercera configuración\n",
    "plt.subplot(1, 3, 3)\n",
    "plt.hist(data['AveragePrice'], bins=[0.5, 1.5, 2.5, 3.5], alpha=0.7)\n",
    "plt.title('Histograma 3')\n",
    "\n",
    "plt.show()"
   ]
  },
  {
   "cell_type": "markdown",
   "id": "deceb167-e048-41ea-9942-a51ae3e1a5d7",
   "metadata": {
    "jp-MarkdownHeadingCollapsed": true
   },
   "source": [
    "### 1.3 Boxplots"
   ]
  },
  {
   "cell_type": "markdown",
   "id": "221894a3-61ea-47ce-8682-6eed93aa62d4",
   "metadata": {},
   "source": [
    "**Teoría:**\n",
    "Un boxplot resume la distribución de los datos mediante cinco números clave: mínimo, primer cuartil, mediana, tercer cuartil y máximo. También identifica valores atípicos.\n",
    "\n"
   ]
  },
  {
   "cell_type": "code",
   "execution_count": 17,
   "id": "dea98528-56d1-47a2-9308-58de1acbc2d5",
   "metadata": {},
   "outputs": [
    {
     "data": {
      "text/html": [
       "<div>\n",
       "<style scoped>\n",
       "    .dataframe tbody tr th:only-of-type {\n",
       "        vertical-align: middle;\n",
       "    }\n",
       "\n",
       "    .dataframe tbody tr th {\n",
       "        vertical-align: top;\n",
       "    }\n",
       "\n",
       "    .dataframe thead th {\n",
       "        text-align: right;\n",
       "    }\n",
       "</style>\n",
       "<table border=\"1\" class=\"dataframe\">\n",
       "  <thead>\n",
       "    <tr style=\"text-align: right;\">\n",
       "      <th></th>\n",
       "      <th>Unnamed: 0</th>\n",
       "      <th>AveragePrice</th>\n",
       "      <th>Total Volume</th>\n",
       "      <th>4046</th>\n",
       "      <th>4225</th>\n",
       "      <th>4770</th>\n",
       "      <th>Total Bags</th>\n",
       "      <th>Small Bags</th>\n",
       "      <th>Large Bags</th>\n",
       "      <th>XLarge Bags</th>\n",
       "      <th>year</th>\n",
       "    </tr>\n",
       "  </thead>\n",
       "  <tbody>\n",
       "    <tr>\n",
       "      <th>count</th>\n",
       "      <td>18249.000000</td>\n",
       "      <td>18249.000000</td>\n",
       "      <td>1.824900e+04</td>\n",
       "      <td>1.824900e+04</td>\n",
       "      <td>1.824900e+04</td>\n",
       "      <td>1.824900e+04</td>\n",
       "      <td>1.824900e+04</td>\n",
       "      <td>1.824900e+04</td>\n",
       "      <td>1.824900e+04</td>\n",
       "      <td>18249.000000</td>\n",
       "      <td>18249.000000</td>\n",
       "    </tr>\n",
       "    <tr>\n",
       "      <th>mean</th>\n",
       "      <td>24.232232</td>\n",
       "      <td>1.405978</td>\n",
       "      <td>8.506440e+05</td>\n",
       "      <td>2.930084e+05</td>\n",
       "      <td>2.951546e+05</td>\n",
       "      <td>2.283974e+04</td>\n",
       "      <td>2.396392e+05</td>\n",
       "      <td>1.821947e+05</td>\n",
       "      <td>5.433809e+04</td>\n",
       "      <td>3106.426507</td>\n",
       "      <td>2016.147899</td>\n",
       "    </tr>\n",
       "    <tr>\n",
       "      <th>std</th>\n",
       "      <td>15.481045</td>\n",
       "      <td>0.402677</td>\n",
       "      <td>3.453545e+06</td>\n",
       "      <td>1.264989e+06</td>\n",
       "      <td>1.204120e+06</td>\n",
       "      <td>1.074641e+05</td>\n",
       "      <td>9.862424e+05</td>\n",
       "      <td>7.461785e+05</td>\n",
       "      <td>2.439660e+05</td>\n",
       "      <td>17692.894652</td>\n",
       "      <td>0.939938</td>\n",
       "    </tr>\n",
       "    <tr>\n",
       "      <th>min</th>\n",
       "      <td>0.000000</td>\n",
       "      <td>0.440000</td>\n",
       "      <td>8.456000e+01</td>\n",
       "      <td>0.000000e+00</td>\n",
       "      <td>0.000000e+00</td>\n",
       "      <td>0.000000e+00</td>\n",
       "      <td>0.000000e+00</td>\n",
       "      <td>0.000000e+00</td>\n",
       "      <td>0.000000e+00</td>\n",
       "      <td>0.000000</td>\n",
       "      <td>2015.000000</td>\n",
       "    </tr>\n",
       "    <tr>\n",
       "      <th>25%</th>\n",
       "      <td>10.000000</td>\n",
       "      <td>1.100000</td>\n",
       "      <td>1.083858e+04</td>\n",
       "      <td>8.540700e+02</td>\n",
       "      <td>3.008780e+03</td>\n",
       "      <td>0.000000e+00</td>\n",
       "      <td>5.088640e+03</td>\n",
       "      <td>2.849420e+03</td>\n",
       "      <td>1.274700e+02</td>\n",
       "      <td>0.000000</td>\n",
       "      <td>2015.000000</td>\n",
       "    </tr>\n",
       "    <tr>\n",
       "      <th>50%</th>\n",
       "      <td>24.000000</td>\n",
       "      <td>1.370000</td>\n",
       "      <td>1.073768e+05</td>\n",
       "      <td>8.645300e+03</td>\n",
       "      <td>2.906102e+04</td>\n",
       "      <td>1.849900e+02</td>\n",
       "      <td>3.974383e+04</td>\n",
       "      <td>2.636282e+04</td>\n",
       "      <td>2.647710e+03</td>\n",
       "      <td>0.000000</td>\n",
       "      <td>2016.000000</td>\n",
       "    </tr>\n",
       "    <tr>\n",
       "      <th>75%</th>\n",
       "      <td>38.000000</td>\n",
       "      <td>1.660000</td>\n",
       "      <td>4.329623e+05</td>\n",
       "      <td>1.110202e+05</td>\n",
       "      <td>1.502069e+05</td>\n",
       "      <td>6.243420e+03</td>\n",
       "      <td>1.107834e+05</td>\n",
       "      <td>8.333767e+04</td>\n",
       "      <td>2.202925e+04</td>\n",
       "      <td>132.500000</td>\n",
       "      <td>2017.000000</td>\n",
       "    </tr>\n",
       "    <tr>\n",
       "      <th>max</th>\n",
       "      <td>52.000000</td>\n",
       "      <td>3.250000</td>\n",
       "      <td>6.250565e+07</td>\n",
       "      <td>2.274362e+07</td>\n",
       "      <td>2.047057e+07</td>\n",
       "      <td>2.546439e+06</td>\n",
       "      <td>1.937313e+07</td>\n",
       "      <td>1.338459e+07</td>\n",
       "      <td>5.719097e+06</td>\n",
       "      <td>551693.650000</td>\n",
       "      <td>2018.000000</td>\n",
       "    </tr>\n",
       "  </tbody>\n",
       "</table>\n",
       "</div>"
      ],
      "text/plain": [
       "         Unnamed: 0  AveragePrice  Total Volume          4046          4225  \\\n",
       "count  18249.000000  18249.000000  1.824900e+04  1.824900e+04  1.824900e+04   \n",
       "mean      24.232232      1.405978  8.506440e+05  2.930084e+05  2.951546e+05   \n",
       "std       15.481045      0.402677  3.453545e+06  1.264989e+06  1.204120e+06   \n",
       "min        0.000000      0.440000  8.456000e+01  0.000000e+00  0.000000e+00   \n",
       "25%       10.000000      1.100000  1.083858e+04  8.540700e+02  3.008780e+03   \n",
       "50%       24.000000      1.370000  1.073768e+05  8.645300e+03  2.906102e+04   \n",
       "75%       38.000000      1.660000  4.329623e+05  1.110202e+05  1.502069e+05   \n",
       "max       52.000000      3.250000  6.250565e+07  2.274362e+07  2.047057e+07   \n",
       "\n",
       "               4770    Total Bags    Small Bags    Large Bags    XLarge Bags  \\\n",
       "count  1.824900e+04  1.824900e+04  1.824900e+04  1.824900e+04   18249.000000   \n",
       "mean   2.283974e+04  2.396392e+05  1.821947e+05  5.433809e+04    3106.426507   \n",
       "std    1.074641e+05  9.862424e+05  7.461785e+05  2.439660e+05   17692.894652   \n",
       "min    0.000000e+00  0.000000e+00  0.000000e+00  0.000000e+00       0.000000   \n",
       "25%    0.000000e+00  5.088640e+03  2.849420e+03  1.274700e+02       0.000000   \n",
       "50%    1.849900e+02  3.974383e+04  2.636282e+04  2.647710e+03       0.000000   \n",
       "75%    6.243420e+03  1.107834e+05  8.333767e+04  2.202925e+04     132.500000   \n",
       "max    2.546439e+06  1.937313e+07  1.338459e+07  5.719097e+06  551693.650000   \n",
       "\n",
       "               year  \n",
       "count  18249.000000  \n",
       "mean    2016.147899  \n",
       "std        0.939938  \n",
       "min     2015.000000  \n",
       "25%     2015.000000  \n",
       "50%     2016.000000  \n",
       "75%     2017.000000  \n",
       "max     2018.000000  "
      ]
     },
     "execution_count": 17,
     "metadata": {},
     "output_type": "execute_result"
    }
   ],
   "source": [
    "data.describe()"
   ]
  },
  {
   "cell_type": "code",
   "execution_count": 16,
   "id": "bf7dcb46-3a0a-4def-8ca3-938201dac907",
   "metadata": {},
   "outputs": [
    {
     "data": {
      "image/png": "[encoded data removed]",
      "text/plain": [
       "<Figure size 640x480 with 1 Axes>"
      ]
     },
     "metadata": {},
     "output_type": "display_data"
    }
   ],
   "source": [
    "# Crear un boxplot del precio promedio\n",
    "plt.boxplot(data['AveragePrice'])\n",
    "plt.title('Boxplot de Precio Promedio')\n",
    "plt.ylabel('Precio Promedio')\n",
    "plt.show()"
   ]
  },
  {
   "cell_type": "markdown",
   "id": "74dc8eae-b0e6-416e-a134-d6b914becc26",
   "metadata": {},
   "source": [
    "_¿Recuerdas formatear texto?_"
   ]
  },
  {
   "cell_type": "code",
   "execution_count": 19,
   "id": "e0fbbd58-59ea-425b-aa35-15cdf7635bed",
   "metadata": {
    "collapsed": true,
    "jupyter": {
     "outputs_hidden": true
    }
   },
   "outputs": [
    {
     "name": "stdout",
     "output_type": "stream",
     "text": [
      "Distancia media a la media: 4.983805697698111e-17\n"
     ]
    }
   ],
   "source": [
    "# Cálculo adicional: distancia media a la media\n",
    "mean_value = data['AveragePrice'].mean()\n",
    "spacing_all = data['AveragePrice'] - mean_value\n",
    "spacing_all_mean = spacing_all.mean()\n",
    "\n",
    "print(f\"Distancia media a la media: {spacing_all_mean}\")"
   ]
  },
  {
   "cell_type": "markdown",
   "id": "be84945d-3560-4c10-b50e-98a33fc51f1b",
   "metadata": {
    "jp-MarkdownHeadingCollapsed": true
   },
   "source": [
    "### 1.4 Varianza, Covarianza y Desviación Estándar\n"
   ]
  },
  {
   "cell_type": "markdown",
   "id": "a5319e7f-3b37-414c-84c6-e0dce90bda0d",
   "metadata": {},
   "source": [
    "**Teoría:**\n",
    "- **Varianza:** Mide cuánta variación hay en los datos.\n",
    "- **Desviación estándar:** Es la raíz cuadrada de la varianza y representa la dispersión de los datos respecto a la media.\n",
    "- **Covarianza:** Indica cómo dos variables cambian juntas."
   ]
  },
  {
   "cell_type": "code",
   "execution_count": 19,
   "id": "d3eb7503-9b61-497a-9f96-4cdb6779a390",
   "metadata": {},
   "outputs": [
    {
     "data": {
      "text/html": [
       "<div>\n",
       "<style scoped>\n",
       "    .dataframe tbody tr th:only-of-type {\n",
       "        vertical-align: middle;\n",
       "    }\n",
       "\n",
       "    .dataframe tbody tr th {\n",
       "        vertical-align: top;\n",
       "    }\n",
       "\n",
       "    .dataframe thead th {\n",
       "        text-align: right;\n",
       "    }\n",
       "</style>\n",
       "<table border=\"1\" class=\"dataframe\">\n",
       "  <thead>\n",
       "    <tr style=\"text-align: right;\">\n",
       "      <th></th>\n",
       "      <th>Unnamed: 0</th>\n",
       "      <th>AveragePrice</th>\n",
       "      <th>Total Volume</th>\n",
       "      <th>4046</th>\n",
       "      <th>4225</th>\n",
       "      <th>4770</th>\n",
       "      <th>Total Bags</th>\n",
       "      <th>Small Bags</th>\n",
       "      <th>Large Bags</th>\n",
       "      <th>XLarge Bags</th>\n",
       "      <th>year</th>\n",
       "    </tr>\n",
       "  </thead>\n",
       "  <tbody>\n",
       "    <tr>\n",
       "      <th>count</th>\n",
       "      <td>18249.000000</td>\n",
       "      <td>18249.000000</td>\n",
       "      <td>1.824900e+04</td>\n",
       "      <td>1.824900e+04</td>\n",
       "      <td>1.824900e+04</td>\n",
       "      <td>1.824900e+04</td>\n",
       "      <td>1.824900e+04</td>\n",
       "      <td>1.824900e+04</td>\n",
       "      <td>1.824900e+04</td>\n",
       "      <td>18249.000000</td>\n",
       "      <td>18249.000000</td>\n",
       "    </tr>\n",
       "    <tr>\n",
       "      <th>mean</th>\n",
       "      <td>24.232232</td>\n",
       "      <td>1.405978</td>\n",
       "      <td>8.506440e+05</td>\n",
       "      <td>2.930084e+05</td>\n",
       "      <td>2.951546e+05</td>\n",
       "      <td>2.283974e+04</td>\n",
       "      <td>2.396392e+05</td>\n",
       "      <td>1.821947e+05</td>\n",
       "      <td>5.433809e+04</td>\n",
       "      <td>3106.426507</td>\n",
       "      <td>2016.147899</td>\n",
       "    </tr>\n",
       "    <tr>\n",
       "      <th>std</th>\n",
       "      <td>15.481045</td>\n",
       "      <td>0.402677</td>\n",
       "      <td>3.453545e+06</td>\n",
       "      <td>1.264989e+06</td>\n",
       "      <td>1.204120e+06</td>\n",
       "      <td>1.074641e+05</td>\n",
       "      <td>9.862424e+05</td>\n",
       "      <td>7.461785e+05</td>\n",
       "      <td>2.439660e+05</td>\n",
       "      <td>17692.894652</td>\n",
       "      <td>0.939938</td>\n",
       "    </tr>\n",
       "    <tr>\n",
       "      <th>min</th>\n",
       "      <td>0.000000</td>\n",
       "      <td>0.440000</td>\n",
       "      <td>8.456000e+01</td>\n",
       "      <td>0.000000e+00</td>\n",
       "      <td>0.000000e+00</td>\n",
       "      <td>0.000000e+00</td>\n",
       "      <td>0.000000e+00</td>\n",
       "      <td>0.000000e+00</td>\n",
       "      <td>0.000000e+00</td>\n",
       "      <td>0.000000</td>\n",
       "      <td>2015.000000</td>\n",
       "    </tr>\n",
       "    <tr>\n",
       "      <th>25%</th>\n",
       "      <td>10.000000</td>\n",
       "      <td>1.100000</td>\n",
       "      <td>1.083858e+04</td>\n",
       "      <td>8.540700e+02</td>\n",
       "      <td>3.008780e+03</td>\n",
       "      <td>0.000000e+00</td>\n",
       "      <td>5.088640e+03</td>\n",
       "      <td>2.849420e+03</td>\n",
       "      <td>1.274700e+02</td>\n",
       "      <td>0.000000</td>\n",
       "      <td>2015.000000</td>\n",
       "    </tr>\n",
       "    <tr>\n",
       "      <th>50%</th>\n",
       "      <td>24.000000</td>\n",
       "      <td>1.370000</td>\n",
       "      <td>1.073768e+05</td>\n",
       "      <td>8.645300e+03</td>\n",
       "      <td>2.906102e+04</td>\n",
       "      <td>1.849900e+02</td>\n",
       "      <td>3.974383e+04</td>\n",
       "      <td>2.636282e+04</td>\n",
       "      <td>2.647710e+03</td>\n",
       "      <td>0.000000</td>\n",
       "      <td>2016.000000</td>\n",
       "    </tr>\n",
       "    <tr>\n",
       "      <th>75%</th>\n",
       "      <td>38.000000</td>\n",
       "      <td>1.660000</td>\n",
       "      <td>4.329623e+05</td>\n",
       "      <td>1.110202e+05</td>\n",
       "      <td>1.502069e+05</td>\n",
       "      <td>6.243420e+03</td>\n",
       "      <td>1.107834e+05</td>\n",
       "      <td>8.333767e+04</td>\n",
       "      <td>2.202925e+04</td>\n",
       "      <td>132.500000</td>\n",
       "      <td>2017.000000</td>\n",
       "    </tr>\n",
       "    <tr>\n",
       "      <th>max</th>\n",
       "      <td>52.000000</td>\n",
       "      <td>3.250000</td>\n",
       "      <td>6.250565e+07</td>\n",
       "      <td>2.274362e+07</td>\n",
       "      <td>2.047057e+07</td>\n",
       "      <td>2.546439e+06</td>\n",
       "      <td>1.937313e+07</td>\n",
       "      <td>1.338459e+07</td>\n",
       "      <td>5.719097e+06</td>\n",
       "      <td>551693.650000</td>\n",
       "      <td>2018.000000</td>\n",
       "    </tr>\n",
       "  </tbody>\n",
       "</table>\n",
       "</div>"
      ],
      "text/plain": [
       "         Unnamed: 0  AveragePrice  Total Volume          4046          4225  \\\n",
       "count  18249.000000  18249.000000  1.824900e+04  1.824900e+04  1.824900e+04   \n",
       "mean      24.232232      1.405978  8.506440e+05  2.930084e+05  2.951546e+05   \n",
       "std       15.481045      0.402677  3.453545e+06  1.264989e+06  1.204120e+06   \n",
       "min        0.000000      0.440000  8.456000e+01  0.000000e+00  0.000000e+00   \n",
       "25%       10.000000      1.100000  1.083858e+04  8.540700e+02  3.008780e+03   \n",
       "50%       24.000000      1.370000  1.073768e+05  8.645300e+03  2.906102e+04   \n",
       "75%       38.000000      1.660000  4.329623e+05  1.110202e+05  1.502069e+05   \n",
       "max       52.000000      3.250000  6.250565e+07  2.274362e+07  2.047057e+07   \n",
       "\n",
       "               4770    Total Bags    Small Bags    Large Bags    XLarge Bags  \\\n",
       "count  1.824900e+04  1.824900e+04  1.824900e+04  1.824900e+04   18249.000000   \n",
       "mean   2.283974e+04  2.396392e+05  1.821947e+05  5.433809e+04    3106.426507   \n",
       "std    1.074641e+05  9.862424e+05  7.461785e+05  2.439660e+05   17692.894652   \n",
       "min    0.000000e+00  0.000000e+00  0.000000e+00  0.000000e+00       0.000000   \n",
       "25%    0.000000e+00  5.088640e+03  2.849420e+03  1.274700e+02       0.000000   \n",
       "50%    1.849900e+02  3.974383e+04  2.636282e+04  2.647710e+03       0.000000   \n",
       "75%    6.243420e+03  1.107834e+05  8.333767e+04  2.202925e+04     132.500000   \n",
       "max    2.546439e+06  1.937313e+07  1.338459e+07  5.719097e+06  551693.650000   \n",
       "\n",
       "               year  \n",
       "count  18249.000000  \n",
       "mean    2016.147899  \n",
       "std        0.939938  \n",
       "min     2015.000000  \n",
       "25%     2015.000000  \n",
       "50%     2016.000000  \n",
       "75%     2017.000000  \n",
       "max     2018.000000  "
      ]
     },
     "execution_count": 19,
     "metadata": {},
     "output_type": "execute_result"
    }
   ],
   "source": [
    "data.describe()"
   ]
  },
  {
   "cell_type": "code",
   "execution_count": 21,
   "id": "795eabef-e101-4840-8993-7af824b80345",
   "metadata": {},
   "outputs": [
    {
     "name": "stdout",
     "output_type": "stream",
     "text": [
      "Varianza: 0.16213952301460038\n",
      "Desviación Estándar: 0.40266552250546656\n"
     ]
    }
   ],
   "source": [
    "# Calcular la varianza y desviación estándar\n",
    "variance = np.var(data['AveragePrice'])\n",
    "std_deviation = np.std(data['AveragePrice'])\n",
    "\n",
    "print(f\"Varianza: {variance}\")\n",
    "print(f\"Desviación Estándar: {std_deviation}\")"
   ]
  },
  {
   "cell_type": "code",
   "execution_count": 22,
   "id": "c7b5f55c-64c4-46b4-9fb5-697df7701f04",
   "metadata": {},
   "outputs": [],
   "source": [
    "# Calcular la covarianza entre precio promedio y volumen total\n",
    "covariance_matrix = np.cov(data['AveragePrice'], data['Total Volume'])\n",
    "covariance = covariance_matrix[0][1]"
   ]
  },
  {
   "cell_type": "code",
   "execution_count": 23,
   "id": "5daa4599-746c-467f-8722-1cc3f934d06c",
   "metadata": {},
   "outputs": [
    {
     "name": "stdout",
     "output_type": "stream",
     "text": [
      "Covarianza: -268053.3716412471\n"
     ]
    }
   ],
   "source": [
    "print(f\"Covarianza: {covariance}\")"
   ]
  },
  {
   "cell_type": "markdown",
   "id": "76cbf724-c86c-4f0c-9e0a-ecc8375389d1",
   "metadata": {},
   "source": [
    "---"
   ]
  },
  {
   "cell_type": "markdown",
   "id": "7111d09e-c8ca-420c-b397-773db8f18a26",
   "metadata": {},
   "source": [
    "## 2. Teoría de la Probabilidad"
   ]
  },
  {
   "cell_type": "markdown",
   "id": "9b6879a1-8314-44af-bc15-bf03367f855b",
   "metadata": {
    "jp-MarkdownHeadingCollapsed": true
   },
   "source": [
    "### 2.1 Predicciones Simples"
   ]
  },
  {
   "cell_type": "markdown",
   "id": "dfef27c3-4fc9-46d7-a924-5760936cd28b",
   "metadata": {},
   "source": [
    "<script type=\"text/javascript\" async\n",
    "  src=\"https://cdnjs.cloudflare.com/ajax/libs/mathjax/2.7.7/MathJax.js?config=TeX-MML-AM_CHTML\">\n",
    "</script>\n",
    "\n",
    "<p>La probabilidad mide la posibilidad de que ocurra un evento. Se calcula como:</p>\n",
    "<p>\n",
    "  \\[ P(A) = \\frac{\\text{Número de casos favorables}}{\\text{Número total de casos}} \\]\n",
    "</p>\n"
   ]
  },
  {
   "cell_type": "code",
   "execution_count": null,
   "id": "40410c02-a685-4322-81cc-c4b66feb5678",
   "metadata": {},
   "outputs": [],
   "source": []
  },
  {
   "cell_type": "code",
   "execution_count": 24,
   "id": "95211f8a-ca9e-43b5-907f-ab3162c2ebd1",
   "metadata": {},
   "outputs": [
    {
     "name": "stdout",
     "output_type": "stream",
     "text": [
      "Probabilidad de que el aguacate sea 'organic': 0.49991780371527206\n"
     ]
    }
   ],
   "source": [
    "# Probabilidad de que el tipo sea \"organic\"\n",
    "organic_count = len(data[data['type'] == 'organic'])\n",
    "total_count = len(data)\n",
    "probability = organic_count / total_count\n",
    "\n",
    "print(f\"Probabilidad de que el aguacate sea 'organic': {probability}\")"
   ]
  },
  {
   "cell_type": "markdown",
   "id": "515d86c4-f98d-431c-a810-adcd1a34724d",
   "metadata": {
    "jp-MarkdownHeadingCollapsed": true
   },
   "source": [
    "### 2.2 Combinatoria y Distribución Binomial"
   ]
  },
  {
   "cell_type": "markdown",
   "id": "0d9d5aa0-622f-4f13-add4-ddc1f78cc88e",
   "metadata": {},
   "source": [
    "**Teoría:**\n",
    "- **Factoriales:** Utilizados para calcular combinaciones y permutaciones.\n",
    "- **Combinaciones:** Número de formas de seleccionar elementos sin importar el orden.\n",
    "- **Distribución binomial:** Modela la probabilidad de un número fijo de éxitos en intentos independientes."
   ]
  },
  {
   "cell_type": "code",
   "execution_count": 26,
   "id": "8416f558-fe74-4f51-a612-9e121f276b2d",
   "metadata": {},
   "outputs": [
    {
     "name": "stdout",
     "output_type": "stream",
     "text": [
      "Combinaciones: 10.0\n"
     ]
    }
   ],
   "source": [
    "# Calcular factorial\n",
    "n = 5\n",
    "k = 3\n",
    "combinations = factorial(n) / (factorial(k) * factorial(n-k))\n",
    "print(f\"Combinaciones: {combinations}\")"
   ]
  },
  {
   "cell_type": "code",
   "execution_count": 25,
   "id": "3743baa0-be6b-47af-bfc9-04ef85e845c6",
   "metadata": {},
   "outputs": [
    {
     "name": "stdout",
     "output_type": "stream",
     "text": [
      "Probabilidad binomial: 0.0826713508623046\n"
     ]
    }
   ],
   "source": [
    "# Probabilidad binomial\n",
    "p = 0.6\n",
    "q = 0.4\n",
    "n = 80\n",
    "k = 50\n",
    "probability = factorial(n) / (factorial(k) * factorial(n-k)) * (p ** k) * (q ** (n-k))\n",
    "print(f\"Probabilidad binomial: {probability}\")"
   ]
  },
  {
   "cell_type": "markdown",
   "id": "6eb780a1-8c31-48c5-90ac-842fc06ed458",
   "metadata": {},
   "source": [
    "---"
   ]
  },
  {
   "cell_type": "markdown",
   "id": "666a82a4-9a62-4e92-b1dc-e2ffb7135aa4",
   "metadata": {
    "jp-MarkdownHeadingCollapsed": true
   },
   "source": [
    "### 2.3 Distribución Normal"
   ]
  },
  {
   "cell_type": "markdown",
   "id": "d4966f3a-27d0-4ae5-9959-6481f885d66f",
   "metadata": {},
   "source": [
    "**Teoría:**\n",
    "La distribución normal es simétrica y se caracteriza por su media y desviación estándar. Es útil para modelar muchos fenómenos naturales."
   ]
  },
  {
   "cell_type": "code",
   "execution_count": 29,
   "id": "92a270f7-6b40-4e46-9911-bd7cc61b57df",
   "metadata": {},
   "outputs": [
    {
     "name": "stdout",
     "output_type": "stream",
     "text": [
      "Probabilidad de más de 111000 visitantes: 0.0013498980316301035\n",
      "Probabilidad de menos de 92000 visitantes: 0.0075792194387197245\n"
     ]
    }
   ],
   "source": [
    "mu = 100500\n",
    "sigma = 3500\n",
    "more_threshold = 111000\n",
    "fewer_threshold = 92000\n",
    "\n",
    "p_more_visitors = 1 - st.norm(mu, sigma).cdf(more_threshold)\n",
    "p_fewer_visitors = st.norm(mu, sigma).cdf(fewer_threshold)\n",
    "\n",
    "print(f\"Probabilidad de más de {more_threshold} visitantes: {p_more_visitors}\")\n",
    "print(f\"Probabilidad de menos de {fewer_threshold} visitantes: {p_fewer_visitors}\")"
   ]
  },
  {
   "cell_type": "markdown",
   "id": "e718e6ed-b498-495a-8473-2e4c6585f5a3",
   "metadata": {},
   "source": [
    "## 3. Pruebas de Hipótesis"
   ]
  },
  {
   "cell_type": "markdown",
   "id": "d3fd9291-1e7d-4f54-9114-fd2ed2d4b63a",
   "metadata": {
    "jp-MarkdownHeadingCollapsed": true
   },
   "source": [
    "### 3.1 Teorema del Límite Central"
   ]
  },
  {
   "cell_type": "markdown",
   "id": "6f2a7daa-d7f6-4382-b365-8bb76aaf80a0",
   "metadata": {},
   "source": [
    "**Teoría:**\n",
    "El Teorema del Límite Central establece que la distribución de la media de una muestra aleatoria de datos se aproxima a una distribución normal a medida que el tamaño de la muestra aumenta.\n"
   ]
  },
  {
   "cell_type": "code",
   "execution_count": 30,
   "id": "6a230ccc-1800-4fb7-ba71-c054cf8edc25",
   "metadata": {},
   "outputs": [
    {
     "data": {
      "image/png": "[encoded data removed]",
      "text/plain": [
       "<Figure size 640x480 with 1 Axes>"
      ]
     },
     "metadata": {},
     "output_type": "display_data"
    }
   ],
   "source": [
    "sample_means = [data['AveragePrice'].sample(50).mean() for _ in range(1000)]\n",
    "plt.hist(sample_means, bins=30, alpha=0.7)\n",
    "plt.title('Distribución de Medias Muestrales')\n",
    "plt.xlabel('Media Muestral')\n",
    "plt.ylabel('Frecuencia')\n",
    "plt.show()"
   ]
  },
  {
   "cell_type": "markdown",
   "id": "a408a784-ce0e-4f00-b457-5b5ca37005aa",
   "metadata": {
    "jp-MarkdownHeadingCollapsed": true
   },
   "source": [
    "### 3.2 Hipótesis de Dos Colas y Una Cola"
   ]
  },
  {
   "cell_type": "markdown",
   "id": "cfe9859a-e33e-410d-af15-bfd50563adc2",
   "metadata": {},
   "source": [
    "**Teoría:**\n",
    "Las hipótesis de dos colas evalúan si una medida es diferente de un valor específico, mientras que las de una cola evalúan si es mayor o menor."
   ]
  },
  {
   "cell_type": "code",
   "execution_count": 31,
   "id": "a7befd9f-66c7-4338-b689-34a25d2baa57",
   "metadata": {},
   "outputs": [
    {
     "name": "stdout",
     "output_type": "stream",
     "text": [
      "Valor p (dos colas): 1.1403055379420951e-212\n",
      "No podemos rechazar la hipótesis nula (una cola)\n"
     ]
    }
   ],
   "source": [
    "# Prueba de dos colas\n",
    "hypothesis_value = 1.5\n",
    "alpha = 0.05\n",
    "results = stats.ttest_1samp(data['AveragePrice'], hypothesis_value)\n",
    "print(f\"Valor p (dos colas): {results.pvalue}\")\n",
    "\n",
    "# Prueba de una cola\n",
    "if results.pvalue / 2 < alpha and data['AveragePrice'].mean() > hypothesis_value:\n",
    "    print(\"Rechazamos la hipótesis nula (una cola)\")\n",
    "else:\n",
    "    print(\"No podemos rechazar la hipótesis nula (una cola)\")"
   ]
  },
  {
   "cell_type": "markdown",
   "id": "5b89788b-de55-40cf-b107-cc780ce7e3fb",
   "metadata": {
    "jp-MarkdownHeadingCollapsed": true
   },
   "source": [
    "### 3.3 Comparación de Medias"
   ]
  },
  {
   "cell_type": "markdown",
   "id": "5edca355-bfba-4c05-ba24-c3c79ec5873d",
   "metadata": {},
   "source": [
    "**Teoría:**\n",
    "Se compara la media de dos grupos independientes o emparejados para evaluar diferencias significativas."
   ]
  },
  {
   "cell_type": "code",
   "execution_count": 32,
   "id": "f842a731-82ef-4c18-8de7-782eb82a97f7",
   "metadata": {},
   "outputs": [
    {
     "name": "stdout",
     "output_type": "stream",
     "text": [
      "Valor p: 0.0\n",
      "Rechazamos la hipótesis nula: las medias son diferentes.\n"
     ]
    }
   ],
   "source": [
    "# Comparación de medias de dos grupos independientes\n",
    "results = stats.ttest_ind(data[data['type'] == 'organic']['AveragePrice'],\n",
    "                          data[data['type'] == 'conventional']['AveragePrice'])\n",
    "\n",
    "print(f\"Valor p: {results.pvalue}\")\n",
    "if results.pvalue < alpha:\n",
    "    print(\"Rechazamos la hipótesis nula: las medias son diferentes.\")\n",
    "else:\n",
    "    print(\"No podemos rechazar la hipótesis nula: las medias no son significativamente diferentes.\")"
   ]
  },
  {
   "cell_type": "code",
   "execution_count": null,
   "id": "8b8368bb-cf08-46ee-9c07-3513193c0f35",
   "metadata": {
    "collapsed": true,
    "jupyter": {
     "outputs_hidden": true
    }
   },
   "outputs": [],
   "source": []
  }
 ],
 "metadata": {
  "kernelspec": {
   "display_name": "Python 3 (ipykernel)",
   "language": "python",
   "name": "python3"
  },
  "language_info": {
   "codemirror_mode": {
    "name": "ipython",
    "version": 3
   },
   "file_extension": ".py",
   "mimetype": "text/x-python",
   "name": "python",
   "nbconvert_exporter": "python",
   "pygments_lexer": "ipython3",
   "version": "3.12.7"
  }
 },
 "nbformat": 4,
 "nbformat_minor": 5
}
