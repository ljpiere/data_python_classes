{
 "cells": [
  {
   "cell_type": "markdown",
   "id": "f2fba03c-45df-4292-bb5e-ccf8208a8059",
   "metadata": {},
   "source": [
    "# Sprint 5 - Análisis Estadístico de Datos"
   ]
  },
  {
   "cell_type": "markdown",
   "id": "6acb440a-0788-4e0a-9f4c-4be78fde071e",
   "metadata": {
    "jp-MarkdownHeadingCollapsed": true
   },
   "source": [
    "## Objetivos"
   ]
  },
  {
   "cell_type": "markdown",
   "id": "789d160c-465b-42a3-863f-ab2f4c804657",
   "metadata": {},
   "source": [
    "1. Comprender los conceptos básicos de estadística descriptiva y aplicarlos en conjuntos de datos.\n",
    "2. Explorar la teoría de la probabilidad mediante ejemplos prácticos.\n",
    "3. Realizar pruebas de hipótesis usando Python."
   ]
  },
  {
   "cell_type": "markdown",
   "id": "d4b3c73f-32d8-455c-b4c6-274f6ee3d876",
   "metadata": {},
   "source": [
    "---"
   ]
  },
  {
   "cell_type": "markdown",
   "id": "e3c51d09-6da2-4673-abaf-21a8eb7d6891",
   "metadata": {
    "jp-MarkdownHeadingCollapsed": true
   },
   "source": [
    "## Esa vieja sensación familiar..."
   ]
  },
  {
   "cell_type": "code",
   "execution_count": 28,
   "id": "c329f359-eaf9-41f4-b137-c36a6e7078a8",
   "metadata": {
    "collapsed": true,
    "jupyter": {
     "outputs_hidden": true
    }
   },
   "outputs": [],
   "source": [
    "import pandas as pd\n",
    "import numpy as np\n",
    "import matplotlib.pyplot as plt\n",
    "from math import factorial\n",
    "from scipy import stats\n",
    "from scipy import stats as st"
   ]
  },
  {
   "cell_type": "markdown",
   "id": "acd9e5e9-8dc2-4df8-ac11-e11db0691387",
   "metadata": {
    "jp-MarkdownHeadingCollapsed": true
   },
   "source": [
    "## 0. ¿Y si hablamos sobre el aguacate?"
   ]
  },
  {
   "cell_type": "markdown",
   "id": "0cdd863b-947e-409f-9fba-b13fd87a9e04",
   "metadata": {},
   "source": [
    "<div style=\"text-align: center;\">\n",
    "    <img src=\"cate.jpg\" alt=\"Taylor Swift\" style=\"width:50%;\"/>\n",
    "</div>"
   ]
  },
  {
   "cell_type": "code",
   "execution_count": 4,
   "id": "5b007b90-778b-46f5-97dc-f254f06f7ea1",
   "metadata": {
    "collapsed": true,
    "jupyter": {
     "outputs_hidden": true
    }
   },
   "outputs": [],
   "source": [
    "data =pd.read_csv('avocado.csv')"
   ]
  },
  {
   "cell_type": "code",
   "execution_count": 5,
   "id": "d2313932-e38f-47a5-a2b7-fdcc81bdebce",
   "metadata": {
    "collapsed": true,
    "jupyter": {
     "outputs_hidden": true
    }
   },
   "outputs": [
    {
     "data": {
      "text/html": [
       "<div>\n",
       "<style scoped>\n",
       "    .dataframe tbody tr th:only-of-type {\n",
       "        vertical-align: middle;\n",
       "    }\n",
       "\n",
       "    .dataframe tbody tr th {\n",
       "        vertical-align: top;\n",
       "    }\n",
       "\n",
       "    .dataframe thead th {\n",
       "        text-align: right;\n",
       "    }\n",
       "</style>\n",
       "<table border=\"1\" class=\"dataframe\">\n",
       "  <thead>\n",
       "    <tr style=\"text-align: right;\">\n",
       "      <th></th>\n",
       "      <th>Unnamed: 0</th>\n",
       "      <th>Date</th>\n",
       "      <th>AveragePrice</th>\n",
       "      <th>Total Volume</th>\n",
       "      <th>4046</th>\n",
       "      <th>4225</th>\n",
       "      <th>4770</th>\n",
       "      <th>Total Bags</th>\n",
       "      <th>Small Bags</th>\n",
       "      <th>Large Bags</th>\n",
       "      <th>XLarge Bags</th>\n",
       "      <th>type</th>\n",
       "      <th>year</th>\n",
       "      <th>region</th>\n",
       "    </tr>\n",
       "  </thead>\n",
       "  <tbody>\n",
       "    <tr>\n",
       "      <th>0</th>\n",
       "      <td>0</td>\n",
       "      <td>2015-12-27</td>\n",
       "      <td>1.33</td>\n",
       "      <td>64236.62</td>\n",
       "      <td>1036.74</td>\n",
       "      <td>54454.85</td>\n",
       "      <td>48.16</td>\n",
       "      <td>8696.87</td>\n",
       "      <td>8603.62</td>\n",
       "      <td>93.25</td>\n",
       "      <td>0.0</td>\n",
       "      <td>conventional</td>\n",
       "      <td>2015</td>\n",
       "      <td>Albany</td>\n",
       "    </tr>\n",
       "    <tr>\n",
       "      <th>1</th>\n",
       "      <td>1</td>\n",
       "      <td>2015-12-20</td>\n",
       "      <td>1.35</td>\n",
       "      <td>54876.98</td>\n",
       "      <td>674.28</td>\n",
       "      <td>44638.81</td>\n",
       "      <td>58.33</td>\n",
       "      <td>9505.56</td>\n",
       "      <td>9408.07</td>\n",
       "      <td>97.49</td>\n",
       "      <td>0.0</td>\n",
       "      <td>conventional</td>\n",
       "      <td>2015</td>\n",
       "      <td>Albany</td>\n",
       "    </tr>\n",
       "    <tr>\n",
       "      <th>2</th>\n",
       "      <td>2</td>\n",
       "      <td>2015-12-13</td>\n",
       "      <td>0.93</td>\n",
       "      <td>118220.22</td>\n",
       "      <td>794.70</td>\n",
       "      <td>109149.67</td>\n",
       "      <td>130.50</td>\n",
       "      <td>8145.35</td>\n",
       "      <td>8042.21</td>\n",
       "      <td>103.14</td>\n",
       "      <td>0.0</td>\n",
       "      <td>conventional</td>\n",
       "      <td>2015</td>\n",
       "      <td>Albany</td>\n",
       "    </tr>\n",
       "    <tr>\n",
       "      <th>3</th>\n",
       "      <td>3</td>\n",
       "      <td>2015-12-06</td>\n",
       "      <td>1.08</td>\n",
       "      <td>78992.15</td>\n",
       "      <td>1132.00</td>\n",
       "      <td>71976.41</td>\n",
       "      <td>72.58</td>\n",
       "      <td>5811.16</td>\n",
       "      <td>5677.40</td>\n",
       "      <td>133.76</td>\n",
       "      <td>0.0</td>\n",
       "      <td>conventional</td>\n",
       "      <td>2015</td>\n",
       "      <td>Albany</td>\n",
       "    </tr>\n",
       "    <tr>\n",
       "      <th>4</th>\n",
       "      <td>4</td>\n",
       "      <td>2015-11-29</td>\n",
       "      <td>1.28</td>\n",
       "      <td>51039.60</td>\n",
       "      <td>941.48</td>\n",
       "      <td>43838.39</td>\n",
       "      <td>75.78</td>\n",
       "      <td>6183.95</td>\n",
       "      <td>5986.26</td>\n",
       "      <td>197.69</td>\n",
       "      <td>0.0</td>\n",
       "      <td>conventional</td>\n",
       "      <td>2015</td>\n",
       "      <td>Albany</td>\n",
       "    </tr>\n",
       "  </tbody>\n",
       "</table>\n",
       "</div>"
      ],
      "text/plain": [
       "   Unnamed: 0        Date  AveragePrice  Total Volume     4046       4225  \\\n",
       "0           0  2015-12-27          1.33      64236.62  1036.74   54454.85   \n",
       "1           1  2015-12-20          1.35      54876.98   674.28   44638.81   \n",
       "2           2  2015-12-13          0.93     118220.22   794.70  109149.67   \n",
       "3           3  2015-12-06          1.08      78992.15  1132.00   71976.41   \n",
       "4           4  2015-11-29          1.28      51039.60   941.48   43838.39   \n",
       "\n",
       "     4770  Total Bags  Small Bags  Large Bags  XLarge Bags          type  \\\n",
       "0   48.16     8696.87     8603.62       93.25          0.0  conventional   \n",
       "1   58.33     9505.56     9408.07       97.49          0.0  conventional   \n",
       "2  130.50     8145.35     8042.21      103.14          0.0  conventional   \n",
       "3   72.58     5811.16     5677.40      133.76          0.0  conventional   \n",
       "4   75.78     6183.95     5986.26      197.69          0.0  conventional   \n",
       "\n",
       "   year  region  \n",
       "0  2015  Albany  \n",
       "1  2015  Albany  \n",
       "2  2015  Albany  \n",
       "3  2015  Albany  \n",
       "4  2015  Albany  "
      ]
     },
     "execution_count": 5,
     "metadata": {},
     "output_type": "execute_result"
    }
   ],
   "source": [
    "data.head()"
   ]
  },
  {
   "cell_type": "markdown",
   "id": "d7e05b6f-0133-4fa0-b71b-4a81e1e978c1",
   "metadata": {},
   "source": [
    "## 1. Estadística Descriptiva"
   ]
  },
  {
   "cell_type": "markdown",
   "id": "6dc010ca-fe6a-463c-9102-f8a57256e30d",
   "metadata": {
    "jp-MarkdownHeadingCollapsed": true
   },
   "source": [
    "### 1.1 Tipos de Variables"
   ]
  },
  {
   "cell_type": "markdown",
   "id": "41a8f243-a5e6-422f-8bcb-28907665f6a7",
   "metadata": {},
   "source": [
    "**Teoría:**\n",
    "- **Cuantitativas:** Representan cantidades y se pueden medir numéricamente. Ejemplo: Precio promedio.\n",
    "- **Cualitativas:** Representan categorías o atributos. Ejemplo: Tipo de aguacate (\"conventional\" o \"organic\").\n",
    "- **Discretas:** Variables cuantitativas que solo toman valores enteros. Ejemplo: Año.\n",
    "- **Continuas:** Variables cuantitativas que pueden tomar cualquier valor dentro de un rango. Ejemplo: Precio promedio."
   ]
  },
  {
   "cell_type": "markdown",
   "id": "d3f7603c-5838-4d27-9d9e-73ae0c767bae",
   "metadata": {},
   "source": [
    "**Práctica:**"
   ]
  },
  {
   "cell_type": "code",
   "execution_count": 6,
   "id": "80d56cc7-bef6-49a6-a2d1-939c30cbd9ec",
   "metadata": {
    "collapsed": true,
    "jupyter": {
     "outputs_hidden": true
    }
   },
   "outputs": [
    {
     "name": "stdout",
     "output_type": "stream",
     "text": [
      "Tipos de datos:\n",
      "Unnamed: 0        int64\n",
      "Date             object\n",
      "AveragePrice    float64\n",
      "Total Volume    float64\n",
      "4046            float64\n",
      "4225            float64\n",
      "4770            float64\n",
      "Total Bags      float64\n",
      "Small Bags      float64\n",
      "Large Bags      float64\n",
      "XLarge Bags     float64\n",
      "type             object\n",
      "year              int64\n",
      "region           object\n",
      "dtype: object\n"
     ]
    }
   ],
   "source": [
    "# Ejemplo con datos del archivo cargado\n",
    "print(\"Tipos de datos:\")\n",
    "print(data.dtypes)"
   ]
  },
  {
   "cell_type": "code",
   "execution_count": 7,
   "id": "8b95f947-2feb-44ed-a142-a72014ad69e2",
   "metadata": {
    "collapsed": true,
    "jupyter": {
     "outputs_hidden": true
    }
   },
   "outputs": [
    {
     "name": "stdout",
     "output_type": "stream",
     "text": [
      "Tipos de aguacate:\n",
      "type\n",
      "conventional    9126\n",
      "organic         9123\n",
      "Name: count, dtype: int64\n"
     ]
    }
   ],
   "source": [
    "# Ejemplo de conteo de valores para variables cualitativas\n",
    "print(\"Tipos de aguacate:\")\n",
    "print(data['type'].value_counts())"
   ]
  },
  {
   "cell_type": "markdown",
   "id": "7ca9e207-6d2d-4f31-8c72-dee21ec0813c",
   "metadata": {
    "jp-MarkdownHeadingCollapsed": true
   },
   "source": [
    "### 1.2 Histogramas de Frecuencia"
   ]
  },
  {
   "cell_type": "markdown",
   "id": "2315482e-6abb-4fa9-89fe-64c21f43f839",
   "metadata": {},
   "source": [
    "**Teoría:**\n",
    "Los histogramas muestran la distribución de una variable cuantitativa dividiendo los datos en intervalos (\"bins\")."
   ]
  },
  {
   "cell_type": "code",
   "execution_count": 12,
   "id": "7220aae1-c682-4953-bc5b-aa8701922721",
   "metadata": {
    "collapsed": true,
    "jupyter": {
     "outputs_hidden": true
    }
   },
   "outputs": [],
   "source": [
    "# Crear histogramas con diferentes configuraciones de bins"
   ]
  },
  {
   "cell_type": "code",
   "execution_count": 15,
   "id": "f8ba8d5a-488b-4efa-b5b4-f26d77322705",
   "metadata": {
    "collapsed": true,
    "jupyter": {
     "outputs_hidden": true
    }
   },
   "outputs": [
    {
     "data": {
      "image/png": "[encoded data removed]",
      "text/plain": [
       "<Figure size 640x480 with 1 Axes>"
      ]
     },
     "metadata": {},
     "output_type": "display_data"
    }
   ],
   "source": [
    "# Primera configuración\n",
    "plt.subplot(1, 3, 1)\n",
    "plt.hist(data['AveragePrice'], bins=[0.5, 1.0, 1.5, 2.0, 2.5, 3.0], alpha=0.7)\n",
    "plt.title('Histograma 1')\n",
    "\n",
    "plt.show()"
   ]
  },
  {
   "cell_type": "code",
   "execution_count": 16,
   "id": "d1fdcec6-c7df-4a99-a4dd-7fc2fedd56e6",
   "metadata": {
    "collapsed": true,
    "jupyter": {
     "outputs_hidden": true
    }
   },
   "outputs": [
    {
     "data": {
      "image/png": "[encoded data removed]",
      "text/plain": [
       "<Figure size 640x480 with 1 Axes>"
      ]
     },
     "metadata": {},
     "output_type": "display_data"
    }
   ],
   "source": [
    "# Segunda configuración\n",
    "plt.subplot(1, 3, 2)\n",
    "plt.hist(data['AveragePrice'], bins=[0.5, 1.25, 2.0, 2.75, 3.5], alpha=0.7)\n",
    "plt.title('Histograma 2')\n",
    "\n",
    "plt.show()"
   ]
  },
  {
   "cell_type": "code",
   "execution_count": 17,
   "id": "ab950806-e065-4545-98c0-d96d70dfe835",
   "metadata": {
    "collapsed": true,
    "jupyter": {
     "outputs_hidden": true
    }
   },
   "outputs": [
    {
     "data": {
      "image/png": "[encoded data removed]",
      "text/plain": [
       "<Figure size 640x480 with 1 Axes>"
      ]
     },
     "metadata": {},
     "output_type": "display_data"
    }
   ],
   "source": [
    "# Tercera configuración\n",
    "plt.subplot(1, 3, 3)\n",
    "plt.hist(data['AveragePrice'], bins=[0.5, 1.5, 2.5, 3.5], alpha=0.7)\n",
    "plt.title('Histograma 3')\n",
    "\n",
    "plt.show()"
   ]
  },
  {
   "cell_type": "markdown",
   "id": "deceb167-e048-41ea-9942-a51ae3e1a5d7",
   "metadata": {
    "jp-MarkdownHeadingCollapsed": true
   },
   "source": [
    "### 1.3 Boxplots"
   ]
  },
  {
   "cell_type": "markdown",
   "id": "221894a3-61ea-47ce-8682-6eed93aa62d4",
   "metadata": {},
   "source": [
    "**Teoría:**\n",
    "Un boxplot resume la distribución de los datos mediante cinco números clave: mínimo, primer cuartil, mediana, tercer cuartil y máximo. También identifica valores atípicos.\n",
    "\n"
   ]
  },
  {
   "cell_type": "code",
   "execution_count": 18,
   "id": "bf7dcb46-3a0a-4def-8ca3-938201dac907",
   "metadata": {
    "collapsed": true,
    "jupyter": {
     "outputs_hidden": true
    }
   },
   "outputs": [
    {
     "data": {
      "image/png": "[encoded data removed]",
      "text/plain": [
       "<Figure size 640x480 with 1 Axes>"
      ]
     },
     "metadata": {},
     "output_type": "display_data"
    }
   ],
   "source": [
    "# Crear un boxplot del precio promedio\n",
    "plt.boxplot(data['AveragePrice'])\n",
    "plt.title('Boxplot de Precio Promedio')\n",
    "plt.ylabel('Precio Promedio')\n",
    "plt.show()"
   ]
  },
  {
   "cell_type": "markdown",
   "id": "74dc8eae-b0e6-416e-a134-d6b914becc26",
   "metadata": {},
   "source": [
    "_¿Recuerdas formatear texto?_"
   ]
  },
  {
   "cell_type": "code",
   "execution_count": 19,
   "id": "e0fbbd58-59ea-425b-aa35-15cdf7635bed",
   "metadata": {
    "collapsed": true,
    "jupyter": {
     "outputs_hidden": true
    }
   },
   "outputs": [
    {
     "name": "stdout",
     "output_type": "stream",
     "text": [
      "Distancia media a la media: 4.983805697698111e-17\n"
     ]
    }
   ],
   "source": [
    "# Cálculo adicional: distancia media a la media\n",
    "mean_value = data['AveragePrice'].mean()\n",
    "spacing_all = data['AveragePrice'] - mean_value\n",
    "spacing_all_mean = spacing_all.mean()\n",
    "\n",
    "print(f\"Distancia media a la media: {spacing_all_mean}\")"
   ]
  },
  {
   "cell_type": "markdown",
   "id": "be84945d-3560-4c10-b50e-98a33fc51f1b",
   "metadata": {
    "jp-MarkdownHeadingCollapsed": true
   },
   "source": [
    "### 1.4 Varianza, Covarianza y Desviación Estándar\n"
   ]
  },
  {
   "cell_type": "markdown",
   "id": "a5319e7f-3b37-414c-84c6-e0dce90bda0d",
   "metadata": {},
   "source": [
    "**Teoría:**\n",
    "- **Varianza:** Mide cuánta variación hay en los datos.\n",
    "- **Desviación estándar:** Es la raíz cuadrada de la varianza y representa la dispersión de los datos respecto a la media.\n",
    "- **Covarianza:** Indica cómo dos variables cambian juntas."
   ]
  },
  {
   "cell_type": "code",
   "execution_count": 20,
   "id": "795eabef-e101-4840-8993-7af824b80345",
   "metadata": {
    "collapsed": true,
    "jupyter": {
     "outputs_hidden": true
    }
   },
   "outputs": [],
   "source": [
    "# Calcular la varianza y desviación estándar\n",
    "variance = np.var(data['AveragePrice'])\n",
    "std_deviation = np.std(data['AveragePrice'])"
   ]
  },
  {
   "cell_type": "code",
   "execution_count": 21,
   "id": "c7b5f55c-64c4-46b4-9fb5-697df7701f04",
   "metadata": {
    "collapsed": true,
    "jupyter": {
     "outputs_hidden": true
    }
   },
   "outputs": [],
   "source": [
    "# Calcular la covarianza entre precio promedio y volumen total\n",
    "covariance_matrix = np.cov(data['AveragePrice'], data['Total Volume'])\n",
    "covariance = covariance_matrix[0][1]"
   ]
  },
  {
   "cell_type": "code",
   "execution_count": 22,
   "id": "5daa4599-746c-467f-8722-1cc3f934d06c",
   "metadata": {
    "collapsed": true,
    "jupyter": {
     "outputs_hidden": true
    }
   },
   "outputs": [
    {
     "name": "stdout",
     "output_type": "stream",
     "text": [
      "Varianza: 0.16213952301460038\n",
      "Desviación Estándar: 0.40266552250546656\n",
      "Covarianza: -268053.3716412471\n"
     ]
    }
   ],
   "source": [
    "print(f\"Varianza: {variance}\")\n",
    "print(f\"Desviación Estándar: {std_deviation}\")\n",
    "print(f\"Covarianza: {covariance}\")"
   ]
  },
  {
   "cell_type": "markdown",
   "id": "76cbf724-c86c-4f0c-9e0a-ecc8375389d1",
   "metadata": {},
   "source": [
    "---"
   ]
  },
  {
   "cell_type": "markdown",
   "id": "7111d09e-c8ca-420c-b397-773db8f18a26",
   "metadata": {},
   "source": [
    "## 2. Teoría de la Probabilidad"
   ]
  },
  {
   "cell_type": "markdown",
   "id": "9b6879a1-8314-44af-bc15-bf03367f855b",
   "metadata": {
    "jp-MarkdownHeadingCollapsed": true
   },
   "source": [
    "### 2.1 Predicciones Simples"
   ]
  },
  {
   "cell_type": "markdown",
   "id": "dfef27c3-4fc9-46d7-a924-5760936cd28b",
   "metadata": {},
   "source": [
    "<script type=\"text/javascript\" async\n",
    "  src=\"https://cdnjs.cloudflare.com/ajax/libs/mathjax/2.7.7/MathJax.js?config=TeX-MML-AM_CHTML\">\n",
    "</script>\n",
    "\n",
    "<p>La probabilidad mide la posibilidad de que ocurra un evento. Se calcula como:</p>\n",
    "<p>\n",
    "  \\[ P(A) = \\frac{\\text{Número de casos favorables}}{\\text{Número total de casos}} \\]\n",
    "</p>\n"
   ]
  },
  {
   "cell_type": "code",
   "execution_count": 23,
   "id": "95211f8a-ca9e-43b5-907f-ab3162c2ebd1",
   "metadata": {
    "collapsed": true,
    "jupyter": {
     "outputs_hidden": true
    }
   },
   "outputs": [
    {
     "name": "stdout",
     "output_type": "stream",
     "text": [
      "Probabilidad de que el aguacate sea 'organic': 0.49991780371527206\n"
     ]
    }
   ],
   "source": [
    "# Probabilidad de que el tipo sea \"organic\"\n",
    "organic_count = len(data[data['type'] == 'organic'])\n",
    "total_count = len(data)\n",
    "probability = organic_count / total_count\n",
    "\n",
    "print(f\"Probabilidad de que el aguacate sea 'organic': {probability}\")"
   ]
  },
  {
   "cell_type": "markdown",
   "id": "515d86c4-f98d-431c-a810-adcd1a34724d",
   "metadata": {
    "jp-MarkdownHeadingCollapsed": true
   },
   "source": [
    "### 2.2 Combinatoria y Distribución Binomial"
   ]
  },
  {
   "cell_type": "markdown",
   "id": "0d9d5aa0-622f-4f13-add4-ddc1f78cc88e",
   "metadata": {},
   "source": [
    "**Teoría:**\n",
    "- **Factoriales:** Utilizados para calcular combinaciones y permutaciones.\n",
    "- **Combinaciones:** Número de formas de seleccionar elementos sin importar el orden.\n",
    "- **Distribución binomial:** Modela la probabilidad de un número fijo de éxitos en intentos independientes."
   ]
  },
  {
   "cell_type": "code",
   "execution_count": 24,
   "id": "8416f558-fe74-4f51-a612-9e121f276b2d",
   "metadata": {
    "collapsed": true,
    "jupyter": {
     "outputs_hidden": true
    }
   },
   "outputs": [
    {
     "name": "stdout",
     "output_type": "stream",
     "text": [
      "Combinaciones: 10.0\n"
     ]
    }
   ],
   "source": [
    "# Calcular factorial\n",
    "n = 5\n",
    "k = 3\n",
    "combinations = factorial(n) / (factorial(k) * factorial(n-k))\n",
    "print(f\"Combinaciones: {combinations}\")"
   ]
  },
  {
   "cell_type": "code",
   "execution_count": 25,
   "id": "3743baa0-be6b-47af-bfc9-04ef85e845c6",
   "metadata": {
    "collapsed": true,
    "jupyter": {
     "outputs_hidden": true
    }
   },
   "outputs": [
    {
     "name": "stdout",
     "output_type": "stream",
     "text": [
      "Probabilidad binomial: 0.0826713508623046\n"
     ]
    }
   ],
   "source": [
    "# Probabilidad binomial\n",
    "p = 0.6\n",
    "q = 0.4\n",
    "n = 80\n",
    "k = 50\n",
    "probability = factorial(n) / (factorial(k) * factorial(n-k)) * (p ** k) * (q ** (n-k))\n",
    "print(f\"Probabilidad binomial: {probability}\")"
   ]
  },
  {
   "cell_type": "markdown",
   "id": "6eb780a1-8c31-48c5-90ac-842fc06ed458",
   "metadata": {},
   "source": [
    "---"
   ]
  },
  {
   "cell_type": "markdown",
   "id": "666a82a4-9a62-4e92-b1dc-e2ffb7135aa4",
   "metadata": {
    "jp-MarkdownHeadingCollapsed": true
   },
   "source": [
    "### 2.3 Distribución Normal"
   ]
  },
  {
   "cell_type": "markdown",
   "id": "d4966f3a-27d0-4ae5-9959-6481f885d66f",
   "metadata": {},
   "source": [
    "**Teoría:**\n",
    "La distribución normal es simétrica y se caracteriza por su media y desviación estándar. Es útil para modelar muchos fenómenos naturales."
   ]
  },
  {
   "cell_type": "code",
   "execution_count": 29,
   "id": "92a270f7-6b40-4e46-9911-bd7cc61b57df",
   "metadata": {
    "collapsed": true,
    "jupyter": {
     "outputs_hidden": true
    }
   },
   "outputs": [
    {
     "name": "stdout",
     "output_type": "stream",
     "text": [
      "Probabilidad de más de 111000 visitantes: 0.0013498980316301035\n",
      "Probabilidad de menos de 92000 visitantes: 0.0075792194387197245\n"
     ]
    }
   ],
   "source": [
    "mu = 100500\n",
    "sigma = 3500\n",
    "more_threshold = 111000\n",
    "fewer_threshold = 92000\n",
    "\n",
    "p_more_visitors = 1 - st.norm(mu, sigma).cdf(more_threshold)\n",
    "p_fewer_visitors = st.norm(mu, sigma).cdf(fewer_threshold)\n",
    "\n",
    "print(f\"Probabilidad de más de {more_threshold} visitantes: {p_more_visitors}\")\n",
    "print(f\"Probabilidad de menos de {fewer_threshold} visitantes: {p_fewer_visitors}\")"
   ]
  },
  {
   "cell_type": "markdown",
   "id": "e718e6ed-b498-495a-8473-2e4c6585f5a3",
   "metadata": {},
   "source": [
    "## 3. Pruebas de Hipótesis"
   ]
  },
  {
   "cell_type": "markdown",
   "id": "d3fd9291-1e7d-4f54-9114-fd2ed2d4b63a",
   "metadata": {
    "jp-MarkdownHeadingCollapsed": true
   },
   "source": [
    "### 3.1 Teorema del Límite Central"
   ]
  },
  {
   "cell_type": "markdown",
   "id": "6f2a7daa-d7f6-4382-b365-8bb76aaf80a0",
   "metadata": {},
   "source": [
    "**Teoría:**\n",
    "El Teorema del Límite Central establece que la distribución de la media de una muestra aleatoria de datos se aproxima a una distribución normal a medida que el tamaño de la muestra aumenta.\n"
   ]
  },
  {
   "cell_type": "code",
   "execution_count": 30,
   "id": "6a230ccc-1800-4fb7-ba71-c054cf8edc25",
   "metadata": {
    "collapsed": true,
    "jupyter": {
     "outputs_hidden": true
    }
   },
   "outputs": [
    {
     "data": {
      "image/png": "[encoded data removed]",
      "text/plain": [
       "<Figure size 640x480 with 1 Axes>"
      ]
     },
     "metadata": {},
     "output_type": "display_data"
    }
   ],
   "source": [
    "sample_means = [data['AveragePrice'].sample(50).mean() for _ in range(1000)]\n",
    "plt.hist(sample_means, bins=30, alpha=0.7)\n",
    "plt.title('Distribución de Medias Muestrales')\n",
    "plt.xlabel('Media Muestral')\n",
    "plt.ylabel('Frecuencia')\n",
    "plt.show()"
   ]
  },
  {
   "cell_type": "markdown",
   "id": "a408a784-ce0e-4f00-b457-5b5ca37005aa",
   "metadata": {
    "jp-MarkdownHeadingCollapsed": true
   },
   "source": [
    "### 3.2 Hipótesis de Dos Colas y Una Cola"
   ]
  },
  {
   "cell_type": "markdown",
   "id": "cfe9859a-e33e-410d-af15-bfd50563adc2",
   "metadata": {},
   "source": [
    "**Teoría:**\n",
    "Las hipótesis de dos colas evalúan si una medida es diferente de un valor específico, mientras que las de una cola evalúan si es mayor o menor."
   ]
  },
  {
   "cell_type": "code",
   "execution_count": 31,
   "id": "a7befd9f-66c7-4338-b689-34a25d2baa57",
   "metadata": {
    "collapsed": true,
    "jupyter": {
     "outputs_hidden": true
    }
   },
   "outputs": [
    {
     "name": "stdout",
     "output_type": "stream",
     "text": [
      "Valor p (dos colas): 1.1403055379420951e-212\n",
      "No podemos rechazar la hipótesis nula (una cola)\n"
     ]
    }
   ],
   "source": [
    "# Prueba de dos colas\n",
    "hypothesis_value = 1.5\n",
    "alpha = 0.05\n",
    "results = stats.ttest_1samp(data['AveragePrice'], hypothesis_value)\n",
    "print(f\"Valor p (dos colas): {results.pvalue}\")\n",
    "\n",
    "# Prueba de una cola\n",
    "if results.pvalue / 2 < alpha and data['AveragePrice'].mean() > hypothesis_value:\n",
    "    print(\"Rechazamos la hipótesis nula (una cola)\")\n",
    "else:\n",
    "    print(\"No podemos rechazar la hipótesis nula (una cola)\")"
   ]
  },
  {
   "cell_type": "markdown",
   "id": "5b89788b-de55-40cf-b107-cc780ce7e3fb",
   "metadata": {
    "jp-MarkdownHeadingCollapsed": true
   },
   "source": [
    "### 3.3 Comparación de Medias"
   ]
  },
  {
   "cell_type": "markdown",
   "id": "5edca355-bfba-4c05-ba24-c3c79ec5873d",
   "metadata": {},
   "source": [
    "**Teoría:**\n",
    "Se compara la media de dos grupos independientes o emparejados para evaluar diferencias significativas."
   ]
  },
  {
   "cell_type": "code",
   "execution_count": 32,
   "id": "f842a731-82ef-4c18-8de7-782eb82a97f7",
   "metadata": {
    "collapsed": true,
    "jupyter": {
     "outputs_hidden": true
    }
   },
   "outputs": [
    {
     "name": "stdout",
     "output_type": "stream",
     "text": [
      "Valor p: 0.0\n",
      "Rechazamos la hipótesis nula: las medias son diferentes.\n"
     ]
    }
   ],
   "source": [
    "# Comparación de medias de dos grupos independientes\n",
    "results = stats.ttest_ind(data[data['type'] == 'organic']['AveragePrice'],\n",
    "                          data[data['type'] == 'conventional']['AveragePrice'])\n",
    "\n",
    "print(f\"Valor p: {results.pvalue}\")\n",
    "if results.pvalue < alpha:\n",
    "    print(\"Rechazamos la hipótesis nula: las medias son diferentes.\")\n",
    "else:\n",
    "    print(\"No podemos rechazar la hipótesis nula: las medias no son significativamente diferentes.\")"
   ]
  },
  {
   "cell_type": "code",
   "execution_count": null,
   "id": "8b8368bb-cf08-46ee-9c07-3513193c0f35",
   "metadata": {
    "collapsed": true,
    "jupyter": {
     "outputs_hidden": true
    }
   },
   "outputs": [],
   "source": []
  }
 ],
 "metadata": {
  "kernelspec": {
   "display_name": "Python 3 (ipykernel)",
   "language": "python",
   "name": "python3"
  },
  "language_info": {
   "codemirror_mode": {
    "name": "ipython",
    "version": 3
   },
   "file_extension": ".py",
   "mimetype": "text/x-python",
   "name": "python",
   "nbconvert_exporter": "python",
   "pygments_lexer": "ipython3",
   "version": "3.12.7"
  }
 },
 "nbformat": 4,
 "nbformat_minor": 5
}
