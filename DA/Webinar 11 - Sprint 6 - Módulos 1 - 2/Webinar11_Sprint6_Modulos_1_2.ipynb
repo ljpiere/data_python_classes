{
 "cells": [
  {
   "cell_type": "markdown",
   "metadata": {},
   "source": [
    "# Clase de Python Intermedio"
   ]
  },
  {
   "cell_type": "code",
   "execution_count": 2,
   "metadata": {},
   "outputs": [],
   "source": [
    "import pandas as pd"
   ]
  },
  {
   "cell_type": "markdown",
   "metadata": {},
   "source": [
    "## Tema 0: Documentación en Python"
   ]
  },
  {
   "cell_type": "markdown",
   "metadata": {},
   "source": [
    "- Documentación funciones pyhton: https://docs.python.org/3/library/functions.html.\n",
    "- Documentación python general: https://docs.python.org/3/\n",
    "- Pandas: https://pandas.pydata.org/pandas-docs/stable/\n",
    "- Matplotlib: https://matplotlib.org/\n",
    "- StackOverflow: https://stackoverflow.com/"
   ]
  },
  {
   "cell_type": "markdown",
   "metadata": {
    "jp-MarkdownHeadingCollapsed": true
   },
   "source": [
    "## Tema 1: Cómo leer errores en Python con ejemplos"
   ]
  },
  {
   "cell_type": "markdown",
   "metadata": {},
   "source": [
    "**Título:** Comprendiendo los errores en Python\n",
    "\n",
    "**Descripción:**\n",
    "Los errores en Python pueden ser de distintos tipos: `SyntaxError`, `TypeError`, `IndexError`, etc.\n",
    "Leer los errores correctamente nos ayuda a depurar el código más rápido.\n",
    "\n",
    "**Pista:**\n",
    "Ejecuta el siguiente código y observa el error. Luego corrígelo.\n",
    "\n",
    "```python\n",
    "print('Hola' + 5)\n",
    "```\n",
    "\n",
    "**Solución:**\n",
    "```python\n",
    "print('Hola ' + str(5))\n",
    "```\n",
    "\n",
    "**Resumen de la solución:**\n",
    "El error `TypeError` ocurre porque intentamos concatenar un `str` con un `int`. La solución es convertir el número en una cadena."
   ]
  },
  {
   "cell_type": "code",
   "execution_count": 3,
   "metadata": {},
   "outputs": [
    {
     "ename": "TypeError",
     "evalue": "can only concatenate str (not \"int\") to str",
     "output_type": "error",
     "traceback": [
      "\u001b[1;31m---------------------------------------------------------------------------\u001b[0m",
      "\u001b[1;31mTypeError\u001b[0m                                 Traceback (most recent call last)",
      "Cell \u001b[1;32mIn[3], line 1\u001b[0m\n\u001b[1;32m----> 1\u001b[0m \u001b[38;5;28mprint\u001b[39m(\u001b[38;5;124m'\u001b[39m\u001b[38;5;124mHola\u001b[39m\u001b[38;5;124m'\u001b[39m \u001b[38;5;241m+\u001b[39m \u001b[38;5;241m5\u001b[39m)\n",
      "\u001b[1;31mTypeError\u001b[0m: can only concatenate str (not \"int\") to str"
     ]
    }
   ],
   "source": [
    "print('Hola' + 5)"
   ]
  },
  {
   "cell_type": "code",
   "execution_count": 4,
   "metadata": {},
   "outputs": [
    {
     "name": "stdout",
     "output_type": "stream",
     "text": [
      "No se logra realizar la suma\n"
     ]
    }
   ],
   "source": [
    "try:\n",
    "    print('Hola' + 5)\n",
    "except:\n",
    "    print(\"No se logra realizar la suma\")"
   ]
  },
  {
   "cell_type": "markdown",
   "metadata": {
    "jp-MarkdownHeadingCollapsed": true
   },
   "source": [
    "## Tema 2: Recorrer diccionarios en bucle"
   ]
  },
  {
   "cell_type": "code",
   "execution_count": 5,
   "metadata": {},
   "outputs": [],
   "source": [
    "# Diccionario de ejemplo\n",
    "financial_info = {\n",
    "    'American Express': 93,\n",
    "    'Boeing': 178,\n",
    "    'Coca-Cola': 45,\n",
    "    'Walt Disney': 119,\n",
    "    'Nike': 97,\n",
    "    'JPMorgan': 96,\n",
    "    'Walmart': 130\n",
    "}"
   ]
  },
  {
   "cell_type": "code",
   "execution_count": 7,
   "metadata": {},
   "outputs": [
    {
     "name": "stdout",
     "output_type": "stream",
     "text": [
      "93\n",
      "178\n",
      "45\n",
      "119\n",
      "97\n",
      "96\n",
      "130\n"
     ]
    }
   ],
   "source": [
    "for i in financial_info:\n",
    "    print(financial_info[i])"
   ]
  },
  {
   "cell_type": "code",
   "execution_count": 9,
   "metadata": {},
   "outputs": [
    {
     "data": {
      "text/plain": [
       "dict_values([93, 178, 45, 119, 97, 96, 130])"
      ]
     },
     "execution_count": 9,
     "metadata": {},
     "output_type": "execute_result"
    }
   ],
   "source": [
    "financial_info.values()"
   ]
  },
  {
   "cell_type": "code",
   "execution_count": 8,
   "metadata": {},
   "outputs": [
    {
     "name": "stdout",
     "output_type": "stream",
     "text": [
      "Total Value: 758\n"
     ]
    }
   ],
   "source": [
    "# Recorrer valores\n",
    "total_value = sum(financial_info.values())\n",
    "print('Total Value:', total_value)"
   ]
  },
  {
   "cell_type": "code",
   "execution_count": 11,
   "metadata": {},
   "outputs": [
    {
     "name": "stdout",
     "output_type": "stream",
     "text": [
      "American Express 93\n",
      "Boeing 178\n",
      "Coca-Cola 45\n",
      "Walt Disney 119\n",
      "Nike 97\n",
      "JPMorgan 96\n",
      "Walmart 130\n"
     ]
    }
   ],
   "source": [
    "for llave, valor in financial_info.items():\n",
    "    print(llave, valor)"
   ]
  },
  {
   "cell_type": "code",
   "execution_count": 12,
   "metadata": {},
   "outputs": [
    {
     "name": "stdout",
     "output_type": "stream",
     "text": [
      "Total Value: 758\n"
     ]
    }
   ],
   "source": [
    "# Recorrer claves y valores\n",
    "total_value = sum(value for key, value in financial_info.items())\n",
    "print('Total Value:', total_value)"
   ]
  },
  {
   "cell_type": "markdown",
   "metadata": {},
   "source": [
    "**Resumen:** Ambos métodos recorren el diccionario, ya sea solo por los valores o por clave-valor."
   ]
  },
  {
   "cell_type": "markdown",
   "metadata": {},
   "source": [
    "## Tema 3: Diccionarios anidados"
   ]
  },
  {
   "cell_type": "code",
   "execution_count": 13,
   "metadata": {},
   "outputs": [],
   "source": [
    "# Lista de pedidos con diccionarios anidados\n",
    "order = [\n",
    "    {'item': 'Margherita pizza', 'category': 'pizza', 'quantity': 2, 'price': 9},\n",
    "    {'item': 'Ham pizza', 'category': 'pizza', 'quantity': 1, 'price': 12},\n",
    "    {'item': 'Pepsi 1 l', 'category': 'beverages', 'quantity': 3, 'price': 2}\n",
    "]"
   ]
  },
  {
   "cell_type": "code",
   "execution_count": 17,
   "metadata": {},
   "outputs": [
    {
     "name": "stdout",
     "output_type": "stream",
     "text": [
      "2\n",
      "1\n",
      "3\n"
     ]
    }
   ],
   "source": [
    "for item in order:\n",
    "    print(item['quantity'])"
   ]
  },
  {
   "cell_type": "code",
   "execution_count": 18,
   "metadata": {},
   "outputs": [
    {
     "name": "stdout",
     "output_type": "stream",
     "text": [
      "Total Price: 36\n"
     ]
    }
   ],
   "source": [
    "# Calcular precio total\n",
    "total_price = sum(item['price'] * item['quantity'] for item in order)\n",
    "print('Total Price:', total_price)"
   ]
  },
  {
   "cell_type": "markdown",
   "metadata": {},
   "source": [
    "**Resumen:** Se utiliza un bucle para recorrer la lista y multiplicar `price` por `quantity` en cada entrada."
   ]
  },
  {
   "cell_type": "markdown",
   "metadata": {},
   "source": [
    "## Tema 4: Funciones con valores predeterminados"
   ]
  },
  {
   "cell_type": "code",
   "execution_count": 25,
   "metadata": {},
   "outputs": [],
   "source": [
    "def sumar_numeros(numero_1=0, numero_2):\n",
    "    resultado = numero_1 + numero_2\n",
    "    return resultado"
   ]
  },
  {
   "cell_type": "code",
   "execution_count": 26,
   "metadata": {},
   "outputs": [
    {
     "data": {
      "text/plain": [
       "0"
      ]
     },
     "execution_count": 26,
     "metadata": {},
     "output_type": "execute_result"
    }
   ],
   "source": [
    "sumar_numeros()"
   ]
  },
  {
   "cell_type": "code",
   "execution_count": 27,
   "metadata": {},
   "outputs": [
    {
     "name": "stdout",
     "output_type": "stream",
     "text": [
      "¡El omelet está listo! Huevos utilizados: 2\n",
      "¡El omelet está listo! Huevos utilizados: 4\n"
     ]
    }
   ],
   "source": [
    "# Función con valor predeterminado\n",
    "def omelet(eggs_number=2):\n",
    "    return f'¡El omelet está listo! Huevos utilizados: {eggs_number}'\n",
    "\n",
    "print(omelet())  # Usa el valor por defecto\n",
    "print(omelet(4))  # Usa el valor especificado"
   ]
  },
  {
   "cell_type": "markdown",
   "metadata": {},
   "source": [
    "**Resumen:** Se puede definir un valor por defecto en una función para que sea opcional pasarlo como argumento."
   ]
  },
  {
   "cell_type": "markdown",
   "metadata": {},
   "source": [
    "## Tema 5: Pandas - El objeto Series"
   ]
  },
  {
   "cell_type": "markdown",
   "metadata": {},
   "source": [
    "<div style=\"text-align: center;\">\n",
    "    <img src=\"lol.jpg\" alt=\"LoL\" style=\"width:50%;\"/>\n",
    "</div>"
   ]
  },
  {
   "cell_type": "code",
   "execution_count": 28,
   "metadata": {},
   "outputs": [],
   "source": [
    "# Cargar el archivo CSV\n",
    "df = pd.read_csv('200125_LoL_champion_data.csv')"
   ]
  },
  {
   "cell_type": "code",
   "execution_count": 30,
   "metadata": {},
   "outputs": [
    {
     "data": {
      "text/html": [
       "<div>\n",
       "<style scoped>\n",
       "    .dataframe tbody tr th:only-of-type {\n",
       "        vertical-align: middle;\n",
       "    }\n",
       "\n",
       "    .dataframe tbody tr th {\n",
       "        vertical-align: top;\n",
       "    }\n",
       "\n",
       "    .dataframe thead th {\n",
       "        text-align: right;\n",
       "    }\n",
       "</style>\n",
       "<table border=\"1\" class=\"dataframe\">\n",
       "  <thead>\n",
       "    <tr style=\"text-align: right;\">\n",
       "      <th></th>\n",
       "      <th>Unnamed: 0</th>\n",
       "      <th>id</th>\n",
       "      <th>apiname</th>\n",
       "      <th>title</th>\n",
       "      <th>difficulty</th>\n",
       "      <th>herotype</th>\n",
       "      <th>alttype</th>\n",
       "      <th>resource</th>\n",
       "      <th>stats</th>\n",
       "      <th>rangetype</th>\n",
       "      <th>...</th>\n",
       "      <th>be</th>\n",
       "      <th>rp</th>\n",
       "      <th>skill_i</th>\n",
       "      <th>skill_q</th>\n",
       "      <th>skill_w</th>\n",
       "      <th>skill_e</th>\n",
       "      <th>skill_r</th>\n",
       "      <th>skills</th>\n",
       "      <th>fullname</th>\n",
       "      <th>nickname</th>\n",
       "    </tr>\n",
       "  </thead>\n",
       "  <tbody>\n",
       "    <tr>\n",
       "      <th>0</th>\n",
       "      <td>Aatrox</td>\n",
       "      <td>266.0</td>\n",
       "      <td>Aatrox</td>\n",
       "      <td>the Darkin Blade</td>\n",
       "      <td>2</td>\n",
       "      <td>Fighter</td>\n",
       "      <td>Tank</td>\n",
       "      <td>Blood Well</td>\n",
       "      <td>{'hp_base': 650, 'hp_lvl': 114, 'mp_base': 0, ...</td>\n",
       "      <td>Melee</td>\n",
       "      <td>...</td>\n",
       "      <td>4800</td>\n",
       "      <td>880</td>\n",
       "      <td>{1: 'Deathbringer Stance'}</td>\n",
       "      <td>{1: 'The Darkin Blade', 2: 'The Darkin Blade 3'}</td>\n",
       "      <td>{1: 'Infernal Chains'}</td>\n",
       "      <td>{1: 'Umbral Dash'}</td>\n",
       "      <td>{1: 'World Ender'}</td>\n",
       "      <td>{1: 'Deathbringer Stance', 2: 'The Darkin Blad...</td>\n",
       "      <td>NaN</td>\n",
       "      <td>NaN</td>\n",
       "    </tr>\n",
       "    <tr>\n",
       "      <th>1</th>\n",
       "      <td>Ahri</td>\n",
       "      <td>103.0</td>\n",
       "      <td>Ahri</td>\n",
       "      <td>the Nine-Tailed Fox</td>\n",
       "      <td>2</td>\n",
       "      <td>Mage</td>\n",
       "      <td>Assassin</td>\n",
       "      <td>Mana</td>\n",
       "      <td>{'hp_base': 590, 'hp_lvl': 104, 'mp_base': 418...</td>\n",
       "      <td>Ranged</td>\n",
       "      <td>...</td>\n",
       "      <td>3150</td>\n",
       "      <td>790</td>\n",
       "      <td>{1: 'Essence Theft'}</td>\n",
       "      <td>{1: 'Orb of Deception'}</td>\n",
       "      <td>{1: 'Fox-Fire'}</td>\n",
       "      <td>{1: 'Charm'}</td>\n",
       "      <td>{1: 'Spirit Rush'}</td>\n",
       "      <td>{1: 'Essence Theft', 2: 'Orb of Deception', 3:...</td>\n",
       "      <td>NaN</td>\n",
       "      <td>NaN</td>\n",
       "    </tr>\n",
       "  </tbody>\n",
       "</table>\n",
       "<p>2 rows × 33 columns</p>\n",
       "</div>"
      ],
      "text/plain": [
       "  Unnamed: 0     id apiname                title  difficulty herotype  \\\n",
       "0     Aatrox  266.0  Aatrox     the Darkin Blade           2  Fighter   \n",
       "1       Ahri  103.0    Ahri  the Nine-Tailed Fox           2     Mage   \n",
       "\n",
       "    alttype    resource                                              stats  \\\n",
       "0      Tank  Blood Well  {'hp_base': 650, 'hp_lvl': 114, 'mp_base': 0, ...   \n",
       "1  Assassin        Mana  {'hp_base': 590, 'hp_lvl': 104, 'mp_base': 418...   \n",
       "\n",
       "  rangetype  ...    be   rp                     skill_i  \\\n",
       "0     Melee  ...  4800  880  {1: 'Deathbringer Stance'}   \n",
       "1    Ranged  ...  3150  790        {1: 'Essence Theft'}   \n",
       "\n",
       "                                            skill_q                 skill_w  \\\n",
       "0  {1: 'The Darkin Blade', 2: 'The Darkin Blade 3'}  {1: 'Infernal Chains'}   \n",
       "1                           {1: 'Orb of Deception'}         {1: 'Fox-Fire'}   \n",
       "\n",
       "              skill_e             skill_r  \\\n",
       "0  {1: 'Umbral Dash'}  {1: 'World Ender'}   \n",
       "1        {1: 'Charm'}  {1: 'Spirit Rush'}   \n",
       "\n",
       "                                              skills  fullname  nickname  \n",
       "0  {1: 'Deathbringer Stance', 2: 'The Darkin Blad...       NaN       NaN  \n",
       "1  {1: 'Essence Theft', 2: 'Orb of Deception', 3:...       NaN       NaN  \n",
       "\n",
       "[2 rows x 33 columns]"
      ]
     },
     "execution_count": 30,
     "metadata": {},
     "output_type": "execute_result"
    }
   ],
   "source": [
    "# Exploremos un poco\n",
    "df.head(2)"
   ]
  },
  {
   "cell_type": "code",
   "execution_count": 31,
   "metadata": {},
   "outputs": [
    {
     "data": {
      "text/html": [
       "<div>\n",
       "<style scoped>\n",
       "    .dataframe tbody tr th:only-of-type {\n",
       "        vertical-align: middle;\n",
       "    }\n",
       "\n",
       "    .dataframe tbody tr th {\n",
       "        vertical-align: top;\n",
       "    }\n",
       "\n",
       "    .dataframe thead th {\n",
       "        text-align: right;\n",
       "    }\n",
       "</style>\n",
       "<table border=\"1\" class=\"dataframe\">\n",
       "  <thead>\n",
       "    <tr style=\"text-align: right;\">\n",
       "      <th></th>\n",
       "      <th>Unnamed: 0</th>\n",
       "      <th>id</th>\n",
       "      <th>apiname</th>\n",
       "      <th>title</th>\n",
       "      <th>difficulty</th>\n",
       "      <th>herotype</th>\n",
       "      <th>alttype</th>\n",
       "      <th>resource</th>\n",
       "      <th>stats</th>\n",
       "      <th>rangetype</th>\n",
       "      <th>...</th>\n",
       "      <th>be</th>\n",
       "      <th>rp</th>\n",
       "      <th>skill_i</th>\n",
       "      <th>skill_q</th>\n",
       "      <th>skill_w</th>\n",
       "      <th>skill_e</th>\n",
       "      <th>skill_r</th>\n",
       "      <th>skills</th>\n",
       "      <th>fullname</th>\n",
       "      <th>nickname</th>\n",
       "    </tr>\n",
       "  </thead>\n",
       "  <tbody>\n",
       "    <tr>\n",
       "      <th>170</th>\n",
       "      <td>Zoe</td>\n",
       "      <td>142.0</td>\n",
       "      <td>Zoe</td>\n",
       "      <td>the Aspect of Twilight</td>\n",
       "      <td>3</td>\n",
       "      <td>Mage</td>\n",
       "      <td>Support</td>\n",
       "      <td>Mana</td>\n",
       "      <td>{'hp_base': 630, 'hp_lvl': 106, 'mp_base': 425...</td>\n",
       "      <td>Ranged</td>\n",
       "      <td>...</td>\n",
       "      <td>4800</td>\n",
       "      <td>880</td>\n",
       "      <td>{1: 'More Sparkles!'}</td>\n",
       "      <td>{1: 'Paddle Star', 2: 'Paddle Star 2'}</td>\n",
       "      <td>{1: 'Spell Thief'}</td>\n",
       "      <td>{1: 'Sleepy Trouble Bubble'}</td>\n",
       "      <td>{1: 'Portal Jump'}</td>\n",
       "      <td>{1: 'More Sparkles!', 2: 'Paddle Star', 3: 'Sp...</td>\n",
       "      <td>NaN</td>\n",
       "      <td>NaN</td>\n",
       "    </tr>\n",
       "    <tr>\n",
       "      <th>171</th>\n",
       "      <td>Zyra</td>\n",
       "      <td>143.0</td>\n",
       "      <td>Zyra</td>\n",
       "      <td>Rise of the Thorns</td>\n",
       "      <td>2</td>\n",
       "      <td>Mage</td>\n",
       "      <td>Support</td>\n",
       "      <td>Mana</td>\n",
       "      <td>{'hp_base': 574, 'hp_lvl': 93, 'mp_base': 418,...</td>\n",
       "      <td>Ranged</td>\n",
       "      <td>...</td>\n",
       "      <td>3150</td>\n",
       "      <td>790</td>\n",
       "      <td>{1: 'Garden of Thorns'}</td>\n",
       "      <td>{1: 'Deadly Spines'}</td>\n",
       "      <td>{1: 'Rampant Growth'}</td>\n",
       "      <td>{1: 'Grasping Roots'}</td>\n",
       "      <td>{1: 'Stranglethorns'}</td>\n",
       "      <td>{1: 'Garden of Thorns', 2: 'Deadly Spines', 3:...</td>\n",
       "      <td>NaN</td>\n",
       "      <td>NaN</td>\n",
       "    </tr>\n",
       "  </tbody>\n",
       "</table>\n",
       "<p>2 rows × 33 columns</p>\n",
       "</div>"
      ],
      "text/plain": [
       "    Unnamed: 0     id apiname                   title  difficulty herotype  \\\n",
       "170        Zoe  142.0     Zoe  the Aspect of Twilight           3     Mage   \n",
       "171       Zyra  143.0    Zyra      Rise of the Thorns           2     Mage   \n",
       "\n",
       "     alttype resource                                              stats  \\\n",
       "170  Support     Mana  {'hp_base': 630, 'hp_lvl': 106, 'mp_base': 425...   \n",
       "171  Support     Mana  {'hp_base': 574, 'hp_lvl': 93, 'mp_base': 418,...   \n",
       "\n",
       "    rangetype  ...    be   rp                  skill_i  \\\n",
       "170    Ranged  ...  4800  880    {1: 'More Sparkles!'}   \n",
       "171    Ranged  ...  3150  790  {1: 'Garden of Thorns'}   \n",
       "\n",
       "                                    skill_q                skill_w  \\\n",
       "170  {1: 'Paddle Star', 2: 'Paddle Star 2'}     {1: 'Spell Thief'}   \n",
       "171                    {1: 'Deadly Spines'}  {1: 'Rampant Growth'}   \n",
       "\n",
       "                          skill_e                skill_r  \\\n",
       "170  {1: 'Sleepy Trouble Bubble'}     {1: 'Portal Jump'}   \n",
       "171         {1: 'Grasping Roots'}  {1: 'Stranglethorns'}   \n",
       "\n",
       "                                                skills  fullname  nickname  \n",
       "170  {1: 'More Sparkles!', 2: 'Paddle Star', 3: 'Sp...       NaN       NaN  \n",
       "171  {1: 'Garden of Thorns', 2: 'Deadly Spines', 3:...       NaN       NaN  \n",
       "\n",
       "[2 rows x 33 columns]"
      ]
     },
     "execution_count": 31,
     "metadata": {},
     "output_type": "execute_result"
    }
   ],
   "source": [
    "df.tail(2)"
   ]
  },
  {
   "cell_type": "code",
   "execution_count": 32,
   "metadata": {},
   "outputs": [
    {
     "name": "stdout",
     "output_type": "stream",
     "text": [
      "<class 'pandas.core.frame.DataFrame'>\n",
      "RangeIndex: 172 entries, 0 to 171\n",
      "Data columns (total 33 columns):\n",
      " #   Column              Non-Null Count  Dtype  \n",
      "---  ------              --------------  -----  \n",
      " 0   Unnamed: 0          172 non-null    object \n",
      " 1   id                  172 non-null    float64\n",
      " 2   apiname             172 non-null    object \n",
      " 3   title               172 non-null    object \n",
      " 4   difficulty          172 non-null    int64  \n",
      " 5   herotype            172 non-null    object \n",
      " 6   alttype             144 non-null    object \n",
      " 7   resource            167 non-null    object \n",
      " 8   stats               172 non-null    object \n",
      " 9   rangetype           172 non-null    object \n",
      " 10  date                172 non-null    object \n",
      " 11  patch               172 non-null    object \n",
      " 12  changes             172 non-null    object \n",
      " 13  role                172 non-null    object \n",
      " 14  client_positions    172 non-null    object \n",
      " 15  external_positions  172 non-null    object \n",
      " 16  damage              172 non-null    int64  \n",
      " 17  toughness           172 non-null    int64  \n",
      " 18  control             172 non-null    int64  \n",
      " 19  mobility            172 non-null    int64  \n",
      " 20  utility             172 non-null    int64  \n",
      " 21  style               172 non-null    int64  \n",
      " 22  adaptivetype        172 non-null    object \n",
      " 23  be                  172 non-null    int64  \n",
      " 24  rp                  172 non-null    int64  \n",
      " 25  skill_i             172 non-null    object \n",
      " 26  skill_q             172 non-null    object \n",
      " 27  skill_w             172 non-null    object \n",
      " 28  skill_e             172 non-null    object \n",
      " 29  skill_r             172 non-null    object \n",
      " 30  skills              170 non-null    object \n",
      " 31  fullname            43 non-null     object \n",
      " 32  nickname            14 non-null     object \n",
      "dtypes: float64(1), int64(9), object(23)\n",
      "memory usage: 44.5+ KB\n"
     ]
    }
   ],
   "source": [
    "df.info()"
   ]
  },
  {
   "cell_type": "code",
   "execution_count": 34,
   "metadata": {},
   "outputs": [
    {
     "data": {
      "text/plain": [
       "Unnamed: 0              0\n",
       "id                      0\n",
       "apiname                 0\n",
       "title                   0\n",
       "difficulty              0\n",
       "herotype                0\n",
       "alttype                28\n",
       "resource                5\n",
       "stats                   0\n",
       "rangetype               0\n",
       "date                    0\n",
       "patch                   0\n",
       "changes                 0\n",
       "role                    0\n",
       "client_positions        0\n",
       "external_positions      0\n",
       "damage                  0\n",
       "toughness               0\n",
       "control                 0\n",
       "mobility                0\n",
       "utility                 0\n",
       "style                   0\n",
       "adaptivetype            0\n",
       "be                      0\n",
       "rp                      0\n",
       "skill_i                 0\n",
       "skill_q                 0\n",
       "skill_w                 0\n",
       "skill_e                 0\n",
       "skill_r                 0\n",
       "skills                  2\n",
       "fullname              129\n",
       "nickname              158\n",
       "dtype: int64"
      ]
     },
     "execution_count": 34,
     "metadata": {},
     "output_type": "execute_result"
    }
   ],
   "source": [
    "df.isnull().sum()"
   ]
  },
  {
   "cell_type": "code",
   "execution_count": 39,
   "metadata": {},
   "outputs": [
    {
     "data": {
      "text/plain": [
       "0"
      ]
     },
     "execution_count": 39,
     "metadata": {},
     "output_type": "execute_result"
    }
   ],
   "source": [
    "df.duplicated().sum()"
   ]
  },
  {
   "cell_type": "code",
   "execution_count": 40,
   "metadata": {},
   "outputs": [
    {
     "data": {
      "text/html": [
       "<div>\n",
       "<style scoped>\n",
       "    .dataframe tbody tr th:only-of-type {\n",
       "        vertical-align: middle;\n",
       "    }\n",
       "\n",
       "    .dataframe tbody tr th {\n",
       "        vertical-align: top;\n",
       "    }\n",
       "\n",
       "    .dataframe thead th {\n",
       "        text-align: right;\n",
       "    }\n",
       "</style>\n",
       "<table border=\"1\" class=\"dataframe\">\n",
       "  <thead>\n",
       "    <tr style=\"text-align: right;\">\n",
       "      <th></th>\n",
       "      <th>id</th>\n",
       "      <th>difficulty</th>\n",
       "      <th>damage</th>\n",
       "      <th>toughness</th>\n",
       "      <th>control</th>\n",
       "      <th>mobility</th>\n",
       "      <th>utility</th>\n",
       "      <th>style</th>\n",
       "      <th>be</th>\n",
       "      <th>rp</th>\n",
       "    </tr>\n",
       "  </thead>\n",
       "  <tbody>\n",
       "    <tr>\n",
       "      <th>count</th>\n",
       "      <td>172.000000</td>\n",
       "      <td>172.000000</td>\n",
       "      <td>172.000000</td>\n",
       "      <td>172.000000</td>\n",
       "      <td>172.000000</td>\n",
       "      <td>172.000000</td>\n",
       "      <td>172.000000</td>\n",
       "      <td>172.000000</td>\n",
       "      <td>172.000000</td>\n",
       "      <td>172.000000</td>\n",
       "    </tr>\n",
       "    <tr>\n",
       "      <th>mean</th>\n",
       "      <td>195.728488</td>\n",
       "      <td>1.866279</td>\n",
       "      <td>2.465116</td>\n",
       "      <td>1.616279</td>\n",
       "      <td>1.994186</td>\n",
       "      <td>1.790698</td>\n",
       "      <td>1.453488</td>\n",
       "      <td>59.686047</td>\n",
       "      <td>3229.854651</td>\n",
       "      <td>711.773256</td>\n",
       "    </tr>\n",
       "    <tr>\n",
       "      <th>std</th>\n",
       "      <td>243.326685</td>\n",
       "      <td>0.666335</td>\n",
       "      <td>0.695813</td>\n",
       "      <td>0.759634</td>\n",
       "      <td>0.721411</td>\n",
       "      <td>0.781605</td>\n",
       "      <td>0.669415</td>\n",
       "      <td>32.094437</td>\n",
       "      <td>1784.829203</td>\n",
       "      <td>221.286564</td>\n",
       "    </tr>\n",
       "    <tr>\n",
       "      <th>min</th>\n",
       "      <td>1.000000</td>\n",
       "      <td>1.000000</td>\n",
       "      <td>1.000000</td>\n",
       "      <td>1.000000</td>\n",
       "      <td>1.000000</td>\n",
       "      <td>1.000000</td>\n",
       "      <td>0.000000</td>\n",
       "      <td>0.000000</td>\n",
       "      <td>450.000000</td>\n",
       "      <td>260.000000</td>\n",
       "    </tr>\n",
       "    <tr>\n",
       "      <th>25%</th>\n",
       "      <td>43.750000</td>\n",
       "      <td>1.000000</td>\n",
       "      <td>2.000000</td>\n",
       "      <td>1.000000</td>\n",
       "      <td>1.000000</td>\n",
       "      <td>1.000000</td>\n",
       "      <td>1.000000</td>\n",
       "      <td>30.000000</td>\n",
       "      <td>1350.000000</td>\n",
       "      <td>585.000000</td>\n",
       "    </tr>\n",
       "    <tr>\n",
       "      <th>50%</th>\n",
       "      <td>102.500000</td>\n",
       "      <td>2.000000</td>\n",
       "      <td>3.000000</td>\n",
       "      <td>1.000000</td>\n",
       "      <td>2.000000</td>\n",
       "      <td>2.000000</td>\n",
       "      <td>1.000000</td>\n",
       "      <td>65.000000</td>\n",
       "      <td>3150.000000</td>\n",
       "      <td>790.000000</td>\n",
       "    </tr>\n",
       "    <tr>\n",
       "      <th>75%</th>\n",
       "      <td>233.250000</td>\n",
       "      <td>2.000000</td>\n",
       "      <td>3.000000</td>\n",
       "      <td>2.000000</td>\n",
       "      <td>3.000000</td>\n",
       "      <td>2.000000</td>\n",
       "      <td>2.000000</td>\n",
       "      <td>90.000000</td>\n",
       "      <td>4800.000000</td>\n",
       "      <td>880.000000</td>\n",
       "    </tr>\n",
       "    <tr>\n",
       "      <th>max</th>\n",
       "      <td>950.000000</td>\n",
       "      <td>3.000000</td>\n",
       "      <td>3.000000</td>\n",
       "      <td>3.000000</td>\n",
       "      <td>3.000000</td>\n",
       "      <td>3.000000</td>\n",
       "      <td>3.000000</td>\n",
       "      <td>100.000000</td>\n",
       "      <td>7800.000000</td>\n",
       "      <td>975.000000</td>\n",
       "    </tr>\n",
       "  </tbody>\n",
       "</table>\n",
       "</div>"
      ],
      "text/plain": [
       "               id  difficulty      damage   toughness     control    mobility  \\\n",
       "count  172.000000  172.000000  172.000000  172.000000  172.000000  172.000000   \n",
       "mean   195.728488    1.866279    2.465116    1.616279    1.994186    1.790698   \n",
       "std    243.326685    0.666335    0.695813    0.759634    0.721411    0.781605   \n",
       "min      1.000000    1.000000    1.000000    1.000000    1.000000    1.000000   \n",
       "25%     43.750000    1.000000    2.000000    1.000000    1.000000    1.000000   \n",
       "50%    102.500000    2.000000    3.000000    1.000000    2.000000    2.000000   \n",
       "75%    233.250000    2.000000    3.000000    2.000000    3.000000    2.000000   \n",
       "max    950.000000    3.000000    3.000000    3.000000    3.000000    3.000000   \n",
       "\n",
       "          utility       style           be          rp  \n",
       "count  172.000000  172.000000   172.000000  172.000000  \n",
       "mean     1.453488   59.686047  3229.854651  711.773256  \n",
       "std      0.669415   32.094437  1784.829203  221.286564  \n",
       "min      0.000000    0.000000   450.000000  260.000000  \n",
       "25%      1.000000   30.000000  1350.000000  585.000000  \n",
       "50%      1.000000   65.000000  3150.000000  790.000000  \n",
       "75%      2.000000   90.000000  4800.000000  880.000000  \n",
       "max      3.000000  100.000000  7800.000000  975.000000  "
      ]
     },
     "execution_count": 40,
     "metadata": {},
     "output_type": "execute_result"
    }
   ],
   "source": [
    "df.describe()"
   ]
  },
  {
   "cell_type": "code",
   "execution_count": 42,
   "metadata": {},
   "outputs": [
    {
     "data": {
      "text/html": [
       "<div>\n",
       "<style scoped>\n",
       "    .dataframe tbody tr th:only-of-type {\n",
       "        vertical-align: middle;\n",
       "    }\n",
       "\n",
       "    .dataframe tbody tr th {\n",
       "        vertical-align: top;\n",
       "    }\n",
       "\n",
       "    .dataframe thead th {\n",
       "        text-align: right;\n",
       "    }\n",
       "</style>\n",
       "<table border=\"1\" class=\"dataframe\">\n",
       "  <thead>\n",
       "    <tr style=\"text-align: right;\">\n",
       "      <th></th>\n",
       "      <th>difficulty</th>\n",
       "      <th>mobility</th>\n",
       "      <th>control</th>\n",
       "      <th>rp</th>\n",
       "    </tr>\n",
       "  </thead>\n",
       "  <tbody>\n",
       "    <tr>\n",
       "      <th>difficulty</th>\n",
       "      <td>1.000000</td>\n",
       "      <td>0.271574</td>\n",
       "      <td>-0.098950</td>\n",
       "      <td>0.471791</td>\n",
       "    </tr>\n",
       "    <tr>\n",
       "      <th>mobility</th>\n",
       "      <td>0.271574</td>\n",
       "      <td>1.000000</td>\n",
       "      <td>-0.323681</td>\n",
       "      <td>0.229370</td>\n",
       "    </tr>\n",
       "    <tr>\n",
       "      <th>control</th>\n",
       "      <td>-0.098950</td>\n",
       "      <td>-0.323681</td>\n",
       "      <td>1.000000</td>\n",
       "      <td>-0.011657</td>\n",
       "    </tr>\n",
       "    <tr>\n",
       "      <th>rp</th>\n",
       "      <td>0.471791</td>\n",
       "      <td>0.229370</td>\n",
       "      <td>-0.011657</td>\n",
       "      <td>1.000000</td>\n",
       "    </tr>\n",
       "  </tbody>\n",
       "</table>\n",
       "</div>"
      ],
      "text/plain": [
       "            difficulty  mobility   control        rp\n",
       "difficulty    1.000000  0.271574 -0.098950  0.471791\n",
       "mobility      0.271574  1.000000 -0.323681  0.229370\n",
       "control      -0.098950 -0.323681  1.000000 -0.011657\n",
       "rp            0.471791  0.229370 -0.011657  1.000000"
      ]
     },
     "execution_count": 42,
     "metadata": {},
     "output_type": "execute_result"
    }
   ],
   "source": [
    "df[['difficulty', 'mobility', 'control', 'rp']].corr()"
   ]
  },
  {
   "cell_type": "code",
   "execution_count": 51,
   "metadata": {},
   "outputs": [
    {
     "data": {
      "text/html": [
       "<div>\n",
       "<style scoped>\n",
       "    .dataframe tbody tr th:only-of-type {\n",
       "        vertical-align: middle;\n",
       "    }\n",
       "\n",
       "    .dataframe tbody tr th {\n",
       "        vertical-align: top;\n",
       "    }\n",
       "\n",
       "    .dataframe thead th {\n",
       "        text-align: right;\n",
       "    }\n",
       "</style>\n",
       "<table border=\"1\" class=\"dataframe\">\n",
       "  <thead>\n",
       "    <tr style=\"text-align: right;\">\n",
       "      <th></th>\n",
       "      <th>Unnamed: 0</th>\n",
       "      <th>id</th>\n",
       "      <th>apiname</th>\n",
       "      <th>title</th>\n",
       "      <th>difficulty</th>\n",
       "      <th>herotype</th>\n",
       "      <th>alttype</th>\n",
       "      <th>resource</th>\n",
       "      <th>stats</th>\n",
       "      <th>rangetype</th>\n",
       "      <th>...</th>\n",
       "      <th>be</th>\n",
       "      <th>rp</th>\n",
       "      <th>skill_i</th>\n",
       "      <th>skill_q</th>\n",
       "      <th>skill_w</th>\n",
       "      <th>skill_e</th>\n",
       "      <th>skill_r</th>\n",
       "      <th>skills</th>\n",
       "      <th>fullname</th>\n",
       "      <th>nickname</th>\n",
       "    </tr>\n",
       "  </thead>\n",
       "  <tbody>\n",
       "    <tr>\n",
       "      <th>1</th>\n",
       "      <td>Ahri</td>\n",
       "      <td>103.0</td>\n",
       "      <td>Ahri</td>\n",
       "      <td>the Nine-Tailed Fox</td>\n",
       "      <td>2</td>\n",
       "      <td>Mage</td>\n",
       "      <td>Assassin</td>\n",
       "      <td>Mana</td>\n",
       "      <td>{'hp_base': 590, 'hp_lvl': 104, 'mp_base': 418...</td>\n",
       "      <td>Ranged</td>\n",
       "      <td>...</td>\n",
       "      <td>3150</td>\n",
       "      <td>790</td>\n",
       "      <td>{1: 'Essence Theft'}</td>\n",
       "      <td>{1: 'Orb of Deception'}</td>\n",
       "      <td>{1: 'Fox-Fire'}</td>\n",
       "      <td>{1: 'Charm'}</td>\n",
       "      <td>{1: 'Spirit Rush'}</td>\n",
       "      <td>{1: 'Essence Theft', 2: 'Orb of Deception', 3:...</td>\n",
       "      <td>NaN</td>\n",
       "      <td>NaN</td>\n",
       "    </tr>\n",
       "    <tr>\n",
       "      <th>2</th>\n",
       "      <td>Akali</td>\n",
       "      <td>84.0</td>\n",
       "      <td>Akali</td>\n",
       "      <td>the Rogue Assassin</td>\n",
       "      <td>2</td>\n",
       "      <td>Assassin</td>\n",
       "      <td>NaN</td>\n",
       "      <td>Energy</td>\n",
       "      <td>{'hp_base': 600, 'hp_lvl': 119, 'mp_base': 200...</td>\n",
       "      <td>Melee</td>\n",
       "      <td>...</td>\n",
       "      <td>3150</td>\n",
       "      <td>790</td>\n",
       "      <td>{1: \"Assassin's Mark\"}</td>\n",
       "      <td>{1: 'Five Point Strike'}</td>\n",
       "      <td>{1: 'Twilight Shroud'}</td>\n",
       "      <td>{1: 'Shuriken Flip'}</td>\n",
       "      <td>{1: 'Perfect Execution'}</td>\n",
       "      <td>{1: \"Assassin's Mark\", 2: 'Five Point Strike',...</td>\n",
       "      <td>Akali Jhomen Tethi</td>\n",
       "      <td>NaN</td>\n",
       "    </tr>\n",
       "  </tbody>\n",
       "</table>\n",
       "<p>2 rows × 33 columns</p>\n",
       "</div>"
      ],
      "text/plain": [
       "  Unnamed: 0     id apiname                title  difficulty  herotype  \\\n",
       "1       Ahri  103.0    Ahri  the Nine-Tailed Fox           2      Mage   \n",
       "2      Akali   84.0   Akali   the Rogue Assassin           2  Assassin   \n",
       "\n",
       "    alttype resource                                              stats  \\\n",
       "1  Assassin     Mana  {'hp_base': 590, 'hp_lvl': 104, 'mp_base': 418...   \n",
       "2       NaN   Energy  {'hp_base': 600, 'hp_lvl': 119, 'mp_base': 200...   \n",
       "\n",
       "  rangetype  ...    be   rp                 skill_i                   skill_q  \\\n",
       "1    Ranged  ...  3150  790    {1: 'Essence Theft'}   {1: 'Orb of Deception'}   \n",
       "2     Melee  ...  3150  790  {1: \"Assassin's Mark\"}  {1: 'Five Point Strike'}   \n",
       "\n",
       "                  skill_w               skill_e                   skill_r  \\\n",
       "1         {1: 'Fox-Fire'}          {1: 'Charm'}        {1: 'Spirit Rush'}   \n",
       "2  {1: 'Twilight Shroud'}  {1: 'Shuriken Flip'}  {1: 'Perfect Execution'}   \n",
       "\n",
       "                                              skills            fullname  \\\n",
       "1  {1: 'Essence Theft', 2: 'Orb of Deception', 3:...                 NaN   \n",
       "2  {1: \"Assassin's Mark\", 2: 'Five Point Strike',...  Akali Jhomen Tethi   \n",
       "\n",
       "   nickname  \n",
       "1       NaN  \n",
       "2       NaN  \n",
       "\n",
       "[2 rows x 33 columns]"
      ]
     },
     "execution_count": 51,
     "metadata": {},
     "output_type": "execute_result"
    }
   ],
   "source": [
    "df.loc[1:2]"
   ]
  },
  {
   "cell_type": "code",
   "execution_count": 21,
   "metadata": {},
   "outputs": [
    {
     "name": "stdout",
     "output_type": "stream",
     "text": [
      "0      Aatrox\n",
      "1        Ahri\n",
      "2       Akali\n",
      "3      Akshan\n",
      "4     Alistar\n",
      "5     Ambessa\n",
      "6       Amumu\n",
      "7      Anivia\n",
      "8       Annie\n",
      "9    Aphelios\n",
      "Name: apiname, dtype: object\n"
     ]
    }
   ],
   "source": [
    "# Mostrar los primeros 10 nombres de campeones\n",
    "champion_names = df['apiname'][:10]\n",
    "print(champion_names)"
   ]
  },
  {
   "cell_type": "markdown",
   "metadata": {},
   "source": [
    "**Resumen:** En Pandas, una `Series` es una columna de datos dentro de un `DataFrame`."
   ]
  },
  {
   "cell_type": "markdown",
   "metadata": {},
   "source": [
    "## Tema 6: Pandas - Estadística descriptiva"
   ]
  },
  {
   "cell_type": "code",
   "execution_count": 22,
   "metadata": {},
   "outputs": [
    {
     "name": "stdout",
     "output_type": "stream",
     "text": [
      "count    172.000000\n",
      "mean       1.866279\n",
      "std        0.666335\n",
      "min        1.000000\n",
      "25%        1.000000\n",
      "50%        2.000000\n",
      "75%        2.000000\n",
      "max        3.000000\n",
      "Name: difficulty, dtype: float64\n"
     ]
    }
   ],
   "source": [
    "# Obtener estadísticas básicas\n",
    "difficulty_stats = df['difficulty'].describe()\n",
    "print(difficulty_stats)"
   ]
  },
  {
   "cell_type": "markdown",
   "metadata": {},
   "source": [
    "**Resumen:** La función `describe()` proporciona estadísticas como media, desviación estándar, mínimo y máximo."
   ]
  },
  {
   "cell_type": "markdown",
   "metadata": {},
   "source": [
    "## Tema 7: Manejo de errores con try-except"
   ]
  },
  {
   "cell_type": "markdown",
   "metadata": {},
   "source": [
    "**Título:** Captura de errores con `try-except`\n",
    "\n",
    "**Descripción:**\n",
    "A veces, nuestro código puede lanzar errores inesperados. Podemos manejar estos errores usando `try-except` para evitar que el programa se detenga abruptamente.\n",
    "\n",
    "**Pista:**\n",
    "Ejecuta el siguiente código y observa qué error se produce. Luego, usa `try-except` para manejarlo.\n",
    "\n",
    "```python\n",
    "x = int('hola')\n",
    "```\n",
    "\n",
    "**Solución:**\n",
    "```python\n",
    "try:\n",
    "    x = int('hola')\n",
    "except ValueError:\n",
    "    print('Error: No se puede convertir un texto en número.')\n",
    "```\n",
    "\n",
    "**Resumen de la solución:**\n",
    "El error `ValueError` ocurre porque intentamos convertir una cadena no numérica en un entero. Lo manejamos con `try-except`."
   ]
  },
  {
   "cell_type": "markdown",
   "metadata": {},
   "source": [
    "## Tema 8: Listas por comprensión"
   ]
  },
  {
   "cell_type": "code",
   "execution_count": 23,
   "metadata": {},
   "outputs": [
    {
     "name": "stdout",
     "output_type": "stream",
     "text": [
      "[0, 1, 4, 9, 16, 25, 36, 49, 64, 81]\n"
     ]
    }
   ],
   "source": [
    "# Crear una lista de los primeros 10 números elevados al cuadrado\n",
    "squares = [x**2 for x in range(10)]\n",
    "print(squares)"
   ]
  },
  {
   "cell_type": "code",
   "execution_count": 52,
   "metadata": {},
   "outputs": [
    {
     "name": "stdout",
     "output_type": "stream",
     "text": [
      "[1, 4, 9, 16, 25]\n"
     ]
    }
   ],
   "source": [
    "# Crear una lista de los primeros 10 números elevados al cuadrado\n",
    "lista = [1, 2, 3, 4, 5]\n",
    "squares = [x**2 for x in lista]\n",
    "print(squares)"
   ]
  },
  {
   "cell_type": "markdown",
   "metadata": {},
   "source": [
    "**Resumen:** Se utiliza comprensión de listas para generar una lista de cuadrados de los primeros 10 números."
   ]
  },
  {
   "cell_type": "markdown",
   "metadata": {},
   "source": [
    "## Tema 9: Filtrado de datos con Pandas"
   ]
  },
  {
   "cell_type": "code",
   "execution_count": 54,
   "metadata": {},
   "outputs": [
    {
     "data": {
      "text/html": [
       "<div>\n",
       "<style scoped>\n",
       "    .dataframe tbody tr th:only-of-type {\n",
       "        vertical-align: middle;\n",
       "    }\n",
       "\n",
       "    .dataframe tbody tr th {\n",
       "        vertical-align: top;\n",
       "    }\n",
       "\n",
       "    .dataframe thead th {\n",
       "        text-align: right;\n",
       "    }\n",
       "</style>\n",
       "<table border=\"1\" class=\"dataframe\">\n",
       "  <thead>\n",
       "    <tr style=\"text-align: right;\">\n",
       "      <th></th>\n",
       "      <th>Unnamed: 0</th>\n",
       "      <th>id</th>\n",
       "      <th>apiname</th>\n",
       "      <th>title</th>\n",
       "      <th>difficulty</th>\n",
       "      <th>herotype</th>\n",
       "      <th>alttype</th>\n",
       "      <th>resource</th>\n",
       "      <th>stats</th>\n",
       "      <th>rangetype</th>\n",
       "      <th>...</th>\n",
       "      <th>be</th>\n",
       "      <th>rp</th>\n",
       "      <th>skill_i</th>\n",
       "      <th>skill_q</th>\n",
       "      <th>skill_w</th>\n",
       "      <th>skill_e</th>\n",
       "      <th>skill_r</th>\n",
       "      <th>skills</th>\n",
       "      <th>fullname</th>\n",
       "      <th>nickname</th>\n",
       "    </tr>\n",
       "  </thead>\n",
       "  <tbody>\n",
       "    <tr>\n",
       "      <th>3</th>\n",
       "      <td>Akshan</td>\n",
       "      <td>166.0</td>\n",
       "      <td>Akshan</td>\n",
       "      <td>the Rogue Sentinel</td>\n",
       "      <td>3</td>\n",
       "      <td>Marksman</td>\n",
       "      <td>Assassin</td>\n",
       "      <td>Mana</td>\n",
       "      <td>{'hp_base': 630, 'hp_lvl': 107, 'mp_base': 350...</td>\n",
       "      <td>Ranged</td>\n",
       "      <td>...</td>\n",
       "      <td>4800</td>\n",
       "      <td>880</td>\n",
       "      <td>{1: 'Dirty Fighting'}</td>\n",
       "      <td>{1: 'Avengerang'}</td>\n",
       "      <td>{1: 'Going Rogue'}</td>\n",
       "      <td>{1: 'Heroic Swing'}</td>\n",
       "      <td>{1: 'Comeuppance'}</td>\n",
       "      <td>{1: 'Dirty Fighting', 2: 'Avengerang', 3: 'Goi...</td>\n",
       "      <td>NaN</td>\n",
       "      <td>NaN</td>\n",
       "    </tr>\n",
       "  </tbody>\n",
       "</table>\n",
       "<p>1 rows × 33 columns</p>\n",
       "</div>"
      ],
      "text/plain": [
       "  Unnamed: 0     id apiname               title  difficulty  herotype  \\\n",
       "3     Akshan  166.0  Akshan  the Rogue Sentinel           3  Marksman   \n",
       "\n",
       "    alttype resource                                              stats  \\\n",
       "3  Assassin     Mana  {'hp_base': 630, 'hp_lvl': 107, 'mp_base': 350...   \n",
       "\n",
       "  rangetype  ...    be   rp                skill_i            skill_q  \\\n",
       "3    Ranged  ...  4800  880  {1: 'Dirty Fighting'}  {1: 'Avengerang'}   \n",
       "\n",
       "              skill_w              skill_e             skill_r  \\\n",
       "3  {1: 'Going Rogue'}  {1: 'Heroic Swing'}  {1: 'Comeuppance'}   \n",
       "\n",
       "                                              skills  fullname  nickname  \n",
       "3  {1: 'Dirty Fighting', 2: 'Avengerang', 3: 'Goi...       NaN       NaN  \n",
       "\n",
       "[1 rows x 33 columns]"
      ]
     },
     "execution_count": 54,
     "metadata": {},
     "output_type": "execute_result"
    }
   ],
   "source": [
    "df.query(\"difficulty >= 3\").head(1)"
   ]
  },
  {
   "cell_type": "code",
   "execution_count": 24,
   "metadata": {},
   "outputs": [
    {
     "name": "stdout",
     "output_type": "stream",
     "text": [
      "         apiname  difficulty\n",
      "3         Akshan           3\n",
      "5        Ambessa           3\n",
      "7         Anivia           3\n",
      "9       Aphelios           3\n",
      "11   AurelionSol           3\n",
      "13          Azir           3\n",
      "14          Bard           3\n",
      "21       Camille           3\n",
      "22    Cassiopeia           3\n",
      "29          Ekko           3\n",
      "37     Gangplank           3\n",
      "39          Gnar           3\n",
      "46          Hwei           3\n",
      "49         Ivern           3\n",
      "56        KSante           3\n",
      "58       Kalista           3\n",
      "67       Kindred           3\n",
      "74        Lillia           3\n",
      "94         Nilah           3\n",
      "103       Qiyana           3\n",
      "131        Sylas           3\n",
      "138       Thresh           3\n",
      "152        Viego           3\n",
      "153       Viktor           3\n",
      "161        Yasuo           3\n",
      "162         Yone           3\n",
      "166          Zed           3\n",
      "170          Zoe           3\n"
     ]
    }
   ],
   "source": [
    "# Filtrar campeones de dificultad mayor o igual a 3\n",
    "difficult_champions = df[df['difficulty'] >= 3]\n",
    "print(difficult_champions[['apiname', 'difficulty']])"
   ]
  },
  {
   "cell_type": "markdown",
   "metadata": {},
   "source": [
    "**Resumen:** Se usa `df[df['columna'] >= valor]` para filtrar filas con condiciones en Pandas."
   ]
  },
  {
   "cell_type": "markdown",
   "metadata": {},
   "source": [
    "## Tema 10: Uso de funciones lambda"
   ]
  },
  {
   "cell_type": "code",
   "execution_count": 25,
   "metadata": {},
   "outputs": [
    {
     "name": "stdout",
     "output_type": "stream",
     "text": [
      "10\n"
     ]
    }
   ],
   "source": [
    "# Función lambda para calcular el doble de un número\n",
    "doble = lambda x: x * 2\n",
    "print(doble(5))"
   ]
  },
  {
   "cell_type": "markdown",
   "metadata": {},
   "source": [
    "**Resumen:** Las funciones lambda permiten definir funciones anónimas en una sola línea."
   ]
  },
  {
   "cell_type": "markdown",
   "metadata": {},
   "source": [
    "## Tema 11: Estadística descriptiva con Pandas"
   ]
  },
  {
   "cell_type": "code",
   "execution_count": 26,
   "metadata": {},
   "outputs": [
    {
     "name": "stdout",
     "output_type": "stream",
     "text": [
      "Dificultad - Media: 1.8662790697674418\n",
      "Dificultad - Máximo: 3\n",
      "Dificultad - Mínimo: 1\n",
      "Dificultad - Desviación estándar: 0.6663350868597696\n"
     ]
    }
   ],
   "source": [
    "# Cargar datos nuevamente por si es necesario\n",
    "import pandas as pd\n",
    "df = pd.read_csv('200125_LoL_champion_data.csv')\n",
    "\n",
    "# Obtener estadísticas básicas de la columna difficulty\n",
    "print('Dificultad - Media:', df['difficulty'].mean())\n",
    "print('Dificultad - Máximo:', df['difficulty'].max())\n",
    "print('Dificultad - Mínimo:', df['difficulty'].min())\n",
    "print('Dificultad - Desviación estándar:', df['difficulty'].std())"
   ]
  },
  {
   "cell_type": "markdown",
   "metadata": {},
   "source": [
    "**Resumen:** Se usan métodos como `mean()`, `max()`, `min()`, y `std()` para obtener estadísticas clave en Pandas."
   ]
  },
  {
   "cell_type": "markdown",
   "metadata": {},
   "source": [
    "## Tema 12: Aplicar funciones lambda en Pandas"
   ]
  },
  {
   "cell_type": "code",
   "execution_count": 55,
   "metadata": {},
   "outputs": [
    {
     "data": {
      "text/plain": [
       "array([2, 3, 1], dtype=int64)"
      ]
     },
     "execution_count": 55,
     "metadata": {},
     "output_type": "execute_result"
    }
   ],
   "source": [
    "df['difficulty'].unique()"
   ]
  },
  {
   "cell_type": "code",
   "execution_count": 56,
   "metadata": {},
   "outputs": [
    {
     "name": "stdout",
     "output_type": "stream",
     "text": [
      "    apiname  difficulty difficulty_label\n",
      "0    Aatrox           2            Fácil\n",
      "1      Ahri           2            Fácil\n",
      "2     Akali           2            Fácil\n",
      "3    Akshan           3          Difícil\n",
      "4   Alistar           1            Fácil\n",
      "5   Ambessa           3          Difícil\n",
      "6     Amumu           1            Fácil\n",
      "7    Anivia           3          Difícil\n",
      "8     Annie           1            Fácil\n",
      "9  Aphelios           3          Difícil\n"
     ]
    }
   ],
   "source": [
    "# Crear una nueva columna 'difficulty_label' basada en la dificultad del campeón\n",
    "lambda_2 = lambda x: 'Fácil' if x <= 2 else 'Difícil'\n",
    "df['difficulty_label'] = df['difficulty'].apply(lambda_2)\n",
    "print(df[['apiname', 'difficulty', 'difficulty_label']].head(10))"
   ]
  },
  {
   "cell_type": "markdown",
   "metadata": {},
   "source": [
    "**Resumen:** Se usa `.apply(lambda x: ...)` para asignar etiquetas basadas en valores de una columna."
   ]
  },
  {
   "cell_type": "markdown",
   "metadata": {},
   "source": [
    "## Tema 13: Listas por comprensión con DataFrames"
   ]
  },
  {
   "cell_type": "code",
   "execution_count": 28,
   "metadata": {},
   "outputs": [
    {
     "name": "stdout",
     "output_type": "stream",
     "text": [
      "['Akshan', 'Ambessa', 'Anivia', 'Aphelios', 'AurelionSol', 'Azir', 'Bard', 'Camille', 'Cassiopeia', 'Ekko']\n"
     ]
    }
   ],
   "source": [
    "# Obtener una lista de nombres de campeones con dificultad mayor a 2 usando listas por comprensión\n",
    "high_difficulty_champs = [champ for champ in df['apiname'] if df[df['apiname'] == champ]['difficulty'].values[0] > 2]\n",
    "print(high_difficulty_champs[:10])"
   ]
  },
  {
   "cell_type": "markdown",
   "metadata": {},
   "source": [
    "**Resumen:** Se usa listas por comprensión para filtrar valores en base a condiciones dentro del DataFrame."
   ]
  }
 ],
 "metadata": {
  "kernelspec": {
   "display_name": "Python 3 (ipykernel)",
   "language": "python",
   "name": "python3"
  },
  "language_info": {
   "codemirror_mode": {
    "name": "ipython",
    "version": 3
   },
   "file_extension": ".py",
   "mimetype": "text/x-python",
   "name": "python",
   "nbconvert_exporter": "python",
   "pygments_lexer": "ipython3",
   "version": "3.12.7"
  }
 },
 "nbformat": 4,
 "nbformat_minor": 4
}
