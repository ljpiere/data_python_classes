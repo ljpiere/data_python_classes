{
 "cells": [
  {
   "cell_type": "markdown",
   "metadata": {},
   "source": [
    "# Clase de Python - 1 hora y 20 minutos"
   ]
  },
  {
   "cell_type": "code",
   "execution_count": 15,
   "metadata": {},
   "outputs": [],
   "source": [
    "import pandas as pd"
   ]
  },
  {
   "cell_type": "markdown",
   "metadata": {},
   "source": [
    "## Tema 0: Documentación en Python"
   ]
  },
  {
   "cell_type": "markdown",
   "metadata": {},
   "source": [
    "- Documentación funciones pyhton: https://docs.python.org/3/library/functions.html.\n",
    "- Documentación python general: https://docs.python.org/3/\n",
    "- Pandas: https://pandas.pydata.org/pandas-docs/stable/\n",
    "- Matplotlib: https://matplotlib.org/\n",
    "- StackOverflow: https://stackoverflow.com/"
   ]
  },
  {
   "cell_type": "markdown",
   "metadata": {},
   "source": [
    "## Tema 1: Cómo leer errores en Python con ejemplos"
   ]
  },
  {
   "cell_type": "markdown",
   "metadata": {},
   "source": [
    "**Título:** Comprendiendo los errores en Python\n",
    "\n",
    "**Descripción:**\n",
    "Los errores en Python pueden ser de distintos tipos: `SyntaxError`, `TypeError`, `IndexError`, etc.\n",
    "Leer los errores correctamente nos ayuda a depurar el código más rápido.\n",
    "\n",
    "**Pista:**\n",
    "Ejecuta el siguiente código y observa el error. Luego corrígelo.\n",
    "\n",
    "```python\n",
    "print('Hola' + 5)\n",
    "```\n",
    "\n",
    "**Solución:**\n",
    "```python\n",
    "print('Hola ' + str(5))\n",
    "```\n",
    "\n",
    "**Resumen de la solución:**\n",
    "El error `TypeError` ocurre porque intentamos concatenar un `str` con un `int`. La solución es convertir el número en una cadena."
   ]
  },
  {
   "cell_type": "markdown",
   "metadata": {},
   "source": [
    "## Tema 2: Recorrer diccionarios en bucle"
   ]
  },
  {
   "cell_type": "code",
   "execution_count": 16,
   "metadata": {},
   "outputs": [
    {
     "name": "stdout",
     "output_type": "stream",
     "text": [
      "Total Value: 758\n",
      "Total Value: 758\n"
     ]
    }
   ],
   "source": [
    "# Diccionario de ejemplo\n",
    "financial_info = {\n",
    "    'American Express': 93,\n",
    "    'Boeing': 178,\n",
    "    'Coca-Cola': 45,\n",
    "    'Walt Disney': 119,\n",
    "    'Nike': 97,\n",
    "    'JPMorgan': 96,\n",
    "    'Walmart': 130\n",
    "}\n",
    "\n",
    "# Recorrer valores\n",
    "total_value = sum(financial_info.values())\n",
    "print('Total Value:', total_value)\n",
    "\n",
    "# Recorrer claves y valores\n",
    "total_value = sum(value for key, value in financial_info.items())\n",
    "print('Total Value:', total_value)"
   ]
  },
  {
   "cell_type": "markdown",
   "metadata": {},
   "source": [
    "**Resumen:** Ambos métodos recorren el diccionario, ya sea solo por los valores o por clave-valor."
   ]
  },
  {
   "cell_type": "markdown",
   "metadata": {},
   "source": [
    "## Tema 3: Diccionarios anidados"
   ]
  },
  {
   "cell_type": "code",
   "execution_count": 17,
   "metadata": {},
   "outputs": [
    {
     "name": "stdout",
     "output_type": "stream",
     "text": [
      "Total Price: 36\n"
     ]
    }
   ],
   "source": [
    "# Lista de pedidos con diccionarios anidados\n",
    "order = [\n",
    "    {'item': 'Margherita pizza', 'category': 'pizza', 'quantity': 2, 'price': 9},\n",
    "    {'item': 'Ham pizza', 'category': 'pizza', 'quantity': 1, 'price': 12},\n",
    "    {'item': 'Pepsi 1 l', 'category': 'beverages', 'quantity': 3, 'price': 2}\n",
    "]\n",
    "\n",
    "# Calcular precio total\n",
    "total_price = sum(item['price'] * item['quantity'] for item in order)\n",
    "print('Total Price:', total_price)"
   ]
  },
  {
   "cell_type": "markdown",
   "metadata": {},
   "source": [
    "**Resumen:** Se utiliza un bucle para recorrer la lista y multiplicar `price` por `quantity` en cada entrada."
   ]
  },
  {
   "cell_type": "markdown",
   "metadata": {},
   "source": [
    "## Tema 4: Funciones con valores predeterminados"
   ]
  },
  {
   "cell_type": "code",
   "execution_count": 18,
   "metadata": {},
   "outputs": [
    {
     "name": "stdout",
     "output_type": "stream",
     "text": [
      "¡El omelet está listo! Huevos utilizados: 2\n",
      "¡El omelet está listo! Huevos utilizados: 4\n"
     ]
    }
   ],
   "source": [
    "# Función con valor predeterminado\n",
    "def omelet(eggs_number=2):\n",
    "    return f'¡El omelet está listo! Huevos utilizados: {eggs_number}'\n",
    "\n",
    "print(omelet())  # Usa el valor por defecto\n",
    "print(omelet(4))  # Usa el valor especificado"
   ]
  },
  {
   "cell_type": "markdown",
   "metadata": {},
   "source": [
    "**Resumen:** Se puede definir un valor por defecto en una función para que sea opcional pasarlo como argumento."
   ]
  },
  {
   "cell_type": "markdown",
   "metadata": {},
   "source": [
    "## Tema 5: Pandas - El objeto Series"
   ]
  },
  {
   "cell_type": "markdown",
   "metadata": {},
   "source": [
    "<div style=\"text-align: center;\">\n",
    "    <img src=\"lol.jpg\" alt=\"LoL\" style=\"width:50%;\"/>\n",
    "</div>"
   ]
  },
  {
   "cell_type": "code",
   "execution_count": 19,
   "metadata": {},
   "outputs": [],
   "source": [
    "# Cargar el archivo CSV\n",
    "df = pd.read_csv('200125_LoL_champion_data.csv')"
   ]
  },
  {
   "cell_type": "code",
   "execution_count": 20,
   "metadata": {},
   "outputs": [],
   "source": [
    "# Exploremos un poco"
   ]
  },
  {
   "cell_type": "code",
   "execution_count": 21,
   "metadata": {},
   "outputs": [
    {
     "name": "stdout",
     "output_type": "stream",
     "text": [
      "0      Aatrox\n",
      "1        Ahri\n",
      "2       Akali\n",
      "3      Akshan\n",
      "4     Alistar\n",
      "5     Ambessa\n",
      "6       Amumu\n",
      "7      Anivia\n",
      "8       Annie\n",
      "9    Aphelios\n",
      "Name: apiname, dtype: object\n"
     ]
    }
   ],
   "source": [
    "# Mostrar los primeros 10 nombres de campeones\n",
    "champion_names = df['apiname'][:10]\n",
    "print(champion_names)"
   ]
  },
  {
   "cell_type": "markdown",
   "metadata": {},
   "source": [
    "**Resumen:** En Pandas, una `Series` es una columna de datos dentro de un `DataFrame`."
   ]
  },
  {
   "cell_type": "markdown",
   "metadata": {},
   "source": [
    "## Tema 6: Pandas - Estadística descriptiva"
   ]
  },
  {
   "cell_type": "code",
   "execution_count": 22,
   "metadata": {},
   "outputs": [
    {
     "name": "stdout",
     "output_type": "stream",
     "text": [
      "count    172.000000\n",
      "mean       1.866279\n",
      "std        0.666335\n",
      "min        1.000000\n",
      "25%        1.000000\n",
      "50%        2.000000\n",
      "75%        2.000000\n",
      "max        3.000000\n",
      "Name: difficulty, dtype: float64\n"
     ]
    }
   ],
   "source": [
    "# Obtener estadísticas básicas\n",
    "difficulty_stats = df['difficulty'].describe()\n",
    "print(difficulty_stats)"
   ]
  },
  {
   "cell_type": "markdown",
   "metadata": {},
   "source": [
    "**Resumen:** La función `describe()` proporciona estadísticas como media, desviación estándar, mínimo y máximo."
   ]
  },
  {
   "cell_type": "markdown",
   "metadata": {},
   "source": [
    "## Tema 7: Manejo de errores con try-except"
   ]
  },
  {
   "cell_type": "markdown",
   "metadata": {},
   "source": [
    "**Título:** Captura de errores con `try-except`\n",
    "\n",
    "**Descripción:**\n",
    "A veces, nuestro código puede lanzar errores inesperados. Podemos manejar estos errores usando `try-except` para evitar que el programa se detenga abruptamente.\n",
    "\n",
    "**Pista:**\n",
    "Ejecuta el siguiente código y observa qué error se produce. Luego, usa `try-except` para manejarlo.\n",
    "\n",
    "```python\n",
    "x = int('hola')\n",
    "```\n",
    "\n",
    "**Solución:**\n",
    "```python\n",
    "try:\n",
    "    x = int('hola')\n",
    "except ValueError:\n",
    "    print('Error: No se puede convertir un texto en número.')\n",
    "```\n",
    "\n",
    "**Resumen de la solución:**\n",
    "El error `ValueError` ocurre porque intentamos convertir una cadena no numérica en un entero. Lo manejamos con `try-except`."
   ]
  },
  {
   "cell_type": "markdown",
   "metadata": {},
   "source": [
    "## Tema 8: Listas por comprensión"
   ]
  },
  {
   "cell_type": "code",
   "execution_count": 23,
   "metadata": {},
   "outputs": [
    {
     "name": "stdout",
     "output_type": "stream",
     "text": [
      "[0, 1, 4, 9, 16, 25, 36, 49, 64, 81]\n"
     ]
    }
   ],
   "source": [
    "# Crear una lista de los primeros 10 números elevados al cuadrado\n",
    "squares = [x**2 for x in range(10)]\n",
    "print(squares)"
   ]
  },
  {
   "cell_type": "markdown",
   "metadata": {},
   "source": [
    "**Resumen:** Se utiliza comprensión de listas para generar una lista de cuadrados de los primeros 10 números."
   ]
  },
  {
   "cell_type": "markdown",
   "metadata": {},
   "source": [
    "## Tema 9: Filtrado de datos con Pandas"
   ]
  },
  {
   "cell_type": "code",
   "execution_count": 24,
   "metadata": {},
   "outputs": [
    {
     "name": "stdout",
     "output_type": "stream",
     "text": [
      "         apiname  difficulty\n",
      "3         Akshan           3\n",
      "5        Ambessa           3\n",
      "7         Anivia           3\n",
      "9       Aphelios           3\n",
      "11   AurelionSol           3\n",
      "13          Azir           3\n",
      "14          Bard           3\n",
      "21       Camille           3\n",
      "22    Cassiopeia           3\n",
      "29          Ekko           3\n",
      "37     Gangplank           3\n",
      "39          Gnar           3\n",
      "46          Hwei           3\n",
      "49         Ivern           3\n",
      "56        KSante           3\n",
      "58       Kalista           3\n",
      "67       Kindred           3\n",
      "74        Lillia           3\n",
      "94         Nilah           3\n",
      "103       Qiyana           3\n",
      "131        Sylas           3\n",
      "138       Thresh           3\n",
      "152        Viego           3\n",
      "153       Viktor           3\n",
      "161        Yasuo           3\n",
      "162         Yone           3\n",
      "166          Zed           3\n",
      "170          Zoe           3\n"
     ]
    }
   ],
   "source": [
    "# Filtrar campeones de dificultad mayor o igual a 3\n",
    "difficult_champions = df[df['difficulty'] >= 3]\n",
    "print(difficult_champions[['apiname', 'difficulty']])"
   ]
  },
  {
   "cell_type": "markdown",
   "metadata": {},
   "source": [
    "**Resumen:** Se usa `df[df['columna'] >= valor]` para filtrar filas con condiciones en Pandas."
   ]
  },
  {
   "cell_type": "markdown",
   "metadata": {},
   "source": [
    "## Tema 10: Uso de funciones lambda"
   ]
  },
  {
   "cell_type": "code",
   "execution_count": 25,
   "metadata": {},
   "outputs": [
    {
     "name": "stdout",
     "output_type": "stream",
     "text": [
      "10\n"
     ]
    }
   ],
   "source": [
    "# Función lambda para calcular el doble de un número\n",
    "doble = lambda x: x * 2\n",
    "print(doble(5))"
   ]
  },
  {
   "cell_type": "markdown",
   "metadata": {},
   "source": [
    "**Resumen:** Las funciones lambda permiten definir funciones anónimas en una sola línea."
   ]
  },
  {
   "cell_type": "markdown",
   "metadata": {},
   "source": [
    "## Tema 11: Estadística descriptiva con Pandas"
   ]
  },
  {
   "cell_type": "code",
   "execution_count": 26,
   "metadata": {},
   "outputs": [
    {
     "name": "stdout",
     "output_type": "stream",
     "text": [
      "Dificultad - Media: 1.8662790697674418\n",
      "Dificultad - Máximo: 3\n",
      "Dificultad - Mínimo: 1\n",
      "Dificultad - Desviación estándar: 0.6663350868597696\n"
     ]
    }
   ],
   "source": [
    "# Cargar datos nuevamente por si es necesario\n",
    "import pandas as pd\n",
    "df = pd.read_csv('200125_LoL_champion_data.csv')\n",
    "\n",
    "# Obtener estadísticas básicas de la columna difficulty\n",
    "print('Dificultad - Media:', df['difficulty'].mean())\n",
    "print('Dificultad - Máximo:', df['difficulty'].max())\n",
    "print('Dificultad - Mínimo:', df['difficulty'].min())\n",
    "print('Dificultad - Desviación estándar:', df['difficulty'].std())"
   ]
  },
  {
   "cell_type": "markdown",
   "metadata": {},
   "source": [
    "**Resumen:** Se usan métodos como `mean()`, `max()`, `min()`, y `std()` para obtener estadísticas clave en Pandas."
   ]
  },
  {
   "cell_type": "markdown",
   "metadata": {},
   "source": [
    "## Tema 12: Aplicar funciones lambda en Pandas"
   ]
  },
  {
   "cell_type": "code",
   "execution_count": 27,
   "metadata": {},
   "outputs": [
    {
     "name": "stdout",
     "output_type": "stream",
     "text": [
      "    apiname  difficulty difficulty_label\n",
      "0    Aatrox           2            Fácil\n",
      "1      Ahri           2            Fácil\n",
      "2     Akali           2            Fácil\n",
      "3    Akshan           3          Difícil\n",
      "4   Alistar           1            Fácil\n",
      "5   Ambessa           3          Difícil\n",
      "6     Amumu           1            Fácil\n",
      "7    Anivia           3          Difícil\n",
      "8     Annie           1            Fácil\n",
      "9  Aphelios           3          Difícil\n"
     ]
    }
   ],
   "source": [
    "# Crear una nueva columna 'difficulty_label' basada en la dificultad del campeón\n",
    "df['difficulty_label'] = df['difficulty'].apply(lambda x: 'Fácil' if x <= 2 else 'Difícil')\n",
    "print(df[['apiname', 'difficulty', 'difficulty_label']].head(10))"
   ]
  },
  {
   "cell_type": "markdown",
   "metadata": {},
   "source": [
    "**Resumen:** Se usa `.apply(lambda x: ...)` para asignar etiquetas basadas en valores de una columna."
   ]
  },
  {
   "cell_type": "markdown",
   "metadata": {},
   "source": [
    "## Tema 13: Listas por comprensión con DataFrames"
   ]
  },
  {
   "cell_type": "code",
   "execution_count": 28,
   "metadata": {},
   "outputs": [
    {
     "name": "stdout",
     "output_type": "stream",
     "text": [
      "['Akshan', 'Ambessa', 'Anivia', 'Aphelios', 'AurelionSol', 'Azir', 'Bard', 'Camille', 'Cassiopeia', 'Ekko']\n"
     ]
    }
   ],
   "source": [
    "# Obtener una lista de nombres de campeones con dificultad mayor a 2 usando listas por comprensión\n",
    "high_difficulty_champs = [champ for champ in df['apiname'] if df[df['apiname'] == champ]['difficulty'].values[0] > 2]\n",
    "print(high_difficulty_champs[:10])"
   ]
  },
  {
   "cell_type": "markdown",
   "metadata": {},
   "source": [
    "**Resumen:** Se usa listas por comprensión para filtrar valores en base a condiciones dentro del DataFrame."
   ]
  }
 ],
 "metadata": {
  "kernelspec": {
   "display_name": "Python 3 (ipykernel)",
   "language": "python",
   "name": "python3"
  },
  "language_info": {
   "codemirror_mode": {
    "name": "ipython",
    "version": 3
   },
   "file_extension": ".py",
   "mimetype": "text/x-python",
   "name": "python",
   "nbconvert_exporter": "python",
   "pygments_lexer": "ipython3",
   "version": "3.12.7"
  }
 },
 "nbformat": 4,
 "nbformat_minor": 4
}
