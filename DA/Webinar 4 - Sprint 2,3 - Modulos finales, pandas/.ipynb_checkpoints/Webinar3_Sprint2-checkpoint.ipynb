{
 "cells": [
  {
   "cell_type": "markdown",
   "id": "37803673",
   "metadata": {},
   "source": [
    "# Webinar 3 - Sprint 2: Funciones, bucles y condicionales"
   ]
  },
  {
   "cell_type": "markdown",
   "id": "02608763",
   "metadata": {},
   "source": [
    "## Objetivo de la Clase\n",
    "Seguiremos explorando los conceptos básicos de python pero en esta ocasion abordaremos ejercicios complejos que nos permitirán desarrollar nuestra lógica de programación y crear código utilizando todas las funciones y métodos vistos hasta ahora."
   ]
  },
  {
   "cell_type": "markdown",
   "id": "8ce04147",
   "metadata": {},
   "source": [
    "#### Ejercicio 1: Iteracion de lista anidada\n",
    "1. Dado un inventario de productos con información como el ID del producto, el nombre, el precio y la categoría, escribe un programa que calcule el precio promedio de todos los productos en la lista. Imprime el precio promedio con un mensaje adecuado..\n",
    "- **Hint**: Utiliza un bucle para iterar sobre la lista de productos y sumar los precios. Luego, divide el precio total por el número de productos para obtener el precio promedio."
   ]
  },
  {
   "cell_type": "code",
   "execution_count": 1,
   "id": "9fa52379-6262-4cb1-941f-abfba585a11e",
   "metadata": {},
   "outputs": [],
   "source": [
    "# Inicimos el código aquí\n",
    "products = [\n",
    "    [1001, \"Laptop\", 1500, \"Electronics\"],\n",
    "    [1002, \"Desk Chair\", 250, \"Furniture\"],\n",
    "    [1003, \"Smartphone\", 800, \"Electronics\"],\n",
    "    [1004, \"Bookshelf\", 120, \"Furniture\"],\n",
    "    [1005, \"Blender\", 60, \"Home Appliances\"],\n",
    "    [1006, \"Headphones\", 200, \"Electronics\"],\n",
    "    [1007, \"Lamp\", 40, \"Home Decor\"],\n",
    "    [1008, \"Vacuum Cleaner\", 300, \"Home Appliances\"]\n",
    "]"
   ]
  },
  {
   "cell_type": "code",
   "execution_count": 8,
   "id": "f34cee5a-9957-450e-862c-18031093650a",
   "metadata": {},
   "outputs": [
    {
     "data": {
      "text/plain": [
       "[1500, 250, 800, 120, 60, 200, 40, 300]"
      ]
     },
     "execution_count": 8,
     "metadata": {},
     "output_type": "execute_result"
    }
   ],
   "source": [
    "lista_precios = []\n",
    "\n",
    "for product in products:\n",
    "    lista_precios.append(product[2])\n",
    "\n",
    "lista_precios"
   ]
  },
  {
   "cell_type": "code",
   "execution_count": 9,
   "id": "0def5815-1740-48ac-8370-acb9061b00ef",
   "metadata": {},
   "outputs": [
    {
     "name": "stdout",
     "output_type": "stream",
     "text": [
      "408.75\n"
     ]
    }
   ],
   "source": [
    "promedio = sum(lista_precios)/len(lista_precios)\n",
    "print(promedio)"
   ]
  },
  {
   "cell_type": "code",
   "execution_count": 11,
   "id": "54958172-87ae-4bc5-834c-1a9239f3e0f7",
   "metadata": {},
   "outputs": [],
   "source": [
    "products = [\n",
    "    [1001, \"Laptop\", 1500, \"Electronics\"],\n",
    "    [1002, \"Desk Chair\", 250, \"Furniture\"],\n",
    "    [1003, \"Smartphone\", 800, \"Electronics\"],\n",
    "    [1004, \"Bookshelf\", 120, \"Furniture\"],\n",
    "    [1005, \"Blender\", 60, \"Home Appliances\"],\n",
    "    [1006, \"Headphones\", 200, \"Electronics\"],\n",
    "    [1007, \"Lamp\", 40, \"Home Decor\"],\n",
    "    [1008, \"Vacuum Cleaner\", 300, \"Home Appliances\"]\n",
    "]\n",
    "\n",
    "total_price = 0\n",
    "num_products = 0\n",
    "\n",
    "for product in products:\n",
    "    total_price += product[2]\n",
    "    num_products += 1\n",
    "\n",
    "average_price = total_price / num_products\n",
    "\n",
    "print(\"The average price of the products is:\", average_price)\n"
   ]
  },
  {
   "cell_type": "markdown",
   "id": "7763e300",
   "metadata": {},
   "source": [
    "- [ ] **Check:** El codigo dentro del for se ejecutará para cada elemento que se itera."
   ]
  },
  {
   "cell_type": "markdown",
   "id": "3b1d1010",
   "metadata": {},
   "source": [
    "#### Ejercicio 2: Recordando condicionales\n",
    "2. Dado el inventario de productos, escribe un programa que imprima un mensaje indicando si el producto pertenece a la categoría \"Electronics\" y su precio es mayor a 500.\n",
    "\n",
    "- [ ] **Check:** Deberás utilizar sentencias condicionales para hacer esto."
   ]
  },
  {
   "cell_type": "code",
   "execution_count": null,
   "id": "9a41ab27-e6bd-436f-af80-f4ec01dc3f75",
   "metadata": {},
   "outputs": [],
   "source": [
    "# Inicimos el código aquí\n",
    "products = [\n",
    "    [1001, \"Laptop\", 1500, \"Electronics\"],\n",
    "    [1002, \"Desk Chair\", 250, \"Furniture\"],\n",
    "    [1003, \"Smartphone\", 800, \"Electronics\"],\n",
    "    [1004, \"Bookshelf\", 120, \"Furniture\"],\n",
    "    [1005, \"Blender\", 60, \"Home Appliances\"],\n",
    "    [1006, \"Headphones\", 200, \"Electronics\"],\n",
    "    [1007, \"Lamp\", 40, \"Home Decor\"],\n",
    "    [1008, \"Vacuum Cleaner\", 300, \"Home Appliances\"]\n",
    "]"
   ]
  },
  {
   "cell_type": "code",
   "execution_count": 11,
   "id": "19f141bb-6db5-4103-9aa2-fffe4e589cc0",
   "metadata": {},
   "outputs": [
    {
     "name": "stdout",
     "output_type": "stream",
     "text": [
      "1001\n",
      "1003\n"
     ]
    }
   ],
   "source": [
    "for product in products:\n",
    "    if product[3] == 'Electronics' and product[2] > 500:\n",
    "        print(product[0])"
   ]
  },
  {
   "cell_type": "code",
   "execution_count": null,
   "id": "f969bb0a-631d-4e6e-b9e4-eaec2be5e382",
   "metadata": {},
   "outputs": [],
   "source": []
  },
  {
   "cell_type": "code",
   "execution_count": null,
   "id": "0d42278e-9c11-4567-a2c8-78060c5ce77c",
   "metadata": {},
   "outputs": [],
   "source": []
  },
  {
   "cell_type": "code",
   "execution_count": null,
   "id": "3c8de26a-68d2-4c3e-958b-fdd0334aaa90",
   "metadata": {},
   "outputs": [],
   "source": []
  },
  {
   "cell_type": "code",
   "execution_count": null,
   "id": "5d84e571-93f4-46b9-8285-8076d698f55e",
   "metadata": {},
   "outputs": [],
   "source": [
    "for product in products:\n",
    "    if product[3] == \"Electronics\" and product[2] > 500:\n",
    "        print(f\"The product {product[1]} is in the Electronics category and costs more than 500.\")"
   ]
  },
  {
   "cell_type": "markdown",
   "id": "6bcbe767",
   "metadata": {},
   "source": [
    "- [ ] **Check:** Cada elemento iterado es una lista, la cual está anidada."
   ]
  },
  {
   "cell_type": "markdown",
   "id": "215b2521",
   "metadata": {},
   "source": [
    "#### Ejercicio 3: Iniciandonos en funciones.\n",
    "3. Dada una lista de números, escribe una función que devuelva la suma de todos los elementos en la lista.\n"
   ]
  },
  {
   "cell_type": "code",
   "execution_count": 7,
   "id": "4d58c2c5-4369-422e-a2b7-210b60afd689",
   "metadata": {},
   "outputs": [],
   "source": [
    "def sumaNumeros(lista_numeros):\n",
    "    total = 0\n",
    "    for x in lista_numeros:\n",
    "        total += x\n",
    "\n",
    "    print(total)"
   ]
  },
  {
   "cell_type": "code",
   "execution_count": 8,
   "id": "137ec3a5-0d80-4588-b9be-357ca8edb2ae",
   "metadata": {},
   "outputs": [],
   "source": [
    "# Inicimos el código aquí\n",
    "numbers = [5, 10, 15, 20, 25]"
   ]
  },
  {
   "cell_type": "code",
   "execution_count": 9,
   "id": "1b21be28-1bb8-4427-8fab-068fba5582cb",
   "metadata": {
    "scrolled": true
   },
   "outputs": [
    {
     "name": "stdout",
     "output_type": "stream",
     "text": [
      "75\n"
     ]
    }
   ],
   "source": [
    "sumaNumeros(numbers)"
   ]
  },
  {
   "cell_type": "code",
   "execution_count": 15,
   "id": "30b23406-999f-4026-9331-71a70def24bf",
   "metadata": {},
   "outputs": [],
   "source": [
    "def sumaNumeros_2(lista_numeros):\n",
    "    total = []\n",
    "    total_de_totales = 0\n",
    "    for x in lista_anidada:\n",
    "        total.append(sum(x))\n",
    "    total_de_totales=sum(total)\n",
    "    print(total_de_totales)"
   ]
  },
  {
   "cell_type": "code",
   "execution_count": 16,
   "id": "40598c85-d62d-463f-8d7d-185b0cb0d973",
   "metadata": {},
   "outputs": [],
   "source": [
    "lista_anidada = [\n",
    "                    [1,2,3],\n",
    "                    [4,5,6]\n",
    "                ]"
   ]
  },
  {
   "cell_type": "code",
   "execution_count": 17,
   "id": "0f7b43de-72f6-4e8a-a158-64e5150205f9",
   "metadata": {},
   "outputs": [
    {
     "name": "stdout",
     "output_type": "stream",
     "text": [
      "21\n"
     ]
    }
   ],
   "source": [
    "sumaNumeros_2(lista_anidada)"
   ]
  },
  {
   "cell_type": "code",
   "execution_count": null,
   "id": "ebb65555-024a-433d-b910-a9474dd19d01",
   "metadata": {},
   "outputs": [],
   "source": [
    "numbers = [5, 10, 15, 20, 25]\n",
    "\n",
    "def sum_of_numbers(num_list):\n",
    "    total = 0\n",
    "    for num in num_list:\n",
    "        total += num\n",
    "    return total\n",
    "\n",
    "result = sum_of_numbers(numbers)\n",
    "print(\"The sum of the numbers is:\", result)"
   ]
  },
  {
   "cell_type": "markdown",
   "id": "8de1ccb2",
   "metadata": {},
   "source": [
    "- [ ] **Check:** Una funcion se podría entender como una lista de ordenes/acciones automatizada."
   ]
  },
  {
   "cell_type": "markdown",
   "id": "ba17eb45",
   "metadata": {},
   "source": [
    "#### Ejercicio 4: Listas Anidadas\n",
    "4. Crea una lista que contenga otras dos listas, cada una con tres elementos. Luego, accede al segundo elemento de la segunda lista.\n",
    "- **Hint**: Utiliza dobles corchetes para acceder a listas anidadas."
   ]
  },
  {
   "cell_type": "code",
   "execution_count": null,
   "id": "fb98db8d-e108-4b21-9353-ba707adcab1e",
   "metadata": {},
   "outputs": [],
   "source": [
    "# Inicimos el código aquí\n"
   ]
  },
  {
   "cell_type": "code",
   "execution_count": 59,
   "id": "d7c6c3a4-4cdf-4423-adb6-72bbdfdc9410",
   "metadata": {},
   "outputs": [],
   "source": [
    "lista_anidada = [\n",
    "                    [1,2,3],\n",
    "                    [4,5,6]\n",
    "                ]"
   ]
  },
  {
   "cell_type": "code",
   "execution_count": 61,
   "id": "bc81e420-0395-4352-97d4-6bd9249cc40f",
   "metadata": {},
   "outputs": [
    {
     "name": "stdout",
     "output_type": "stream",
     "text": [
      "5\n"
     ]
    }
   ],
   "source": [
    "v2= lista_anidada[1][1]\n",
    "print(v2)"
   ]
  },
  {
   "cell_type": "code",
   "execution_count": 62,
   "id": "f3bbb34c-de44-4a44-92ea-95c47df23089",
   "metadata": {},
   "outputs": [
    {
     "name": "stdout",
     "output_type": "stream",
     "text": [
      "5\n"
     ]
    }
   ],
   "source": [
    "print(lista_anidada[1][1])"
   ]
  },
  {
   "cell_type": "code",
   "execution_count": null,
   "id": "8479c6da-ed8e-4d73-84a7-a1eb7c9730c9",
   "metadata": {},
   "outputs": [],
   "source": []
  },
  {
   "cell_type": "code",
   "execution_count": null,
   "id": "5340c5d8-c493-4a61-a169-617f005a7c67",
   "metadata": {},
   "outputs": [],
   "source": []
  },
  {
   "cell_type": "code",
   "execution_count": null,
   "id": "4d064673-5e42-4c84-99b4-bd83029c22f0",
   "metadata": {},
   "outputs": [],
   "source": []
  },
  {
   "cell_type": "code",
   "execution_count": null,
   "id": "bbcdeb68-5aae-4e3f-bf12-c354f37fbc6d",
   "metadata": {},
   "outputs": [],
   "source": []
  },
  {
   "cell_type": "code",
   "execution_count": null,
   "id": "ca30112d",
   "metadata": {},
   "outputs": [],
   "source": [
    "lista_anidada = [[1, 2, 3], [4, 5, 6]]\n",
    "elemento = lista_anidada[1][1]\n",
    "elemento"
   ]
  },
  {
   "cell_type": "markdown",
   "id": "2a482a0a",
   "metadata": {},
   "source": [
    "- [ ] **Check:** ¿Puedes acceder correctamente al elemento de una lista anidada?"
   ]
  },
  {
   "cell_type": "markdown",
   "id": "95b47190",
   "metadata": {},
   "source": [
    "#### Ejercicio 5: Procesamiento de Strings\n",
    "5. Crea una lista de palabras y conviértelas todas a mayúsculas.\n",
    "- **Hint**: Recuerdas Upper? Creo que no será tan sencillo usarlo aquí.\n",
    "- **Hint**: Puedes probar editando los elementos uno a uno si quieres.\n",
    "- **Hint**: Podemos usar un bucle o una comprensión de listas para aplicar `.upper()` a cada palabra."
   ]
  },
  {
   "cell_type": "code",
   "execution_count": 28,
   "id": "9402ba3b-e257-4617-a3fd-20b514dfa1fd",
   "metadata": {},
   "outputs": [],
   "source": [
    "# Inicimos el código aquí\n",
    "palabras = [\"data\", \"analytics\", \"python\"]\n",
    "\n",
    "mayusculas = []\n",
    "\n",
    "for palabra in palabras:\n",
    "    mayusculas.append(palabra.upper())"
   ]
  },
  {
   "cell_type": "code",
   "execution_count": 29,
   "id": "b6bdd6b8-7ce0-4b1e-b6ce-daa9ff1011e4",
   "metadata": {},
   "outputs": [
    {
     "name": "stdout",
     "output_type": "stream",
     "text": [
      "['DATA', 'ANALYTICS', 'PYTHON']\n"
     ]
    }
   ],
   "source": [
    "print(mayusculas)"
   ]
  },
  {
   "cell_type": "code",
   "execution_count": 30,
   "id": "279add92-bea8-4835-bf96-7f99ada23c1f",
   "metadata": {},
   "outputs": [],
   "source": [
    "# Inicimos el código aquí\n",
    "palabras = [\"data\", \"analytics\", \"python\"]\n",
    "\n",
    "mayusculas = []\n",
    "\n",
    "for palabra in palabras:\n",
    "    v1 = palabra.upper()\n",
    "    mayusculas.append(v1)"
   ]
  },
  {
   "cell_type": "code",
   "execution_count": 31,
   "id": "46c2bb7e-f8bd-46ed-adf9-a0c09a5859ca",
   "metadata": {},
   "outputs": [
    {
     "name": "stdout",
     "output_type": "stream",
     "text": [
      "['DATA', 'ANALYTICS', 'PYTHON']\n"
     ]
    }
   ],
   "source": [
    "print(mayusculas)"
   ]
  },
  {
   "cell_type": "code",
   "execution_count": 2,
   "id": "a771912a-4e65-4c9d-911d-953ff10814b6",
   "metadata": {},
   "outputs": [
    {
     "data": {
      "text/plain": [
       "['DATA', 'ANALYTICS', 'PYTHON']"
      ]
     },
     "execution_count": 2,
     "metadata": {},
     "output_type": "execute_result"
    }
   ],
   "source": [
    "palabras = [\"data\", \"analytics\", \"python\"]\n",
    "\n",
    "palabras_mayusculas = []\n",
    "\n",
    "for palabra in palabras:\n",
    "    palabras_mayusculas.append(palabra.upper())\n",
    "\n",
    "palabras_mayusculas"
   ]
  },
  {
   "cell_type": "code",
   "execution_count": null,
   "id": "15a5440f",
   "metadata": {},
   "outputs": [],
   "source": [
    "palabras = [\"data\", \"analytics\", \"python\"]\n",
    "palabras_mayusculas = [palabra.upper() for palabra in palabras]\n",
    "palabras_mayusculas"
   ]
  },
  {
   "cell_type": "code",
   "execution_count": 32,
   "id": "10129754-784f-4b4b-81c8-4b8cdc0aa56e",
   "metadata": {},
   "outputs": [],
   "source": [
    "palabras_mayusculas=[palabra.upper() for palabra in palabras]"
   ]
  },
  {
   "cell_type": "code",
   "execution_count": 33,
   "id": "5aeac6e6-c0d0-4c14-be16-f1cfee72d7aa",
   "metadata": {},
   "outputs": [
    {
     "data": {
      "text/plain": [
       "['DATA', 'ANALYTICS', 'PYTHON']"
      ]
     },
     "execution_count": 33,
     "metadata": {},
     "output_type": "execute_result"
    }
   ],
   "source": [
    "palabras_mayusculas"
   ]
  },
  {
   "cell_type": "markdown",
   "id": "c4cdb47b-40da-4647-adb5-e7bddd9a5e2c",
   "metadata": {},
   "source": [
    "#### Ejercicio 6: Contar Ocurrencias en una Lista"
   ]
  },
  {
   "cell_type": "markdown",
   "id": "7d43e1ed-9f5c-4381-8646-85f7598f3434",
   "metadata": {},
   "source": [
    "Dada una lista de cadenas, escribe una función que cuente cuántas veces aparece cada cadena en la lista. La función debe devolver un diccionario donde las claves sean las cadenas y los valores sean el número de veces que aparecen.\n",
    "\n",
    "`Input: ['apple', 'banana', 'apple', 'orange', 'banana', 'banana','Watermelon']`"
   ]
  },
  {
   "cell_type": "markdown",
   "id": "2cd06aaa-2dd3-40ae-874a-1f6ba92d9a40",
   "metadata": {},
   "source": [
    "- **Hint**: Podríamos usar un diccionario para almacenar los elementos que vamos encontrando y accediento a sus llaves `.keys` hacer el condicional para validar si el elemento ya existe en el diccionario y sumarle 1."
   ]
  },
  {
   "cell_type": "code",
   "execution_count": 2,
   "id": "6677ea88-b0cf-48fb-ba29-40fe8db52231",
   "metadata": {},
   "outputs": [],
   "source": [
    "# Inicimos el código aquí\n"
   ]
  },
  {
   "cell_type": "code",
   "execution_count": 34,
   "id": "8f39c8d7-731e-4e1e-ae12-7e90fe1f204f",
   "metadata": {},
   "outputs": [],
   "source": [
    "def contar_ocurrencias(lista_a_contar):\n",
    "    diccionario = {}\n",
    "\n",
    "    for llave in lista_a_contar:\n",
    "        if llave in diccionario.keys():\n",
    "            diccionario[llave] += 1\n",
    "        else:\n",
    "            diccionario[llave] = 1\n",
    "\n",
    "    return diccionario"
   ]
  },
  {
   "cell_type": "code",
   "execution_count": 35,
   "id": "e1df69cc-ca9f-4f1c-a903-98bc59f022c2",
   "metadata": {},
   "outputs": [],
   "source": [
    "lista = ['apple', 'banana', 'apple', 'orange', 'banana', 'banana','Watermelon']"
   ]
  },
  {
   "cell_type": "code",
   "execution_count": 36,
   "id": "adf94375-d408-4897-b24b-4f124c7a22ee",
   "metadata": {},
   "outputs": [
    {
     "data": {
      "text/plain": [
       "{'apple': 2, 'banana': 3, 'orange': 1, 'Watermelon': 1}"
      ]
     },
     "execution_count": 36,
     "metadata": {},
     "output_type": "execute_result"
    }
   ],
   "source": [
    "contar_ocurrencias(lista)"
   ]
  },
  {
   "cell_type": "code",
   "execution_count": null,
   "id": "de3fa027-7da0-4db0-9475-d4a459de7eea",
   "metadata": {},
   "outputs": [],
   "source": []
  },
  {
   "cell_type": "code",
   "execution_count": null,
   "id": "1c15095a-ef38-49b5-946a-dcbedcdebc2e",
   "metadata": {},
   "outputs": [],
   "source": [
    "def contar_ocurrencias(lista):\n",
    "    ocurrencias = {}\n",
    "    for item in lista:\n",
    "        if item in ocurrencias.keys():\n",
    "            ocurrencias[item] += 1\n",
    "        else:\n",
    "            ocurrencias[item] = 1\n",
    "    return ocurrencias\n",
    "\n",
    "# Ejemplo de uso\n",
    "print(contar_ocurrencias(['apple', 'banana', 'apple', 'orange', 'banana', 'banana']))\n",
    "# Salida esperada: {'apple': 2, 'banana': 3, 'orange': 1}\n"
   ]
  },
  {
   "cell_type": "markdown",
   "id": "25aa790e-c1e1-47be-820f-547816b5a9c5",
   "metadata": {},
   "source": [
    "#### Ejercicio 7: Sumar Elementos de una Lista en Pares"
   ]
  },
  {
   "cell_type": "markdown",
   "id": "7085d0cf-0f86-4328-a916-0703fd83b7bf",
   "metadata": {},
   "source": [
    "Descripción: Escribe una función que tome una lista de números enteros y devuelva una lista que contenga la suma de cada par de números consecutivos. "
   ]
  },
  {
   "cell_type": "markdown",
   "id": "4db44cf0-227a-4b30-8660-35152f6125ca",
   "metadata": {},
   "source": [
    "Por ejemplo, dado `[1, 2, 3, 4]`, la salida debe ser `[3, 5, 7]`."
   ]
  },
  {
   "cell_type": "markdown",
   "id": "69d2cda7-ea50-4ac3-a8a6-4e04901d1743",
   "metadata": {},
   "source": [
    "- **Hint**: Podríamos usar una lista auxiliar dentro de la funcion para agregar los nuevos elementos.\n",
    "- **Hint 2**: Si recibimos una lista, debemos de retornar una lista. El nuevo elemento a agregar será la operación con los números a tomar.\n",
    "- **Hint 3**: Debemos de comenzar a jugar con los indices de los números."
   ]
  },
  {
   "cell_type": "code",
   "execution_count": 4,
   "id": "3d831445-f813-4c76-ab80-e45f155fe232",
   "metadata": {},
   "outputs": [],
   "source": [
    "# Inicimos el código aquí\n"
   ]
  },
  {
   "cell_type": "code",
   "execution_count": null,
   "id": "2726548d-5fc9-42c8-a025-77ff1623bf0c",
   "metadata": {},
   "outputs": [],
   "source": []
  },
  {
   "cell_type": "code",
   "execution_count": null,
   "id": "61420b12-60d5-4d27-a6b6-37f424cd87c8",
   "metadata": {},
   "outputs": [],
   "source": []
  },
  {
   "cell_type": "code",
   "execution_count": null,
   "id": "f085b2f8-6fb9-4296-b8ec-eb92ae8a8be9",
   "metadata": {},
   "outputs": [],
   "source": []
  },
  {
   "cell_type": "code",
   "execution_count": null,
   "id": "c3d49dc4-2731-49e3-838a-a77db649dc7b",
   "metadata": {},
   "outputs": [],
   "source": []
  },
  {
   "cell_type": "code",
   "execution_count": null,
   "id": "c20cae8b-b065-43b9-9c54-076206d8b95b",
   "metadata": {},
   "outputs": [],
   "source": [
    "# Bueno, tenemos dos formas de hacer esto\n",
    "\n",
    "def sumar_pares_consecutivos(lista):\n",
    "    return [lista[i] + lista[i + 1] for i in range(len(lista) - 1)]\n",
    "\n",
    "def sumar_pares_consecutivos_2(lista):\n",
    "  lista_2 = []\n",
    "  for indice in range(len(lista)-1):\n",
    "    lista_2.append( lista[indice] + lista[indice + 1]  )\n",
    "\n",
    "  return lista_2\n",
    "\n",
    "# Ejemplo de uso\n",
    "print(sumar_pares_consecutivos_2([1, 2, 3, 4]))\n",
    "# Salida esperada: [3, 5, 7]\n"
   ]
  },
  {
   "cell_type": "markdown",
   "id": "102b947a-ac8d-4d74-a7fc-9e9d961d8575",
   "metadata": {},
   "source": [
    "#### Final: Sistema de Pedidos e Inventario"
   ]
  },
  {
   "cell_type": "markdown",
   "id": "62f920df-dc5c-45d4-a1a8-8a113c8d1829",
   "metadata": {},
   "source": [
    "Supongamos que tienes una tienda que gestiona inventarios y pedidos. Cada pedido incluye un precio unitario, cantidad y un descuento. Tu tarea será procesar los pedidos, calcular ingresos, aplicar descuentos y actualizar el inventario."
   ]
  },
  {
   "cell_type": "markdown",
   "id": "031679d1-9d13-4767-bd93-86224cdc3d4c",
   "metadata": {},
   "source": [
    "**Procesar los pedidos:**\n",
    "- Calcular el ingreso total después de aplicar descuentos.\n",
    "- Actualizar el inventario global reduciendo la cantidad de productos vendidos.\n",
    "- Si el producto no está en el inventario, agregarlo como nuevo con la cantidad correspondiente.\n",
    "\n",
    "**Resultados esperados:**\n",
    "- Lista de ingresos netos por pedido.\n",
    "- Inventario actualizado después de procesar los pedidos.\n",
    "- El valor del pedido más alto.\n",
    "\n",
    "**Pistas:**\n",
    "- **Hint**: Usa desempaquetado de listas para extraer datos de los pedidos.\n",
    "- **Hint 2 **: Usa variables locales para realizar cálculos temporales dentro de funciones.\n",
    "- **Hint 3**: Usa variables globales para actualizar el inventario."
   ]
  },
  {
   "cell_type": "code",
   "execution_count": null,
   "id": "b8a8e30c-3f36-4fe5-a515-9941e60cdce4",
   "metadata": {},
   "outputs": [],
   "source": [
    "# Inventario inicial\n",
    "inventory = {\n",
    "    'manzana': 50,\n",
    "    'plátano': 30,\n",
    "    'naranja': 20,\n",
    "    'uva': 40\n",
    "}\n",
    "\n",
    "# Pedidos: [producto, precio unitario, cantidad, descuento]\n",
    "orders = [\n",
    "    ['manzana', 1.5, 10, 0.10],   # 10 manzanas con 10% de descuento\n",
    "    ['plátano', 0.8, 5, 0.00],    # 5 plátanos sin descuento\n",
    "    ['naranja', 1.2, 15, 0.05],   # 15 naranjas con 5% de descuento\n",
    "    ['uva', 2.0, 25, 0.20],       # 25 uvas con 20% de descuento\n",
    "    ['pera', 1.8, 10, 0.15],      # 10 peras (producto nuevo) con 15% de descuento\n",
    "]\n"
   ]
  },
  {
   "cell_type": "code",
   "execution_count": null,
   "id": "eeccf677-8062-4235-b9ff-c15290e06e65",
   "metadata": {},
   "outputs": [],
   "source": []
  },
  {
   "cell_type": "markdown",
   "id": "68b0d0c7",
   "metadata": {},
   "source": [
    "### Conclusiones\n",
    "Hoy hemos cubierto los conceptos intermedios de listas, bucles y sentencias condicionales, que son herramientas fundamentales para el análisis de datos. Sabemos que fue algo desafiante la clase de hoy, pero, el objetivo es retar tu logica de programacion."
   ]
  },
  {
   "cell_type": "markdown",
   "id": "f5becf99",
   "metadata": {},
   "source": [
    "### Tarea\n",
    "- Practica con más ejercicios de listas y bucles en [w3schools - Python Lists](https://www.w3schools.com/python/python_lists.asp).\n",
    "- Resuelve algunos ejercicios de bucles en [HackerRank - Python Loops](https://www.hackerrank.com/domains/tutorials/10-days-of-python)."
   ]
  },
  {
   "cell_type": "markdown",
   "id": "7458bda6",
   "metadata": {},
   "source": [
    "### Takeaways\n",
    "- Utilizar `list comprehensions` es una forma eficiente y elegante de procesar listas.\n",
    "- Los bucles `while` requieren condiciones bien definidas para evitar ejecuciones infinitas.\n",
    "- Aprender a combinar sentencias `if` con bucles es clave para realizar operaciones de filtrado y transformación en listas."
   ]
  }
 ],
 "metadata": {
  "kernelspec": {
   "display_name": "Python 3 (ipykernel)",
   "language": "python",
   "name": "python3"
  },
  "language_info": {
   "codemirror_mode": {
    "name": "ipython",
    "version": 3
   },
   "file_extension": ".py",
   "mimetype": "text/x-python",
   "name": "python",
   "nbconvert_exporter": "python",
   "pygments_lexer": "ipython3",
   "version": "3.12.7"
  }
 },
 "nbformat": 4,
 "nbformat_minor": 5
}
