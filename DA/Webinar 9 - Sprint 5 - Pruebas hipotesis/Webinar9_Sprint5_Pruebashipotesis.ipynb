{
 "cells": [
  {
   "cell_type": "markdown",
   "metadata": {},
   "source": [
    "# Probabilidad y Estadística en Python\n",
    "\n",
    "Este notebook cubre los fundamentos de combinatoria, probabilidad, distribuciones y pruebas de hipótesis en Python.\n",
    "Incluye explicaciones teóricas, fórmulas y ejemplos prácticos con código bien documentado."
   ]
  },
  {
   "cell_type": "markdown",
   "metadata": {},
   "source": [
    "## 1. Fundamentos de Combinatoria y Probabilidad"
   ]
  },
  {
   "cell_type": "markdown",
   "metadata": {},
   "source": [
    "### 1.1 Factoriales\n",
    "\n",
    "El **factorial** de un número entero positivo `n`, representado como `n!`, se define como:\n",
    "\n",
    "$$ \n",
    "n! = n \\times (n-1) \\times (n-2) \\times \\cdots \\times 1 \n",
    "$$\n",
    "\n",
    "\n",
    "Por convención, se define que `0! = 1`.\n",
    "\n",
    "Se usa en combinatoria para contar permutaciones y combinaciones."
   ]
  },
  {
   "cell_type": "code",
   "execution_count": 3,
   "metadata": {},
   "outputs": [
    {
     "name": "stdout",
     "output_type": "stream",
     "text": [
      "El factorial de 5 es: 120\n"
     ]
    }
   ],
   "source": [
    "# Importar la función factorial\n",
    "from math import factorial\n",
    "\n",
    "# Calcular el factorial de 3\n",
    "n = 5\n",
    "print(f'El factorial de {n} es:', factorial(n))"
   ]
  },
  {
   "cell_type": "markdown",
   "metadata": {},
   "source": [
    "### 1.2 Combinaciones\n",
    "\n",
    "Una combinación es la selección de `k` elementos de un conjunto de `n` elementos sin importar el orden.\n",
    "\n",
    "La fórmula para calcular combinaciones es:\n",
    "\n",
    "$$\n",
    "C(n, k) = \\frac{n!}{k!(n-k)!}\n",
    "$$"
   ]
  },
  {
   "cell_type": "code",
   "execution_count": 4,
   "metadata": {},
   "outputs": [
    {
     "name": "stdout",
     "output_type": "stream",
     "text": [
      "El número de formas de elegir 2 elementos de 5 es: 10.0\n"
     ]
    }
   ],
   "source": [
    "# Calcular combinaciones\n",
    "n = 5  # Número total de elementos\n",
    "k = 2  # Número de elementos a elegir\n",
    "\n",
    "combinations = factorial(n) / (factorial(k) * factorial(n - k))\n",
    "print(f'El número de formas de elegir {k} elementos de {n} es:', combinations)"
   ]
  },
  {
   "cell_type": "markdown",
   "metadata": {},
   "source": [
    "### 1.3 Distribuciones de Datos\n",
    "\n",
    "Las distribuciones de datos nos permiten agrupar valores en categorías para analizarlos mejor.\n",
    "A continuación, organizamos calificaciones de exámenes en categorías."
   ]
  },
  {
   "cell_type": "code",
   "execution_count": 5,
   "metadata": {},
   "outputs": [
    {
     "name": "stdout",
     "output_type": "stream",
     "text": [
      "excellent: 1\n",
      "good: 2\n",
      "average: 14\n",
      "passable: 10\n",
      "failed: 3\n"
     ]
    }
   ],
   "source": [
    "import numpy as np\n",
    "\n",
    "# Datos de calificaciones\n",
    "exam_results = np.array([\n",
    "    42, 56, 59, 76, 43, 34, 62, 51, 50, 65,\n",
    "    66, 50, 46, 5, 79, 99, 51, 26, 35, 8,\n",
    "    34, 47, 64, 58, 61, 12, 30, 63, 20, 68\n",
    "])\n",
    "\n",
    "# Diccionario para categorizar los datos\n",
    "summarized_data = {'excellent': 0, 'good': 0, 'average': 0, 'passable': 0, 'failed': 0}\n",
    "\n",
    "# Clasificación de resultados\n",
    "for score in exam_results:\n",
    "    if score >= 90:\n",
    "        summarized_data['excellent'] += 1\n",
    "    elif score >= 70:\n",
    "        summarized_data['good'] += 1\n",
    "    elif score >= 50:\n",
    "        summarized_data['average'] += 1\n",
    "    elif score >= 20:\n",
    "        summarized_data['passable'] += 1\n",
    "    else:\n",
    "        summarized_data['failed'] += 1\n",
    "\n",
    "# Mostrar resultados\n",
    "for category, count in summarized_data.items():\n",
    "    print(f'{category}: {count}')"
   ]
  },
  {
   "cell_type": "markdown",
   "metadata": {},
   "source": [
    "## 2. Distribución Binomial\n",
    "\n",
    "La **distribución binomial** modela el número de éxitos en `n` ensayos independientes donde cada ensayo tiene probabilidad `p` de éxito.\n",
    "\n",
    "Su fórmula es:\n",
    "\n",
    "$$\n",
    "P(k) = C(n, k) p^k (1 - p)^{n - k}\n",
    "$$"
   ]
  },
  {
   "cell_type": "code",
   "execution_count": 4,
   "metadata": {},
   "outputs": [
    {
     "name": "stdout",
     "output_type": "stream",
     "text": [
      "Probabilidad de que exactamente 50 de 80 clientes compren: 0.0826713508623046\n"
     ]
    }
   ],
   "source": [
    "# Calcular una probabilidad binomial\n",
    "from math import factorial\n",
    "\n",
    "p = 0.6  # Probabilidad de éxito\n",
    "q = 0.4  # Probabilidad de fallo\n",
    "n = 80   # Número total de clientes\n",
    "k = 50   # Número de clientes que compran\n",
    "\n",
    "probability = (factorial(n) / (factorial(k) * factorial(n - k))) * (p ** k) * (q ** (n - k))\n",
    "print(f'Probabilidad de que exactamente {k} de {n} clientes compren:', probability)"
   ]
  },
  {
   "cell_type": "markdown",
   "metadata": {},
   "source": [
    "## 3. Distribución Normal\n",
    "\n",
    "La **distribución normal** se usa para modelar variables continuas con una media `μ` y desviación estándar `σ`.\n",
    "\n",
    "Se define por la función de densidad de probabilidad:\n",
    "\n",
    "$$\n",
    "f(x) = \\frac{1}{\\sigma \\sqrt{2\\pi}} e^{-\\frac{(x - \\mu)^2}{2\\sigma^2}}\n",
    "$$"
   ]
  },
  {
   "cell_type": "code",
   "execution_count": 7,
   "metadata": {},
   "outputs": [
    {
     "name": "stdout",
     "output_type": "stream",
     "text": [
      "Probabilidad de que el costo sea menor a 3000: 0.09121121972586788\n"
     ]
    }
   ],
   "source": [
    "from scipy import stats as st\n",
    "\n",
    "# Parámetros de la distribución\n",
    "mu = 5000  # Media\n",
    "sigma = 1500  # Desviación estándar\n",
    "desired_cost = 3000  # Valor a evaluar\n",
    "\n",
    "# Probabilidad acumulada\n",
    "probability = st.norm(mu, sigma).cdf(desired_cost)\n",
    "print(f'Probabilidad de que el costo sea menor a {desired_cost}:', probability)"
   ]
  },
  {
   "cell_type": "markdown",
   "metadata": {},
   "source": [
    "## 4. Pruebas de Hipótesis\n",
    "\n",
    "Las pruebas de hipótesis nos ayudan a determinar si una afirmación sobre una población es válida con cierto nivel de confianza.\n",
    "\n",
    "Se usan valores `p` para decidir si rechazamos la hipótesis nula `H0`."
   ]
  },
  {
   "cell_type": "code",
   "execution_count": 6,
   "metadata": {},
   "outputs": [
    {
     "name": "stdout",
     "output_type": "stream",
     "text": [
      "Valor p: 0.0176168256271105\n",
      "Rechazamos la hipótesis nula\n"
     ]
    }
   ],
   "source": [
    "from scipy import stats as st\n",
    "import pandas as pd\n",
    "\n",
    "# Datos de prueba\n",
    "scooters = pd.Series([15, 31, 10, 21, 21, 32, 30, 25, 21, 28])\n",
    "optimal_value = 30  # Valor de referencia\n",
    "alpha = 0.05  # Nivel de significación\n",
    "\n",
    "# Prueba t de una muestra\n",
    "results = st.ttest_1samp(scooters, optimal_value)\n",
    "print('Valor p:', results.pvalue)\n",
    "\n",
    "if results.pvalue < alpha:\n",
    "    print('Rechazamos la hipótesis nula')\n",
    "else:\n",
    "    print('No podemos rechazar la hipótesis nula')"
   ]
  },
  {
   "cell_type": "markdown",
   "metadata": {},
   "source": [
    "# Probabilidad y Estadística en Python\n",
    "\n",
    "Se han añadido más ejercicios y explicaciones detalladas para hacer esta clase más extensa y completa."
   ]
  },
  {
   "cell_type": "markdown",
   "metadata": {},
   "source": [
    "## 1.4 Permutaciones\n",
    "\n",
    "Las **permutaciones** son el número de formas en que podemos organizar un conjunto de `n` elementos en `k` posiciones considerando el orden.\n",
    "\n",
    "La fórmula es:\n",
    "\n",
    "$$\n",
    "P(n, k) = \\frac{n!}{(n-k)!}\n",
    "$$"
   ]
  },
  {
   "cell_type": "code",
   "execution_count": 7,
   "metadata": {},
   "outputs": [
    {
     "name": "stdout",
     "output_type": "stream",
     "text": [
      "El número de formas de ordenar 3 elementos de 5 es: 60.0\n"
     ]
    }
   ],
   "source": [
    "# Calcular permutaciones\n",
    "from math import factorial\n",
    "\n",
    "n = 5  # Número total de elementos\n",
    "k = 3  # Número de elementos a ordenar\n",
    "\n",
    "permutations = factorial(n) / factorial(n - k)\n",
    "print(f'El número de formas de ordenar {k} elementos de {n} es:', permutations)"
   ]
  },
  {
   "cell_type": "markdown",
   "metadata": {},
   "source": [
    "## 1.5 Ejercicio de combinaciones y permutaciones\n",
    "\n",
    "**Ejercicio:**\n",
    "En una carrera de 8 participantes, ¿de cuántas maneras pueden ganar los 3 primeros lugares?"
   ]
  },
  {
   "cell_type": "code",
   "execution_count": 8,
   "metadata": {},
   "outputs": [
    {
     "name": "stdout",
     "output_type": "stream",
     "text": [
      "Número de maneras de ganar los 3 primeros lugares: 336.0\n"
     ]
    }
   ],
   "source": [
    "# Solución al ejercicio de combinaciones y permutaciones\n",
    "n = 8  # Total de corredores\n",
    "k = 3  # Posiciones en el podio\n",
    "\n",
    "ways_to_win = factorial(n) / factorial(n - k)\n",
    "print(f'Número de maneras de ganar los 3 primeros lugares:', ways_to_win)"
   ]
  },
  {
   "cell_type": "markdown",
   "metadata": {},
   "source": [
    "## 2.1 Distribución Binomial con más ejemplos\n",
    "\n",
    "**Ejercicio:**\n",
    "Si lanzamos una moneda 10 veces, ¿cuál es la probabilidad de obtener exactamente 6 caras?"
   ]
  },
  {
   "cell_type": "code",
   "execution_count": 9,
   "metadata": {},
   "outputs": [
    {
     "name": "stdout",
     "output_type": "stream",
     "text": [
      "Probabilidad de obtener exactamente 6 caras en 10 lanzamientos: 0.205078125\n"
     ]
    }
   ],
   "source": [
    "# Probabilidad binomial en un lanzamiento de moneda\n",
    "p = 0.5  # Probabilidad de cara\n",
    "q = 1 - p  # Probabilidad de cruz\n",
    "n = 10  # Número total de lanzamientos\n",
    "k = 6  # Número de éxitos (caras)\n",
    "\n",
    "probability = (factorial(n) / (factorial(k) * factorial(n - k))) * (p ** k) * (q ** (n - k))\n",
    "print(f'Probabilidad de obtener exactamente {k} caras en {n} lanzamientos:', probability)"
   ]
  },
  {
   "cell_type": "markdown",
   "metadata": {},
   "source": [
    "## 3.1 Distribución Normal con Gráficos\n",
    "\n",
    "Para visualizar la distribución normal, generaremos una gráfica con valores aleatorios."
   ]
  },
  {
   "cell_type": "code",
   "execution_count": 10,
   "metadata": {},
   "outputs": [
    {
     "data": {
      "image/png": "[encoded data removed]",
      "text/plain": [
       "<Figure size 640x480 with 1 Axes>"
      ]
     },
     "metadata": {},
     "output_type": "display_data"
    }
   ],
   "source": [
    "import numpy as np\n",
    "import matplotlib.pyplot as plt\n",
    "from scipy.stats import norm\n",
    "\n",
    "# Parámetros\n",
    "mu = 100  # Media\n",
    "sigma = 15  # Desviación estándar\n",
    "\n",
    "# Generar datos\n",
    "x = np.linspace(mu - 4*sigma, mu + 4*sigma, 100)\n",
    "y = norm.pdf(x, mu, sigma)\n",
    "\n",
    "# Graficar la distribución normal\n",
    "plt.plot(x, y, label='Distribución Normal')\n",
    "plt.title('Distribución Normal')\n",
    "plt.xlabel('Valor')\n",
    "plt.ylabel('Densidad de Probabilidad')\n",
    "plt.legend()\n",
    "plt.grid()\n",
    "plt.show()"
   ]
  },
  {
   "cell_type": "markdown",
   "metadata": {},
   "source": [
    "## 4.1 Pruebas de Hipótesis usando 1samp\n",
    "\n",
    "**Ejercicio:**\n",
    "Un profesor afirma que el tiempo promedio de estudio de sus alumnos es de 5 horas diarias.\n",
    "Para comprobar esto, toma una muestra aleatoria de 30 estudiantes y registra el tiempo de estudio.\n",
    "Realizaremos una prueba de hipótesis para verificar esta afirmación."
   ]
  },
  {
   "cell_type": "code",
   "execution_count": 11,
   "metadata": {},
   "outputs": [
    {
     "name": "stdout",
     "output_type": "stream",
     "text": [
      "Valor p: 0.0016711217842071207\n",
      "Rechazamos la hipótesis nula: el tiempo de estudio es diferente de 5 horas\n"
     ]
    }
   ],
   "source": [
    "from scipy import stats as st\n",
    "import numpy as np\n",
    "\n",
    "# Datos de estudio de 30 alumnos\n",
    "study_hours = np.array([4.5, 5.2, 6.1, 4.8, 5.0, 5.3, 5.1, 4.9, 5.6, 6.0, \n",
    "                         4.7, 5.8, 5.4, 5.2, 5.0, 5.1, 4.9, 5.3, 5.7, 5.5,\n",
    "                         5.6, 4.9, 5.4, 5.2, 5.1, 5.8, 4.6, 5.0, 5.3, 5.7])\n",
    "\n",
    "mu_claimed = 5  # Hipótesis del profesor\n",
    "alpha = 0.05  # Nivel de significación\n",
    "\n",
    "# Prueba t de una muestra\n",
    "results = st.ttest_1samp(study_hours, mu_claimed)\n",
    "print('Valor p:', results.pvalue)\n",
    "\n",
    "if results.pvalue < alpha:\n",
    "    print('Rechazamos la hipótesis nula: el tiempo de estudio es diferente de 5 horas')\n",
    "else:\n",
    "    print('No podemos rechazar la hipótesis nula: el tiempo de estudio es de 5 horas')"
   ]
  },
  {
   "cell_type": "markdown",
   "metadata": {},
   "source": [
    "# Resumen y Conclusiones\n",
    "\n",
    "\n",
    "- Fundamentos de combinatoria: factoriales, combinaciones y permutaciones.\n",
    "- Distribuciones de probabilidad: binomial y normal.\n",
    "- Pruebas de hipótesis en diferentes escenarios.\n"
   ]
  },
  {
   "cell_type": "code",
   "execution_count": null,
   "metadata": {},
   "outputs": [],
   "source": []
  }
 ],
 "metadata": {
  "kernelspec": {
   "display_name": "Python 3 (ipykernel)",
   "language": "python",
   "name": "python3"
  },
  "language_info": {
   "codemirror_mode": {
    "name": "ipython",
    "version": 3
   },
   "file_extension": ".py",
   "mimetype": "text/x-python",
   "name": "python",
   "nbconvert_exporter": "python",
   "pygments_lexer": "ipython3",
   "version": "3.12.7"
  }
 },
 "nbformat": 4,
 "nbformat_minor": 4
}
