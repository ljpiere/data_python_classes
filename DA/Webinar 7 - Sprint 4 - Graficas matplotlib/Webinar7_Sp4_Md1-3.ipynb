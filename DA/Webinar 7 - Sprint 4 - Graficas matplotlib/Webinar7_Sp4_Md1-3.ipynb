{
 "cells": [
  {
   "cell_type": "markdown",
   "id": "b471a5db-9934-4fd3-b643-fc2a57aba0ad",
   "metadata": {},
   "source": [
    "# **Sprint 4- Graficando con matplotlib**"
   ]
  },
  {
   "cell_type": "markdown",
   "id": "8e0a384f-3eb8-4ec9-b9b9-01679027a366",
   "metadata": {},
   "source": [
    "## Objetivos\n",
    "\n",
    "Exploraremos la librería de generación de gráficas más importante de python: _matplotlib_."
   ]
  },
  {
   "cell_type": "markdown",
   "id": "2d9c955c-26b0-429d-826b-55757c2a4b5d",
   "metadata": {},
   "source": [
    "# **Estudiemos Matplotlib**"
   ]
  },
  {
   "cell_type": "markdown",
   "id": "422fa36a-1ec1-40dc-b6e1-7c8571c2b1b0",
   "metadata": {},
   "source": [
    "## **Ejercicio 0: Exploración**"
   ]
  },
  {
   "cell_type": "markdown",
   "id": "ab35028e-1049-4f8d-b009-c6a005d16097",
   "metadata": {},
   "source": [
    "En el principio del todo"
   ]
  },
  {
   "cell_type": "code",
   "execution_count": 1,
   "id": "618b2947-b58c-4dd9-b328-4dbe2804ed67",
   "metadata": {},
   "outputs": [],
   "source": [
    "import numpy as np\n",
    "import pandas as pd\n",
    "import matplotlib.pyplot as plt"
   ]
  },
  {
   "cell_type": "markdown",
   "id": "da4480c7-50e5-4416-8187-3a6874a9553c",
   "metadata": {},
   "source": [
    "<div style=\"text-align: center;\">\n",
    "    <img src=\"min.jpeg\" alt=\"Propera\" style=\"width:50%;\"/>\n",
    "</div>"
   ]
  },
  {
   "cell_type": "code",
   "execution_count": 2,
   "id": "c6f3f287-92ba-419e-a44c-59676ea96717",
   "metadata": {},
   "outputs": [],
   "source": [
    "# Cargar el conjunto de datos\n",
    "properati_data = pd.read_csv('datos_properati.csv')"
   ]
  },
  {
   "cell_type": "code",
   "execution_count": 3,
   "id": "e4114260-1e5b-43b1-b3ad-2e70295891d8",
   "metadata": {},
   "outputs": [
    {
     "data": {
      "text/html": [
       "<div>\n",
       "<style scoped>\n",
       "    .dataframe tbody tr th:only-of-type {\n",
       "        vertical-align: middle;\n",
       "    }\n",
       "\n",
       "    .dataframe tbody tr th {\n",
       "        vertical-align: top;\n",
       "    }\n",
       "\n",
       "    .dataframe thead th {\n",
       "        text-align: right;\n",
       "    }\n",
       "</style>\n",
       "<table border=\"1\" class=\"dataframe\">\n",
       "  <thead>\n",
       "    <tr style=\"text-align: right;\">\n",
       "      <th></th>\n",
       "      <th>created_on</th>\n",
       "      <th>operation</th>\n",
       "      <th>property_type</th>\n",
       "      <th>place_with_parent_names</th>\n",
       "      <th>lat-lon</th>\n",
       "      <th>lat</th>\n",
       "      <th>lon</th>\n",
       "      <th>price_aprox_usd</th>\n",
       "      <th>surface_total_in_m2</th>\n",
       "      <th>surface_covered_in_m2</th>\n",
       "      <th>price_usd_per_m2</th>\n",
       "      <th>floor</th>\n",
       "      <th>rooms</th>\n",
       "      <th>expenses</th>\n",
       "      <th>properati_url</th>\n",
       "      <th>barrio</th>\n",
       "      <th>comuna</th>\n",
       "    </tr>\n",
       "  </thead>\n",
       "  <tbody>\n",
       "    <tr>\n",
       "      <th>0</th>\n",
       "      <td>2017-09-22</td>\n",
       "      <td>sell</td>\n",
       "      <td>house</td>\n",
       "      <td>|Argentina|Capital Federal|Palermo|Palermo Viejo|</td>\n",
       "      <td>-34.5889531469,-58.4298817776</td>\n",
       "      <td>-34.588953</td>\n",
       "      <td>-58.429882</td>\n",
       "      <td>2000000.0</td>\n",
       "      <td>312.0</td>\n",
       "      <td>NaN</td>\n",
       "      <td>6410.256410</td>\n",
       "      <td>NaN</td>\n",
       "      <td>NaN</td>\n",
       "      <td>NaN</td>\n",
       "      <td>https://www.properati.com.ar/2os_venta_casa_pa...</td>\n",
       "      <td>PALERMO</td>\n",
       "      <td>14.0</td>\n",
       "    </tr>\n",
       "    <tr>\n",
       "      <th>1</th>\n",
       "      <td>2017-08-01</td>\n",
       "      <td>sell</td>\n",
       "      <td>store</td>\n",
       "      <td>|Argentina|Capital Federal|Palermo|</td>\n",
       "      <td>-34.586069,-58.414431</td>\n",
       "      <td>-34.586069</td>\n",
       "      <td>-58.414431</td>\n",
       "      <td>790000.0</td>\n",
       "      <td>121.0</td>\n",
       "      <td>121.0</td>\n",
       "      <td>6528.925620</td>\n",
       "      <td>NaN</td>\n",
       "      <td>NaN</td>\n",
       "      <td>NaN</td>\n",
       "      <td>https://www.properati.com.ar/1cl7l_venta_local...</td>\n",
       "      <td>PALERMO</td>\n",
       "      <td>14.0</td>\n",
       "    </tr>\n",
       "    <tr>\n",
       "      <th>2</th>\n",
       "      <td>2017-08-02</td>\n",
       "      <td>sell</td>\n",
       "      <td>store</td>\n",
       "      <td>|Argentina|Capital Federal|Palermo|Palermo Soho|</td>\n",
       "      <td>-34.589723,-58.4325664</td>\n",
       "      <td>-34.589723</td>\n",
       "      <td>-58.432566</td>\n",
       "      <td>343000.0</td>\n",
       "      <td>122.0</td>\n",
       "      <td>108.0</td>\n",
       "      <td>2811.475410</td>\n",
       "      <td>NaN</td>\n",
       "      <td>2.0</td>\n",
       "      <td>NaN</td>\n",
       "      <td>https://www.properati.com.ar/1cm8w_venta_local...</td>\n",
       "      <td>PALERMO</td>\n",
       "      <td>14.0</td>\n",
       "    </tr>\n",
       "    <tr>\n",
       "      <th>3</th>\n",
       "      <td>2017-08-03</td>\n",
       "      <td>sell</td>\n",
       "      <td>store</td>\n",
       "      <td>|Argentina|Capital Federal|Palermo|</td>\n",
       "      <td>-34.5923646,-58.4144028</td>\n",
       "      <td>-34.592365</td>\n",
       "      <td>-58.414403</td>\n",
       "      <td>145000.0</td>\n",
       "      <td>24.0</td>\n",
       "      <td>24.0</td>\n",
       "      <td>6041.666667</td>\n",
       "      <td>NaN</td>\n",
       "      <td>NaN</td>\n",
       "      <td>NaN</td>\n",
       "      <td>https://www.properati.com.ar/1covk_venta_local...</td>\n",
       "      <td>PALERMO</td>\n",
       "      <td>14.0</td>\n",
       "    </tr>\n",
       "    <tr>\n",
       "      <th>4</th>\n",
       "      <td>2017-08-08</td>\n",
       "      <td>sell</td>\n",
       "      <td>store</td>\n",
       "      <td>|Argentina|Capital Federal|Barrio Norte|</td>\n",
       "      <td>-34.585652875,-58.4114933233</td>\n",
       "      <td>-34.585653</td>\n",
       "      <td>-58.411493</td>\n",
       "      <td>175000.0</td>\n",
       "      <td>24.0</td>\n",
       "      <td>24.0</td>\n",
       "      <td>7291.666667</td>\n",
       "      <td>NaN</td>\n",
       "      <td>NaN</td>\n",
       "      <td>NaN</td>\n",
       "      <td>https://www.properati.com.ar/1csk7_venta_local...</td>\n",
       "      <td>PALERMO</td>\n",
       "      <td>14.0</td>\n",
       "    </tr>\n",
       "  </tbody>\n",
       "</table>\n",
       "</div>"
      ],
      "text/plain": [
       "   created_on operation property_type  \\\n",
       "0  2017-09-22      sell         house   \n",
       "1  2017-08-01      sell         store   \n",
       "2  2017-08-02      sell         store   \n",
       "3  2017-08-03      sell         store   \n",
       "4  2017-08-08      sell         store   \n",
       "\n",
       "                             place_with_parent_names  \\\n",
       "0  |Argentina|Capital Federal|Palermo|Palermo Viejo|   \n",
       "1                |Argentina|Capital Federal|Palermo|   \n",
       "2   |Argentina|Capital Federal|Palermo|Palermo Soho|   \n",
       "3                |Argentina|Capital Federal|Palermo|   \n",
       "4           |Argentina|Capital Federal|Barrio Norte|   \n",
       "\n",
       "                         lat-lon        lat        lon  price_aprox_usd  \\\n",
       "0  -34.5889531469,-58.4298817776 -34.588953 -58.429882        2000000.0   \n",
       "1          -34.586069,-58.414431 -34.586069 -58.414431         790000.0   \n",
       "2         -34.589723,-58.4325664 -34.589723 -58.432566         343000.0   \n",
       "3        -34.5923646,-58.4144028 -34.592365 -58.414403         145000.0   \n",
       "4   -34.585652875,-58.4114933233 -34.585653 -58.411493         175000.0   \n",
       "\n",
       "   surface_total_in_m2  surface_covered_in_m2  price_usd_per_m2  floor  rooms  \\\n",
       "0                312.0                    NaN       6410.256410    NaN    NaN   \n",
       "1                121.0                  121.0       6528.925620    NaN    NaN   \n",
       "2                122.0                  108.0       2811.475410    NaN    2.0   \n",
       "3                 24.0                   24.0       6041.666667    NaN    NaN   \n",
       "4                 24.0                   24.0       7291.666667    NaN    NaN   \n",
       "\n",
       "   expenses                                      properati_url   barrio  \\\n",
       "0       NaN  https://www.properati.com.ar/2os_venta_casa_pa...  PALERMO   \n",
       "1       NaN  https://www.properati.com.ar/1cl7l_venta_local...  PALERMO   \n",
       "2       NaN  https://www.properati.com.ar/1cm8w_venta_local...  PALERMO   \n",
       "3       NaN  https://www.properati.com.ar/1covk_venta_local...  PALERMO   \n",
       "4       NaN  https://www.properati.com.ar/1csk7_venta_local...  PALERMO   \n",
       "\n",
       "   comuna  \n",
       "0    14.0  \n",
       "1    14.0  \n",
       "2    14.0  \n",
       "3    14.0  \n",
       "4    14.0  "
      ]
     },
     "execution_count": 3,
     "metadata": {},
     "output_type": "execute_result"
    }
   ],
   "source": [
    "properati_data.head()"
   ]
  },
  {
   "cell_type": "code",
   "execution_count": 4,
   "id": "aa31d6f9-e632-4a28-8c6b-2b224b8e71df",
   "metadata": {},
   "outputs": [
    {
     "name": "stdout",
     "output_type": "stream",
     "text": [
      "<class 'pandas.core.frame.DataFrame'>\n",
      "RangeIndex: 18979 entries, 0 to 18978\n",
      "Data columns (total 17 columns):\n",
      " #   Column                   Non-Null Count  Dtype  \n",
      "---  ------                   --------------  -----  \n",
      " 0   created_on               18979 non-null  object \n",
      " 1   operation                18979 non-null  object \n",
      " 2   property_type            18979 non-null  object \n",
      " 3   place_with_parent_names  18979 non-null  object \n",
      " 4   lat-lon                  18979 non-null  object \n",
      " 5   lat                      18979 non-null  float64\n",
      " 6   lon                      18979 non-null  float64\n",
      " 7   price_aprox_usd          17445 non-null  float64\n",
      " 8   surface_total_in_m2      16586 non-null  float64\n",
      " 9   surface_covered_in_m2    16876 non-null  float64\n",
      " 10  price_usd_per_m2         16037 non-null  float64\n",
      " 11  floor                    2756 non-null   float64\n",
      " 12  rooms                    13517 non-null  float64\n",
      " 13  expenses                 3815 non-null   float64\n",
      " 14  properati_url            18979 non-null  object \n",
      " 15  barrio                   18979 non-null  object \n",
      " 16  comuna                   18979 non-null  float64\n",
      "dtypes: float64(10), object(7)\n",
      "memory usage: 2.5+ MB\n"
     ]
    }
   ],
   "source": [
    "properati_data.info()"
   ]
  },
  {
   "cell_type": "code",
   "execution_count": 5,
   "id": "d54ed05e-367b-4740-bcb9-19694be44317",
   "metadata": {},
   "outputs": [
    {
     "data": {
      "text/html": [
       "<div>\n",
       "<style scoped>\n",
       "    .dataframe tbody tr th:only-of-type {\n",
       "        vertical-align: middle;\n",
       "    }\n",
       "\n",
       "    .dataframe tbody tr th {\n",
       "        vertical-align: top;\n",
       "    }\n",
       "\n",
       "    .dataframe thead th {\n",
       "        text-align: right;\n",
       "    }\n",
       "</style>\n",
       "<table border=\"1\" class=\"dataframe\">\n",
       "  <thead>\n",
       "    <tr style=\"text-align: right;\">\n",
       "      <th></th>\n",
       "      <th>lat</th>\n",
       "      <th>lon</th>\n",
       "      <th>price_aprox_usd</th>\n",
       "      <th>surface_total_in_m2</th>\n",
       "      <th>surface_covered_in_m2</th>\n",
       "      <th>price_usd_per_m2</th>\n",
       "      <th>floor</th>\n",
       "      <th>rooms</th>\n",
       "      <th>expenses</th>\n",
       "      <th>comuna</th>\n",
       "    </tr>\n",
       "  </thead>\n",
       "  <tbody>\n",
       "    <tr>\n",
       "      <th>count</th>\n",
       "      <td>18979.000000</td>\n",
       "      <td>18979.000000</td>\n",
       "      <td>1.744500e+04</td>\n",
       "      <td>16586.000000</td>\n",
       "      <td>16876.000000</td>\n",
       "      <td>16037.000000</td>\n",
       "      <td>2756.000000</td>\n",
       "      <td>13517.000000</td>\n",
       "      <td>3.815000e+03</td>\n",
       "      <td>18979.000000</td>\n",
       "    </tr>\n",
       "    <tr>\n",
       "      <th>mean</th>\n",
       "      <td>-34.600838</td>\n",
       "      <td>-58.435161</td>\n",
       "      <td>2.963559e+05</td>\n",
       "      <td>142.784758</td>\n",
       "      <td>127.491171</td>\n",
       "      <td>2760.408525</td>\n",
       "      <td>11.040639</td>\n",
       "      <td>3.033661</td>\n",
       "      <td>4.884536e+03</td>\n",
       "      <td>7.981137</td>\n",
       "    </tr>\n",
       "    <tr>\n",
       "      <th>std</th>\n",
       "      <td>0.026372</td>\n",
       "      <td>0.040787</td>\n",
       "      <td>4.108344e+05</td>\n",
       "      <td>1731.936727</td>\n",
       "      <td>1524.167396</td>\n",
       "      <td>1940.153216</td>\n",
       "      <td>53.448795</td>\n",
       "      <td>1.778162</td>\n",
       "      <td>3.024617e+04</td>\n",
       "      <td>5.007441</td>\n",
       "    </tr>\n",
       "    <tr>\n",
       "      <th>min</th>\n",
       "      <td>-34.695717</td>\n",
       "      <td>-58.530822</td>\n",
       "      <td>5.043300e+03</td>\n",
       "      <td>0.000000</td>\n",
       "      <td>1.000000</td>\n",
       "      <td>0.958333</td>\n",
       "      <td>1.000000</td>\n",
       "      <td>1.000000</td>\n",
       "      <td>1.000000e+00</td>\n",
       "      <td>1.000000</td>\n",
       "    </tr>\n",
       "    <tr>\n",
       "      <th>25%</th>\n",
       "      <td>-34.619827</td>\n",
       "      <td>-58.464637</td>\n",
       "      <td>1.200000e+05</td>\n",
       "      <td>48.000000</td>\n",
       "      <td>43.000000</td>\n",
       "      <td>1984.126984</td>\n",
       "      <td>2.000000</td>\n",
       "      <td>2.000000</td>\n",
       "      <td>1.600000e+03</td>\n",
       "      <td>3.000000</td>\n",
       "    </tr>\n",
       "    <tr>\n",
       "      <th>50%</th>\n",
       "      <td>-34.601014</td>\n",
       "      <td>-58.434293</td>\n",
       "      <td>1.800000e+05</td>\n",
       "      <td>75.000000</td>\n",
       "      <td>67.000000</td>\n",
       "      <td>2545.454545</td>\n",
       "      <td>4.000000</td>\n",
       "      <td>3.000000</td>\n",
       "      <td>2.800000e+03</td>\n",
       "      <td>7.000000</td>\n",
       "    </tr>\n",
       "    <tr>\n",
       "      <th>75%</th>\n",
       "      <td>-34.582748</td>\n",
       "      <td>-58.401513</td>\n",
       "      <td>3.200000e+05</td>\n",
       "      <td>134.000000</td>\n",
       "      <td>117.000000</td>\n",
       "      <td>3162.790698</td>\n",
       "      <td>8.000000</td>\n",
       "      <td>4.000000</td>\n",
       "      <td>5.000000e+03</td>\n",
       "      <td>13.000000</td>\n",
       "    </tr>\n",
       "    <tr>\n",
       "      <th>max</th>\n",
       "      <td>-34.534315</td>\n",
       "      <td>-58.353227</td>\n",
       "      <td>1.350000e+07</td>\n",
       "      <td>184000.000000</td>\n",
       "      <td>150000.000000</td>\n",
       "      <td>142450.141026</td>\n",
       "      <td>904.000000</td>\n",
       "      <td>38.000000</td>\n",
       "      <td>1.843611e+06</td>\n",
       "      <td>15.000000</td>\n",
       "    </tr>\n",
       "  </tbody>\n",
       "</table>\n",
       "</div>"
      ],
      "text/plain": [
       "                lat           lon  price_aprox_usd  surface_total_in_m2  \\\n",
       "count  18979.000000  18979.000000     1.744500e+04         16586.000000   \n",
       "mean     -34.600838    -58.435161     2.963559e+05           142.784758   \n",
       "std        0.026372      0.040787     4.108344e+05          1731.936727   \n",
       "min      -34.695717    -58.530822     5.043300e+03             0.000000   \n",
       "25%      -34.619827    -58.464637     1.200000e+05            48.000000   \n",
       "50%      -34.601014    -58.434293     1.800000e+05            75.000000   \n",
       "75%      -34.582748    -58.401513     3.200000e+05           134.000000   \n",
       "max      -34.534315    -58.353227     1.350000e+07        184000.000000   \n",
       "\n",
       "       surface_covered_in_m2  price_usd_per_m2        floor         rooms  \\\n",
       "count           16876.000000      16037.000000  2756.000000  13517.000000   \n",
       "mean              127.491171       2760.408525    11.040639      3.033661   \n",
       "std              1524.167396       1940.153216    53.448795      1.778162   \n",
       "min                 1.000000          0.958333     1.000000      1.000000   \n",
       "25%                43.000000       1984.126984     2.000000      2.000000   \n",
       "50%                67.000000       2545.454545     4.000000      3.000000   \n",
       "75%               117.000000       3162.790698     8.000000      4.000000   \n",
       "max            150000.000000     142450.141026   904.000000     38.000000   \n",
       "\n",
       "           expenses        comuna  \n",
       "count  3.815000e+03  18979.000000  \n",
       "mean   4.884536e+03      7.981137  \n",
       "std    3.024617e+04      5.007441  \n",
       "min    1.000000e+00      1.000000  \n",
       "25%    1.600000e+03      3.000000  \n",
       "50%    2.800000e+03      7.000000  \n",
       "75%    5.000000e+03     13.000000  \n",
       "max    1.843611e+06     15.000000  "
      ]
     },
     "execution_count": 5,
     "metadata": {},
     "output_type": "execute_result"
    }
   ],
   "source": [
    "properati_data.describe()"
   ]
  },
  {
   "cell_type": "markdown",
   "id": "fc21c90e-f2c2-4142-91b9-3817bbd47cff",
   "metadata": {},
   "source": [
    "## **Ejercicio 1.1: Ejercicio 1: Introducción a Matplotlib**"
   ]
  },
  {
   "cell_type": "markdown",
   "id": "f0d7e5fb-173d-4529-8151-bc09e3f8ce72",
   "metadata": {},
   "source": [
    "**Descripción:** Queremos explorar cómo varía el precio en función del área total de la propiedad.."
   ]
  },
  {
   "cell_type": "code",
   "execution_count": 17,
   "id": "7e0e8c27-72e9-4b8a-bd1f-cc906d1a73b8",
   "metadata": {},
   "outputs": [],
   "source": [
    "lista=[1,2,3,4,5,6,7,8,9]"
   ]
  },
  {
   "cell_type": "code",
   "execution_count": 19,
   "id": "4305c282-0983-42b7-949d-3d7fbd2b5ca8",
   "metadata": {},
   "outputs": [
    {
     "data": {
      "text/plain": [
       "[1, 2, 3, 4]"
      ]
     },
     "execution_count": 19,
     "metadata": {},
     "output_type": "execute_result"
    }
   ],
   "source": [
    "lista[0:4]"
   ]
  },
  {
   "cell_type": "code",
   "execution_count": 31,
   "id": "bb79e223-985f-4c45-a33a-9c9eed4ef69b",
   "metadata": {},
   "outputs": [
    {
     "data": {
      "image/png": "[encoded data removed]",
      "text/plain": [
       "<Figure size 700x300 with 1 Axes>"
      ]
     },
     "metadata": {},
     "output_type": "display_data"
    }
   ],
   "source": [
    "properati_data.plot(\n",
    "    title='Precio vs Area',\n",
    "    x='surface_total_in_m2',\n",
    "    y='price_aprox_usd',\n",
    "    style='*',\n",
    "    xlim=[0,400],\n",
    "    ylim=[0,500000],\n",
    "    xlabel='Superficie total en m2',\n",
    "    ylabel='Precio en USD',\n",
    "    figsize=[7,3],\n",
    "    color='pink'\n",
    ")\n",
    "plt.show()"
   ]
  },
  {
   "cell_type": "markdown",
   "id": "f4a71a78-eeef-4de4-9dd5-a9e9d2ade075",
   "metadata": {},
   "source": [
    "## **Ejercicio 1.2: Gráfico de dispersión**"
   ]
  },
  {
   "cell_type": "markdown",
   "id": "c6f864ad-d65c-47ac-819d-70e54ddd264b",
   "metadata": {},
   "source": [
    "**Descripción:** Queremos analizar la relación entre el número de habitaciones y el precio de las propiedades.."
   ]
  },
  {
   "cell_type": "code",
   "execution_count": null,
   "id": "c59dffc2-2734-4b8b-8763-d2ef382f1126",
   "metadata": {},
   "outputs": [],
   "source": []
  },
  {
   "cell_type": "code",
   "execution_count": 12,
   "id": "c6e33986-4d6f-4360-87d2-846e91088f1a",
   "metadata": {},
   "outputs": [
    {
     "data": {
      "image/png": "[encoded data removed]",
      "text/plain": [
       "<Figure size 800x600 with 1 Axes>"
      ]
     },
     "metadata": {},
     "output_type": "display_data"
    }
   ],
   "source": [
    "properati_data.plot(\n",
    "    x='rooms',\n",
    "    y='price_aprox_usd',\n",
    "    kind='scatter',\n",
    "    alpha=0.5,\n",
    "    figsize=(8, 6),\n",
    "    title='Price by Number of Rooms',\n",
    "    xlabel='Number of Rooms',\n",
    "    ylabel='Price (USD)'\n",
    ")\n",
    "plt.show()"
   ]
  },
  {
   "cell_type": "markdown",
   "id": "a55be715-2c36-4ad9-b390-e0984351b1c9",
   "metadata": {},
   "source": [
    "## **Ejercicio 1.3: Correlación entre variables**"
   ]
  },
  {
   "cell_type": "markdown",
   "id": "37cc6caa-80c7-4cb0-a64d-afc7bf2fadb5",
   "metadata": {},
   "source": [
    "**Descripción:** Calculamos la correlación para entender la relación estadística entre el precio, las habitaciones y el área total."
   ]
  },
  {
   "cell_type": "code",
   "execution_count": 34,
   "id": "91a262e4-43cb-48d4-84c9-0d22b7c21847",
   "metadata": {},
   "outputs": [
    {
     "data": {
      "text/plain": [
       "Index(['created_on', 'operation', 'property_type', 'place_with_parent_names',\n",
       "       'lat-lon', 'lat', 'lon', 'price_aprox_usd', 'surface_total_in_m2',\n",
       "       'surface_covered_in_m2', 'price_usd_per_m2', 'floor', 'rooms',\n",
       "       'expenses', 'properati_url', 'barrio', 'comuna'],\n",
       "      dtype='object')"
      ]
     },
     "execution_count": 34,
     "metadata": {},
     "output_type": "execute_result"
    }
   ],
   "source": [
    "properati_data.columns"
   ]
  },
  {
   "cell_type": "code",
   "execution_count": 35,
   "id": "0adcb80a-1ee7-433a-ad62-5611d309714b",
   "metadata": {},
   "outputs": [
    {
     "data": {
      "text/html": [
       "<div>\n",
       "<style scoped>\n",
       "    .dataframe tbody tr th:only-of-type {\n",
       "        vertical-align: middle;\n",
       "    }\n",
       "\n",
       "    .dataframe tbody tr th {\n",
       "        vertical-align: top;\n",
       "    }\n",
       "\n",
       "    .dataframe thead th {\n",
       "        text-align: right;\n",
       "    }\n",
       "</style>\n",
       "<table border=\"1\" class=\"dataframe\">\n",
       "  <thead>\n",
       "    <tr style=\"text-align: right;\">\n",
       "      <th></th>\n",
       "      <th>price_aprox_usd</th>\n",
       "      <th>surface_total_in_m2</th>\n",
       "      <th>surface_covered_in_m2</th>\n",
       "      <th>price_usd_per_m2</th>\n",
       "      <th>floor</th>\n",
       "      <th>rooms</th>\n",
       "      <th>expenses</th>\n",
       "    </tr>\n",
       "  </thead>\n",
       "  <tbody>\n",
       "    <tr>\n",
       "      <th>price_aprox_usd</th>\n",
       "      <td>1.000000</td>\n",
       "      <td>0.047605</td>\n",
       "      <td>0.076585</td>\n",
       "      <td>0.511854</td>\n",
       "      <td>0.008132</td>\n",
       "      <td>0.450829</td>\n",
       "      <td>0.134316</td>\n",
       "    </tr>\n",
       "    <tr>\n",
       "      <th>surface_total_in_m2</th>\n",
       "      <td>0.047605</td>\n",
       "      <td>1.000000</td>\n",
       "      <td>0.984366</td>\n",
       "      <td>-0.026257</td>\n",
       "      <td>-0.000033</td>\n",
       "      <td>0.050507</td>\n",
       "      <td>0.065890</td>\n",
       "    </tr>\n",
       "    <tr>\n",
       "      <th>surface_covered_in_m2</th>\n",
       "      <td>0.076585</td>\n",
       "      <td>0.984366</td>\n",
       "      <td>1.000000</td>\n",
       "      <td>-0.020963</td>\n",
       "      <td>-0.004304</td>\n",
       "      <td>0.049492</td>\n",
       "      <td>0.119294</td>\n",
       "    </tr>\n",
       "    <tr>\n",
       "      <th>price_usd_per_m2</th>\n",
       "      <td>0.511854</td>\n",
       "      <td>-0.026257</td>\n",
       "      <td>-0.020963</td>\n",
       "      <td>1.000000</td>\n",
       "      <td>0.013792</td>\n",
       "      <td>-0.038818</td>\n",
       "      <td>0.038744</td>\n",
       "    </tr>\n",
       "    <tr>\n",
       "      <th>floor</th>\n",
       "      <td>0.008132</td>\n",
       "      <td>-0.000033</td>\n",
       "      <td>-0.004304</td>\n",
       "      <td>0.013792</td>\n",
       "      <td>1.000000</td>\n",
       "      <td>-0.049980</td>\n",
       "      <td>0.172288</td>\n",
       "    </tr>\n",
       "    <tr>\n",
       "      <th>rooms</th>\n",
       "      <td>0.450829</td>\n",
       "      <td>0.050507</td>\n",
       "      <td>0.049492</td>\n",
       "      <td>-0.038818</td>\n",
       "      <td>-0.049980</td>\n",
       "      <td>1.000000</td>\n",
       "      <td>0.501330</td>\n",
       "    </tr>\n",
       "    <tr>\n",
       "      <th>expenses</th>\n",
       "      <td>0.134316</td>\n",
       "      <td>0.065890</td>\n",
       "      <td>0.119294</td>\n",
       "      <td>0.038744</td>\n",
       "      <td>0.172288</td>\n",
       "      <td>0.501330</td>\n",
       "      <td>1.000000</td>\n",
       "    </tr>\n",
       "  </tbody>\n",
       "</table>\n",
       "</div>"
      ],
      "text/plain": [
       "                       price_aprox_usd  surface_total_in_m2  \\\n",
       "price_aprox_usd               1.000000             0.047605   \n",
       "surface_total_in_m2           0.047605             1.000000   \n",
       "surface_covered_in_m2         0.076585             0.984366   \n",
       "price_usd_per_m2              0.511854            -0.026257   \n",
       "floor                         0.008132            -0.000033   \n",
       "rooms                         0.450829             0.050507   \n",
       "expenses                      0.134316             0.065890   \n",
       "\n",
       "                       surface_covered_in_m2  price_usd_per_m2     floor  \\\n",
       "price_aprox_usd                     0.076585          0.511854  0.008132   \n",
       "surface_total_in_m2                 0.984366         -0.026257 -0.000033   \n",
       "surface_covered_in_m2               1.000000         -0.020963 -0.004304   \n",
       "price_usd_per_m2                   -0.020963          1.000000  0.013792   \n",
       "floor                              -0.004304          0.013792  1.000000   \n",
       "rooms                               0.049492         -0.038818 -0.049980   \n",
       "expenses                            0.119294          0.038744  0.172288   \n",
       "\n",
       "                          rooms  expenses  \n",
       "price_aprox_usd        0.450829  0.134316  \n",
       "surface_total_in_m2    0.050507  0.065890  \n",
       "surface_covered_in_m2  0.049492  0.119294  \n",
       "price_usd_per_m2      -0.038818  0.038744  \n",
       "floor                 -0.049980  0.172288  \n",
       "rooms                  1.000000  0.501330  \n",
       "expenses               0.501330  1.000000  "
      ]
     },
     "execution_count": 35,
     "metadata": {},
     "output_type": "execute_result"
    }
   ],
   "source": [
    "properati_data[['price_aprox_usd', 'surface_total_in_m2',\n",
    "       'surface_covered_in_m2', 'price_usd_per_m2', 'floor', 'rooms',\n",
    "       'expenses']].corr()"
   ]
  },
  {
   "cell_type": "code",
   "execution_count": 20,
   "id": "6d7d6b9c-8375-4d03-afde-ce87ee120726",
   "metadata": {},
   "outputs": [
    {
     "name": "stdout",
     "output_type": "stream",
     "text": [
      "Correlación entre columnas:\n",
      "                      price_aprox_usd     rooms  surface_total_in_m2\n",
      "price_aprox_usd             1.000000  0.450829             0.047605\n",
      "rooms                       0.450829  1.000000             0.050507\n",
      "surface_total_in_m2         0.047605  0.050507             1.000000\n"
     ]
    }
   ],
   "source": [
    "corr_matrix = properati_data[['price_aprox_usd', 'rooms', 'surface_total_in_m2']].corr()\n",
    "print(\"Correlación entre columnas:\\n\", corr_matrix)"
   ]
  },
  {
   "cell_type": "markdown",
   "id": "d63068cf-11d3-4835-922e-bc596cb1591c",
   "metadata": {},
   "source": [
    "## **Ejercicio 1.4: Matrices de dispersión**"
   ]
  },
  {
   "cell_type": "markdown",
   "id": "450394b3-6d6b-4dba-8d56-6f18cabd0c23",
   "metadata": {},
   "source": [
    "**Descripción:** Queremos observar las relaciones entre las variables relevantes utilizando una matriz de correlación."
   ]
  },
  {
   "cell_type": "code",
   "execution_count": null,
   "id": "042555d0-92fe-47cc-8f50-fe8cd9b7faf8",
   "metadata": {},
   "outputs": [],
   "source": []
  },
  {
   "cell_type": "code",
   "execution_count": 19,
   "id": "ed1d45ee-338f-462b-a53e-2423f81bd5c4",
   "metadata": {},
   "outputs": [
    {
     "name": "stdout",
     "output_type": "stream",
     "text": [
      "Matriz de correlación:\n",
      "                  price_aprox_usd     rooms\n",
      "price_aprox_usd         1.000000  0.450829\n",
      "rooms                   0.450829  1.000000\n"
     ]
    }
   ],
   "source": [
    "corr_mat = properati_data[['price_aprox_usd', 'rooms']].corr()\n",
    "print(\"Matriz de correlación:\\n\", corr_mat)"
   ]
  },
  {
   "cell_type": "markdown",
   "id": "9baeb187-0e20-478e-a3e4-ddb1276a95f6",
   "metadata": {},
   "source": [
    "## **Ejercicio 1.5: Ejercicio 5: Gráficos de líneas**"
   ]
  },
  {
   "cell_type": "markdown",
   "id": "598ab51e-5ee1-4d66-bae9-bf54a3854dd5",
   "metadata": {},
   "source": [
    "**Descripción:** Analizamos cómo el precio promedio de las propiedades ha cambiado a lo largo de los años.."
   ]
  },
  {
   "cell_type": "code",
   "execution_count": 40,
   "id": "14beed97-b13f-4606-a369-5468f231d3ba",
   "metadata": {},
   "outputs": [
    {
     "data": {
      "text/html": [
       "<div>\n",
       "<style scoped>\n",
       "    .dataframe tbody tr th:only-of-type {\n",
       "        vertical-align: middle;\n",
       "    }\n",
       "\n",
       "    .dataframe tbody tr th {\n",
       "        vertical-align: top;\n",
       "    }\n",
       "\n",
       "    .dataframe thead th {\n",
       "        text-align: right;\n",
       "    }\n",
       "</style>\n",
       "<table border=\"1\" class=\"dataframe\">\n",
       "  <thead>\n",
       "    <tr style=\"text-align: right;\">\n",
       "      <th></th>\n",
       "      <th>created_on</th>\n",
       "      <th>operation</th>\n",
       "      <th>property_type</th>\n",
       "      <th>place_with_parent_names</th>\n",
       "      <th>lat-lon</th>\n",
       "      <th>lat</th>\n",
       "      <th>lon</th>\n",
       "      <th>price_aprox_usd</th>\n",
       "      <th>surface_total_in_m2</th>\n",
       "      <th>surface_covered_in_m2</th>\n",
       "      <th>price_usd_per_m2</th>\n",
       "      <th>floor</th>\n",
       "      <th>rooms</th>\n",
       "      <th>expenses</th>\n",
       "      <th>properati_url</th>\n",
       "      <th>barrio</th>\n",
       "      <th>comuna</th>\n",
       "      <th>year</th>\n",
       "    </tr>\n",
       "  </thead>\n",
       "  <tbody>\n",
       "    <tr>\n",
       "      <th>0</th>\n",
       "      <td>2017-09-22</td>\n",
       "      <td>sell</td>\n",
       "      <td>house</td>\n",
       "      <td>|Argentina|Capital Federal|Palermo|Palermo Viejo|</td>\n",
       "      <td>-34.5889531469,-58.4298817776</td>\n",
       "      <td>-34.588953</td>\n",
       "      <td>-58.429882</td>\n",
       "      <td>2000000.0</td>\n",
       "      <td>312.0</td>\n",
       "      <td>NaN</td>\n",
       "      <td>6410.256410</td>\n",
       "      <td>NaN</td>\n",
       "      <td>NaN</td>\n",
       "      <td>NaN</td>\n",
       "      <td>https://www.properati.com.ar/2os_venta_casa_pa...</td>\n",
       "      <td>PALERMO</td>\n",
       "      <td>14.0</td>\n",
       "      <td>2017</td>\n",
       "    </tr>\n",
       "    <tr>\n",
       "      <th>1</th>\n",
       "      <td>2017-08-01</td>\n",
       "      <td>sell</td>\n",
       "      <td>store</td>\n",
       "      <td>|Argentina|Capital Federal|Palermo|</td>\n",
       "      <td>-34.586069,-58.414431</td>\n",
       "      <td>-34.586069</td>\n",
       "      <td>-58.414431</td>\n",
       "      <td>790000.0</td>\n",
       "      <td>121.0</td>\n",
       "      <td>121.0</td>\n",
       "      <td>6528.925620</td>\n",
       "      <td>NaN</td>\n",
       "      <td>NaN</td>\n",
       "      <td>NaN</td>\n",
       "      <td>https://www.properati.com.ar/1cl7l_venta_local...</td>\n",
       "      <td>PALERMO</td>\n",
       "      <td>14.0</td>\n",
       "      <td>2017</td>\n",
       "    </tr>\n",
       "    <tr>\n",
       "      <th>2</th>\n",
       "      <td>2017-08-02</td>\n",
       "      <td>sell</td>\n",
       "      <td>store</td>\n",
       "      <td>|Argentina|Capital Federal|Palermo|Palermo Soho|</td>\n",
       "      <td>-34.589723,-58.4325664</td>\n",
       "      <td>-34.589723</td>\n",
       "      <td>-58.432566</td>\n",
       "      <td>343000.0</td>\n",
       "      <td>122.0</td>\n",
       "      <td>108.0</td>\n",
       "      <td>2811.475410</td>\n",
       "      <td>NaN</td>\n",
       "      <td>2.0</td>\n",
       "      <td>NaN</td>\n",
       "      <td>https://www.properati.com.ar/1cm8w_venta_local...</td>\n",
       "      <td>PALERMO</td>\n",
       "      <td>14.0</td>\n",
       "      <td>2017</td>\n",
       "    </tr>\n",
       "    <tr>\n",
       "      <th>3</th>\n",
       "      <td>2017-08-03</td>\n",
       "      <td>sell</td>\n",
       "      <td>store</td>\n",
       "      <td>|Argentina|Capital Federal|Palermo|</td>\n",
       "      <td>-34.5923646,-58.4144028</td>\n",
       "      <td>-34.592365</td>\n",
       "      <td>-58.414403</td>\n",
       "      <td>145000.0</td>\n",
       "      <td>24.0</td>\n",
       "      <td>24.0</td>\n",
       "      <td>6041.666667</td>\n",
       "      <td>NaN</td>\n",
       "      <td>NaN</td>\n",
       "      <td>NaN</td>\n",
       "      <td>https://www.properati.com.ar/1covk_venta_local...</td>\n",
       "      <td>PALERMO</td>\n",
       "      <td>14.0</td>\n",
       "      <td>2017</td>\n",
       "    </tr>\n",
       "    <tr>\n",
       "      <th>4</th>\n",
       "      <td>2017-08-08</td>\n",
       "      <td>sell</td>\n",
       "      <td>store</td>\n",
       "      <td>|Argentina|Capital Federal|Barrio Norte|</td>\n",
       "      <td>-34.585652875,-58.4114933233</td>\n",
       "      <td>-34.585653</td>\n",
       "      <td>-58.411493</td>\n",
       "      <td>175000.0</td>\n",
       "      <td>24.0</td>\n",
       "      <td>24.0</td>\n",
       "      <td>7291.666667</td>\n",
       "      <td>NaN</td>\n",
       "      <td>NaN</td>\n",
       "      <td>NaN</td>\n",
       "      <td>https://www.properati.com.ar/1csk7_venta_local...</td>\n",
       "      <td>PALERMO</td>\n",
       "      <td>14.0</td>\n",
       "      <td>2017</td>\n",
       "    </tr>\n",
       "  </tbody>\n",
       "</table>\n",
       "</div>"
      ],
      "text/plain": [
       "   created_on operation property_type  \\\n",
       "0  2017-09-22      sell         house   \n",
       "1  2017-08-01      sell         store   \n",
       "2  2017-08-02      sell         store   \n",
       "3  2017-08-03      sell         store   \n",
       "4  2017-08-08      sell         store   \n",
       "\n",
       "                             place_with_parent_names  \\\n",
       "0  |Argentina|Capital Federal|Palermo|Palermo Viejo|   \n",
       "1                |Argentina|Capital Federal|Palermo|   \n",
       "2   |Argentina|Capital Federal|Palermo|Palermo Soho|   \n",
       "3                |Argentina|Capital Federal|Palermo|   \n",
       "4           |Argentina|Capital Federal|Barrio Norte|   \n",
       "\n",
       "                         lat-lon        lat        lon  price_aprox_usd  \\\n",
       "0  -34.5889531469,-58.4298817776 -34.588953 -58.429882        2000000.0   \n",
       "1          -34.586069,-58.414431 -34.586069 -58.414431         790000.0   \n",
       "2         -34.589723,-58.4325664 -34.589723 -58.432566         343000.0   \n",
       "3        -34.5923646,-58.4144028 -34.592365 -58.414403         145000.0   \n",
       "4   -34.585652875,-58.4114933233 -34.585653 -58.411493         175000.0   \n",
       "\n",
       "   surface_total_in_m2  surface_covered_in_m2  price_usd_per_m2  floor  rooms  \\\n",
       "0                312.0                    NaN       6410.256410    NaN    NaN   \n",
       "1                121.0                  121.0       6528.925620    NaN    NaN   \n",
       "2                122.0                  108.0       2811.475410    NaN    2.0   \n",
       "3                 24.0                   24.0       6041.666667    NaN    NaN   \n",
       "4                 24.0                   24.0       7291.666667    NaN    NaN   \n",
       "\n",
       "   expenses                                      properati_url   barrio  \\\n",
       "0       NaN  https://www.properati.com.ar/2os_venta_casa_pa...  PALERMO   \n",
       "1       NaN  https://www.properati.com.ar/1cl7l_venta_local...  PALERMO   \n",
       "2       NaN  https://www.properati.com.ar/1cm8w_venta_local...  PALERMO   \n",
       "3       NaN  https://www.properati.com.ar/1covk_venta_local...  PALERMO   \n",
       "4       NaN  https://www.properati.com.ar/1csk7_venta_local...  PALERMO   \n",
       "\n",
       "   comuna  year  \n",
       "0    14.0  2017  \n",
       "1    14.0  2017  \n",
       "2    14.0  2017  \n",
       "3    14.0  2017  \n",
       "4    14.0  2017  "
      ]
     },
     "execution_count": 40,
     "metadata": {},
     "output_type": "execute_result"
    }
   ],
   "source": [
    "properati_data.head()"
   ]
  },
  {
   "cell_type": "code",
   "execution_count": 38,
   "id": "f3fb9259-1d7a-4758-b2a8-50ec98e2a5b5",
   "metadata": {},
   "outputs": [],
   "source": [
    "properati_data['year'] = pd.to_datetime(properati_data['created_on']).dt.year"
   ]
  },
  {
   "cell_type": "code",
   "execution_count": 39,
   "id": "26b08ccf-5827-4389-a03a-b607b64d5717",
   "metadata": {},
   "outputs": [
    {
     "data": {
      "text/plain": [
       "year\n",
       "2017    311662.874800\n",
       "2018    261289.177959\n",
       "Name: price_aprox_usd, dtype: float64"
      ]
     },
     "execution_count": 39,
     "metadata": {},
     "output_type": "execute_result"
    }
   ],
   "source": [
    "properati_data.groupby('year')['price_aprox_usd'].mean()"
   ]
  },
  {
   "cell_type": "code",
   "execution_count": 36,
   "id": "d5811898-09fc-4923-817d-97cdf76eb865",
   "metadata": {},
   "outputs": [
    {
     "data": {
      "text/html": [
       "<div>\n",
       "<style scoped>\n",
       "    .dataframe tbody tr th:only-of-type {\n",
       "        vertical-align: middle;\n",
       "    }\n",
       "\n",
       "    .dataframe tbody tr th {\n",
       "        vertical-align: top;\n",
       "    }\n",
       "\n",
       "    .dataframe thead th {\n",
       "        text-align: right;\n",
       "    }\n",
       "</style>\n",
       "<table border=\"1\" class=\"dataframe\">\n",
       "  <thead>\n",
       "    <tr style=\"text-align: right;\">\n",
       "      <th></th>\n",
       "      <th>created_on</th>\n",
       "      <th>operation</th>\n",
       "      <th>property_type</th>\n",
       "      <th>place_with_parent_names</th>\n",
       "      <th>lat-lon</th>\n",
       "      <th>lat</th>\n",
       "      <th>lon</th>\n",
       "      <th>price_aprox_usd</th>\n",
       "      <th>surface_total_in_m2</th>\n",
       "      <th>surface_covered_in_m2</th>\n",
       "      <th>price_usd_per_m2</th>\n",
       "      <th>floor</th>\n",
       "      <th>rooms</th>\n",
       "      <th>expenses</th>\n",
       "      <th>properati_url</th>\n",
       "      <th>barrio</th>\n",
       "      <th>comuna</th>\n",
       "    </tr>\n",
       "  </thead>\n",
       "  <tbody>\n",
       "    <tr>\n",
       "      <th>0</th>\n",
       "      <td>2017-09-22</td>\n",
       "      <td>sell</td>\n",
       "      <td>house</td>\n",
       "      <td>|Argentina|Capital Federal|Palermo|Palermo Viejo|</td>\n",
       "      <td>-34.5889531469,-58.4298817776</td>\n",
       "      <td>-34.588953</td>\n",
       "      <td>-58.429882</td>\n",
       "      <td>2000000.00</td>\n",
       "      <td>312.0</td>\n",
       "      <td>NaN</td>\n",
       "      <td>6410.256410</td>\n",
       "      <td>NaN</td>\n",
       "      <td>NaN</td>\n",
       "      <td>NaN</td>\n",
       "      <td>https://www.properati.com.ar/2os_venta_casa_pa...</td>\n",
       "      <td>PALERMO</td>\n",
       "      <td>14.0</td>\n",
       "    </tr>\n",
       "    <tr>\n",
       "      <th>1</th>\n",
       "      <td>2017-08-01</td>\n",
       "      <td>sell</td>\n",
       "      <td>store</td>\n",
       "      <td>|Argentina|Capital Federal|Palermo|</td>\n",
       "      <td>-34.586069,-58.414431</td>\n",
       "      <td>-34.586069</td>\n",
       "      <td>-58.414431</td>\n",
       "      <td>790000.00</td>\n",
       "      <td>121.0</td>\n",
       "      <td>121.0</td>\n",
       "      <td>6528.925620</td>\n",
       "      <td>NaN</td>\n",
       "      <td>NaN</td>\n",
       "      <td>NaN</td>\n",
       "      <td>https://www.properati.com.ar/1cl7l_venta_local...</td>\n",
       "      <td>PALERMO</td>\n",
       "      <td>14.0</td>\n",
       "    </tr>\n",
       "    <tr>\n",
       "      <th>2</th>\n",
       "      <td>2017-08-02</td>\n",
       "      <td>sell</td>\n",
       "      <td>store</td>\n",
       "      <td>|Argentina|Capital Federal|Palermo|Palermo Soho|</td>\n",
       "      <td>-34.589723,-58.4325664</td>\n",
       "      <td>-34.589723</td>\n",
       "      <td>-58.432566</td>\n",
       "      <td>343000.00</td>\n",
       "      <td>122.0</td>\n",
       "      <td>108.0</td>\n",
       "      <td>2811.475410</td>\n",
       "      <td>NaN</td>\n",
       "      <td>2.0</td>\n",
       "      <td>NaN</td>\n",
       "      <td>https://www.properati.com.ar/1cm8w_venta_local...</td>\n",
       "      <td>PALERMO</td>\n",
       "      <td>14.0</td>\n",
       "    </tr>\n",
       "    <tr>\n",
       "      <th>3</th>\n",
       "      <td>2017-08-03</td>\n",
       "      <td>sell</td>\n",
       "      <td>store</td>\n",
       "      <td>|Argentina|Capital Federal|Palermo|</td>\n",
       "      <td>-34.5923646,-58.4144028</td>\n",
       "      <td>-34.592365</td>\n",
       "      <td>-58.414403</td>\n",
       "      <td>145000.00</td>\n",
       "      <td>24.0</td>\n",
       "      <td>24.0</td>\n",
       "      <td>6041.666667</td>\n",
       "      <td>NaN</td>\n",
       "      <td>NaN</td>\n",
       "      <td>NaN</td>\n",
       "      <td>https://www.properati.com.ar/1covk_venta_local...</td>\n",
       "      <td>PALERMO</td>\n",
       "      <td>14.0</td>\n",
       "    </tr>\n",
       "    <tr>\n",
       "      <th>4</th>\n",
       "      <td>2017-08-08</td>\n",
       "      <td>sell</td>\n",
       "      <td>store</td>\n",
       "      <td>|Argentina|Capital Federal|Barrio Norte|</td>\n",
       "      <td>-34.585652875,-58.4114933233</td>\n",
       "      <td>-34.585653</td>\n",
       "      <td>-58.411493</td>\n",
       "      <td>175000.00</td>\n",
       "      <td>24.0</td>\n",
       "      <td>24.0</td>\n",
       "      <td>7291.666667</td>\n",
       "      <td>NaN</td>\n",
       "      <td>NaN</td>\n",
       "      <td>NaN</td>\n",
       "      <td>https://www.properati.com.ar/1csk7_venta_local...</td>\n",
       "      <td>PALERMO</td>\n",
       "      <td>14.0</td>\n",
       "    </tr>\n",
       "    <tr>\n",
       "      <th>...</th>\n",
       "      <td>...</td>\n",
       "      <td>...</td>\n",
       "      <td>...</td>\n",
       "      <td>...</td>\n",
       "      <td>...</td>\n",
       "      <td>...</td>\n",
       "      <td>...</td>\n",
       "      <td>...</td>\n",
       "      <td>...</td>\n",
       "      <td>...</td>\n",
       "      <td>...</td>\n",
       "      <td>...</td>\n",
       "      <td>...</td>\n",
       "      <td>...</td>\n",
       "      <td>...</td>\n",
       "      <td>...</td>\n",
       "      <td>...</td>\n",
       "    </tr>\n",
       "    <tr>\n",
       "      <th>18974</th>\n",
       "      <td>2018-01-08</td>\n",
       "      <td>sell</td>\n",
       "      <td>apartment</td>\n",
       "      <td>|Argentina|Capital Federal|Villa Soldati|</td>\n",
       "      <td>-34.668741,-58.443146</td>\n",
       "      <td>-34.668741</td>\n",
       "      <td>-58.443146</td>\n",
       "      <td>60000.00</td>\n",
       "      <td>55.0</td>\n",
       "      <td>55.0</td>\n",
       "      <td>1090.909091</td>\n",
       "      <td>NaN</td>\n",
       "      <td>3.0</td>\n",
       "      <td>NaN</td>\n",
       "      <td>https://www.properati.com.ar/1jcpm_venta_depar...</td>\n",
       "      <td>VILLA SOLDATI</td>\n",
       "      <td>8.0</td>\n",
       "    </tr>\n",
       "    <tr>\n",
       "      <th>18975</th>\n",
       "      <td>2018-01-23</td>\n",
       "      <td>sell</td>\n",
       "      <td>house</td>\n",
       "      <td>|Argentina|Capital Federal|Villa Soldati|</td>\n",
       "      <td>-34.66417,-58.443317</td>\n",
       "      <td>-34.664170</td>\n",
       "      <td>-58.443317</td>\n",
       "      <td>99000.00</td>\n",
       "      <td>115.0</td>\n",
       "      <td>82.0</td>\n",
       "      <td>860.869565</td>\n",
       "      <td>NaN</td>\n",
       "      <td>3.0</td>\n",
       "      <td>NaN</td>\n",
       "      <td>https://www.properati.com.ar/1k1hs_venta_casa_...</td>\n",
       "      <td>VILLA SOLDATI</td>\n",
       "      <td>8.0</td>\n",
       "    </tr>\n",
       "    <tr>\n",
       "      <th>18976</th>\n",
       "      <td>2018-01-24</td>\n",
       "      <td>sell</td>\n",
       "      <td>store</td>\n",
       "      <td>|Argentina|Capital Federal|Villa Soldati|</td>\n",
       "      <td>-34.6618136,-58.426504</td>\n",
       "      <td>-34.661814</td>\n",
       "      <td>-58.426504</td>\n",
       "      <td>3300000.00</td>\n",
       "      <td>NaN</td>\n",
       "      <td>4162.0</td>\n",
       "      <td>NaN</td>\n",
       "      <td>NaN</td>\n",
       "      <td>NaN</td>\n",
       "      <td>NaN</td>\n",
       "      <td>https://www.properati.com.ar/1k1mv_venta_local...</td>\n",
       "      <td>VILLA SOLDATI</td>\n",
       "      <td>8.0</td>\n",
       "    </tr>\n",
       "    <tr>\n",
       "      <th>18977</th>\n",
       "      <td>2018-01-27</td>\n",
       "      <td>sell</td>\n",
       "      <td>apartment</td>\n",
       "      <td>|Argentina|Capital Federal|Villa Soldati|</td>\n",
       "      <td>-34.665005,-58.443041</td>\n",
       "      <td>-34.665005</td>\n",
       "      <td>-58.443041</td>\n",
       "      <td>50433.01</td>\n",
       "      <td>45.0</td>\n",
       "      <td>45.0</td>\n",
       "      <td>1120.733556</td>\n",
       "      <td>NaN</td>\n",
       "      <td>3.0</td>\n",
       "      <td>NaN</td>\n",
       "      <td>https://www.properati.com.ar/1k5v0_venta_depar...</td>\n",
       "      <td>VILLA SOLDATI</td>\n",
       "      <td>8.0</td>\n",
       "    </tr>\n",
       "    <tr>\n",
       "      <th>18978</th>\n",
       "      <td>2018-01-27</td>\n",
       "      <td>sell</td>\n",
       "      <td>apartment</td>\n",
       "      <td>|Argentina|Capital Federal|Villa Lugano|</td>\n",
       "      <td>-34.664283,-58.469604</td>\n",
       "      <td>-34.664283</td>\n",
       "      <td>-58.469604</td>\n",
       "      <td>75000.00</td>\n",
       "      <td>60.0</td>\n",
       "      <td>58.0</td>\n",
       "      <td>1250.000000</td>\n",
       "      <td>9.0</td>\n",
       "      <td>3.0</td>\n",
       "      <td>NaN</td>\n",
       "      <td>https://www.properati.com.ar/1k5x2_venta_depar...</td>\n",
       "      <td>VILLA SOLDATI</td>\n",
       "      <td>8.0</td>\n",
       "    </tr>\n",
       "  </tbody>\n",
       "</table>\n",
       "<p>18979 rows × 17 columns</p>\n",
       "</div>"
      ],
      "text/plain": [
       "       created_on operation property_type  \\\n",
       "0      2017-09-22      sell         house   \n",
       "1      2017-08-01      sell         store   \n",
       "2      2017-08-02      sell         store   \n",
       "3      2017-08-03      sell         store   \n",
       "4      2017-08-08      sell         store   \n",
       "...           ...       ...           ...   \n",
       "18974  2018-01-08      sell     apartment   \n",
       "18975  2018-01-23      sell         house   \n",
       "18976  2018-01-24      sell         store   \n",
       "18977  2018-01-27      sell     apartment   \n",
       "18978  2018-01-27      sell     apartment   \n",
       "\n",
       "                                 place_with_parent_names  \\\n",
       "0      |Argentina|Capital Federal|Palermo|Palermo Viejo|   \n",
       "1                    |Argentina|Capital Federal|Palermo|   \n",
       "2       |Argentina|Capital Federal|Palermo|Palermo Soho|   \n",
       "3                    |Argentina|Capital Federal|Palermo|   \n",
       "4               |Argentina|Capital Federal|Barrio Norte|   \n",
       "...                                                  ...   \n",
       "18974          |Argentina|Capital Federal|Villa Soldati|   \n",
       "18975          |Argentina|Capital Federal|Villa Soldati|   \n",
       "18976          |Argentina|Capital Federal|Villa Soldati|   \n",
       "18977          |Argentina|Capital Federal|Villa Soldati|   \n",
       "18978           |Argentina|Capital Federal|Villa Lugano|   \n",
       "\n",
       "                             lat-lon        lat        lon  price_aprox_usd  \\\n",
       "0      -34.5889531469,-58.4298817776 -34.588953 -58.429882       2000000.00   \n",
       "1              -34.586069,-58.414431 -34.586069 -58.414431        790000.00   \n",
       "2             -34.589723,-58.4325664 -34.589723 -58.432566        343000.00   \n",
       "3            -34.5923646,-58.4144028 -34.592365 -58.414403        145000.00   \n",
       "4       -34.585652875,-58.4114933233 -34.585653 -58.411493        175000.00   \n",
       "...                              ...        ...        ...              ...   \n",
       "18974          -34.668741,-58.443146 -34.668741 -58.443146         60000.00   \n",
       "18975           -34.66417,-58.443317 -34.664170 -58.443317         99000.00   \n",
       "18976         -34.6618136,-58.426504 -34.661814 -58.426504       3300000.00   \n",
       "18977          -34.665005,-58.443041 -34.665005 -58.443041         50433.01   \n",
       "18978          -34.664283,-58.469604 -34.664283 -58.469604         75000.00   \n",
       "\n",
       "       surface_total_in_m2  surface_covered_in_m2  price_usd_per_m2  floor  \\\n",
       "0                    312.0                    NaN       6410.256410    NaN   \n",
       "1                    121.0                  121.0       6528.925620    NaN   \n",
       "2                    122.0                  108.0       2811.475410    NaN   \n",
       "3                     24.0                   24.0       6041.666667    NaN   \n",
       "4                     24.0                   24.0       7291.666667    NaN   \n",
       "...                    ...                    ...               ...    ...   \n",
       "18974                 55.0                   55.0       1090.909091    NaN   \n",
       "18975                115.0                   82.0        860.869565    NaN   \n",
       "18976                  NaN                 4162.0               NaN    NaN   \n",
       "18977                 45.0                   45.0       1120.733556    NaN   \n",
       "18978                 60.0                   58.0       1250.000000    9.0   \n",
       "\n",
       "       rooms  expenses                                      properati_url  \\\n",
       "0        NaN       NaN  https://www.properati.com.ar/2os_venta_casa_pa...   \n",
       "1        NaN       NaN  https://www.properati.com.ar/1cl7l_venta_local...   \n",
       "2        2.0       NaN  https://www.properati.com.ar/1cm8w_venta_local...   \n",
       "3        NaN       NaN  https://www.properati.com.ar/1covk_venta_local...   \n",
       "4        NaN       NaN  https://www.properati.com.ar/1csk7_venta_local...   \n",
       "...      ...       ...                                                ...   \n",
       "18974    3.0       NaN  https://www.properati.com.ar/1jcpm_venta_depar...   \n",
       "18975    3.0       NaN  https://www.properati.com.ar/1k1hs_venta_casa_...   \n",
       "18976    NaN       NaN  https://www.properati.com.ar/1k1mv_venta_local...   \n",
       "18977    3.0       NaN  https://www.properati.com.ar/1k5v0_venta_depar...   \n",
       "18978    3.0       NaN  https://www.properati.com.ar/1k5x2_venta_depar...   \n",
       "\n",
       "              barrio  comuna  \n",
       "0            PALERMO    14.0  \n",
       "1            PALERMO    14.0  \n",
       "2            PALERMO    14.0  \n",
       "3            PALERMO    14.0  \n",
       "4            PALERMO    14.0  \n",
       "...              ...     ...  \n",
       "18974  VILLA SOLDATI     8.0  \n",
       "18975  VILLA SOLDATI     8.0  \n",
       "18976  VILLA SOLDATI     8.0  \n",
       "18977  VILLA SOLDATI     8.0  \n",
       "18978  VILLA SOLDATI     8.0  \n",
       "\n",
       "[18979 rows x 17 columns]"
      ]
     },
     "execution_count": 36,
     "metadata": {},
     "output_type": "execute_result"
    }
   ],
   "source": [
    "properati_data"
   ]
  },
  {
   "cell_type": "code",
   "execution_count": 41,
   "id": "3afc9625-0f57-45f8-9bfb-1ccf0db9a795",
   "metadata": {},
   "outputs": [
    {
     "data": {
      "image/png": "[encoded data removed]",
      "text/plain": [
       "<Figure size 640x480 with 1 Axes>"
      ]
     },
     "metadata": {},
     "output_type": "display_data"
    }
   ],
   "source": [
    "\n",
    "grouped = properati_data.groupby('year')['price_aprox_usd'].mean().reset_index()\n",
    "grouped.plot(\n",
    "    x='year',\n",
    "    y='price_aprox_usd',\n",
    "    title='Average Property Price Over Years',\n",
    "    xlabel='Year',\n",
    "    ylabel='Average Price (USD)',\n",
    "    legend=False,\n",
    "    rot=50\n",
    ")\n",
    "plt.show()\n"
   ]
  },
  {
   "cell_type": "markdown",
   "id": "2307e562-720d-4ff0-95db-4d05b8602cf0",
   "metadata": {},
   "source": [
    "## **Ejercicio 1.6: Gráfico de barras**"
   ]
  },
  {
   "cell_type": "markdown",
   "id": "498fc9ee-85a1-4016-8ec5-3073b3063ae1",
   "metadata": {},
   "source": [
    "**Descripción:** Exploramos los 5 tipos de propiedad más comunes en el dataset."
   ]
  },
  {
   "cell_type": "code",
   "execution_count": 43,
   "id": "11f6fbbf-b230-47a2-9b94-01ce34e22a6a",
   "metadata": {},
   "outputs": [],
   "source": [
    "grouped = properati_data['property_type'].value_counts()"
   ]
  },
  {
   "cell_type": "code",
   "execution_count": 44,
   "id": "04b3d929-17a3-4872-81d7-138d58b25128",
   "metadata": {},
   "outputs": [
    {
     "data": {
      "text/plain": [
       "property_type\n",
       "apartment    14807\n",
       "house         1618\n",
       "PH            1463\n",
       "store         1091\n",
       "Name: count, dtype: int64"
      ]
     },
     "execution_count": 44,
     "metadata": {},
     "output_type": "execute_result"
    }
   ],
   "source": [
    "grouped"
   ]
  },
  {
   "cell_type": "code",
   "execution_count": 50,
   "id": "5cf29cb3-ea80-4139-85a2-0e4220d457a7",
   "metadata": {},
   "outputs": [],
   "source": [
    "grouped_2 = properati_data['property_type'].value_counts().head(3)"
   ]
  },
  {
   "cell_type": "code",
   "execution_count": 51,
   "id": "e7eb3f87-9c0b-4bf0-80df-4f9d63638717",
   "metadata": {},
   "outputs": [
    {
     "data": {
      "text/plain": [
       "property_type\n",
       "apartment    14807\n",
       "house         1618\n",
       "PH            1463\n",
       "Name: count, dtype: int64"
      ]
     },
     "execution_count": 51,
     "metadata": {},
     "output_type": "execute_result"
    }
   ],
   "source": [
    "grouped_2"
   ]
  },
  {
   "cell_type": "code",
   "execution_count": 25,
   "id": "c7fa331b-7a51-4fd7-b54e-61ffe2713ecf",
   "metadata": {},
   "outputs": [
    {
     "data": {
      "image/png": "[encoded data removed]",
      "text/plain": [
       "<Figure size 640x480 with 1 Axes>"
      ]
     },
     "metadata": {},
     "output_type": "display_data"
    }
   ],
   "source": [
    "grouped = properati_data['property_type'].value_counts().head(5)\n",
    "grouped.plot(\n",
    "    kind='bar',\n",
    "    title='Top 5 Property Types',\n",
    "    xlabel='Property Type',\n",
    "    ylabel='Number of Listings'\n",
    ")\n",
    "plt.show()"
   ]
  },
  {
   "cell_type": "markdown",
   "id": "66373b4b-b979-43f5-b212-64f35ba07403",
   "metadata": {},
   "source": [
    "## **Ejercicio 1.7: Histogramas**"
   ]
  },
  {
   "cell_type": "markdown",
   "id": "ba8174e5-5486-4908-a880-fc3cfc945d1f",
   "metadata": {},
   "source": [
    "**Descripción:** Analizamos la distribución de precios para identificar tendencias y rangos frecuentes."
   ]
  },
  {
   "cell_type": "code",
   "execution_count": null,
   "id": "e8040888-4236-40e7-99f0-67ce996efb12",
   "metadata": {},
   "outputs": [],
   "source": []
  },
  {
   "cell_type": "code",
   "execution_count": 55,
   "id": "833ee37c-fcb5-4395-bd3d-57991dd2bc51",
   "metadata": {},
   "outputs": [
    {
     "data": {
      "image/png": "[encoded data removed]",
      "text/plain": [
       "<Figure size 640x480 with 1 Axes>"
      ]
     },
     "metadata": {},
     "output_type": "display_data"
    }
   ],
   "source": [
    "properati_data['price_aprox_usd'].plot(\n",
    "    kind='hist',\n",
    "    bins=50,\n",
    "    alpha=0.7,\n",
    "    title='Price Distribution',\n",
    "    ylabel='Frequency',\n",
    "    xlim=[0,1400000]\n",
    ")\n",
    "plt.show()"
   ]
  },
  {
   "cell_type": "markdown",
   "id": "7d185c00-921f-4cc0-b601-592fd43ecbb9",
   "metadata": {},
   "source": [
    "# **Momento 2: Juntemos todo!**"
   ]
  },
  {
   "cell_type": "markdown",
   "id": "2fbf07c8-358b-483c-8103-2eb117e1393a",
   "metadata": {},
   "source": [
    "## **Ejercicio 2.1: Valores faltantes y limpieza de datos**"
   ]
  },
  {
   "cell_type": "markdown",
   "id": "69a02d45-864f-4c08-a339-6abb6c304e8b",
   "metadata": {},
   "source": [
    "Identificamos las columnas con valores faltantes para determinar cuáles deben ser limpiadas."
   ]
  },
  {
   "cell_type": "code",
   "execution_count": 57,
   "id": "599069fe-612b-4198-9976-a6f9cbdc5239",
   "metadata": {},
   "outputs": [],
   "source": [
    "properati_data['price'] = properati_data['price_aprox_usd']"
   ]
  },
  {
   "cell_type": "code",
   "execution_count": 58,
   "id": "3251ceae-7305-4507-b16f-3e8100ffd42c",
   "metadata": {},
   "outputs": [
    {
     "name": "stdout",
     "output_type": "stream",
     "text": [
      "Valores faltantes por columna:\n",
      " created_on                     0\n",
      "operation                      0\n",
      "property_type                  0\n",
      "place_with_parent_names        0\n",
      "lat-lon                        0\n",
      "lat                            0\n",
      "lon                            0\n",
      "price_aprox_usd             1534\n",
      "surface_total_in_m2         2393\n",
      "surface_covered_in_m2       2103\n",
      "price_usd_per_m2            2942\n",
      "floor                      16223\n",
      "rooms                       5462\n",
      "expenses                   15164\n",
      "properati_url                  0\n",
      "barrio                         0\n",
      "comuna                         0\n",
      "year                           0\n",
      "price                       1534\n",
      "dtype: int64\n"
     ]
    }
   ],
   "source": [
    "print(\"Valores faltantes por columna:\\n\", properati_data.isnull().sum())\n",
    "properati_data_cleaned = properati_data.dropna(subset=['price', 'surface_total_in_m2'])"
   ]
  },
  {
   "cell_type": "markdown",
   "id": "ae144ef9-d5aa-4dbd-b5e5-6447baac44ae",
   "metadata": {},
   "source": [
    "## **Ejercicio 2.2: Análisis temporal**"
   ]
  },
  {
   "cell_type": "markdown",
   "id": "01dc765c-4654-4844-85b4-3e41da1704e4",
   "metadata": {},
   "source": [
    "Exploramos cómo varían los precios mensuales promedio de las propiedades a lo largo del tiempo."
   ]
  },
  {
   "cell_type": "code",
   "execution_count": 59,
   "id": "7ae90b03-3212-4fdd-8b7b-7f1b902b6d18",
   "metadata": {},
   "outputs": [
    {
     "name": "stderr",
     "output_type": "stream",
     "text": [
      "C:\\Users\\ljpca\\AppData\\Local\\Temp\\ipykernel_4444\\3449531783.py:1: SettingWithCopyWarning: \n",
      "A value is trying to be set on a copy of a slice from a DataFrame.\n",
      "Try using .loc[row_indexer,col_indexer] = value instead\n",
      "\n",
      "See the caveats in the documentation: https://pandas.pydata.org/pandas-docs/stable/user_guide/indexing.html#returning-a-view-versus-a-copy\n",
      "  properati_data_cleaned['month'] = pd.to_datetime(properati_data_cleaned['created_on']).dt.to_period('M')\n"
     ]
    }
   ],
   "source": [
    "properati_data_cleaned['month'] = pd.to_datetime(properati_data_cleaned['created_on']).dt.to_period('M')"
   ]
  },
  {
   "cell_type": "code",
   "execution_count": 60,
   "id": "91e69e8e-ea8a-40f0-9db1-26d7e7670bab",
   "metadata": {},
   "outputs": [
    {
     "data": {
      "text/html": [
       "<div>\n",
       "<style scoped>\n",
       "    .dataframe tbody tr th:only-of-type {\n",
       "        vertical-align: middle;\n",
       "    }\n",
       "\n",
       "    .dataframe tbody tr th {\n",
       "        vertical-align: top;\n",
       "    }\n",
       "\n",
       "    .dataframe thead th {\n",
       "        text-align: right;\n",
       "    }\n",
       "</style>\n",
       "<table border=\"1\" class=\"dataframe\">\n",
       "  <thead>\n",
       "    <tr style=\"text-align: right;\">\n",
       "      <th></th>\n",
       "      <th>created_on</th>\n",
       "      <th>operation</th>\n",
       "      <th>property_type</th>\n",
       "      <th>place_with_parent_names</th>\n",
       "      <th>lat-lon</th>\n",
       "      <th>lat</th>\n",
       "      <th>lon</th>\n",
       "      <th>price_aprox_usd</th>\n",
       "      <th>surface_total_in_m2</th>\n",
       "      <th>surface_covered_in_m2</th>\n",
       "      <th>price_usd_per_m2</th>\n",
       "      <th>floor</th>\n",
       "      <th>rooms</th>\n",
       "      <th>expenses</th>\n",
       "      <th>properati_url</th>\n",
       "      <th>barrio</th>\n",
       "      <th>comuna</th>\n",
       "      <th>year</th>\n",
       "      <th>price</th>\n",
       "      <th>month</th>\n",
       "    </tr>\n",
       "  </thead>\n",
       "  <tbody>\n",
       "    <tr>\n",
       "      <th>0</th>\n",
       "      <td>2017-09-22</td>\n",
       "      <td>sell</td>\n",
       "      <td>house</td>\n",
       "      <td>|Argentina|Capital Federal|Palermo|Palermo Viejo|</td>\n",
       "      <td>-34.5889531469,-58.4298817776</td>\n",
       "      <td>-34.588953</td>\n",
       "      <td>-58.429882</td>\n",
       "      <td>2000000.0</td>\n",
       "      <td>312.0</td>\n",
       "      <td>NaN</td>\n",
       "      <td>6410.256410</td>\n",
       "      <td>NaN</td>\n",
       "      <td>NaN</td>\n",
       "      <td>NaN</td>\n",
       "      <td>https://www.properati.com.ar/2os_venta_casa_pa...</td>\n",
       "      <td>PALERMO</td>\n",
       "      <td>14.0</td>\n",
       "      <td>2017</td>\n",
       "      <td>2000000.0</td>\n",
       "      <td>2017-09</td>\n",
       "    </tr>\n",
       "    <tr>\n",
       "      <th>1</th>\n",
       "      <td>2017-08-01</td>\n",
       "      <td>sell</td>\n",
       "      <td>store</td>\n",
       "      <td>|Argentina|Capital Federal|Palermo|</td>\n",
       "      <td>-34.586069,-58.414431</td>\n",
       "      <td>-34.586069</td>\n",
       "      <td>-58.414431</td>\n",
       "      <td>790000.0</td>\n",
       "      <td>121.0</td>\n",
       "      <td>121.0</td>\n",
       "      <td>6528.925620</td>\n",
       "      <td>NaN</td>\n",
       "      <td>NaN</td>\n",
       "      <td>NaN</td>\n",
       "      <td>https://www.properati.com.ar/1cl7l_venta_local...</td>\n",
       "      <td>PALERMO</td>\n",
       "      <td>14.0</td>\n",
       "      <td>2017</td>\n",
       "      <td>790000.0</td>\n",
       "      <td>2017-08</td>\n",
       "    </tr>\n",
       "    <tr>\n",
       "      <th>2</th>\n",
       "      <td>2017-08-02</td>\n",
       "      <td>sell</td>\n",
       "      <td>store</td>\n",
       "      <td>|Argentina|Capital Federal|Palermo|Palermo Soho|</td>\n",
       "      <td>-34.589723,-58.4325664</td>\n",
       "      <td>-34.589723</td>\n",
       "      <td>-58.432566</td>\n",
       "      <td>343000.0</td>\n",
       "      <td>122.0</td>\n",
       "      <td>108.0</td>\n",
       "      <td>2811.475410</td>\n",
       "      <td>NaN</td>\n",
       "      <td>2.0</td>\n",
       "      <td>NaN</td>\n",
       "      <td>https://www.properati.com.ar/1cm8w_venta_local...</td>\n",
       "      <td>PALERMO</td>\n",
       "      <td>14.0</td>\n",
       "      <td>2017</td>\n",
       "      <td>343000.0</td>\n",
       "      <td>2017-08</td>\n",
       "    </tr>\n",
       "    <tr>\n",
       "      <th>3</th>\n",
       "      <td>2017-08-03</td>\n",
       "      <td>sell</td>\n",
       "      <td>store</td>\n",
       "      <td>|Argentina|Capital Federal|Palermo|</td>\n",
       "      <td>-34.5923646,-58.4144028</td>\n",
       "      <td>-34.592365</td>\n",
       "      <td>-58.414403</td>\n",
       "      <td>145000.0</td>\n",
       "      <td>24.0</td>\n",
       "      <td>24.0</td>\n",
       "      <td>6041.666667</td>\n",
       "      <td>NaN</td>\n",
       "      <td>NaN</td>\n",
       "      <td>NaN</td>\n",
       "      <td>https://www.properati.com.ar/1covk_venta_local...</td>\n",
       "      <td>PALERMO</td>\n",
       "      <td>14.0</td>\n",
       "      <td>2017</td>\n",
       "      <td>145000.0</td>\n",
       "      <td>2017-08</td>\n",
       "    </tr>\n",
       "    <tr>\n",
       "      <th>4</th>\n",
       "      <td>2017-08-08</td>\n",
       "      <td>sell</td>\n",
       "      <td>store</td>\n",
       "      <td>|Argentina|Capital Federal|Barrio Norte|</td>\n",
       "      <td>-34.585652875,-58.4114933233</td>\n",
       "      <td>-34.585653</td>\n",
       "      <td>-58.411493</td>\n",
       "      <td>175000.0</td>\n",
       "      <td>24.0</td>\n",
       "      <td>24.0</td>\n",
       "      <td>7291.666667</td>\n",
       "      <td>NaN</td>\n",
       "      <td>NaN</td>\n",
       "      <td>NaN</td>\n",
       "      <td>https://www.properati.com.ar/1csk7_venta_local...</td>\n",
       "      <td>PALERMO</td>\n",
       "      <td>14.0</td>\n",
       "      <td>2017</td>\n",
       "      <td>175000.0</td>\n",
       "      <td>2017-08</td>\n",
       "    </tr>\n",
       "  </tbody>\n",
       "</table>\n",
       "</div>"
      ],
      "text/plain": [
       "   created_on operation property_type  \\\n",
       "0  2017-09-22      sell         house   \n",
       "1  2017-08-01      sell         store   \n",
       "2  2017-08-02      sell         store   \n",
       "3  2017-08-03      sell         store   \n",
       "4  2017-08-08      sell         store   \n",
       "\n",
       "                             place_with_parent_names  \\\n",
       "0  |Argentina|Capital Federal|Palermo|Palermo Viejo|   \n",
       "1                |Argentina|Capital Federal|Palermo|   \n",
       "2   |Argentina|Capital Federal|Palermo|Palermo Soho|   \n",
       "3                |Argentina|Capital Federal|Palermo|   \n",
       "4           |Argentina|Capital Federal|Barrio Norte|   \n",
       "\n",
       "                         lat-lon        lat        lon  price_aprox_usd  \\\n",
       "0  -34.5889531469,-58.4298817776 -34.588953 -58.429882        2000000.0   \n",
       "1          -34.586069,-58.414431 -34.586069 -58.414431         790000.0   \n",
       "2         -34.589723,-58.4325664 -34.589723 -58.432566         343000.0   \n",
       "3        -34.5923646,-58.4144028 -34.592365 -58.414403         145000.0   \n",
       "4   -34.585652875,-58.4114933233 -34.585653 -58.411493         175000.0   \n",
       "\n",
       "   surface_total_in_m2  surface_covered_in_m2  price_usd_per_m2  floor  rooms  \\\n",
       "0                312.0                    NaN       6410.256410    NaN    NaN   \n",
       "1                121.0                  121.0       6528.925620    NaN    NaN   \n",
       "2                122.0                  108.0       2811.475410    NaN    2.0   \n",
       "3                 24.0                   24.0       6041.666667    NaN    NaN   \n",
       "4                 24.0                   24.0       7291.666667    NaN    NaN   \n",
       "\n",
       "   expenses                                      properati_url   barrio  \\\n",
       "0       NaN  https://www.properati.com.ar/2os_venta_casa_pa...  PALERMO   \n",
       "1       NaN  https://www.properati.com.ar/1cl7l_venta_local...  PALERMO   \n",
       "2       NaN  https://www.properati.com.ar/1cm8w_venta_local...  PALERMO   \n",
       "3       NaN  https://www.properati.com.ar/1covk_venta_local...  PALERMO   \n",
       "4       NaN  https://www.properati.com.ar/1csk7_venta_local...  PALERMO   \n",
       "\n",
       "   comuna  year      price    month  \n",
       "0    14.0  2017  2000000.0  2017-09  \n",
       "1    14.0  2017   790000.0  2017-08  \n",
       "2    14.0  2017   343000.0  2017-08  \n",
       "3    14.0  2017   145000.0  2017-08  \n",
       "4    14.0  2017   175000.0  2017-08  "
      ]
     },
     "execution_count": 60,
     "metadata": {},
     "output_type": "execute_result"
    }
   ],
   "source": [
    "properati_data_cleaned.head()"
   ]
  },
  {
   "cell_type": "code",
   "execution_count": 62,
   "id": "122e4d06-05b5-47fb-bf6d-3d4c52b8f1db",
   "metadata": {},
   "outputs": [
    {
     "data": {
      "image/png": "[encoded data removed]",
      "text/plain": [
       "<Figure size 640x480 with 1 Axes>"
      ]
     },
     "metadata": {},
     "output_type": "display_data"
    }
   ],
   "source": [
    "\n",
    "monthly_avg = properati_data_cleaned.groupby('month')['price'].mean().reset_index()\n",
    "monthly_avg.plot(\n",
    "    x='month',\n",
    "    y='price',\n",
    "    title='Monthly Average Price',\n",
    "    xlabel='Month',\n",
    "    ylabel='Average Price (USD)'\n",
    ")\n",
    "plt.show()\n"
   ]
  },
  {
   "cell_type": "markdown",
   "id": "829c4c7a-cf69-4979-876c-ef27d9b61759",
   "metadata": {},
   "source": [
    "## **Ejercicio 2.3: Comparación de precios por tipo de propiedad**"
   ]
  },
  {
   "cell_type": "markdown",
   "id": "a3f0e07f-692e-42d1-999f-d4198f938a28",
   "metadata": {},
   "source": [
    "Analizamos los precios promedio para los 5 tipos de propiedad más caros."
   ]
  },
  {
   "cell_type": "code",
   "execution_count": 63,
   "id": "3d5b5d5e-2c94-4b1b-874e-658149bd7a2a",
   "metadata": {},
   "outputs": [],
   "source": [
    "avg_prices = properati_data_cleaned.groupby('property_type')['price'].mean().sort_values(ascending=False).head(5)"
   ]
  },
  {
   "cell_type": "code",
   "execution_count": 64,
   "id": "b33e277c-8739-41d8-9557-9dc73287ce99",
   "metadata": {},
   "outputs": [
    {
     "data": {
      "text/plain": [
       "property_type\n",
       "house        516698.786192\n",
       "store        427474.160301\n",
       "apartment    279244.956611\n",
       "PH           214704.156392\n",
       "Name: price, dtype: float64"
      ]
     },
     "execution_count": 64,
     "metadata": {},
     "output_type": "execute_result"
    }
   ],
   "source": [
    "avg_prices"
   ]
  },
  {
   "cell_type": "code",
   "execution_count": 65,
   "id": "9f88bc88-948f-4c79-aec6-22cd31d4890a",
   "metadata": {},
   "outputs": [
    {
     "data": {
      "image/png": "[encoded data removed]",
      "text/plain": [
       "<Figure size 640x480 with 1 Axes>"
      ]
     },
     "metadata": {},
     "output_type": "display_data"
    }
   ],
   "source": [
    "\n",
    "avg_prices.plot(\n",
    "    kind='bar',\n",
    "    title='Top 5 Property Types by Average Price',\n",
    "    xlabel='Property Type',\n",
    "    ylabel='Average Price (USD)'\n",
    ")\n",
    "plt.show()"
   ]
  },
  {
   "cell_type": "markdown",
   "id": "a9856077-4b98-453e-b4d9-73fe2a9e843d",
   "metadata": {},
   "source": [
    "## **Ejercicio 2.4: Distribución geográfica de propiedades**"
   ]
  },
  {
   "cell_type": "markdown",
   "id": "d796c3c6-f1c2-42df-a593-958026b2b483",
   "metadata": {},
   "source": [
    "Investigamos las 10 ubicaciones más frecuentes en los listados para entender la distribución geográfica."
   ]
  },
  {
   "cell_type": "code",
   "execution_count": 66,
   "id": "9459c31f-7b96-4ab1-84b5-eaf68c2da5ba",
   "metadata": {},
   "outputs": [
    {
     "data": {
      "text/html": [
       "<div>\n",
       "<style scoped>\n",
       "    .dataframe tbody tr th:only-of-type {\n",
       "        vertical-align: middle;\n",
       "    }\n",
       "\n",
       "    .dataframe tbody tr th {\n",
       "        vertical-align: top;\n",
       "    }\n",
       "\n",
       "    .dataframe thead th {\n",
       "        text-align: right;\n",
       "    }\n",
       "</style>\n",
       "<table border=\"1\" class=\"dataframe\">\n",
       "  <thead>\n",
       "    <tr style=\"text-align: right;\">\n",
       "      <th></th>\n",
       "      <th>created_on</th>\n",
       "      <th>operation</th>\n",
       "      <th>property_type</th>\n",
       "      <th>place_with_parent_names</th>\n",
       "      <th>lat-lon</th>\n",
       "      <th>lat</th>\n",
       "      <th>lon</th>\n",
       "      <th>price_aprox_usd</th>\n",
       "      <th>surface_total_in_m2</th>\n",
       "      <th>surface_covered_in_m2</th>\n",
       "      <th>price_usd_per_m2</th>\n",
       "      <th>floor</th>\n",
       "      <th>rooms</th>\n",
       "      <th>expenses</th>\n",
       "      <th>properati_url</th>\n",
       "      <th>barrio</th>\n",
       "      <th>comuna</th>\n",
       "      <th>year</th>\n",
       "      <th>price</th>\n",
       "      <th>month</th>\n",
       "    </tr>\n",
       "  </thead>\n",
       "  <tbody>\n",
       "    <tr>\n",
       "      <th>0</th>\n",
       "      <td>2017-09-22</td>\n",
       "      <td>sell</td>\n",
       "      <td>house</td>\n",
       "      <td>|Argentina|Capital Federal|Palermo|Palermo Viejo|</td>\n",
       "      <td>-34.5889531469,-58.4298817776</td>\n",
       "      <td>-34.588953</td>\n",
       "      <td>-58.429882</td>\n",
       "      <td>2000000.0</td>\n",
       "      <td>312.0</td>\n",
       "      <td>NaN</td>\n",
       "      <td>6410.256410</td>\n",
       "      <td>NaN</td>\n",
       "      <td>NaN</td>\n",
       "      <td>NaN</td>\n",
       "      <td>https://www.properati.com.ar/2os_venta_casa_pa...</td>\n",
       "      <td>PALERMO</td>\n",
       "      <td>14.0</td>\n",
       "      <td>2017</td>\n",
       "      <td>2000000.0</td>\n",
       "      <td>2017-09</td>\n",
       "    </tr>\n",
       "    <tr>\n",
       "      <th>1</th>\n",
       "      <td>2017-08-01</td>\n",
       "      <td>sell</td>\n",
       "      <td>store</td>\n",
       "      <td>|Argentina|Capital Federal|Palermo|</td>\n",
       "      <td>-34.586069,-58.414431</td>\n",
       "      <td>-34.586069</td>\n",
       "      <td>-58.414431</td>\n",
       "      <td>790000.0</td>\n",
       "      <td>121.0</td>\n",
       "      <td>121.0</td>\n",
       "      <td>6528.925620</td>\n",
       "      <td>NaN</td>\n",
       "      <td>NaN</td>\n",
       "      <td>NaN</td>\n",
       "      <td>https://www.properati.com.ar/1cl7l_venta_local...</td>\n",
       "      <td>PALERMO</td>\n",
       "      <td>14.0</td>\n",
       "      <td>2017</td>\n",
       "      <td>790000.0</td>\n",
       "      <td>2017-08</td>\n",
       "    </tr>\n",
       "    <tr>\n",
       "      <th>2</th>\n",
       "      <td>2017-08-02</td>\n",
       "      <td>sell</td>\n",
       "      <td>store</td>\n",
       "      <td>|Argentina|Capital Federal|Palermo|Palermo Soho|</td>\n",
       "      <td>-34.589723,-58.4325664</td>\n",
       "      <td>-34.589723</td>\n",
       "      <td>-58.432566</td>\n",
       "      <td>343000.0</td>\n",
       "      <td>122.0</td>\n",
       "      <td>108.0</td>\n",
       "      <td>2811.475410</td>\n",
       "      <td>NaN</td>\n",
       "      <td>2.0</td>\n",
       "      <td>NaN</td>\n",
       "      <td>https://www.properati.com.ar/1cm8w_venta_local...</td>\n",
       "      <td>PALERMO</td>\n",
       "      <td>14.0</td>\n",
       "      <td>2017</td>\n",
       "      <td>343000.0</td>\n",
       "      <td>2017-08</td>\n",
       "    </tr>\n",
       "    <tr>\n",
       "      <th>3</th>\n",
       "      <td>2017-08-03</td>\n",
       "      <td>sell</td>\n",
       "      <td>store</td>\n",
       "      <td>|Argentina|Capital Federal|Palermo|</td>\n",
       "      <td>-34.5923646,-58.4144028</td>\n",
       "      <td>-34.592365</td>\n",
       "      <td>-58.414403</td>\n",
       "      <td>145000.0</td>\n",
       "      <td>24.0</td>\n",
       "      <td>24.0</td>\n",
       "      <td>6041.666667</td>\n",
       "      <td>NaN</td>\n",
       "      <td>NaN</td>\n",
       "      <td>NaN</td>\n",
       "      <td>https://www.properati.com.ar/1covk_venta_local...</td>\n",
       "      <td>PALERMO</td>\n",
       "      <td>14.0</td>\n",
       "      <td>2017</td>\n",
       "      <td>145000.0</td>\n",
       "      <td>2017-08</td>\n",
       "    </tr>\n",
       "    <tr>\n",
       "      <th>4</th>\n",
       "      <td>2017-08-08</td>\n",
       "      <td>sell</td>\n",
       "      <td>store</td>\n",
       "      <td>|Argentina|Capital Federal|Barrio Norte|</td>\n",
       "      <td>-34.585652875,-58.4114933233</td>\n",
       "      <td>-34.585653</td>\n",
       "      <td>-58.411493</td>\n",
       "      <td>175000.0</td>\n",
       "      <td>24.0</td>\n",
       "      <td>24.0</td>\n",
       "      <td>7291.666667</td>\n",
       "      <td>NaN</td>\n",
       "      <td>NaN</td>\n",
       "      <td>NaN</td>\n",
       "      <td>https://www.properati.com.ar/1csk7_venta_local...</td>\n",
       "      <td>PALERMO</td>\n",
       "      <td>14.0</td>\n",
       "      <td>2017</td>\n",
       "      <td>175000.0</td>\n",
       "      <td>2017-08</td>\n",
       "    </tr>\n",
       "  </tbody>\n",
       "</table>\n",
       "</div>"
      ],
      "text/plain": [
       "   created_on operation property_type  \\\n",
       "0  2017-09-22      sell         house   \n",
       "1  2017-08-01      sell         store   \n",
       "2  2017-08-02      sell         store   \n",
       "3  2017-08-03      sell         store   \n",
       "4  2017-08-08      sell         store   \n",
       "\n",
       "                             place_with_parent_names  \\\n",
       "0  |Argentina|Capital Federal|Palermo|Palermo Viejo|   \n",
       "1                |Argentina|Capital Federal|Palermo|   \n",
       "2   |Argentina|Capital Federal|Palermo|Palermo Soho|   \n",
       "3                |Argentina|Capital Federal|Palermo|   \n",
       "4           |Argentina|Capital Federal|Barrio Norte|   \n",
       "\n",
       "                         lat-lon        lat        lon  price_aprox_usd  \\\n",
       "0  -34.5889531469,-58.4298817776 -34.588953 -58.429882        2000000.0   \n",
       "1          -34.586069,-58.414431 -34.586069 -58.414431         790000.0   \n",
       "2         -34.589723,-58.4325664 -34.589723 -58.432566         343000.0   \n",
       "3        -34.5923646,-58.4144028 -34.592365 -58.414403         145000.0   \n",
       "4   -34.585652875,-58.4114933233 -34.585653 -58.411493         175000.0   \n",
       "\n",
       "   surface_total_in_m2  surface_covered_in_m2  price_usd_per_m2  floor  rooms  \\\n",
       "0                312.0                    NaN       6410.256410    NaN    NaN   \n",
       "1                121.0                  121.0       6528.925620    NaN    NaN   \n",
       "2                122.0                  108.0       2811.475410    NaN    2.0   \n",
       "3                 24.0                   24.0       6041.666667    NaN    NaN   \n",
       "4                 24.0                   24.0       7291.666667    NaN    NaN   \n",
       "\n",
       "   expenses                                      properati_url   barrio  \\\n",
       "0       NaN  https://www.properati.com.ar/2os_venta_casa_pa...  PALERMO   \n",
       "1       NaN  https://www.properati.com.ar/1cl7l_venta_local...  PALERMO   \n",
       "2       NaN  https://www.properati.com.ar/1cm8w_venta_local...  PALERMO   \n",
       "3       NaN  https://www.properati.com.ar/1covk_venta_local...  PALERMO   \n",
       "4       NaN  https://www.properati.com.ar/1csk7_venta_local...  PALERMO   \n",
       "\n",
       "   comuna  year      price    month  \n",
       "0    14.0  2017  2000000.0  2017-09  \n",
       "1    14.0  2017   790000.0  2017-08  \n",
       "2    14.0  2017   343000.0  2017-08  \n",
       "3    14.0  2017   145000.0  2017-08  \n",
       "4    14.0  2017   175000.0  2017-08  "
      ]
     },
     "execution_count": 66,
     "metadata": {},
     "output_type": "execute_result"
    }
   ],
   "source": [
    "properati_data_cleaned.head()"
   ]
  },
  {
   "cell_type": "code",
   "execution_count": 34,
   "id": "4c549386-6ac2-47c2-a294-d47d1d62a2a8",
   "metadata": {},
   "outputs": [
    {
     "data": {
      "text/plain": [
       "Index(['created_on', 'operation', 'property_type', 'place_with_parent_names',\n",
       "       'lat-lon', 'lat', 'lon', 'price_aprox_usd', 'surface_total_in_m2',\n",
       "       'surface_covered_in_m2', 'price_usd_per_m2', 'floor', 'rooms',\n",
       "       'expenses', 'properati_url', 'barrio', 'comuna', 'year', 'price',\n",
       "       'month'],\n",
       "      dtype='object')"
      ]
     },
     "execution_count": 34,
     "metadata": {},
     "output_type": "execute_result"
    }
   ],
   "source": [
    "properati_data_cleaned.columns"
   ]
  },
  {
   "cell_type": "code",
   "execution_count": 75,
   "id": "5caa708c-e388-4745-a43d-7249f238daba",
   "metadata": {},
   "outputs": [],
   "source": [
    "location_counts = properati_data_cleaned['barrio'].value_counts().tail(10)\n"
   ]
  },
  {
   "cell_type": "code",
   "execution_count": 76,
   "id": "58afae69-0d90-44f3-a2c4-09ae88ab2b92",
   "metadata": {},
   "outputs": [
    {
     "data": {
      "text/plain": [
       "barrio\n",
       "PARQUE AVELLANEDA    100\n",
       "VILLA SANTA RITA      84\n",
       "PARQUE CHAS           82\n",
       "VILLA LUGANO          81\n",
       "NUEVA POMPEYA         65\n",
       "VERSALLES             59\n",
       "AGRONOMIA             55\n",
       "VILLA REAL            38\n",
       "VILLA RIACHUELO       17\n",
       "VILLA SOLDATI         12\n",
       "Name: count, dtype: int64"
      ]
     },
     "execution_count": 76,
     "metadata": {},
     "output_type": "execute_result"
    }
   ],
   "source": [
    "location_counts"
   ]
  },
  {
   "cell_type": "code",
   "execution_count": 77,
   "id": "92c739b2-6c5c-44e1-b4cb-3717a09b6c78",
   "metadata": {},
   "outputs": [
    {
     "data": {
      "image/png": "[encoded data removed]",
      "text/plain": [
       "<Figure size 640x480 with 1 Axes>"
      ]
     },
     "metadata": {},
     "output_type": "display_data"
    }
   ],
   "source": [
    "\n",
    "location_counts.plot(\n",
    "    kind='bar',\n",
    "    title='Top 10 Locations by Property Listings',\n",
    "    xlabel='Location',\n",
    "    ylabel='Number of Listings'\n",
    ")\n",
    "plt.show()"
   ]
  },
  {
   "cell_type": "markdown",
   "id": "5e91c5b7-afff-4b7f-a439-9343fdd05391",
   "metadata": {},
   "source": [
    "## **Ejercicio 2.5: Relación entre variables numéricas**"
   ]
  },
  {
   "cell_type": "markdown",
   "id": "8aaa0e42-c848-4d90-8d91-76ab6c4a8371",
   "metadata": {},
   "source": [
    "Observamos cómo se relaciona el área total con el precio de las propiedades en un gráfico de dispersión."
   ]
  },
  {
   "cell_type": "code",
   "execution_count": null,
   "id": "2b13d03e-5ab2-4477-9a37-2823f53e179b",
   "metadata": {},
   "outputs": [],
   "source": []
  },
  {
   "cell_type": "code",
   "execution_count": 81,
   "id": "e62c6125-1e78-4f9a-be38-a8beb0e2791c",
   "metadata": {},
   "outputs": [
    {
     "data": {
      "image/png": "[encoded data removed]",
      "text/plain": [
       "<Figure size 640x480 with 1 Axes>"
      ]
     },
     "metadata": {},
     "output_type": "display_data"
    }
   ],
   "source": [
    "properati_data_cleaned.plot(\n",
    "    x='surface_total_in_m2',\n",
    "    y='price',\n",
    "    kind='scatter',\n",
    "    alpha=0.5,\n",
    "    title='Price vs Surface Area',\n",
    "    xlabel='Surface Area (m2)',\n",
    "    ylabel='Price (USD)',\n",
    "    xlim=[0,1000]\n",
    ")\n",
    "plt.show()"
   ]
  },
  {
   "cell_type": "markdown",
   "id": "0f4e870e-24c0-4190-afe9-e6e89b7ac379",
   "metadata": {},
   "source": [
    "## **Ejercicio 2.6: Análisis de precios por habitaciones**"
   ]
  },
  {
   "cell_type": "markdown",
   "id": "0d2017d7-1076-47a2-9166-441c17f704ed",
   "metadata": {},
   "source": [
    "Exploramos cómo cambia el precio promedio según el número de habitaciones de la propiedad."
   ]
  },
  {
   "cell_type": "code",
   "execution_count": null,
   "id": "e92f53aa-80e4-49d7-b1c5-7c2d0d8ecd16",
   "metadata": {},
   "outputs": [],
   "source": []
  },
  {
   "cell_type": "code",
   "execution_count": 82,
   "id": "6b499c1f-58f3-4a43-b42d-0603625c265a",
   "metadata": {},
   "outputs": [],
   "source": [
    "avg_price_per_room = properati_data_cleaned.groupby('rooms')['price'].mean().reset_index()"
   ]
  },
  {
   "cell_type": "code",
   "execution_count": 83,
   "id": "5022a2e9-05c2-429f-9b2f-f4a4cc4a0dcd",
   "metadata": {},
   "outputs": [
    {
     "data": {
      "text/html": [
       "<div>\n",
       "<style scoped>\n",
       "    .dataframe tbody tr th:only-of-type {\n",
       "        vertical-align: middle;\n",
       "    }\n",
       "\n",
       "    .dataframe tbody tr th {\n",
       "        vertical-align: top;\n",
       "    }\n",
       "\n",
       "    .dataframe thead th {\n",
       "        text-align: right;\n",
       "    }\n",
       "</style>\n",
       "<table border=\"1\" class=\"dataframe\">\n",
       "  <thead>\n",
       "    <tr style=\"text-align: right;\">\n",
       "      <th></th>\n",
       "      <th>rooms</th>\n",
       "      <th>price</th>\n",
       "    </tr>\n",
       "  </thead>\n",
       "  <tbody>\n",
       "    <tr>\n",
       "      <th>0</th>\n",
       "      <td>1.0</td>\n",
       "      <td>1.213095e+05</td>\n",
       "    </tr>\n",
       "    <tr>\n",
       "      <th>1</th>\n",
       "      <td>2.0</td>\n",
       "      <td>1.614077e+05</td>\n",
       "    </tr>\n",
       "    <tr>\n",
       "      <th>2</th>\n",
       "      <td>3.0</td>\n",
       "      <td>2.511600e+05</td>\n",
       "    </tr>\n",
       "    <tr>\n",
       "      <th>3</th>\n",
       "      <td>4.0</td>\n",
       "      <td>4.042875e+05</td>\n",
       "    </tr>\n",
       "    <tr>\n",
       "      <th>4</th>\n",
       "      <td>5.0</td>\n",
       "      <td>6.163673e+05</td>\n",
       "    </tr>\n",
       "    <tr>\n",
       "      <th>5</th>\n",
       "      <td>6.0</td>\n",
       "      <td>7.662334e+05</td>\n",
       "    </tr>\n",
       "    <tr>\n",
       "      <th>6</th>\n",
       "      <td>7.0</td>\n",
       "      <td>8.578697e+05</td>\n",
       "    </tr>\n",
       "    <tr>\n",
       "      <th>7</th>\n",
       "      <td>8.0</td>\n",
       "      <td>8.679875e+05</td>\n",
       "    </tr>\n",
       "    <tr>\n",
       "      <th>8</th>\n",
       "      <td>9.0</td>\n",
       "      <td>1.049323e+06</td>\n",
       "    </tr>\n",
       "    <tr>\n",
       "      <th>9</th>\n",
       "      <td>10.0</td>\n",
       "      <td>8.162759e+05</td>\n",
       "    </tr>\n",
       "    <tr>\n",
       "      <th>10</th>\n",
       "      <td>11.0</td>\n",
       "      <td>5.212592e+05</td>\n",
       "    </tr>\n",
       "    <tr>\n",
       "      <th>11</th>\n",
       "      <td>12.0</td>\n",
       "      <td>7.356250e+05</td>\n",
       "    </tr>\n",
       "    <tr>\n",
       "      <th>12</th>\n",
       "      <td>13.0</td>\n",
       "      <td>8.725000e+05</td>\n",
       "    </tr>\n",
       "    <tr>\n",
       "      <th>13</th>\n",
       "      <td>15.0</td>\n",
       "      <td>3.940000e+05</td>\n",
       "    </tr>\n",
       "    <tr>\n",
       "      <th>14</th>\n",
       "      <td>16.0</td>\n",
       "      <td>8.000000e+05</td>\n",
       "    </tr>\n",
       "    <tr>\n",
       "      <th>15</th>\n",
       "      <td>17.0</td>\n",
       "      <td>1.300000e+06</td>\n",
       "    </tr>\n",
       "    <tr>\n",
       "      <th>16</th>\n",
       "      <td>24.0</td>\n",
       "      <td>7.500000e+05</td>\n",
       "    </tr>\n",
       "    <tr>\n",
       "      <th>17</th>\n",
       "      <td>30.0</td>\n",
       "      <td>5.119450e+05</td>\n",
       "    </tr>\n",
       "    <tr>\n",
       "      <th>18</th>\n",
       "      <td>32.0</td>\n",
       "      <td>2.200000e+06</td>\n",
       "    </tr>\n",
       "    <tr>\n",
       "      <th>19</th>\n",
       "      <td>34.0</td>\n",
       "      <td>2.060000e+06</td>\n",
       "    </tr>\n",
       "  </tbody>\n",
       "</table>\n",
       "</div>"
      ],
      "text/plain": [
       "    rooms         price\n",
       "0     1.0  1.213095e+05\n",
       "1     2.0  1.614077e+05\n",
       "2     3.0  2.511600e+05\n",
       "3     4.0  4.042875e+05\n",
       "4     5.0  6.163673e+05\n",
       "5     6.0  7.662334e+05\n",
       "6     7.0  8.578697e+05\n",
       "7     8.0  8.679875e+05\n",
       "8     9.0  1.049323e+06\n",
       "9    10.0  8.162759e+05\n",
       "10   11.0  5.212592e+05\n",
       "11   12.0  7.356250e+05\n",
       "12   13.0  8.725000e+05\n",
       "13   15.0  3.940000e+05\n",
       "14   16.0  8.000000e+05\n",
       "15   17.0  1.300000e+06\n",
       "16   24.0  7.500000e+05\n",
       "17   30.0  5.119450e+05\n",
       "18   32.0  2.200000e+06\n",
       "19   34.0  2.060000e+06"
      ]
     },
     "execution_count": 83,
     "metadata": {},
     "output_type": "execute_result"
    }
   ],
   "source": [
    "avg_price_per_room"
   ]
  },
  {
   "cell_type": "code",
   "execution_count": 84,
   "id": "93705bf4-208d-4ed3-99f6-4a4060635677",
   "metadata": {},
   "outputs": [
    {
     "data": {
      "image/png": "[encoded data removed]",
      "text/plain": [
       "<Figure size 640x480 with 1 Axes>"
      ]
     },
     "metadata": {},
     "output_type": "display_data"
    }
   ],
   "source": [
    "avg_price_per_room.plot(\n",
    "    x='rooms',\n",
    "    y='price',\n",
    "    kind='line',\n",
    "    title='Average Price by Number of Rooms',\n",
    "    xlabel='Number of Rooms',\n",
    "    ylabel='Average Price (USD)'\n",
    ")\n",
    "plt.show()"
   ]
  },
  {
   "cell_type": "markdown",
   "id": "31ce7c4b-7892-44ad-a329-20eb650c0003",
   "metadata": {},
   "source": [
    "## **Ejercicio 2.7: Análisis de datos categóricos**"
   ]
  },
  {
   "cell_type": "markdown",
   "id": "0c61b641-fb5c-4a14-9080-e42b748d3589",
   "metadata": {},
   "source": [
    "Visualizamos la proporción de los diferentes tipos de operación en el dataset."
   ]
  },
  {
   "cell_type": "code",
   "execution_count": null,
   "id": "e0eec2bd-ff10-4b4f-bf9c-cdb29c374ecc",
   "metadata": {},
   "outputs": [],
   "source": []
  },
  {
   "cell_type": "code",
   "execution_count": 40,
   "id": "e55538df-7d23-40c8-bd64-47d099901645",
   "metadata": {},
   "outputs": [
    {
     "data": {
      "text/plain": [
       "Index(['created_on', 'operation', 'property_type', 'place_with_parent_names',\n",
       "       'lat-lon', 'lat', 'lon', 'price_aprox_usd', 'surface_total_in_m2',\n",
       "       'surface_covered_in_m2', 'price_usd_per_m2', 'floor', 'rooms',\n",
       "       'expenses', 'properati_url', 'barrio', 'comuna', 'year', 'price',\n",
       "       'month'],\n",
       "      dtype='object')"
      ]
     },
     "execution_count": 40,
     "metadata": {},
     "output_type": "execute_result"
    }
   ],
   "source": [
    "properati_data_cleaned.columns"
   ]
  },
  {
   "cell_type": "code",
   "execution_count": 41,
   "id": "abf5f315-364b-48f1-9033-290beafbd2aa",
   "metadata": {},
   "outputs": [
    {
     "data": {
      "image/png": "[encoded data removed]",
      "text/plain": [
       "<Figure size 640x480 with 1 Axes>"
      ]
     },
     "metadata": {},
     "output_type": "display_data"
    }
   ],
   "source": [
    "properati_data_cleaned['operation'].value_counts().plot(\n",
    "    kind='pie',\n",
    "    autopct='%1.1f%%',\n",
    "    title='Operation Type Distribution'\n",
    ")\n",
    "plt.ylabel('')\n",
    "plt.show()\n"
   ]
  }
 ],
 "metadata": {
  "kernelspec": {
   "display_name": "Python 3 (ipykernel)",
   "language": "python",
   "name": "python3"
  },
  "language_info": {
   "codemirror_mode": {
    "name": "ipython",
    "version": 3
   },
   "file_extension": ".py",
   "mimetype": "text/x-python",
   "name": "python",
   "nbconvert_exporter": "python",
   "pygments_lexer": "ipython3",
   "version": "3.12.7"
  }
 },
 "nbformat": 4,
 "nbformat_minor": 5
}
