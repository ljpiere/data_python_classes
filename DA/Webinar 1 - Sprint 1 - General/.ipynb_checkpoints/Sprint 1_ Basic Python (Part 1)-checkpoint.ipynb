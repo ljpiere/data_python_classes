{
 "cells": [
  {
   "cell_type": "markdown",
   "metadata": {},
   "source": [
    "An e-commerce company, Store 1, has recently started collecting data about its customers. Store 1's end goal is to better understand its customer behavior and make data-driven decisions to improve their online experience.\n",
    "\n",
    "As a member of the analytical team, your first task is to assess the quality of a sample of collected data and prepare it for future analysis."
   ]
  },
  {
   "cell_type": "markdown",
   "metadata": {},
   "source": [
    "# Quiz\n",
    "\n",
    "Store 1 aims to ensure consistency in data collection. As part of this effort, the quality of the data collected on users needs to be evaluated. You have been asked to review the collected data and propose changes. Below you will see data about a particular user. Please review the data and identify any potential issues."
   ]
  },
  {
   "cell_type": "code",
   "execution_count": null,
   "metadata": {},
   "outputs": [],
   "source": [
    "user_id = '32415'\n",
    "user_name = ' mike_reed '\n",
    "user_age = 32.0\n",
    "fav_categories = ['ELECTRONICS', 'SPORT', 'BOOKS']"
   ]
  },
  {
   "cell_type": "markdown",
   "metadata": {},
   "source": [
    "**Options:**\n",
    "\n",
    "1. the data type for `user_id` should be changed from a string to an integer.\n",
    "    \n",
    "2. The `user_name` variable contains a string that has unnecessary spacing and an underscore between the first and last names.\n",
    "    \n",
    "3. The data type of `user_age` is incorrect.\n",
    "    \n",
    "4. The `fav_categories` list contains strings in upper case. We should convert the values in the list to lower case instead."
   ]
  },
  {
   "cell_type": "markdown",
   "metadata": {},
   "source": [
    "Write in the markdown cell below the number of the options that you've identify as issues. If you identified mutiple issues, separate number by commas. For example, if you think that numbers 1 and 3 are correct, write 1, 3. "
   ]
  },
  {
   "cell_type": "markdown",
   "metadata": {},
   "source": [
    "**Write your answer and explain your reasoning:**\n"
   ]
  },
  {
   "cell_type": "markdown",
   "metadata": {},
   "source": [
    "# Task 1\n",
    "\n",
    "Let's implement the changes we identified. First, we want to correct the issues with the `user_name` variable. As we found, it has unnecessary spaces and an underscore as a separator between the first and the last name. Your goal is to remove the spaces and then replace the underscore with the space. "
   ]
  },
  {
   "cell_type": "code",
   "execution_count": null,
   "metadata": {},
   "outputs": [],
   "source": [
    "user_name = ' mike_reed '\n",
    "user_name = user_name.strip()\n",
    "user_name = user_name.replace('_', ' ')\n",
    "\n",
    "print(user_name)"
   ]
  },
  {
   "cell_type": "markdown",
   "metadata": {},
   "source": [
    "********Hint********\n",
    "\n",
    "There is a method, `strip()`, that can remove spaces from the beginning and end of a string. Additionally, the `replace()` method can be used to replace a part of a string. In this case, we want to replace underscores (`_`) with spaces."
   ]
  },
  {
   "cell_type": "markdown",
   "metadata": {},
   "source": [
    "# Task 2\n",
    "\n",
    "Next, we need to split the updated `user_name` into two substrings to obtain a list that contains two values: the string for the first name and the string for the last name."
   ]
  },
  {
   "cell_type": "code",
   "execution_count": null,
   "metadata": {},
   "outputs": [],
   "source": [
    "user_name = 'mike reed'\n",
    "name_split = user_name.split()\n",
    "\n",
    "print(name_split)"
   ]
  },
  {
   "cell_type": "markdown",
   "metadata": {},
   "source": [
    "********Hint********\n",
    "\n",
    "The `split()` method is used to split a string. By default, it uses a space as a separator."
   ]
  },
  {
   "cell_type": "markdown",
   "metadata": {},
   "source": [
    "# Task 3\n",
    "\n",
    "Great! Now we want to work with the `user_age` variable. As we mentioned earlier, it has an incorrect data type. Let's fix this issue by transforming the data type and print the final result."
   ]
  },
  {
   "cell_type": "code",
   "execution_count": null,
   "metadata": {},
   "outputs": [],
   "source": [
    "user_age = 32.0\n",
    "user_age = int(user_age)\n",
    "\n",
    "print(user_age)"
   ]
  },
  {
   "cell_type": "markdown",
   "metadata": {},
   "source": [
    "********Hint********\n",
    "\n",
    "Which data type will get rid of the floating point part?"
   ]
  },
  {
   "cell_type": "markdown",
   "metadata": {},
   "source": [
    "# Task 4\n",
    "\n",
    "As we all know, data is not always perfect. We have to consider scenarios where the `user_age` value cannot be converted to an integer. To prevent our system from crashing, we must take steps in advance.\n",
    "\n",
    "Write a code that attempts to convert the `user_age` variable to an integer and assigns the transformed value to `user_age_int`. If the attempt fails, we print a message, asking a user to provide their age as a numerical value with the message: `Please provide your age as a numerical value.`"
   ]
  },
  {
   "cell_type": "code",
   "execution_count": null,
   "metadata": {},
   "outputs": [],
   "source": [
    "user_age = 'thirty two'\n",
    "\n",
    "try:\n",
    "\tuser_age_int = int(user_age)\n",
    "except:\n",
    "\tprint('Please provide your age as a numerical value.')"
   ]
  },
  {
   "cell_type": "markdown",
   "metadata": {},
   "source": [
    "# Task 5\n",
    "\n",
    "Finally, note that all favorite categories are stored in uppercase. To fill up a new list called `fav_categories_low` with the same categories but in lowercase, iterate over the values in the `fav_categories` list, modify them, and append the new values to the `fav_categories_low` list. As always, print the final result."
   ]
  },
  {
   "cell_type": "code",
   "execution_count": null,
   "metadata": {},
   "outputs": [],
   "source": [
    "fav_categories = ['ELECTRONICS', 'SPORT', 'BOOKS']\n",
    "fav_categories_low = []\n",
    "\n",
    "for category in fav_categories:\n",
    "\tlowered_category = category.lower()\n",
    "\tfav_categories_low.append(lowered_category)\n",
    "\n",
    "print(fav_categories_low)"
   ]
  },
  {
   "cell_type": "markdown",
   "metadata": {},
   "source": [
    "********Hint********\n",
    "\n",
    "Create a `for` loop that iterates over the `fav_categories` list. Use the `lower()` method to transform each category to lowercase. Then, use the `append()` method to add the updated values to the `fav_categories_low` list."
   ]
  },
  {
   "cell_type": "markdown",
   "metadata": {},
   "source": [
    "# Task 6\n",
    "\n",
    "We have obtained additional information about our user’s spending habits, including the amount spent in each of their favorite categories. Management is interested in the following metrics:\n",
    "\n",
    "- Total amount spent by the user\n",
    "- Minimum amount spent\n",
    "- Maximum amount spent\n",
    "\n",
    "Let's calculate these values and print them:"
   ]
  },
  {
   "cell_type": "code",
   "execution_count": null,
   "metadata": {},
   "outputs": [],
   "source": [
    "fav_categories_low = ['electronics', 'sport', 'books']\n",
    "spendings_per_category = [894, 213, 173]\n",
    "\n",
    "total_amount = sum(spendings_per_category)\n",
    "max_amount = max(spendings_per_category)\n",
    "min_amount = min(spendings_per_category)\n",
    "\n",
    "print(total_amount)\n",
    "print(max_amount)\n",
    "print(min_amount)"
   ]
  },
  {
   "cell_type": "markdown",
   "metadata": {},
   "source": [
    "********Hint********\n",
    "\n",
    "What are the three methods that can be applied to a list to calculate its minimum, maximum, and total values?"
   ]
  },
  {
   "cell_type": "markdown",
   "metadata": {},
   "source": [
    "# Task 7\n",
    "\n",
    "The company wants to offer discounts to its loyal customers. Customers who make purchases totaling more than $1500 are considered loyal and will receive a discount.\n",
    "\n",
    "Our goal is to create a `while` loop that checks the total amount spent and stops when it is reached. To simulate new purchases, the `new_purchase` variable generates a number between 30 and 80 on every loop iteration. This represents the amount of money spent on a new purchase, and thgis is what you need to add to the total.\n",
    "\n",
    "Once the target amount is reached and the `while` loop is terminated, the final amount will be printed."
   ]
  },
  {
   "cell_type": "code",
   "execution_count": null,
   "metadata": {},
   "outputs": [],
   "source": [
    "from random import randint\n",
    "\n",
    "total_amount_spent = 1280\n",
    "target_amount = 1500\n",
    "\n",
    "while total_amount_spent < target_amount: # write your code here\n",
    "\tnew_purchase = randint(30, 80) # we generate a random number from 30 to 80\n",
    "\ttotal_amount_spent += new_purchase # write your code here\n",
    "\n",
    "print(total_amount_spent)"
   ]
  },
  {
   "cell_type": "markdown",
   "metadata": {},
   "source": [
    "********Hint********\n",
    "\n",
    "In the `while` loop, you need to compare `total_amount_spent` with the `target_amount`. During each iteration of the loop, update the `total_amount_spent` variable by adding the `new_purchase` value to it."
   ]
  },
  {
   "cell_type": "markdown",
   "metadata": {},
   "source": [
    "# Task 8\n",
    "\n",
    "Now we have all of the information about a customer in a way we want it to be. The management of a company asked us to come up with a way to summarize all of the information about a user. Your goal is to create a formatted string that uses information from the `user_id`, `user_name` and `user_age` variables. \n",
    "\n",
    "Here is the final string that we want to create: `User 32415 is mike who is 32 years old.`"
   ]
  },
  {
   "cell_type": "code",
   "execution_count": null,
   "metadata": {},
   "outputs": [],
   "source": [
    "user_id = '32415'\n",
    "user_name = ['mike', 'reed']\n",
    "user_age = 32\n",
    "\n",
    "user_info = f'User {user_id} is {user_name[0]} who is {user_age} years old.'\n",
    "print(user_info)"
   ]
  },
  {
   "cell_type": "markdown",
   "metadata": {},
   "source": [
    "********Hint********\n",
    "\n",
    "To create a string, you can use either the `format()` method or the f-string. To extract the first name from the `user_name` list, you can use slicing."
   ]
  },
  {
   "cell_type": "markdown",
   "metadata": {},
   "source": [
    "As you may know, companies collect and store data in a particular manner. Store 1 wants to store all information about its customers in a table. \n",
    "\n",
    "|user_id|user_name       |user_age|purchase_category            |spending_per_category |\n",
    "|'32415'|'mike', 'reed'  |32      |'electronics','sport','books'|894, 213, 173         |\n",
    "|'31980'|'kate', 'morgan'|24      |'clothes','shoes'            |439, 390              |\n",
    "\n",
    "In technical terms, a table is simply a nested list that has a sublist for every user. \n",
    "\n",
    "Store 1 has created such a table for its users. It is stored in the `users` variable. Each sublist contains the user's ID, first and last names, age, favorite categories, and the amount spent in each category."
   ]
  },
  {
   "cell_type": "markdown",
   "metadata": {},
   "source": [
    "# Task 9\n",
    "\n",
    "To calculate the revenue for the company, follow these steps:\n",
    "\n",
    "1. Use a `for` loop to iterate over the `users` list.\n",
    "2. Extract the list of spendings for each user and sum up the values.\n",
    "3. Update the revenue value with the total for each user.\n",
    "\n",
    "This will give you the total revenue for the company that you’ll print at the very end."
   ]
  },
  {
   "cell_type": "code",
   "execution_count": null,
   "metadata": {},
   "outputs": [],
   "source": [
    "users = [\n",
    "\t  # this is the beginning of the first sublist\n",
    "    ['32415', ['mike', 'reed'], 32, ['electronics', 'sport', 'books'],\n",
    "        [894, 213, 173] \n",
    "    ], # this is the end of the first sublist\n",
    "\n",
    "    # this is the beginning of the second sublist\n",
    "    ['31980', ['kate', 'morgan'], 24, ['clothes', 'shoes'],\n",
    "        [439, 390]\n",
    "    ] # this is the end of the second sublist\n",
    "]\n",
    "\n",
    "revenue = 0\n",
    "\n",
    "for user in users:\n",
    "\tspendings_list = user[-1]\n",
    "\ttotal_spendings = sum(spendings_list)\n",
    "\trevenue += total_spendings\n",
    "\n",
    "print(revenue)"
   ]
  },
  {
   "cell_type": "markdown",
   "metadata": {},
   "source": [
    "********Hint********\n",
    "\n",
    "To extract the list of spendings made by a user, use indexing and assign it to the `spendings_list` variable. Then, use the built-in function to calculate the sum of the `spending_list`. Finally, update the `revenue` value by adding the `total_spendings` to it using augmented assignment."
   ]
  },
  {
   "cell_type": "markdown",
   "metadata": {},
   "source": [
    "# Task 10\n",
    "\n",
    "Loop through the users list we’ve given you and print the first names of the clients who are less than 30 years old."
   ]
  },
  {
   "cell_type": "code",
   "execution_count": null,
   "metadata": {},
   "outputs": [],
   "source": [
    "users = [\n",
    "    ['32415', ['mike', 'reed'], 32, ['electronics', 'sport', 'books'],\n",
    "     [894, 213, 173]],\n",
    "    ['31980', ['kate', 'morgan'], 24, ['clothes', 'books'], [439,\n",
    "     390]],\n",
    "    ['32156', ['john', 'doe'], 37, ['electronics', 'home', 'food'],\n",
    "     [459, 120, 99]],\n",
    "    ['32761', ['samantha', 'smith'], 29, ['clothes', 'electronics',\n",
    "     'beauty'], [299, 679, 85]],\n",
    "    ['32984', ['david', 'white'], 41, ['books', 'home', 'sport'], [234,\n",
    "     329, 243]],\n",
    "    ['33001', ['emily', 'brown'], 26, ['beauty', 'home', 'food'], [213,\n",
    "     659, 79]],\n",
    "    ['33767', ['maria', 'garcia'], 33, ['clothes', 'food', 'beauty'],\n",
    "     [499, 189, 63]],\n",
    "    ['33912', ['jose', 'martinez'], 22, ['sport', 'electronics', 'home'\n",
    "     ], [259, 549, 109]],\n",
    "    ['34009', ['lisa', 'wilson'], 35, ['home', 'books', 'clothes'],\n",
    "     [329, 189, 329]],\n",
    "    ['34278', ['james', 'lee'], 28, ['beauty', 'clothes', 'electronics'\n",
    "     ], [189, 299, 579]],\n",
    "    ]\n",
    "\n",
    "for user in users:\n",
    "\tif user[2] < 30:\n",
    "\t    print(user[1][0])"
   ]
  },
  {
   "cell_type": "markdown",
   "metadata": {},
   "source": [
    "**Hint:**\n",
    "\n",
    "Use a for loop to iterate over each row in the table. Use `if` inside a `for` loop to print the name of the user. The field `age` has the index 2."
   ]
  },
  {
   "cell_type": "markdown",
   "metadata": {},
   "source": [
    "# Task 11\n",
    "\n",
    "Let’s put tasks 9 and 10 together and print the first names of users who are less than 30 years and have total spending bigger than 1000 dollars."
   ]
  },
  {
   "cell_type": "code",
   "execution_count": null,
   "metadata": {},
   "outputs": [],
   "source": [
    "users = [\n",
    "    ['32415', ['mike', 'reed'], 32, ['electronics', 'sport', 'books'],\n",
    "     [894, 213, 173]],\n",
    "    ['31980', ['kate', 'morgan'], 24, ['clothes', 'books'], [439,\n",
    "     390]],\n",
    "    ['32156', ['john', 'doe'], 37, ['electronics', 'home', 'food'],\n",
    "     [459, 120, 99]],\n",
    "    ['32761', ['samantha', 'smith'], 29, ['clothes', 'electronics',\n",
    "     'beauty'], [299, 679, 85]],\n",
    "    ['32984', ['david', 'white'], 41, ['books', 'home', 'sport'], [234,\n",
    "     329, 243]],\n",
    "    ['33001', ['emily', 'brown'], 26, ['beauty', 'home', 'food'], [213,\n",
    "     659, 79]],\n",
    "    ['33767', ['maria', 'garcia'], 33, ['clothes', 'food', 'beauty'],\n",
    "     [499, 189, 63]],\n",
    "    ['33912', ['jose', 'martinez'], 22, ['sport', 'electronics', 'home'\n",
    "     ], [259, 549, 109]],\n",
    "    ['34009', ['lisa', 'wilson'], 35, ['home', 'books', 'clothes'],\n",
    "     [329, 189, 329]],\n",
    "    ['34278', ['james', 'lee'], 28, ['beauty', 'clothes', 'electronics'\n",
    "     ], [189, 299, 579]],\n",
    "    ]\n",
    "\n",
    "for user in users:\n",
    "    spendings_list = user[-1]\n",
    "    total_spendings = sum(spendings_list) \n",
    "\n",
    "    if user[2] < 30 and total_spendings > 1000:\n",
    "        print(user[1][0])"
   ]
  },
  {
   "cell_type": "markdown",
   "metadata": {},
   "source": [
    "**Hint:**\n",
    "\n",
    "Use a for loop to iterate over each row in the table. Use `if` inside a `for` loop to print the name of the user. The field `age` has the index 2. Use the `sum` function to sum the spending and then check if it is bigger than 1000 dollars."
   ]
  },
  {
   "cell_type": "markdown",
   "metadata": {},
   "source": [
    "# Task 12\n",
    "\n",
    "Now let’s print the first name and age of all the users who have shopped for clothes. Print the first name and age in the same print statement."
   ]
  },
  {
   "cell_type": "code",
   "execution_count": null,
   "metadata": {},
   "outputs": [],
   "source": [
    "users = [\n",
    "    ['32415', ['mike', 'reed'], 32, ['electronics', 'sport', 'books'],\n",
    "     [894, 213, 173]],\n",
    "    ['31980', ['kate', 'morgan'], 24, ['clothes', 'books'], [439,\n",
    "     390]],\n",
    "    ['32156', ['john', 'doe'], 37, ['electronics', 'home', 'food'],\n",
    "     [459, 120, 99]],\n",
    "    ['32761', ['samantha', 'smith'], 29, ['clothes', 'electronics',\n",
    "     'beauty'], [299, 679, 85]],\n",
    "    ['32984', ['david', 'white'], 41, ['books', 'home', 'sport'], [234,\n",
    "     329, 243]],\n",
    "    ['33001', ['emily', 'brown'], 26, ['beauty', 'home', 'food'], [213,\n",
    "     659, 79]],\n",
    "    ['33767', ['maria', 'garcia'], 33, ['clothes', 'food', 'beauty'],\n",
    "     [499, 189, 63]],\n",
    "    ['33912', ['jose', 'martinez'], 22, ['sport', 'electronics', 'home'\n",
    "     ], [259, 549, 109]],\n",
    "    ['34009', ['lisa', 'wilson'], 35, ['home', 'books', 'clothes'],\n",
    "     [329, 189, 329]],\n",
    "    ['34278', ['james', 'lee'], 28, ['beauty', 'clothes', 'electronics'\n",
    "     ], [189, 299, 579]],\n",
    "    ]\n",
    "\n",
    "for user in users:\n",
    "    categories = user[-2]\n",
    "    for category in categories:\n",
    "        if category == 'clothes':\n",
    "            print(user[1][0], user[2])"
   ]
  },
  {
   "cell_type": "markdown",
   "metadata": {},
   "source": [
    "**Hint:**\n",
    "\n",
    "Use a for loop to iterate over each row in the table. Then use another loop to check if this user shopped for clothes, and if yes, print the first name and age inside the same print statement, separating by comma: `print(firstname, age)`."
   ]
  },
  {
   "cell_type": "markdown",
   "metadata": {},
   "source": [
    "#Write any comments or final thoughts here"
   ]
  }
 ],
 "metadata": {
  "kernelspec": {
   "display_name": "Python 3 (ipykernel)",
   "language": "python",
   "name": "python3"
  },
  "language_info": {
   "codemirror_mode": {
    "name": "ipython",
    "version": 3
   },
   "file_extension": ".py",
   "mimetype": "text/x-python",
   "name": "python",
   "nbconvert_exporter": "python",
   "pygments_lexer": "ipython3",
   "version": "3.11.3"
  }
 },
 "nbformat": 4,
 "nbformat_minor": 4
}
