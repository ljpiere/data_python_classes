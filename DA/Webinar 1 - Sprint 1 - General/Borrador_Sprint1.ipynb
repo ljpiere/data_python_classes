{
 "cells": [
  {
   "cell_type": "code",
   "execution_count": 4,
   "id": "b4472b3a-2965-4fc3-a5c7-5fc96612c3f1",
   "metadata": {},
   "outputs": [
    {
     "name": "stdout",
     "output_type": "stream",
     "text": [
      "39\n",
      "g\n",
      "O\n"
     ]
    }
   ],
   "source": [
    "phrase = 'Olivia loves her little yellow duckling' \n",
    "print(len(phrase))\n",
    "# print(phrase[len(phrase)])\n",
    "print(phrase[len(phrase)-1])\n",
    "print(phrase[-len(phrase)])"
   ]
  },
  {
   "cell_type": "code",
   "execution_count": 5,
   "id": "5c3d402b-7103-474a-a47b-eefcb5631452",
   "metadata": {},
   "outputs": [
    {
     "name": "stdout",
     "output_type": "stream",
     "text": [
      "Janeiro\n"
     ]
    }
   ],
   "source": [
    "city = 'Rio de Janeiro, Brasil'\n",
    "substring = city[7:14]\n",
    "print(substring)"
   ]
  },
  {
   "cell_type": "code",
   "execution_count": 6,
   "id": "04e5fa91-0579-4fc1-ad45-fda91a62a0db",
   "metadata": {},
   "outputs": [
    {
     "name": "stdout",
     "output_type": "stream",
     "text": [
      "abra\n"
     ]
    }
   ],
   "source": [
    "spell = 'abracadabra'\n",
    "print(spell[:4])"
   ]
  },
  {
   "cell_type": "code",
   "execution_count": 7,
   "id": "22200c78-d57d-4dc4-b8b7-0bc6b040efc1",
   "metadata": {},
   "outputs": [
    {
     "name": "stdout",
     "output_type": "stream",
     "text": [
      "Reino Unido\n"
     ]
    }
   ],
   "source": [
    "phrase = 'Londres es la capital del Reino Unido'\n",
    "print(phrase[-11:])"
   ]
  },
  {
   "cell_type": "code",
   "execution_count": 8,
   "id": "0ab14f62-98c3-457f-afaa-3322adeec1b6",
   "metadata": {},
   "outputs": [
    {
     "name": "stdout",
     "output_type": "stream",
     "text": [
      "Victoria tiene 23 años y mide 157 cm\n"
     ]
    }
   ],
   "source": [
    "name = 'Victoria'\n",
    "age = 23\n",
    "height = 157\n",
    "\n",
    "message = f\"{name} tiene {age} años y mide {height} cm\"\n",
    "print(message)"
   ]
  },
  {
   "cell_type": "code",
   "execution_count": 9,
   "id": "a935a493-f940-499b-8adc-3d8f8100b58f",
   "metadata": {},
   "outputs": [
    {
     "name": "stdout",
     "output_type": "stream",
     "text": [
      "Olivia tiene 25 años\n"
     ]
    }
   ],
   "source": [
    "name = 'Olivia'\n",
    "age = 25\n",
    "\n",
    "message = \"{} tiene {} años\".format(name, age)\n",
    "print(message)"
   ]
  },
  {
   "cell_type": "code",
   "execution_count": 2,
   "id": "2e88f5ed-c511-4139-8f85-4c812c6870bc",
   "metadata": {},
   "outputs": [
    {
     "name": "stdout",
     "output_type": "stream",
     "text": [
      "Error: No se puede dividir 100 entre 0.\n",
      "El resultado de dividir 100 entre 10 es 10.0\n",
      "Error: Tanto el numerador como el denominador deben ser números.\n"
     ]
    }
   ],
   "source": [
    "a = 100\n",
    "b = 0\n",
    "c = 10\n",
    "\n",
    "# Primera división\n",
    "try:\n",
    "    resultado = a / b\n",
    "    # Uso de un F-string para formatear la salida\n",
    "    print(f\"El resultado de dividir {a} entre {b} es {resultado}\")\n",
    "except ZeroDivisionError:\n",
    "    # Manejo de la división entre cero\n",
    "    print(f\"Error: No se puede dividir {a} entre {b}.\")\n",
    "\n",
    "# Segunda división\n",
    "resultado = a / c\n",
    "# Uso de un F-string para formatear la salida\n",
    "print(f\"El resultado de dividir {a} entre {c} es {resultado}\")\n",
    "\n",
    "# Tercera división\n",
    "try:\n",
    "    resultado = a / 'a'\n",
    "    # Uso de un F-string para formatear la salida\n",
    "    print(f\"El resultado de dividir {a} entre 'a' es {resultado}\")\n",
    "except TypeError:\n",
    "    # Manejo de los tipos de entradas incorrectas\n",
    "    print(\"Error: Tanto el numerador como el denominador deben ser números.\")"
   ]
  },
  {
   "cell_type": "markdown",
   "id": "406c9f03-a020-4dc6-b0db-319950fbc0c9",
   "metadata": {},
   "source": [
    "upper() convierte todos los caracteres a mayúsculas;\n",
    "lower() convierte todos los caracteres a minúsculas;\n",
    "replace() reemplaza partes de un string por otro string;\n",
    "strip() elimina los espacios al principio y al final del string.\n"
   ]
  },
  {
   "cell_type": "code",
   "execution_count": 12,
   "id": "06d2a461-bbad-4d96-a227-d803f31232cf",
   "metadata": {},
   "outputs": [
    {
     "name": "stdout",
     "output_type": "stream",
     "text": [
      "Contenido de la variable my_list: []\n",
      "Contenido de la variable numbers: [1, 2, 3, 4, 5]\n",
      "Contenido de la variable fruits: ['manzana', 'manzana', 'banana', 'cereza']\n",
      "Contenido de la variable mixed: [1, 'apple', 3.14, True]\n"
     ]
    }
   ],
   "source": [
    "# Una lista vacía\n",
    "my_list = []\n",
    "\n",
    "# Una lista de enteros\n",
    "numbers = [1, 2, 3, 4, 5]\n",
    "\n",
    "# Una lista de strings\n",
    "fruits = ['manzana', 'manzana', 'banana', 'cereza']\n",
    "\n",
    "# Una lista de tipos de datos mezclados\n",
    "mixed = [1, 'apple', 3.14, True]\n",
    "\n",
    "print('Contenido de la variable my_list:',my_list)\n",
    "print('Contenido de la variable numbers:',numbers)\n",
    "print('Contenido de la variable fruits:',fruits)\n",
    "print('Contenido de la variable mixed:',mixed)"
   ]
  },
  {
   "cell_type": "code",
   "execution_count": 13,
   "id": "fca0507a-93b9-4db0-81a6-501ee87cd156",
   "metadata": {},
   "outputs": [
    {
     "name": "stdout",
     "output_type": "stream",
     "text": [
      "['Fight Club', 1999, ['thriller', 'drama', 'crime'], 139, 8.644]\n"
     ]
    }
   ],
   "source": [
    "title = 'Fight Club'\n",
    "year = 1999\n",
    "genre = ['thriller', 'drama', 'crime']\n",
    "duration = 139\n",
    "rating = 8.644\n",
    "\n",
    "movie_info = [title, year, genre, duration, rating]\n",
    "print(movie_info)"
   ]
  },
  {
   "cell_type": "code",
   "execution_count": 14,
   "id": "01df4231-59b6-4c9e-be8c-467aa5e0e6e6",
   "metadata": {},
   "outputs": [
    {
     "name": "stdout",
     "output_type": "stream",
     "text": [
      "Fight Club\n",
      "<class 'str'>\n"
     ]
    }
   ],
   "source": [
    "movie_info = ['Fight Club', 1999, ['thriller', 'drama', 'crime'], 139, 8.644]\n",
    "\n",
    "print(movie_info[0])        # Muestra el primer elemento de la lista\n",
    "print(type(movie_info[0]))  # Muestra el tipo de datos del primer elemento de la lista"
   ]
  },
  {
   "cell_type": "code",
   "execution_count": 15,
   "id": "940c9eaf-64a5-44dd-8abc-289262e76ef1",
   "metadata": {},
   "outputs": [
    {
     "name": "stdout",
     "output_type": "stream",
     "text": [
      "[1999, ['thriller', 'drama', 'crime'], 139]\n",
      "<class 'list'>\n",
      "3\n"
     ]
    }
   ],
   "source": [
    "movie_info = ['Fight Club', 1999, ['thriller', 'drama', 'crime'], 139, 8.644]\n",
    "\n",
    "print(movie_info[1:4])        # muestra el segundo, tercer y cuarto elemento\n",
    "print(type(movie_info[1:4]))\n",
    "print(len(movie_info[1:4]))"
   ]
  },
  {
   "cell_type": "code",
   "execution_count": 16,
   "id": "4ead699d-f716-4d0e-8e17-49679fb9813e",
   "metadata": {},
   "outputs": [
    {
     "name": "stdout",
     "output_type": "stream",
     "text": [
      "['USA', 1994, 'drama']\n",
      "['The Shawshank Redemption', 'USA', 1994]\n",
      "[1994, 'drama', 142, 9.111]\n"
     ]
    }
   ],
   "source": [
    "movies_info= ['The Shawshank Redemption', 'USA', 1994, 'drama', 142, 9.111]\n",
    "# segmentar los elementos del índice 1 al 3\n",
    "print(movies_info[1:4])\n",
    "# segmentar los elementos del índice 0 al 2\n",
    "print(movies_info[:3])\n",
    "# segmentar los elementos del índice 2 al último:\n",
    "print(movies_info[2:])"
   ]
  },
  {
   "cell_type": "code",
   "execution_count": 17,
   "id": "ddebdbee-e396-4d79-b853-869726ff0c92",
   "metadata": {},
   "outputs": [
    {
     "name": "stdout",
     "output_type": "stream",
     "text": [
      "[45, 39, 29, 25]\n"
     ]
    }
   ],
   "source": [
    "ages = [32, 45, 39, 29, 25, 32]\n",
    "\n",
    "print(ages[1:len(ages)-1])   # Otra solución válida usando len()"
   ]
  },
  {
   "cell_type": "markdown",
   "id": "579fb0e6-a584-4ab6-a7b9-d3ed80954da9",
   "metadata": {},
   "source": [
    "Método\tUn elemento\tVarios elementos\tAl final de la lista\tA cualquier parte de la lista\n",
    "append()\tSí\tNo\tSí\tNo\n",
    "extend()\tSí\tSí\tSí\tNo\n",
    "insert()\tSí\tNo\tSí\tSí\n",
    "remove()\tSí\tNo\tNo\tNo\n",
    "pop()\tSí\tNo\tSí\tSí"
   ]
  },
  {
   "cell_type": "markdown",
   "id": "dc0fb94a-5961-4ec9-b8ad-b60149bf4e84",
   "metadata": {},
   "source": [
    "Para obtener una lista ordenada asignada a una nueva variable, utiliza sorted(). Para modificar una lista existente, utiliza sort().\n",
    "\n",
    "Ambos métodos ordenan en orden ascendente por defecto, pero pueden hacerlo en orden descendente con reverse=True:"
   ]
  },
  {
   "cell_type": "code",
   "execution_count": 18,
   "id": "4ec6a8f7-66f7-49da-abc1-35dabba74b4e",
   "metadata": {},
   "outputs": [
    {
     "name": "stdout",
     "output_type": "stream",
     "text": [
      "['Fight Club', 'Harakiri', 'Pulp Fiction', 'The Good, the Bad and the Ugly']\n"
     ]
    }
   ],
   "source": [
    "movies = ['The Good, the Bad and the Ugly', 'Pulp Fiction', 'Fight Club', 'Harakiri']\n",
    "movies.sort()\n",
    "print(movies)"
   ]
  },
  {
   "cell_type": "code",
   "execution_count": 19,
   "id": "9953dbf1-398a-4994-9ea2-287fb1e8364e",
   "metadata": {},
   "outputs": [
    {
     "name": "stdout",
     "output_type": "stream",
     "text": [
      "[201, 195, 178, 175, 154, 152, 142, 139]\n"
     ]
    }
   ],
   "source": [
    "movies_duration = [142, 175, 152, 195, 201, 154, 178, 139]\n",
    "movies_duration_sorted = sorted(movies_duration, reverse=True)\n",
    "print(movies_duration_sorted)"
   ]
  },
  {
   "cell_type": "code",
   "execution_count": 20,
   "id": "1260e4d9-4cbf-434a-b412-a078bc8c0c4d",
   "metadata": {},
   "outputs": [
    {
     "name": "stdout",
     "output_type": "stream",
     "text": [
      "b\n"
     ]
    }
   ],
   "source": [
    "example = [10,20,30,['a','b','c'],50]\n",
    "print(example[3][1])\n",
    "# 3 porque es donde está almacenada la segunda lista\n",
    "# 1 porque es donde está almacenada 'b'"
   ]
  },
  {
   "cell_type": "code",
   "execution_count": 21,
   "id": "73668102-dc51-4247-9899-18f81eef3991",
   "metadata": {},
   "outputs": [
    {
     "name": "stdout",
     "output_type": "stream",
     "text": [
      "USA\n",
      "1994\n",
      "8.73\n"
     ]
    }
   ],
   "source": [
    "movies_info = [\n",
    "    ['The Shawshank Redemption', 'USA', 1994, 'drama', 142, 9.111],\n",
    "    ['The Godfather', 'USA', 1972, 'drama, crime', 175, 8.730],\n",
    "    ['The Dark Knight', 'USA', 2008, 'fantasy, action, thriller', 152, 8.499],\n",
    "    [\"Schindler's List\", 'USA', 1993, 'drama', 195, 8.818],\n",
    "    ['The Lord of the Rings: The Return of the King', 'New Zealand', 2003, 'fantasy, adventure, drama', 201, 8.625],\n",
    "    ['Pulp Fiction', 'USA', 1994, 'thriller, comedy, crime', 154, 8.619],\n",
    "    ['The Good, the Bad and the Ugly', 'Italy', 1966, 'western', 178, 8.521],\n",
    "    ['Fight Club', 'USA', 1999, 'thriller, drama, crime', 139, 8.644],\n",
    "    ['Harakiri', 'Japan', 1962, 'drama, action, history', 133, 8.106],\n",
    "    ['Good Will Hunting', 'USA', 1997, 'drama, romance', 126, 8.077]\n",
    "]\n",
    "\n",
    "print(movies_info[9][1])\n",
    "print(movies_info[5][2])\n",
    "print(movies_info[1][5])"
   ]
  },
  {
   "cell_type": "code",
   "execution_count": 22,
   "id": "f5dab8af-c615-4e1d-804b-a34de69ad2a9",
   "metadata": {},
   "outputs": [
    {
     "name": "stdout",
     "output_type": "stream",
     "text": [
      "['Aladdin', 'Esmeralda', 'Hercules', 'Mulan']\n"
     ]
    }
   ],
   "source": [
    "phrase = 'Aladdin#Esmeralda#Hercules#Mulan'\n",
    "words = phrase.split('#')\n",
    "print(words)"
   ]
  },
  {
   "cell_type": "code",
   "execution_count": null,
   "id": "5256e6ea-a807-4519-9e3a-90aa31464a2c",
   "metadata": {},
   "outputs": [],
   "source": []
  }
 ],
 "metadata": {
  "kernelspec": {
   "display_name": "Python 3 (ipykernel)",
   "language": "python",
   "name": "python3"
  },
  "language_info": {
   "codemirror_mode": {
    "name": "ipython",
    "version": 3
   },
   "file_extension": ".py",
   "mimetype": "text/x-python",
   "name": "python",
   "nbconvert_exporter": "python",
   "pygments_lexer": "ipython3",
   "version": "3.12.7"
  }
 },
 "nbformat": 4,
 "nbformat_minor": 5
}
