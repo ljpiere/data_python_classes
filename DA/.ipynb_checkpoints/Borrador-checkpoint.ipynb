{
 "cells": [
  {
   "cell_type": "code",
   "execution_count": 7,
   "id": "a159f73e-6932-448a-a71e-9b5092d17660",
   "metadata": {},
   "outputs": [
    {
     "name": "stdout",
     "output_type": "stream",
     "text": [
      "Ingresos Totales: $ 97.0\n",
      "El producto más caro: Product_B (Precio actualizado a $ 1.9999999999999996 )\n"
     ]
    }
   ],
   "source": [
    "# Diccionario anidado que representa productos\n",
    "products = {\n",
    "    'Product_A': {'price': 10, 'quantity': 2, 'discount': 0.1},\n",
    "    'Product_B': {'price': 20, 'quantity': 1, 'discount': 0.05},\n",
    "    'Product_C': {'price': 15, 'quantity': 5, 'discount': 0.2},\n",
    "}\n",
    "\n",
    "ingreso_Total = [] # Inicializa las variables\n",
    "precio_lista = []\n",
    "precio_mas_caro = 0\n",
    "producto_mas_caro = 0\n",
    "mas_caro_descuento = 0\n",
    "\n",
    "for product in products:\n",
    "    precio = products[product].get('price')\n",
    "    quantity = products[product].get('quantity')\n",
    "    discount = products[product].get('discount')\n",
    "    ingreso_Total.append(precio*quantity*(1-discount))\n",
    "    precio_lista.append(precio)\n",
    "\n",
    "    if precio == max(precio_lista):\n",
    "        producto_mas_caro = product\n",
    "        precio_mas_caro = precio\n",
    "\n",
    "total = sum(ingreso_Total)\n",
    "mas_caro_descuento = max(precio_lista)*(1-0.9)\n",
    "\n",
    "print(f'Ingresos Totales: $',Total)\n",
    "print(f'El producto más caro: {producto_mas_caro} (Precio actualizado a $', mas_caro_descuento,')')"
   ]
  },
  {
   "cell_type": "code",
   "execution_count": null,
   "id": "2b78da15-cb2a-4896-8f2d-01a29d4ae965",
   "metadata": {},
   "outputs": [],
   "source": []
  },
  {
   "cell_type": "code",
   "execution_count": null,
   "id": "fa8b52c6-e32b-4940-97dd-4331414f3db5",
   "metadata": {},
   "outputs": [],
   "source": []
  }
 ],
 "metadata": {
  "kernelspec": {
   "display_name": "Python 3 (ipykernel)",
   "language": "python",
   "name": "python3"
  },
  "language_info": {
   "codemirror_mode": {
    "name": "ipython",
    "version": 3
   },
   "file_extension": ".py",
   "mimetype": "text/x-python",
   "name": "python",
   "nbconvert_exporter": "python",
   "pygments_lexer": "ipython3",
   "version": "3.12.7"
  }
 },
 "nbformat": 4,
 "nbformat_minor": 5
}
