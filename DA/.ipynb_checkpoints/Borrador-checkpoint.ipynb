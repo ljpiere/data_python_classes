{
 "cells": [
  {
   "cell_type": "code",
   "execution_count": 5,
   "id": "a159f73e-6932-448a-a71e-9b5092d17660",
   "metadata": {},
   "outputs": [
    {
     "name": "stdout",
     "output_type": "stream",
     "text": [
      "esto es lo demas\n",
      "este es el print dentro if\n",
      "esto es lo demas\n",
      "esto es lo demas\n",
      "esto es lo demas\n",
      "esto es lo demas\n"
     ]
    }
   ],
   "source": [
    "lista_1 = [1,2,3,4,5]\n",
    "\n",
    "for i in lista_1:\n",
    "    if i == 2:\n",
    "        print(\"este es el print dentro if\")\n",
    "    print(\"esto es lo demas\")"
   ]
  },
  {
   "cell_type": "code",
   "execution_count": null,
   "id": "fa8b52c6-e32b-4940-97dd-4331414f3db5",
   "metadata": {},
   "outputs": [],
   "source": []
  }
 ],
 "metadata": {
  "kernelspec": {
   "display_name": "Python 3 (ipykernel)",
   "language": "python",
   "name": "python3"
  },
  "language_info": {
   "codemirror_mode": {
    "name": "ipython",
    "version": 3
   },
   "file_extension": ".py",
   "mimetype": "text/x-python",
   "name": "python",
   "nbconvert_exporter": "python",
   "pygments_lexer": "ipython3",
   "version": "3.12.7"
  }
 },
 "nbformat": 4,
 "nbformat_minor": 5
}
