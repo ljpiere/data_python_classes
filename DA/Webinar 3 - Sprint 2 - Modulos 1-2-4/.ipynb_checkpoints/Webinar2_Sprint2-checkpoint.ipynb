{
 "cells": [
  {
   "cell_type": "markdown",
   "id": "37803673",
   "metadata": {},
   "source": [
    "# Data Analytics: Introducción a Listas y Bucles"
   ]
  },
  {
   "cell_type": "markdown",
   "id": "02608763",
   "metadata": {},
   "source": [
    "## Objetivo de la Clase\n",
    "En esta clase, exploraremos los conceptos fundamentales de Python, comenzando con listas y avanzando hacia el uso de bucles y sentencias condicionales. Los estudiantes aprenderán a manipular datos, realizar operaciones iterativas y aplicar lógica condicional, habilidades esenciales para la análisis de datos."
   ]
  },
  {
   "cell_type": "markdown",
   "id": "95efa5e1",
   "metadata": {},
   "source": [
    "### Primer Momento - Sprint 1: Listas\n",
    "\n",
    "- Propiedades básicas de listas\n",
    "- Índices y slices\n",
    "- Modificación de listas\n",
    "- Ordenar listas\n",
    "- Listas anidadas\n",
    "- Procesamiento de strings"
   ]
  },
  {
   "cell_type": "markdown",
   "id": "8ce04147",
   "metadata": {},
   "source": [
    "#### Ejercicio 1: Crear y Modificar Listas\n",
    "1. Crea una lista con los números del 1 al 10. Luego modifica el tercer elemento para que sea el número 100.\n",
    "- **Hint**: Recuerda que los índices empiezan desde cero."
   ]
  },
  {
   "cell_type": "code",
   "execution_count": 19,
   "id": "9fa52379-6262-4cb1-941f-abfba585a11e",
   "metadata": {},
   "outputs": [],
   "source": [
    "# Inicimos el código aquí"
   ]
  },
  {
   "cell_type": "code",
   "execution_count": 13,
   "id": "48d65a02-3b1a-4db2-82fb-631432110ce6",
   "metadata": {},
   "outputs": [],
   "source": [
    "lista = [1,2,3,4,5,6,7,8,9,10] # cual es el indice 10?"
   ]
  },
  {
   "cell_type": "code",
   "execution_count": 15,
   "id": "eb5cb896-43bd-49dd-8aa4-bc815c4d20b8",
   "metadata": {},
   "outputs": [],
   "source": [
    "lista[2]=100"
   ]
  },
  {
   "cell_type": "code",
   "execution_count": 16,
   "id": "eaf96788-9244-4dba-91d5-89b077918a69",
   "metadata": {},
   "outputs": [
    {
     "data": {
      "text/plain": [
       "100"
      ]
     },
     "execution_count": 16,
     "metadata": {},
     "output_type": "execute_result"
    }
   ],
   "source": [
    "lista[2]"
   ]
  },
  {
   "cell_type": "code",
   "execution_count": 18,
   "id": "7b0b4d8a-c411-4811-b642-62224ff1bf16",
   "metadata": {},
   "outputs": [
    {
     "name": "stdout",
     "output_type": "stream",
     "text": [
      "[1, 2, 100, 4, 5, 6, 7, 8, 9, 10]\n"
     ]
    }
   ],
   "source": [
    "print(lista)"
   ]
  },
  {
   "cell_type": "code",
   "execution_count": 11,
   "id": "54958172-87ae-4bc5-834c-1a9239f3e0f7",
   "metadata": {},
   "outputs": [],
   "source": [
    "variable1 = 2\n",
    "variable2 = 100\n",
    "variable1 = variable2"
   ]
  },
  {
   "cell_type": "code",
   "execution_count": 12,
   "id": "d009123e-77d1-45c5-8af7-eead275ee596",
   "metadata": {},
   "outputs": [
    {
     "name": "stdout",
     "output_type": "stream",
     "text": [
      "100\n"
     ]
    }
   ],
   "source": [
    "print(variable1)"
   ]
  },
  {
   "cell_type": "code",
   "execution_count": null,
   "id": "5a5bdf83",
   "metadata": {},
   "outputs": [],
   "source": [
    "# Hagamos de cuenta que esta celda no existe\n",
    "mi_lista = [1,2,3,4,5,6,7,8,9,10] # esto es nuevo\n",
    "mi_lista[2] = 100\n",
    "mi_lista"
   ]
  },
  {
   "cell_type": "markdown",
   "id": "7763e300",
   "metadata": {},
   "source": [
    "- [ ] **Check:** ¿Puedes ver cómo se modificó el tercer elemento?"
   ]
  },
  {
   "cell_type": "markdown",
   "id": "3b1d1010",
   "metadata": {},
   "source": [
    "#### Ejercicio 2: Uso de Slices\n",
    "2. Extrae los primeros cinco elementos de la lista.\n",
    "- **Hint**: Utiliza la sintaxis `lista[inicio:fin]` para hacer slices."
   ]
  },
  {
   "cell_type": "code",
   "execution_count": null,
   "id": "9a41ab27-e6bd-436f-af80-f4ec01dc3f75",
   "metadata": {},
   "outputs": [],
   "source": [
    "# Inicimos el código aquí\n"
   ]
  },
  {
   "cell_type": "code",
   "execution_count": 20,
   "id": "d1a974f8-3de9-44a6-a81c-8be6efacbec6",
   "metadata": {},
   "outputs": [],
   "source": [
    "lista=[\"a\",\"b\",\"c\",\"d\",\"f\",\"g\",\"h\",\"i\"]"
   ]
  },
  {
   "cell_type": "code",
   "execution_count": 21,
   "id": "e858dc8c-490e-47fb-ba98-0c7cc4a4bdac",
   "metadata": {},
   "outputs": [
    {
     "name": "stdout",
     "output_type": "stream",
     "text": [
      "['a', 'b', 'c', 'd', 'f', 'g', 'h', 'i']\n"
     ]
    }
   ],
   "source": [
    "print(lista)"
   ]
  },
  {
   "cell_type": "code",
   "execution_count": 25,
   "id": "cbcc9dc3-2c90-4a9d-b0e5-2f1b91b0febf",
   "metadata": {},
   "outputs": [
    {
     "name": "stdout",
     "output_type": "stream",
     "text": [
      "['a', 'b', 'c', 'd', 'f']\n"
     ]
    }
   ],
   "source": [
    "print(lista[0:5])"
   ]
  },
  {
   "cell_type": "code",
   "execution_count": 27,
   "id": "7aec21f7",
   "metadata": {},
   "outputs": [
    {
     "data": {
      "text/plain": [
       "['b', 'c', 'd', 'f']"
      ]
     },
     "execution_count": 27,
     "metadata": {},
     "output_type": "execute_result"
    }
   ],
   "source": [
    "mi_slice = lista[1:5]\n",
    "mi_slice"
   ]
  },
  {
   "cell_type": "markdown",
   "id": "6bcbe767",
   "metadata": {},
   "source": [
    "- [ ] **Check:** ¿Entiendes cómo funcionan los slices en listas?"
   ]
  },
  {
   "cell_type": "markdown",
   "id": "215b2521",
   "metadata": {},
   "source": [
    "#### Ejercicio 3: Ordenar una Lista\n",
    "3. Crea una lista con valores desordenados y ordénalos en orden ascendente.\n",
    "- **Hint**: Puedes usar el método `.sort()` o la función `sorted()`."
   ]
  },
  {
   "cell_type": "code",
   "execution_count": null,
   "id": "137ec3a5-0d80-4588-b9be-357ca8edb2ae",
   "metadata": {},
   "outputs": [],
   "source": [
    "# Inicimos el código aquí"
   ]
  },
  {
   "cell_type": "code",
   "execution_count": 42,
   "id": "89bd6613-a3ed-4fe4-9307-7218b791ca3b",
   "metadata": {},
   "outputs": [
    {
     "name": "stdout",
     "output_type": "stream",
     "text": [
      "[9, 1, 2, 6, 3, 7]\n"
     ]
    }
   ],
   "source": [
    "lista_desordenada = [9,1,2,6,3,7]\n",
    "print(lista_desordenada)"
   ]
  },
  {
   "cell_type": "code",
   "execution_count": 43,
   "id": "455eb6b5-e331-47fb-8152-7e0a478c2c5d",
   "metadata": {},
   "outputs": [
    {
     "name": "stdout",
     "output_type": "stream",
     "text": [
      "[1, 2, 3, 6, 7, 9]\n"
     ]
    }
   ],
   "source": [
    "lista_desordenada.sort()\n",
    "print(lista_desordenada)"
   ]
  },
  {
   "cell_type": "code",
   "execution_count": 46,
   "id": "f9fc5030-2d0a-43eb-b1c4-83330bca3815",
   "metadata": {},
   "outputs": [
    {
     "name": "stdout",
     "output_type": "stream",
     "text": [
      "[1, 2, 3, 6, 7, 9]\n"
     ]
    }
   ],
   "source": [
    "variable1 = sorted(lista_desordenada)\n",
    "print(lista_desordenada)"
   ]
  },
  {
   "cell_type": "code",
   "execution_count": 44,
   "id": "d36ad999-a61e-4c65-90df-63683a2e2bb6",
   "metadata": {},
   "outputs": [
    {
     "name": "stdout",
     "output_type": "stream",
     "text": [
      "[1, 2, 3, 6, 7, 9]\n"
     ]
    }
   ],
   "source": [
    "# lista_desordenada = [9,1,2,6,3,7]\n",
    "print(lista_desordenada)"
   ]
  },
  {
   "cell_type": "code",
   "execution_count": 49,
   "id": "6ab2e6c8-97a1-4086-83ba-5ab8df162e78",
   "metadata": {},
   "outputs": [],
   "source": [
    "lista_desordenada.sort(reverse=True)"
   ]
  },
  {
   "cell_type": "code",
   "execution_count": 51,
   "id": "cac39310-a134-4395-8b3d-a0f5291a7219",
   "metadata": {},
   "outputs": [
    {
     "name": "stdout",
     "output_type": "stream",
     "text": [
      "[9, 7, 6, 3, 2, 1]\n"
     ]
    }
   ],
   "source": [
    "print(lista_desordenada)"
   ]
  },
  {
   "cell_type": "code",
   "execution_count": null,
   "id": "fb710d84",
   "metadata": {},
   "outputs": [],
   "source": [
    "lista_desordenada = [5, 3, 8, 1, 2]\n",
    "lista_ordenada = sorted(lista_desordenada)\n",
    "lista_ordenada"
   ]
  },
  {
   "cell_type": "markdown",
   "id": "8de1ccb2",
   "metadata": {},
   "source": [
    "- [ ] **Check:** ¿Puedes ver cómo la lista ahora está ordenada?"
   ]
  },
  {
   "cell_type": "markdown",
   "id": "ba17eb45",
   "metadata": {},
   "source": [
    "#### Ejercicio 4: Listas Anidadas\n",
    "4. Crea una lista que contenga otras dos listas, cada una con tres elementos. Luego, accede al segundo elemento de la segunda lista.\n",
    "- **Hint**: Utiliza dobles corchetes para acceder a listas anidadas."
   ]
  },
  {
   "cell_type": "code",
   "execution_count": null,
   "id": "fb98db8d-e108-4b21-9353-ba707adcab1e",
   "metadata": {},
   "outputs": [],
   "source": [
    "# Inicimos el código aquí\n"
   ]
  },
  {
   "cell_type": "code",
   "execution_count": 59,
   "id": "d7c6c3a4-4cdf-4423-adb6-72bbdfdc9410",
   "metadata": {},
   "outputs": [],
   "source": [
    "lista_anidada = [\n",
    "                    [1,2,3],\n",
    "                    [4,5,6]\n",
    "                ]"
   ]
  },
  {
   "cell_type": "code",
   "execution_count": 61,
   "id": "bc81e420-0395-4352-97d4-6bd9249cc40f",
   "metadata": {},
   "outputs": [
    {
     "name": "stdout",
     "output_type": "stream",
     "text": [
      "5\n"
     ]
    }
   ],
   "source": [
    "v2= lista_anidada[1][1]\n",
    "print(v2)"
   ]
  },
  {
   "cell_type": "code",
   "execution_count": 62,
   "id": "f3bbb34c-de44-4a44-92ea-95c47df23089",
   "metadata": {},
   "outputs": [
    {
     "name": "stdout",
     "output_type": "stream",
     "text": [
      "5\n"
     ]
    }
   ],
   "source": [
    "print(lista_anidada[1][1])"
   ]
  },
  {
   "cell_type": "code",
   "execution_count": null,
   "id": "8479c6da-ed8e-4d73-84a7-a1eb7c9730c9",
   "metadata": {},
   "outputs": [],
   "source": []
  },
  {
   "cell_type": "code",
   "execution_count": null,
   "id": "5340c5d8-c493-4a61-a169-617f005a7c67",
   "metadata": {},
   "outputs": [],
   "source": []
  },
  {
   "cell_type": "code",
   "execution_count": null,
   "id": "4d064673-5e42-4c84-99b4-bd83029c22f0",
   "metadata": {},
   "outputs": [],
   "source": []
  },
  {
   "cell_type": "code",
   "execution_count": null,
   "id": "bbcdeb68-5aae-4e3f-bf12-c354f37fbc6d",
   "metadata": {},
   "outputs": [],
   "source": []
  },
  {
   "cell_type": "code",
   "execution_count": null,
   "id": "ca30112d",
   "metadata": {},
   "outputs": [],
   "source": [
    "lista_anidada = [[1, 2, 3], [4, 5, 6]]\n",
    "elemento = lista_anidada[1][1]\n",
    "elemento"
   ]
  },
  {
   "cell_type": "markdown",
   "id": "2a482a0a",
   "metadata": {},
   "source": [
    "- [ ] **Check:** ¿Puedes acceder correctamente al elemento de una lista anidada?"
   ]
  },
  {
   "cell_type": "markdown",
   "id": "95b47190",
   "metadata": {},
   "source": [
    "#### Ejercicio 5: Procesamiento de Strings\n",
    "5. Crea una lista de palabras y conviértelas todas a mayúsculas.\n",
    "- **Hint**: Recuerdas Upper? Creo que no serpa tan sencillo usarlo aquí.\n",
    "- **Hint**: Puedes probar editando los elementos uno a uno si quieres.\n",
    "- **Hint**: Podemos usar un bucle o una comprensión de listas para aplicar `.upper()` a cada palabra."
   ]
  },
  {
   "cell_type": "code",
   "execution_count": null,
   "id": "9402ba3b-e257-4617-a3fd-20b514dfa1fd",
   "metadata": {},
   "outputs": [],
   "source": [
    "# Inicimos el código aquí\n"
   ]
  },
  {
   "cell_type": "code",
   "execution_count": 2,
   "id": "a771912a-4e65-4c9d-911d-953ff10814b6",
   "metadata": {},
   "outputs": [
    {
     "data": {
      "text/plain": [
       "['DATA', 'ANALYTICS', 'PYTHON']"
      ]
     },
     "execution_count": 2,
     "metadata": {},
     "output_type": "execute_result"
    }
   ],
   "source": [
    "palabras = [\"data\", \"analytics\", \"python\"]\n",
    "\n",
    "palabras_mayusculas = []\n",
    "\n",
    "for palabra in palabras:\n",
    "    palabras_mayusculas.append(palabra.upper())\n",
    "\n",
    "palabras_mayusculas"
   ]
  },
  {
   "cell_type": "code",
   "execution_count": null,
   "id": "15a5440f",
   "metadata": {},
   "outputs": [],
   "source": [
    "palabras = [\"data\", \"analytics\", \"python\"]\n",
    "palabras_mayusculas = [palabra.upper() for palabra in palabras]\n",
    "palabras_mayusculas"
   ]
  },
  {
   "cell_type": "markdown",
   "id": "d6e6c326",
   "metadata": {},
   "source": [
    "- [ ] **Check:** ¿Pudiste convertir todas las palabras a mayúsculas?"
   ]
  },
  {
   "cell_type": "markdown",
   "id": "70d5db7e",
   "metadata": {},
   "source": [
    "### Segundo Momento - Introducción al Sprint 2: Bucles y Sentencias Condicionales\n",
    "\n",
    "- Bucles for y while\n",
    "- Sentencias condicionales if, else, elif\n",
    "- Modificación y filtrado de listas"
   ]
  },
  {
   "cell_type": "markdown",
   "id": "13931e64-d0a1-40fc-8b67-cacedae6a476",
   "metadata": {},
   "source": [
    "- [ ] **Check:** ¿Entiendes el concepto de if/else?, y, ¿qué hay del for?"
   ]
  },
  {
   "cell_type": "code",
   "execution_count": 66,
   "id": "bce41752-9205-4eb9-9cff-bbf4555b8dd4",
   "metadata": {},
   "outputs": [],
   "source": [
    "letras = ['a','b','c',2]"
   ]
  },
  {
   "cell_type": "code",
   "execution_count": 68,
   "id": "8fdd2bba-1a55-48c2-b1d7-d0f31f980a69",
   "metadata": {},
   "outputs": [
    {
     "name": "stdout",
     "output_type": "stream",
     "text": [
      "a\n",
      "b\n",
      "c\n",
      "2\n"
     ]
    }
   ],
   "source": [
    "for i in letras:\n",
    "    print(i)\n"
   ]
  },
  {
   "cell_type": "code",
   "execution_count": 76,
   "id": "7e1dab52-a398-4e1e-88d1-39188c33d2ed",
   "metadata": {},
   "outputs": [],
   "source": [
    "a = 1"
   ]
  },
  {
   "cell_type": "code",
   "execution_count": 78,
   "id": "4691caf2-1124-4127-8f4e-ab71f8fdc3c4",
   "metadata": {},
   "outputs": [
    {
     "name": "stdout",
     "output_type": "stream",
     "text": [
      "es uno\n"
     ]
    }
   ],
   "source": [
    "if a == 1:\n",
    "    print(\"es uno\")\n",
    "if a == 2:\n",
    "    print(\"es dos\")\n",
    "if a == 3:\n",
    "    print(\"no sé qué número es a\")\n",
    "else:"
   ]
  },
  {
   "cell_type": "markdown",
   "id": "9180f698",
   "metadata": {},
   "source": [
    "#### Ejercicio 1: Bucles For\n",
    "1. Utiliza un bucle `for` para imprimir los elementos de la lista `mi_lista` que sean mayores a 5.\n",
    "- **Hint**: Utiliza una sentencia `if` dentro del bucle para verificar el valor de cada elemento."
   ]
  },
  {
   "cell_type": "code",
   "execution_count": null,
   "id": "a93cfdf9-fa4b-4ab8-a09f-e7dc72a772f8",
   "metadata": {},
   "outputs": [],
   "source": [
    "# Inicimos el código aquí\n"
   ]
  },
  {
   "cell_type": "code",
   "execution_count": 79,
   "id": "e5ce4f7a-5044-40b4-8579-569a8e52a914",
   "metadata": {},
   "outputs": [],
   "source": [
    "mi_lista = [1,6,5,7,9,0,11,8]"
   ]
  },
  {
   "cell_type": "code",
   "execution_count": 80,
   "id": "b62da316-5629-4494-bd78-bd6d3ba6c32f",
   "metadata": {},
   "outputs": [
    {
     "name": "stdout",
     "output_type": "stream",
     "text": [
      "False\n",
      "True\n",
      "False\n",
      "True\n",
      "True\n",
      "False\n",
      "True\n",
      "True\n"
     ]
    }
   ],
   "source": [
    "for x in mi_lista:\n",
    "    print(x>5)"
   ]
  },
  {
   "cell_type": "code",
   "execution_count": 82,
   "id": "de6908fc-09d1-4b00-8943-762b9e6be748",
   "metadata": {},
   "outputs": [
    {
     "name": "stdout",
     "output_type": "stream",
     "text": [
      "No es mayor a 5\n",
      "6\n",
      "No es mayor a 5\n",
      "7\n",
      "9\n",
      "No es mayor a 5\n",
      "11\n",
      "8\n"
     ]
    }
   ],
   "source": [
    "for x in mi_lista:\n",
    "    if x > 5:\n",
    "        print(x)\n",
    "    else:\n",
    "        print(\"No es mayor a 5\")"
   ]
  },
  {
   "cell_type": "code",
   "execution_count": 85,
   "id": "fe37c5eb-e3f4-4803-9a8a-ce1ddb98f08e",
   "metadata": {},
   "outputs": [
    {
     "name": "stdout",
     "output_type": "stream",
     "text": [
      "[1, 6, 5, 7, 9, 0, 11, 8]\n"
     ]
    }
   ],
   "source": [
    "print(mi_lista)"
   ]
  },
  {
   "cell_type": "code",
   "execution_count": null,
   "id": "044ed82e",
   "metadata": {},
   "outputs": [],
   "source": [
    "for elemento in mi_lista:\n",
    "    if elemento > 5:\n",
    "        print(elemento)"
   ]
  },
  {
   "cell_type": "code",
   "execution_count": 84,
   "id": "84e7db15-c8b6-4987-b656-59793b5ec8eb",
   "metadata": {},
   "outputs": [
    {
     "name": "stdout",
     "output_type": "stream",
     "text": [
      "1\n",
      "6\n",
      "5\n",
      "7\n",
      "9\n",
      "0\n",
      "11\n",
      "8\n"
     ]
    }
   ],
   "source": [
    "for x in mi_lista:\n",
    "    print(x)"
   ]
  },
  {
   "cell_type": "markdown",
   "id": "ba8d688a",
   "metadata": {},
   "source": [
    "- [ ] **Check:** ¿Pudiste imprimir solo los elementos mayores a 5?"
   ]
  },
  {
   "cell_type": "markdown",
   "id": "9433f0d9",
   "metadata": {},
   "source": [
    "#### Ejercicio 2: Bucles While\n",
    "2. Utiliza un bucle `while` para reducir un valor numérico hasta llegar a 0.\n",
    "- [ ] **Check:** ¿Entiendes el concepto de while?\n",
    "- **Hint**: Asegúrate de reducir el valor en cada iteración para evitar un bucle infinito."
   ]
  },
  {
   "cell_type": "code",
   "execution_count": null,
   "id": "739344a9-4481-45f0-aba4-e5909bf8b0e7",
   "metadata": {},
   "outputs": [],
   "source": [
    "# Inicimos el código aquí\n"
   ]
  },
  {
   "cell_type": "code",
   "execution_count": null,
   "id": "15a29840-54df-40f2-82c9-57d054cf7060",
   "metadata": {},
   "outputs": [],
   "source": []
  },
  {
   "cell_type": "code",
   "execution_count": null,
   "id": "3dfb886b-3672-4f18-ad82-0ef562dd5524",
   "metadata": {},
   "outputs": [],
   "source": []
  },
  {
   "cell_type": "code",
   "execution_count": null,
   "id": "de0b9734",
   "metadata": {},
   "outputs": [],
   "source": [
    "valor = 10\n",
    "while valor > 0:\n",
    "    print(valor)\n",
    "    valor -= 1"
   ]
  },
  {
   "cell_type": "markdown",
   "id": "0b47a4c1",
   "metadata": {},
   "source": [
    "- [ ] **Check:** ¿Entiendes cómo se controla la ejecución de un bucle `while`?"
   ]
  },
  {
   "cell_type": "markdown",
   "id": "2ebd9c99",
   "metadata": {},
   "source": [
    "#### Ejercicio 3: Sentencias Condicionales\n",
    "3. Crea una lista de edades y utiliza un bucle para imprimir si cada persona es mayor o menor de edad.\n",
    "- **Hint**: Utiliza `if` y `else` para cada elemento de la lista."
   ]
  },
  {
   "cell_type": "code",
   "execution_count": null,
   "id": "d0746c70-61f8-49c9-82f4-63524989cfba",
   "metadata": {},
   "outputs": [],
   "source": [
    "# Inicimos el código aquí\n"
   ]
  },
  {
   "cell_type": "code",
   "execution_count": null,
   "id": "e6165805-9ee3-4b03-aa3d-6950a71b297a",
   "metadata": {},
   "outputs": [],
   "source": []
  },
  {
   "cell_type": "code",
   "execution_count": null,
   "id": "4eb64bb3-a412-4c15-8093-b76b14e54ad4",
   "metadata": {},
   "outputs": [],
   "source": []
  },
  {
   "cell_type": "code",
   "execution_count": null,
   "id": "8a03d99b",
   "metadata": {},
   "outputs": [],
   "source": [
    "edades = [12, 18, 25, 14, 30]\n",
    "for edad in edades:\n",
    "    if edad >= 18:\n",
    "        print(f\"{edad}: Mayor de edad\")\n",
    "    else:\n",
    "        print(f\"{edad}: Menor de edad\")"
   ]
  },
  {
   "cell_type": "markdown",
   "id": "ffc2d343",
   "metadata": {},
   "source": [
    "- [ ] **Check:** ¿Pudiste clasificar correctamente cada edad?"
   ]
  },
  {
   "cell_type": "markdown",
   "id": "0631446e",
   "metadata": {},
   "source": [
    "#### Ejercicio 4: Filtrar una Lista\n",
    "4. Filtra los números pares de una lista utilizando un bucle.\n",
    "- **Hint**: Utiliza el operador de módulo `%` para verificar si un número es par."
   ]
  },
  {
   "cell_type": "code",
   "execution_count": null,
   "id": "5fc1a7d9-1112-492b-9492-0d2a89901e3e",
   "metadata": {},
   "outputs": [],
   "source": [
    "# Inicimos el código aquí\n"
   ]
  },
  {
   "cell_type": "code",
   "execution_count": null,
   "id": "7887ae02-3838-4ec0-8812-d1e4baf7fb16",
   "metadata": {},
   "outputs": [],
   "source": []
  },
  {
   "cell_type": "code",
   "execution_count": null,
   "id": "13690f9f-57fc-43cc-8590-32326a8c5806",
   "metadata": {},
   "outputs": [],
   "source": []
  },
  {
   "cell_type": "code",
   "execution_count": null,
   "id": "5502ef1b",
   "metadata": {},
   "outputs": [],
   "source": [
    "numeros = [1, 2, 3, 4, 5, 6, 7, 8]\n",
    "numeros_pares = [num for num in numeros if num % 2 == 0]\n",
    "numeros_pares"
   ]
  },
  {
   "cell_type": "markdown",
   "id": "ff73981f",
   "metadata": {},
   "source": [
    "- [ ] **Check:** ¿Pudiste filtrar solo los números pares?"
   ]
  },
  {
   "cell_type": "markdown",
   "id": "68b0d0c7",
   "metadata": {},
   "source": [
    "### Conclusiones\n",
    "Hoy hemos cubierto los conceptos básicos de listas, bucles y sentencias condicionales, que son herramientas fundamentales para el análisis de datos. Asegúrate de practicar estos conceptos para afianzarlos."
   ]
  },
  {
   "cell_type": "markdown",
   "id": "f5becf99",
   "metadata": {},
   "source": [
    "### Tarea\n",
    "- Practica con más ejercicios de listas y bucles en [w3schools - Python Lists](https://www.w3schools.com/python/python_lists.asp).\n",
    "- Resuelve algunos ejercicios de bucles en [HackerRank - Python Loops](https://www.hackerrank.com/domains/tutorials/10-days-of-python)."
   ]
  },
  {
   "cell_type": "markdown",
   "id": "7458bda6",
   "metadata": {},
   "source": [
    "### Takeaways\n",
    "- Utilizar `list comprehensions` es una forma eficiente y elegante de procesar listas.\n",
    "- Los bucles `while` requieren condiciones bien definidas para evitar ejecuciones infinitas.\n",
    "- Aprender a combinar sentencias `if` con bucles es clave para realizar operaciones de filtrado y transformación en listas."
   ]
  }
 ],
 "metadata": {
  "kernelspec": {
   "display_name": "Python 3 (ipykernel)",
   "language": "python",
   "name": "python3"
  },
  "language_info": {
   "codemirror_mode": {
    "name": "ipython",
    "version": 3
   },
   "file_extension": ".py",
   "mimetype": "text/x-python",
   "name": "python",
   "nbconvert_exporter": "python",
   "pygments_lexer": "ipython3",
   "version": "3.12.7"
  }
 },
 "nbformat": 4,
 "nbformat_minor": 5
}
